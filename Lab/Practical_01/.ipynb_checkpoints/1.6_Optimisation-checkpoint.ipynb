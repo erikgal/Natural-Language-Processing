{
 "cells": [
  {
   "cell_type": "markdown",
   "metadata": {},
   "source": [
    "# 1.6 - Find the optimum (minimum)\n",
    "We are going to implement some functions to find the minimum of a certain objective function.\n",
    "\n",
    "First we try the simplest function possible:\n",
    "\n",
    "$f(x) = \\sum x_i^2$"
   ]
  },
  {
   "cell_type": "code",
   "execution_count": null,
   "metadata": {},
   "outputs": [],
   "source": [
    "import numpy as np"
   ]
  },
  {
   "cell_type": "code",
   "execution_count": null,
   "metadata": {},
   "outputs": [],
   "source": [
    "def simple(x):\n",
    "    return np.dot(x,x)"
   ]
  },
  {
   "cell_type": "code",
   "execution_count": null,
   "metadata": {},
   "outputs": [],
   "source": [
    "x0 = np.ones(2)*10\n",
    "x0"
   ]
  },
  {
   "cell_type": "code",
   "execution_count": null,
   "metadata": {},
   "outputs": [],
   "source": [
    "simple(x0)"
   ]
  },
  {
   "cell_type": "code",
   "execution_count": null,
   "metadata": {},
   "outputs": [],
   "source": [
    "# f is the function to minimize\n",
    "# x0 is the starting point\n",
    "# n is the number of iteration\n",
    "\n",
    "def hill_climbing(f,x0,n):\n",
    "    \n",
    "    current_point = x0\n",
    "    current_value = f(x0)\n",
    "    \n",
    "    d = len(x0)\n",
    "    \n",
    "    points, values = [current_point], [current_value]\n",
    "    for i in range(n):\n",
    "        \n",
    "        # generate a new point\n",
    "        tweak = np.random.uniform(-0.1,0.1,d)\n",
    "        print(tweak)\n",
    "        new_point = current_point + tweak\n",
    "        \n",
    "        # evalute the new point\n",
    "        new_value = f(new_point)\n",
    "        \n",
    "        # update the current solution\n",
    "        if (new_value<current_value):\n",
    "            current_point = new_point\n",
    "            current_value = new_value\n",
    "            points.append(new_point)\n",
    "            values.append(new_value)\n",
    "        \n",
    "        print(\"%d\\t%.3f\"%(i,current_value))\n",
    "    # return the best solution\n",
    "    return current_point,current_point,points,values"
   ]
  },
  {
   "cell_type": "code",
   "execution_count": null,
   "metadata": {},
   "outputs": [],
   "source": [
    "_, _, points, values = hill_climbing(simple,x0,1000)\n"
   ]
  },
  {
   "cell_type": "code",
   "execution_count": null,
   "metadata": {},
   "outputs": [],
   "source": [
    "points = np.asarray(points)\n",
    "points#.shape"
   ]
  },
  {
   "cell_type": "code",
   "execution_count": null,
   "metadata": {},
   "outputs": [],
   "source": [
    "import matplotlib.pyplot as plt\n",
    "plt.plot(points[:, 0], points[:, 1])\n",
    "plt.scatter(0, 0, c='r')\n",
    "plt.scatter(x0[0], x0[1], c='k')"
   ]
  },
  {
   "cell_type": "code",
   "execution_count": null,
   "metadata": {},
   "outputs": [],
   "source": [
    "plt.plot(values)"
   ]
  },
  {
   "cell_type": "markdown",
   "metadata": {},
   "source": [
    "## CHALLENGE 1:\n",
    "Write a function to find the maximum"
   ]
  },
  {
   "cell_type": "code",
   "execution_count": null,
   "metadata": {},
   "outputs": [],
   "source": []
  },
  {
   "cell_type": "markdown",
   "metadata": {},
   "source": [
    "## CHALLENGE 2:\n",
    "Write a function to find the minimum, doing random steps/tweaks of total length 1 only"
   ]
  },
  {
   "cell_type": "code",
   "execution_count": null,
   "metadata": {},
   "outputs": [],
   "source": []
  }
 ],
 "metadata": {
  "kernelspec": {
   "display_name": "Python 3",
   "language": "python",
   "name": "python3"
  },
  "language_info": {
   "codemirror_mode": {
    "name": "ipython",
    "version": 3
   },
   "file_extension": ".py",
   "mimetype": "text/x-python",
   "name": "python",
   "nbconvert_exporter": "python",
   "pygments_lexer": "ipython3",
   "version": "3.8.2"
  }
 },
 "nbformat": 4,
 "nbformat_minor": 4
}
