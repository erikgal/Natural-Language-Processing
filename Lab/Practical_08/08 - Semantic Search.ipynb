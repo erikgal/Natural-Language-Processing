{
  "cells": [
    {
      "cell_type": "markdown",
      "metadata": {
        "id": "e3302ac4-3ac7-4e3a-9bd7-c88a5565179a"
      },
      "source": [
        "# Semantic Search\n",
        "\n",
        "This notebook shows hot to make use of pre-trained Transformer models for document embeddings.\n",
        "These models are trained using *supervised* or *unsupervised* approaches to encode text at sentence-level, paragraph-level or even entire document-level.\n",
        "They can be applied to many different tasks\n",
        "- Semantic similarity\n",
        "- Paraphrase detection\n",
        "- Natural Langage Inference\n",
        "- Question Answering\n",
        "- Information retreival\n",
        "- Clustering\n",
        "\n",
        "Most of the material is based on the tuorial and examples on [Sentence Transformers](https://www.sbert.net/docs/)"
      ],
      "id": "e3302ac4-3ac7-4e3a-9bd7-c88a5565179a"
    },
    {
      "cell_type": "markdown",
      "metadata": {
        "id": "93f37bfa-3a06-4cf0-9c51-ea39d7874703"
      },
      "source": [
        "## Prepare environment"
      ],
      "id": "93f37bfa-3a06-4cf0-9c51-ea39d7874703"
    },
    {
      "cell_type": "markdown",
      "metadata": {
        "id": "zSNGW-JpWqVO"
      },
      "source": [
        "Before starting I need to connect the drive storage to the notebook."
      ],
      "id": "zSNGW-JpWqVO"
    },
    {
      "cell_type": "code",
      "execution_count": 1,
      "metadata": {
        "colab": {
          "base_uri": "https://localhost:8080/"
        },
        "id": "IKB0LWYCWiku",
        "outputId": "bc3f459c-f434-44df-cf9c-923e61ed0db3"
      },
      "outputs": [
        {
          "output_type": "stream",
          "name": "stdout",
          "text": [
            "Drive already mounted at /content/drive; to attempt to forcibly remount, call drive.mount(\"/content/drive\", force_remount=True).\n"
          ]
        }
      ],
      "source": [
        "from google.colab import drive\n",
        "drive.mount('/content/drive')"
      ],
      "id": "IKB0LWYCWiku"
    },
    {
      "cell_type": "code",
      "execution_count": 2,
      "metadata": {
        "colab": {
          "base_uri": "https://localhost:8080/",
          "height": 56
        },
        "id": "80PFRRJ5XsLD",
        "outputId": "53db3e01-5174-4506-df24-a6feb93bf90d"
      },
      "outputs": [
        {
          "output_type": "execute_result",
          "data": {
            "text/plain": [
              "'/content/drive/MyDrive/Colab Notebooks/NLP'"
            ],
            "application/vnd.google.colaboratory.intrinsic+json": {
              "type": "string"
            }
          },
          "metadata": {},
          "execution_count": 2
        }
      ],
      "source": [
        "import os\n",
        "os.chdir('/content/drive/MyDrive/Colab Notebooks/NLP')\n",
        "os.getcwd()"
      ],
      "id": "80PFRRJ5XsLD"
    },
    {
      "cell_type": "code",
      "execution_count": 3,
      "metadata": {
        "colab": {
          "base_uri": "https://localhost:8080/"
        },
        "id": "pPwP85MlYxV7",
        "outputId": "ec743f33-9254-4829-eea7-ee81d4eef736"
      },
      "outputs": [
        {
          "output_type": "stream",
          "name": "stdout",
          "text": [
            "Looking in indexes: https://pypi.org/simple, https://us-python.pkg.dev/colab-wheels/public/simple/\n",
            "Requirement already satisfied: sentence-transformers in /usr/local/lib/python3.10/dist-packages (2.2.2)\n",
            "Requirement already satisfied: transformers<5.0.0,>=4.6.0 in /usr/local/lib/python3.10/dist-packages (from sentence-transformers) (4.28.1)\n",
            "Requirement already satisfied: tqdm in /usr/local/lib/python3.10/dist-packages (from sentence-transformers) (4.65.0)\n",
            "Requirement already satisfied: torch>=1.6.0 in /usr/local/lib/python3.10/dist-packages (from sentence-transformers) (2.0.0+cu118)\n",
            "Requirement already satisfied: torchvision in /usr/local/lib/python3.10/dist-packages (from sentence-transformers) (0.15.1+cu118)\n",
            "Requirement already satisfied: numpy in /usr/local/lib/python3.10/dist-packages (from sentence-transformers) (1.22.4)\n",
            "Requirement already satisfied: scikit-learn in /usr/local/lib/python3.10/dist-packages (from sentence-transformers) (1.2.2)\n",
            "Requirement already satisfied: scipy in /usr/local/lib/python3.10/dist-packages (from sentence-transformers) (1.10.1)\n",
            "Requirement already satisfied: nltk in /usr/local/lib/python3.10/dist-packages (from sentence-transformers) (3.8.1)\n",
            "Requirement already satisfied: sentencepiece in /usr/local/lib/python3.10/dist-packages (from sentence-transformers) (0.1.99)\n",
            "Requirement already satisfied: huggingface-hub>=0.4.0 in /usr/local/lib/python3.10/dist-packages (from sentence-transformers) (0.14.1)\n",
            "Requirement already satisfied: filelock in /usr/local/lib/python3.10/dist-packages (from huggingface-hub>=0.4.0->sentence-transformers) (3.12.0)\n",
            "Requirement already satisfied: fsspec in /usr/local/lib/python3.10/dist-packages (from huggingface-hub>=0.4.0->sentence-transformers) (2023.4.0)\n",
            "Requirement already satisfied: requests in /usr/local/lib/python3.10/dist-packages (from huggingface-hub>=0.4.0->sentence-transformers) (2.27.1)\n",
            "Requirement already satisfied: pyyaml>=5.1 in /usr/local/lib/python3.10/dist-packages (from huggingface-hub>=0.4.0->sentence-transformers) (6.0)\n",
            "Requirement already satisfied: typing-extensions>=3.7.4.3 in /usr/local/lib/python3.10/dist-packages (from huggingface-hub>=0.4.0->sentence-transformers) (4.5.0)\n",
            "Requirement already satisfied: packaging>=20.9 in /usr/local/lib/python3.10/dist-packages (from huggingface-hub>=0.4.0->sentence-transformers) (23.1)\n",
            "Requirement already satisfied: sympy in /usr/local/lib/python3.10/dist-packages (from torch>=1.6.0->sentence-transformers) (1.11.1)\n",
            "Requirement already satisfied: networkx in /usr/local/lib/python3.10/dist-packages (from torch>=1.6.0->sentence-transformers) (3.1)\n",
            "Requirement already satisfied: jinja2 in /usr/local/lib/python3.10/dist-packages (from torch>=1.6.0->sentence-transformers) (3.1.2)\n",
            "Requirement already satisfied: triton==2.0.0 in /usr/local/lib/python3.10/dist-packages (from torch>=1.6.0->sentence-transformers) (2.0.0)\n",
            "Requirement already satisfied: cmake in /usr/local/lib/python3.10/dist-packages (from triton==2.0.0->torch>=1.6.0->sentence-transformers) (3.25.2)\n",
            "Requirement already satisfied: lit in /usr/local/lib/python3.10/dist-packages (from triton==2.0.0->torch>=1.6.0->sentence-transformers) (16.0.3)\n",
            "Requirement already satisfied: regex!=2019.12.17 in /usr/local/lib/python3.10/dist-packages (from transformers<5.0.0,>=4.6.0->sentence-transformers) (2022.10.31)\n",
            "Requirement already satisfied: tokenizers!=0.11.3,<0.14,>=0.11.1 in /usr/local/lib/python3.10/dist-packages (from transformers<5.0.0,>=4.6.0->sentence-transformers) (0.13.3)\n",
            "Requirement already satisfied: click in /usr/local/lib/python3.10/dist-packages (from nltk->sentence-transformers) (8.1.3)\n",
            "Requirement already satisfied: joblib in /usr/local/lib/python3.10/dist-packages (from nltk->sentence-transformers) (1.2.0)\n",
            "Requirement already satisfied: threadpoolctl>=2.0.0 in /usr/local/lib/python3.10/dist-packages (from scikit-learn->sentence-transformers) (3.1.0)\n",
            "Requirement already satisfied: pillow!=8.3.*,>=5.3.0 in /usr/local/lib/python3.10/dist-packages (from torchvision->sentence-transformers) (8.4.0)\n",
            "Requirement already satisfied: MarkupSafe>=2.0 in /usr/local/lib/python3.10/dist-packages (from jinja2->torch>=1.6.0->sentence-transformers) (2.1.2)\n",
            "Requirement already satisfied: urllib3<1.27,>=1.21.1 in /usr/local/lib/python3.10/dist-packages (from requests->huggingface-hub>=0.4.0->sentence-transformers) (1.26.15)\n",
            "Requirement already satisfied: certifi>=2017.4.17 in /usr/local/lib/python3.10/dist-packages (from requests->huggingface-hub>=0.4.0->sentence-transformers) (2022.12.7)\n",
            "Requirement already satisfied: charset-normalizer~=2.0.0 in /usr/local/lib/python3.10/dist-packages (from requests->huggingface-hub>=0.4.0->sentence-transformers) (2.0.12)\n",
            "Requirement already satisfied: idna<4,>=2.5 in /usr/local/lib/python3.10/dist-packages (from requests->huggingface-hub>=0.4.0->sentence-transformers) (3.4)\n",
            "Requirement already satisfied: mpmath>=0.19 in /usr/local/lib/python3.10/dist-packages (from sympy->torch>=1.6.0->sentence-transformers) (1.3.0)\n",
            "Looking in indexes: https://pypi.org/simple, https://us-python.pkg.dev/colab-wheels/public/simple/\n",
            "Requirement already satisfied: datasets in /usr/local/lib/python3.10/dist-packages (2.12.0)\n",
            "Requirement already satisfied: numpy>=1.17 in /usr/local/lib/python3.10/dist-packages (from datasets) (1.22.4)\n",
            "Requirement already satisfied: pyarrow>=8.0.0 in /usr/local/lib/python3.10/dist-packages (from datasets) (9.0.0)\n",
            "Requirement already satisfied: dill<0.3.7,>=0.3.0 in /usr/local/lib/python3.10/dist-packages (from datasets) (0.3.6)\n",
            "Requirement already satisfied: pandas in /usr/local/lib/python3.10/dist-packages (from datasets) (1.5.3)\n",
            "Requirement already satisfied: requests>=2.19.0 in /usr/local/lib/python3.10/dist-packages (from datasets) (2.27.1)\n",
            "Requirement already satisfied: tqdm>=4.62.1 in /usr/local/lib/python3.10/dist-packages (from datasets) (4.65.0)\n",
            "Requirement already satisfied: xxhash in /usr/local/lib/python3.10/dist-packages (from datasets) (3.2.0)\n",
            "Requirement already satisfied: multiprocess in /usr/local/lib/python3.10/dist-packages (from datasets) (0.70.14)\n",
            "Requirement already satisfied: fsspec[http]>=2021.11.1 in /usr/local/lib/python3.10/dist-packages (from datasets) (2023.4.0)\n",
            "Requirement already satisfied: aiohttp in /usr/local/lib/python3.10/dist-packages (from datasets) (3.8.4)\n",
            "Requirement already satisfied: huggingface-hub<1.0.0,>=0.11.0 in /usr/local/lib/python3.10/dist-packages (from datasets) (0.14.1)\n",
            "Requirement already satisfied: packaging in /usr/local/lib/python3.10/dist-packages (from datasets) (23.1)\n",
            "Requirement already satisfied: responses<0.19 in /usr/local/lib/python3.10/dist-packages (from datasets) (0.18.0)\n",
            "Requirement already satisfied: pyyaml>=5.1 in /usr/local/lib/python3.10/dist-packages (from datasets) (6.0)\n",
            "Requirement already satisfied: attrs>=17.3.0 in /usr/local/lib/python3.10/dist-packages (from aiohttp->datasets) (23.1.0)\n",
            "Requirement already satisfied: charset-normalizer<4.0,>=2.0 in /usr/local/lib/python3.10/dist-packages (from aiohttp->datasets) (2.0.12)\n",
            "Requirement already satisfied: multidict<7.0,>=4.5 in /usr/local/lib/python3.10/dist-packages (from aiohttp->datasets) (6.0.4)\n",
            "Requirement already satisfied: async-timeout<5.0,>=4.0.0a3 in /usr/local/lib/python3.10/dist-packages (from aiohttp->datasets) (4.0.2)\n",
            "Requirement already satisfied: yarl<2.0,>=1.0 in /usr/local/lib/python3.10/dist-packages (from aiohttp->datasets) (1.9.2)\n",
            "Requirement already satisfied: frozenlist>=1.1.1 in /usr/local/lib/python3.10/dist-packages (from aiohttp->datasets) (1.3.3)\n",
            "Requirement already satisfied: aiosignal>=1.1.2 in /usr/local/lib/python3.10/dist-packages (from aiohttp->datasets) (1.3.1)\n",
            "Requirement already satisfied: filelock in /usr/local/lib/python3.10/dist-packages (from huggingface-hub<1.0.0,>=0.11.0->datasets) (3.12.0)\n",
            "Requirement already satisfied: typing-extensions>=3.7.4.3 in /usr/local/lib/python3.10/dist-packages (from huggingface-hub<1.0.0,>=0.11.0->datasets) (4.5.0)\n",
            "Requirement already satisfied: urllib3<1.27,>=1.21.1 in /usr/local/lib/python3.10/dist-packages (from requests>=2.19.0->datasets) (1.26.15)\n",
            "Requirement already satisfied: certifi>=2017.4.17 in /usr/local/lib/python3.10/dist-packages (from requests>=2.19.0->datasets) (2022.12.7)\n",
            "Requirement already satisfied: idna<4,>=2.5 in /usr/local/lib/python3.10/dist-packages (from requests>=2.19.0->datasets) (3.4)\n",
            "Requirement already satisfied: python-dateutil>=2.8.1 in /usr/local/lib/python3.10/dist-packages (from pandas->datasets) (2.8.2)\n",
            "Requirement already satisfied: pytz>=2020.1 in /usr/local/lib/python3.10/dist-packages (from pandas->datasets) (2022.7.1)\n",
            "Requirement already satisfied: six>=1.5 in /usr/local/lib/python3.10/dist-packages (from python-dateutil>=2.8.1->pandas->datasets) (1.16.0)\n",
            "Looking in indexes: https://pypi.org/simple, https://us-python.pkg.dev/colab-wheels/public/simple/\n",
            "Requirement already satisfied: hnswlib in /usr/local/lib/python3.10/dist-packages (0.7.0)\n",
            "Requirement already satisfied: numpy in /usr/local/lib/python3.10/dist-packages (from hnswlib) (1.22.4)\n"
          ]
        }
      ],
      "source": [
        "!pip install -U sentence-transformers\n",
        "!pip install datasets\n",
        "!pip install hnswlib"
      ],
      "id": "pPwP85MlYxV7"
    },
    {
      "cell_type": "code",
      "execution_count": 4,
      "metadata": {
        "id": "Z8DkyIdKZsBV"
      },
      "outputs": [],
      "source": [
        "from matplotlib import pyplot as plt\n",
        "%matplotlib inline"
      ],
      "id": "Z8DkyIdKZsBV"
    },
    {
      "cell_type": "markdown",
      "metadata": {
        "id": "a3c0629c-1820-4b1f-a4ee-1597e459f3bd"
      },
      "source": [
        "## Sentence transformer models\n",
        "\n",
        "Today we are going to use an extension of the [Transformers library](https://huggingface.co/docs/transformers/index) designed for sentence level analysis (and more): [Sentece Transfromers](https://www.sbert.net) (origianlly known as SenteceBERT or SBERT)"
      ],
      "id": "a3c0629c-1820-4b1f-a4ee-1597e459f3bd"
    },
    {
      "cell_type": "markdown",
      "metadata": {
        "id": "L1fbWzivlZ_b"
      },
      "source": [
        "First of all we need to import the sentence transformer and some utilities."
      ],
      "id": "L1fbWzivlZ_b"
    },
    {
      "cell_type": "code",
      "execution_count": 5,
      "metadata": {
        "id": "87afda88-dc16-4f73-b48e-95458a7ff69a"
      },
      "outputs": [],
      "source": [
        "from sentence_transformers import SentenceTransformer, util\n",
        "import torch"
      ],
      "id": "87afda88-dc16-4f73-b48e-95458a7ff69a"
    },
    {
      "cell_type": "markdown",
      "metadata": {
        "id": "6dde3423-64dd-4361-a064-45f8005411a3"
      },
      "source": [
        "### Embedding text"
      ],
      "id": "6dde3423-64dd-4361-a064-45f8005411a3"
    },
    {
      "cell_type": "markdown",
      "metadata": {
        "id": "OUSIilKglfLt"
      },
      "source": [
        "Let's create an instance of sentence mebedding model based on BERT.\n",
        "Here you have a list of the available pre-trained models for sentence embedding https://www.sbert.net/docs/pretrained_models.html. "
      ],
      "id": "OUSIilKglfLt"
    },
    {
      "cell_type": "code",
      "execution_count": 6,
      "metadata": {
        "id": "rwCx3iQCY-93"
      },
      "outputs": [],
      "source": [
        "model = SentenceTransformer('all-mpnet-base-v2')"
      ],
      "id": "rwCx3iQCY-93"
    },
    {
      "cell_type": "markdown",
      "metadata": {
        "id": "w9bEavhQlzay"
      },
      "source": [
        "Let's define a corpus of a few sentences to try out the embedding model"
      ],
      "id": "w9bEavhQlzay"
    },
    {
      "cell_type": "code",
      "execution_count": 7,
      "metadata": {
        "id": "9bffafc0-4bbc-4b61-b283-0aac9b383e65"
      },
      "outputs": [],
      "source": [
        "corpus = [\n",
        "    'A man is eating food.',\n",
        "    'A man is eating a piece of bread.',\n",
        "    'The girl is carrying a baby.',\n",
        "    'A man is riding a horse.',\n",
        "    'A woman is playing violin.',\n",
        "    'Two men pushed carts through the woods.',\n",
        "    'A man is riding a white horse on an enclosed ground.',\n",
        "    'A monkey is playing drums.',\n",
        "    'A cheetah is running behind its prey.'\n",
        "]"
      ],
      "id": "9bffafc0-4bbc-4b61-b283-0aac9b383e65"
    },
    {
      "cell_type": "markdown",
      "metadata": {
        "id": "u2441m3Ll9xQ"
      },
      "source": [
        "We can embed the text in batches with the `encode()` method"
      ],
      "id": "u2441m3Ll9xQ"
    },
    {
      "cell_type": "code",
      "execution_count": 8,
      "metadata": {
        "colab": {
          "base_uri": "https://localhost:8080/"
        },
        "id": "a2c39e70-efb6-41c8-b659-193384d3a8ad",
        "outputId": "31008427-8dd5-41aa-8b57-07f378faf776"
      },
      "outputs": [
        {
          "output_type": "execute_result",
          "data": {
            "text/plain": [
              "torch.Size([9, 768])"
            ]
          },
          "metadata": {},
          "execution_count": 8
        }
      ],
      "source": [
        "corpus_embeddings = model.encode(corpus, convert_to_tensor=True)\n",
        "corpus_embeddings.size()"
      ],
      "id": "a2c39e70-efb6-41c8-b659-193384d3a8ad"
    },
    {
      "cell_type": "markdown",
      "metadata": {
        "id": "KwcFdAxbmFYz"
      },
      "source": [
        "Let's give a look at one of the embeddings"
      ],
      "id": "KwcFdAxbmFYz"
    },
    {
      "cell_type": "code",
      "execution_count": 9,
      "metadata": {
        "colab": {
          "base_uri": "https://localhost:8080/"
        },
        "id": "jEmLNvr6mJGS",
        "outputId": "41a5f1fb-f0c1-4570-d936-214ae0a80f60"
      },
      "outputs": [
        {
          "output_type": "execute_result",
          "data": {
            "text/plain": [
              "tensor([ 3.5501e-02, -8.4317e-03,  2.2024e-02,  1.6263e-02, -5.4017e-03,\n",
              "         6.8364e-03, -9.6077e-02,  2.6986e-02,  5.4273e-02,  5.4376e-03,\n",
              "        -6.9692e-03,  1.3709e-03,  2.1613e-02,  9.9688e-03,  6.0930e-03,\n",
              "         5.6724e-03,  3.1598e-02,  3.0436e-02,  2.3854e-02,  1.6231e-02,\n",
              "        -3.4623e-02,  5.6503e-03, -9.9573e-04,  1.7790e-02,  3.9525e-03,\n",
              "         3.6515e-02,  2.7616e-03,  1.0760e-02, -4.3533e-02, -1.6597e-02,\n",
              "        -5.0252e-02,  3.5207e-03, -4.1181e-02,  2.3466e-02,  1.7661e-06,\n",
              "         8.1445e-02,  3.6229e-02,  2.0992e-02, -1.3440e-02,  2.1096e-02,\n",
              "        -2.1274e-02,  3.9455e-03, -8.6086e-03, -4.7137e-02,  1.3027e-02,\n",
              "         1.4252e-02, -3.1987e-02,  3.5853e-02, -1.7193e-02, -1.3636e-02,\n",
              "         1.9564e-02, -7.8867e-02, -1.9029e-02,  2.5984e-02, -9.8554e-03,\n",
              "         4.0118e-02,  4.4400e-02, -1.1126e-02, -8.3517e-03,  4.6718e-02,\n",
              "         2.1740e-02, -3.3689e-02, -3.0471e-03,  3.4783e-02,  3.8776e-02,\n",
              "         5.1425e-02,  1.0338e-02,  3.1652e-02,  4.3357e-02,  2.7788e-02,\n",
              "        -1.2891e-02,  1.5489e-02,  1.6541e-02,  2.4661e-02, -5.5701e-02,\n",
              "        -1.7570e-02,  6.7775e-02, -2.3446e-03, -4.5600e-02, -4.6754e-02,\n",
              "         3.3179e-02, -4.7986e-02, -4.9836e-03,  4.9350e-02,  3.4660e-02,\n",
              "         6.0810e-02,  1.1782e-02, -1.6857e-02,  7.8642e-02, -4.2046e-02,\n",
              "         2.5005e-02,  1.9149e-02,  2.1081e-03,  5.8769e-02, -1.7334e-02,\n",
              "         3.2454e-02,  3.5816e-02,  9.7850e-03,  1.8162e-02, -1.2991e-02,\n",
              "        -5.5817e-02,  4.7599e-02, -4.5500e-02,  2.7738e-02,  9.0116e-03,\n",
              "        -1.1200e-02, -2.0130e-02,  3.3348e-02, -3.3558e-02,  3.2649e-02,\n",
              "        -8.6876e-03,  4.9644e-03,  3.8339e-03,  2.2888e-02, -1.0507e-02,\n",
              "        -3.9465e-02, -1.3104e-02, -2.3377e-03,  4.3680e-02,  1.2751e-02,\n",
              "        -1.7326e-02,  1.6926e-02,  1.9563e-03,  7.2708e-02, -8.8022e-02,\n",
              "         3.6537e-02, -1.7629e-02,  5.7890e-04, -3.6154e-03,  1.8302e-02,\n",
              "         2.1109e-02, -2.6267e-02, -8.9677e-02, -3.7572e-02,  7.5627e-02,\n",
              "         5.3806e-02, -9.0245e-03, -6.0213e-03, -6.7179e-03, -2.0636e-02,\n",
              "        -6.0246e-02,  1.8766e-02, -1.8366e-02,  2.8371e-02,  7.3875e-02,\n",
              "        -1.6196e-02,  9.3804e-03,  2.7329e-02,  7.7210e-03,  3.7771e-02,\n",
              "         5.2777e-04, -7.3187e-03,  7.8777e-02,  2.0791e-02,  3.1566e-02,\n",
              "        -2.5485e-02,  1.9778e-02,  1.8255e-02,  6.5820e-03,  1.9130e-02,\n",
              "         6.0742e-03, -1.1294e-02, -3.9141e-02, -1.8701e-02, -3.5985e-02,\n",
              "         2.3020e-02, -2.5587e-02,  2.8213e-02,  6.7604e-02, -2.9665e-02,\n",
              "         4.9270e-03,  1.1259e-02, -2.3502e-02, -5.3028e-02,  4.6335e-02,\n",
              "        -4.4097e-02, -1.4984e-03,  5.6892e-02, -5.7196e-02,  4.8164e-02,\n",
              "         7.9898e-02,  5.1943e-02,  6.2757e-02,  1.6457e-02, -6.3519e-02,\n",
              "         3.5582e-03,  2.7580e-02, -3.0082e-02, -2.9380e-02, -1.4414e-02,\n",
              "         5.3093e-02, -2.4937e-02,  3.4917e-02, -5.0345e-02,  5.8243e-02,\n",
              "         6.5483e-03, -2.7066e-02, -3.5810e-02, -1.2348e-02, -3.2062e-03,\n",
              "         4.9127e-02,  5.0004e-02,  5.7084e-02, -5.0958e-02, -1.2031e-02,\n",
              "        -1.9256e-02, -2.6203e-02, -3.3272e-02,  4.1671e-03, -7.3632e-02,\n",
              "        -4.7614e-02, -1.1339e-02,  8.7897e-03, -4.6967e-02, -6.1254e-02,\n",
              "         2.8477e-02, -1.4553e-03,  1.7768e-02,  5.1006e-02,  2.2911e-02,\n",
              "        -5.2294e-02,  2.2256e-02,  7.1853e-02,  1.3443e-02, -4.8146e-02,\n",
              "        -4.2892e-02,  1.9095e-02, -1.3618e-02, -3.1392e-02, -1.3557e-02,\n",
              "         2.3452e-02,  5.4669e-03, -2.9547e-02,  4.1628e-02, -2.0466e-02,\n",
              "         2.0976e-02, -5.7206e-03,  2.3815e-02,  1.0115e-02,  1.4918e-02,\n",
              "        -6.1933e-02,  1.9407e-03, -2.3323e-02, -1.9056e-02, -3.5629e-02,\n",
              "        -5.9056e-02, -1.4869e-02, -4.2198e-02, -5.6596e-02,  2.0705e-02,\n",
              "        -8.9530e-03, -9.0688e-03, -1.2422e-02,  5.8615e-03,  4.7845e-02,\n",
              "        -3.3951e-02, -1.6480e-02,  3.3181e-02, -1.9094e-02,  1.9988e-02,\n",
              "        -3.7429e-02, -9.1127e-04, -2.7125e-03,  1.8982e-02,  4.4112e-02,\n",
              "        -1.1947e-02, -3.4385e-02,  7.6977e-03,  5.2920e-02, -3.3389e-02,\n",
              "         1.9815e-02,  7.8248e-02,  2.1069e-02,  1.0906e-02,  6.8352e-03,\n",
              "         1.2547e-02, -2.9259e-02, -2.9000e-02, -8.6616e-03,  1.7831e-03,\n",
              "         5.1576e-02,  1.2893e-01,  8.1029e-03,  8.4124e-03,  1.6014e-02,\n",
              "         1.7413e-02, -1.1906e-01, -7.7985e-02, -1.1473e-03, -6.9216e-02,\n",
              "         2.2179e-02,  1.7992e-02, -2.2502e-02, -8.9862e-03,  2.6584e-02,\n",
              "         3.6839e-02, -2.0965e-02,  3.4941e-02,  3.9695e-02, -4.7786e-03,\n",
              "         3.0881e-02, -2.1812e-02,  1.6026e-02, -6.3445e-03, -7.2317e-03,\n",
              "         5.4396e-02,  1.5047e-02, -2.7680e-02,  4.8696e-03,  3.1780e-02,\n",
              "         5.4612e-02,  6.1794e-02, -1.5155e-02, -5.2315e-02, -2.5614e-02,\n",
              "        -6.2567e-02, -3.2360e-02,  4.6784e-02,  9.4990e-03, -1.1429e-01,\n",
              "        -1.2513e-02,  7.3546e-04,  1.7770e-02, -2.8960e-02,  9.4932e-03,\n",
              "         2.8111e-02,  6.4775e-03, -5.8722e-02, -6.3869e-02, -6.5809e-03,\n",
              "         6.1983e-03,  1.3995e-02, -1.2837e-02, -3.5698e-02,  4.7484e-02,\n",
              "        -2.4367e-02, -2.0794e-02,  3.6966e-02, -6.8885e-02, -6.0703e-02,\n",
              "         5.3100e-03,  4.1893e-02, -2.0478e-02,  7.4428e-03, -1.1424e-02,\n",
              "         2.4481e-02,  6.2452e-02,  4.5306e-03, -2.5930e-02, -5.5694e-02,\n",
              "        -1.1861e-02, -6.3539e-02,  1.4284e-02, -4.0412e-02, -4.6928e-02,\n",
              "         1.5636e-03, -5.4181e-03,  3.8605e-02,  4.0334e-03,  9.9067e-02,\n",
              "        -1.1945e-02,  2.2149e-02, -2.0704e-02,  2.1290e-02,  3.6927e-02,\n",
              "         5.4268e-02,  1.0339e-02, -1.8554e-02,  8.2378e-02, -7.0146e-03,\n",
              "        -9.1249e-03,  6.9629e-02,  2.5099e-02, -7.5596e-03,  3.3991e-02,\n",
              "        -1.6642e-02,  2.1144e-02,  5.8778e-03, -3.0945e-02, -1.3612e-02,\n",
              "         3.6513e-02, -4.2413e-02,  3.9106e-03, -1.2052e-02, -4.3481e-02,\n",
              "        -2.8269e-02,  2.0756e-02, -5.3781e-02,  3.5430e-02, -2.5892e-02,\n",
              "         4.0403e-02,  1.7688e-02, -2.0903e-02, -5.7820e-02, -9.4011e-03,\n",
              "        -9.6223e-05,  1.6208e-02,  2.8223e-03, -2.8831e-03,  5.4702e-02,\n",
              "         8.5722e-02,  2.1801e-02,  8.2912e-03, -3.4142e-02,  4.2738e-02,\n",
              "        -9.9177e-03, -1.9117e-02,  6.1345e-02, -2.8200e-02,  1.5874e-02,\n",
              "         3.4732e-02, -1.9469e-02, -4.1571e-02, -1.5949e-02,  4.5851e-02,\n",
              "        -4.0524e-02,  1.6142e-02, -1.0138e-01,  6.6310e-03, -3.1248e-02,\n",
              "        -1.1471e-02,  1.5141e-02,  3.6245e-02,  5.6495e-02,  4.8030e-02,\n",
              "        -2.1663e-02, -4.0098e-02, -2.4574e-02, -4.1058e-02, -2.0946e-02,\n",
              "         6.4818e-02, -4.0833e-02, -3.1278e-02, -6.7707e-02,  1.6727e-02,\n",
              "         1.8824e-02,  9.0150e-02, -1.3113e-02, -3.9673e-02,  1.7581e-02,\n",
              "         2.7261e-02, -3.2020e-02, -6.1065e-02, -1.5826e-02,  5.9180e-02,\n",
              "         5.1177e-03, -5.1511e-03,  5.3963e-02, -1.0530e-02,  1.5670e-02,\n",
              "         3.3393e-02, -4.0276e-03, -1.8716e-02,  5.5198e-02, -4.6647e-02,\n",
              "         2.4434e-02,  6.8134e-03,  5.3885e-03, -1.7234e-03, -3.6430e-02,\n",
              "         4.9766e-03, -1.1466e-02,  1.4405e-01, -2.5990e-02, -6.6203e-03,\n",
              "        -2.2175e-02, -5.6469e-02,  9.1061e-03, -4.9047e-02,  9.8203e-03,\n",
              "        -1.2983e-02,  1.0701e-02, -4.8452e-02, -1.1199e-02, -2.7524e-02,\n",
              "        -1.9300e-02, -2.5855e-02, -4.3065e-02, -1.2114e-02, -2.7082e-04,\n",
              "        -2.8173e-02, -3.3171e-02,  2.2297e-02, -4.1647e-03,  4.0203e-02,\n",
              "        -8.2076e-03,  6.4871e-02,  1.4467e-02, -7.2797e-03, -3.9086e-02,\n",
              "         7.1071e-02,  2.9553e-02, -7.5136e-02, -3.7153e-02, -4.0494e-02,\n",
              "        -1.0189e-02, -1.1684e-02, -2.4066e-02, -1.7723e-03, -2.4224e-02,\n",
              "        -2.4628e-02, -3.5416e-02, -9.6419e-03, -3.2918e-03, -3.1844e-02,\n",
              "        -3.2421e-02, -2.8521e-02, -4.0526e-02,  1.5591e-02, -2.0118e-02,\n",
              "         4.1885e-02,  1.0695e-02, -4.6063e-02,  3.4820e-02, -1.2496e-02,\n",
              "        -8.0576e-02, -8.1592e-03, -6.7066e-02, -5.7376e-02, -2.4167e-02,\n",
              "         3.8754e-02,  9.3364e-03,  1.0422e-02, -1.5460e-02, -1.5514e-02,\n",
              "         1.0858e-02, -1.6009e-02, -2.2051e-02,  8.1422e-03,  3.1945e-02,\n",
              "        -1.4558e-02, -1.7804e-02,  5.2011e-02, -1.8458e-02,  7.5852e-02,\n",
              "         3.6626e-03, -3.7873e-02,  1.2328e-02, -2.8085e-02, -1.2652e-02,\n",
              "        -3.8967e-03, -1.8744e-02, -4.9811e-02,  2.5823e-03,  5.7879e-02,\n",
              "         1.3017e-02,  2.7239e-02,  3.6608e-02, -2.4837e-02, -5.8488e-02,\n",
              "         9.6158e-03,  7.3825e-02, -6.0050e-02, -1.5561e-02,  8.4948e-02,\n",
              "        -6.4201e-33,  1.4712e-02, -4.2706e-02,  1.1992e-02, -1.9258e-03,\n",
              "         3.1143e-02, -5.8030e-02,  3.5303e-02, -3.2713e-02,  5.9100e-02,\n",
              "        -3.5401e-03, -2.9322e-02, -1.5989e-02, -6.8346e-03, -1.2052e-02,\n",
              "        -3.6862e-02, -6.4367e-03,  2.6095e-02, -3.9437e-03,  2.9459e-02,\n",
              "         1.0662e-04, -8.4143e-02, -2.6700e-03, -1.5038e-02, -1.8727e-02,\n",
              "         2.4566e-02, -1.0309e-02,  8.2829e-02, -1.3124e-02, -1.3679e-02,\n",
              "         7.6362e-03, -7.4203e-02,  3.4254e-02,  2.5488e-02,  8.6590e-03,\n",
              "         4.6518e-03,  1.9162e-02, -4.8842e-03,  3.6355e-02, -3.2436e-02,\n",
              "         5.6647e-02, -2.5622e-02,  1.6827e-02,  1.3709e-02, -2.3672e-03,\n",
              "        -2.0727e-02,  7.8913e-02,  6.7110e-04,  7.3978e-03, -2.5973e-02,\n",
              "         5.5686e-03,  9.5460e-03,  2.7289e-02,  4.8687e-02, -8.0445e-03,\n",
              "         2.6368e-02,  8.6182e-02,  1.6005e-02, -1.7926e-02,  7.1182e-02,\n",
              "         8.6261e-03,  3.8460e-03, -3.8653e-02, -2.3070e-03,  5.5031e-02,\n",
              "         2.2926e-02,  6.0325e-03,  5.7011e-02,  5.5810e-02, -5.6609e-02,\n",
              "        -2.4905e-02, -3.0735e-02, -2.6588e-02, -9.8723e-03, -7.6687e-02,\n",
              "        -1.9901e-02, -6.2850e-02, -1.6852e-03,  1.7043e-02,  1.6036e-02,\n",
              "         2.6006e-02, -2.0666e-02, -1.4439e-02,  6.0115e-02, -1.8830e-02,\n",
              "        -2.6690e-02, -1.7568e-03, -5.9140e-03, -9.5708e-03, -8.8967e-03,\n",
              "        -2.7517e-02,  1.5722e-02, -7.0089e-02, -1.9273e-02,  4.2987e-02,\n",
              "         2.7763e-03, -8.2570e-03, -2.3587e-02, -4.1730e-02,  4.2341e-02,\n",
              "         1.6507e-02, -3.9914e-02, -3.0137e-02,  1.3494e-02, -2.0588e-02,\n",
              "        -2.6276e-02, -2.9176e-02, -1.5237e-02,  1.8479e-02,  1.7258e-02,\n",
              "        -4.4915e-02, -2.7177e-02, -7.8676e-03,  7.3900e-02,  4.0300e-02,\n",
              "        -1.7454e-02,  3.1513e-02, -3.6404e-02,  1.4835e-02, -5.2471e-02,\n",
              "         1.6259e-04, -5.0411e-02, -4.6634e-02, -2.0114e-02,  7.1983e-04,\n",
              "         9.3213e-03, -2.8245e-02, -2.2529e-02, -1.2635e-02, -5.0487e-02,\n",
              "        -3.9352e-02,  5.2335e-02, -1.4296e-02,  2.2937e-07,  4.8620e-02,\n",
              "         5.5799e-02, -2.1673e-02, -5.3700e-02, -4.4744e-02, -3.3289e-02,\n",
              "         2.2180e-02,  5.7321e-02, -4.4645e-02, -2.2284e-02,  4.3421e-03,\n",
              "        -2.0472e-02, -4.3567e-02, -1.0669e-02,  1.5735e-02, -3.9483e-02,\n",
              "        -2.6153e-02,  2.5261e-02,  4.9181e-02,  2.8510e-02,  2.5633e-02,\n",
              "        -3.2677e-02, -2.2557e-02, -5.0864e-03, -5.8072e-03,  2.8804e-02,\n",
              "         1.9894e-02,  8.9455e-03, -2.2271e-02, -7.0764e-02, -2.2311e-02,\n",
              "         4.5899e-02,  6.0663e-02,  1.1406e-02, -2.1961e-02, -1.3160e-02,\n",
              "         4.3697e-02, -3.3438e-02, -2.2686e-02, -4.9254e-02, -2.9997e-02,\n",
              "        -1.7008e-02, -3.5077e-02,  3.6497e-02, -5.4676e-02, -3.1416e-02,\n",
              "         2.8564e-02,  8.0083e-02,  7.3859e-02, -1.9465e-02, -1.5650e-02,\n",
              "         1.4089e-02,  5.4268e-02,  3.9233e-02, -2.2097e-02,  1.6062e-02,\n",
              "         6.1890e-02, -1.4226e-02,  1.5669e-02,  1.1014e-02, -9.4924e-03,\n",
              "         1.9060e-03, -2.5177e-02, -8.6658e-02, -2.8831e-02,  8.7232e-03,\n",
              "        -3.0671e-04,  1.3666e-34, -7.7952e-02,  5.9201e-02,  1.0952e-02,\n",
              "        -3.3621e-03, -4.0445e-02,  1.1521e-02,  6.7338e-03,  4.5140e-02,\n",
              "         3.5526e-02,  2.5947e-02,  7.4200e-03], device='cuda:0')"
            ]
          },
          "metadata": {},
          "execution_count": 9
        }
      ],
      "source": [
        "corpus_embeddings[0]"
      ],
      "id": "jEmLNvr6mJGS"
    },
    {
      "cell_type": "markdown",
      "metadata": {
        "id": "63b2049d-7ad6-4c4c-b04f-c4fd1f51cfb7"
      },
      "source": [
        "### Cosine similarity between embeddings"
      ],
      "id": "63b2049d-7ad6-4c4c-b04f-c4fd1f51cfb7"
    },
    {
      "cell_type": "markdown",
      "metadata": {
        "id": "86ec6492-0f50-47b3-9949-e6a3968c5087"
      },
      "source": [
        "We can compute the similarity of embedding pairs in our corpus"
      ],
      "id": "86ec6492-0f50-47b3-9949-e6a3968c5087"
    },
    {
      "cell_type": "code",
      "execution_count": 10,
      "metadata": {
        "colab": {
          "base_uri": "https://localhost:8080/"
        },
        "id": "e5c16f18-ed0b-42bb-923f-e4eff5448c95",
        "outputId": "e0c7f552-bd29-461e-b23f-97cf6bfebab9"
      },
      "outputs": [
        {
          "output_type": "execute_result",
          "data": {
            "text/plain": [
              "torch.Size([9, 9])"
            ]
          },
          "metadata": {},
          "execution_count": 10
        }
      ],
      "source": [
        "similarity_matrix = torch.vstack(\n",
        "    [util.cos_sim(embedding, corpus_embeddings)[0] for embedding in corpus_embeddings]\n",
        ")\n",
        "similarity_matrix.size()"
      ],
      "id": "e5c16f18-ed0b-42bb-923f-e4eff5448c95"
    },
    {
      "cell_type": "markdown",
      "metadata": {
        "id": "jKU_zdq_k8FK"
      },
      "source": [
        "And show the similarities in a matrix.\n",
        "Here the brighter the colour the higher the similarity."
      ],
      "id": "jKU_zdq_k8FK"
    },
    {
      "cell_type": "code",
      "execution_count": 11,
      "metadata": {
        "colab": {
          "base_uri": "https://localhost:8080/",
          "height": 469
        },
        "id": "la-2LWeZZh2B",
        "outputId": "addad01e-e855-4e3c-c4e3-1a1f9b53ba97"
      },
      "outputs": [
        {
          "output_type": "stream",
          "name": "stderr",
          "text": [
            "<ipython-input-11-be763d3e1e4e>:5: UserWarning: This figure includes Axes that are not compatible with tight_layout, so results might be incorrect.\n",
            "  plt.tight_layout()\n"
          ]
        },
        {
          "output_type": "display_data",
          "data": {
            "text/plain": [
              "<Figure size 480x480 with 2 Axes>"
            ],
            "image/png": "[encoded data removed]"
          },
          "metadata": {}
        }
      ],
      "source": [
        "plt.matshow(similarity_matrix.cpu().numpy())\n",
        "plt.xlabel('Sentence index')\n",
        "plt.ylabel('Sentence index')\n",
        "plt.colorbar()\n",
        "plt.tight_layout()"
      ],
      "id": "la-2LWeZZh2B"
    },
    {
      "cell_type": "markdown",
      "metadata": {
        "id": "GoYlKVp6xCCt"
      },
      "source": [
        "What do you think of the results? These are the sentences we used"
      ],
      "id": "GoYlKVp6xCCt"
    },
    {
      "cell_type": "code",
      "execution_count": 12,
      "metadata": {
        "colab": {
          "base_uri": "https://localhost:8080/"
        },
        "id": "jJYPYwWHw-US",
        "outputId": "7edf168c-fcfa-4c2c-9372-f36dc764c9a6"
      },
      "outputs": [
        {
          "output_type": "stream",
          "name": "stdout",
          "text": [
            "0:\t\"A man is eating food.\"\n",
            "1:\t\"A man is eating a piece of bread.\"\n",
            "2:\t\"The girl is carrying a baby.\"\n",
            "3:\t\"A man is riding a horse.\"\n",
            "4:\t\"A woman is playing violin.\"\n",
            "5:\t\"Two men pushed carts through the woods.\"\n",
            "6:\t\"A man is riding a white horse on an enclosed ground.\"\n",
            "7:\t\"A monkey is playing drums.\"\n",
            "8:\t\"A cheetah is running behind its prey.\"\n"
          ]
        }
      ],
      "source": [
        "for idx, sentence in enumerate(corpus):\n",
        "    print(f\"{idx}:\\t\\\"{sentence}\\\"\")"
      ],
      "id": "jJYPYwWHw-US"
    },
    {
      "cell_type": "markdown",
      "metadata": {
        "id": "0tNslTNtlPzZ"
      },
      "source": [
        "On the diagonal we have a perfect match since we are computing the similarity between a piece of text and itself."
      ],
      "id": "0tNslTNtlPzZ"
    },
    {
      "cell_type": "markdown",
      "metadata": {
        "id": "97a4e659-4596-4e09-8a39-7408db102043"
      },
      "source": [
        "### Visualising the embedding space"
      ],
      "id": "97a4e659-4596-4e09-8a39-7408db102043"
    },
    {
      "cell_type": "markdown",
      "metadata": {
        "id": "4LhJGhsjmOV7"
      },
      "source": [
        "Ok, looking at lists of numbers is not very useful.\n",
        "We can try to do some visualisation here.\n",
        "\n",
        "Let's start by showing the embeddings we computed early."
      ],
      "id": "4LhJGhsjmOV7"
    },
    {
      "cell_type": "code",
      "execution_count": 13,
      "metadata": {
        "colab": {
          "base_uri": "https://localhost:8080/",
          "height": 278
        },
        "id": "L6R40mgPmYlR",
        "outputId": "6108593d-3fe6-4ab4-f9b7-3affa3aa7b56"
      },
      "outputs": [
        {
          "output_type": "display_data",
          "data": {
            "text/plain": [
              "<Figure size 1000x800 with 0 Axes>"
            ]
          },
          "metadata": {}
        },
        {
          "output_type": "display_data",
          "data": {
            "text/plain": [
              "<Figure size 1600x200 with 1 Axes>"
            ],
            "image/png": "[encoded data removed]"
          },
          "metadata": {}
        }
      ],
      "source": [
        "fig = plt.figure(figsize=(10, 8))\n",
        "plt.matshow(corpus_embeddings.cpu().numpy(), aspect='auto')\n",
        "plt.xlabel('Feature');\n",
        "plt.ylabel('Sentence');"
      ],
      "id": "L6R40mgPmYlR"
    },
    {
      "cell_type": "markdown",
      "metadata": {
        "id": "HK0hL-PymY0x"
      },
      "source": [
        "Yeah, that's not very informative.\n",
        "\n",
        "Now let's load a bigger data set so we can learn one of those fancy down-projection like TSNE to visualise the embeddings in a 2D or 3D space.\n",
        "We can use the sentences in the [SNLI](https://arxiv.org/abs/1508.05326) data set, it is avaialble through the HuggingFace Datasets package (https://huggingface.co/datasets/snli)."
      ],
      "id": "HK0hL-PymY0x"
    },
    {
      "cell_type": "code",
      "execution_count": 14,
      "metadata": {
        "colab": {
          "base_uri": "https://localhost:8080/"
        },
        "id": "zT4IZm71moZM",
        "outputId": "83358f89-324d-4713-f6ef-e3cac54065c7"
      },
      "outputs": [
        {
          "output_type": "stream",
          "name": "stderr",
          "text": [
            "WARNING:datasets.builder:Found cached dataset snli (/root/.cache/huggingface/datasets/snli/plain_text/1.0.0/1f60b67533b65ae0275561ff7828aad5ee4282d0e6f844fd148d05d3c6ea251b)\n"
          ]
        },
        {
          "output_type": "execute_result",
          "data": {
            "text/plain": [
              "{'premise': 'A person on a horse jumps over a broken down airplane.',\n",
              " 'hypothesis': 'A person is training his horse for a competition.',\n",
              " 'label': 1}"
            ]
          },
          "metadata": {},
          "execution_count": 14
        }
      ],
      "source": [
        "import datasets\n",
        "\n",
        "snli = datasets.load_dataset('snli', split='train')\n",
        "snli[0]"
      ],
      "id": "zT4IZm71moZM"
    },
    {
      "cell_type": "markdown",
      "metadata": {
        "id": "RExQs6PGolrI"
      },
      "source": [
        "This data set is used for a task called \"Natural Language Inference\" (NLI), the task is to recognise the relationship between two sentences: \n",
        "- Neutral\n",
        "- Entailment\n",
        "- Contradiction\n",
        "\n",
        "We are just interested in the sentences, so we can drop the structure of the data set."
      ],
      "id": "RExQs6PGolrI"
    },
    {
      "cell_type": "code",
      "execution_count": 15,
      "metadata": {
        "colab": {
          "base_uri": "https://localhost:8080/"
        },
        "id": "YCcxnt2epgJE",
        "outputId": "d6a2f458-a18a-49fb-e5af-d9534493f583"
      },
      "outputs": [
        {
          "output_type": "execute_result",
          "data": {
            "text/plain": [
              "629346"
            ]
          },
          "metadata": {},
          "execution_count": 15
        }
      ],
      "source": [
        "sentences = list(set(sample[key] for sample in snli for key in ['premise', 'hypothesis']))\n",
        "len(sentences)"
      ],
      "id": "YCcxnt2epgJE"
    },
    {
      "cell_type": "markdown",
      "metadata": {
        "id": "7yVulbH3qi5h"
      },
      "source": [
        "We can embed a subset of these sentences"
      ],
      "id": "7yVulbH3qi5h"
    },
    {
      "cell_type": "code",
      "execution_count": 16,
      "metadata": {
        "colab": {
          "base_uri": "https://localhost:8080/"
        },
        "id": "f6wVK4yiqiF4",
        "outputId": "120d5f8b-dc5f-4934-f3ae-6a1d28b593a0"
      },
      "outputs": [
        {
          "output_type": "execute_result",
          "data": {
            "text/plain": [
              "(2098, 768)"
            ]
          },
          "metadata": {},
          "execution_count": 16
        }
      ],
      "source": [
        "corpus_embeddings = model.encode(sentences[::300], convert_to_tensor=True).cpu().numpy()\n",
        "corpus_embeddings.shape"
      ],
      "id": "f6wVK4yiqiF4"
    },
    {
      "cell_type": "markdown",
      "metadata": {
        "id": "YRlNSZ9ZpzBT"
      },
      "source": [
        "Now let's use TSNE to learn a low dimensional representation..."
      ],
      "id": "YRlNSZ9ZpzBT"
    },
    {
      "cell_type": "code",
      "execution_count": 17,
      "metadata": {
        "id": "6ECI8RufpzNT"
      },
      "outputs": [],
      "source": [
        "from sklearn.manifold import TSNE\n",
        "\n",
        "tsne = TSNE(n_components=3, n_iter=500)\n",
        "tsne_embedding = tsne.fit_transform(corpus_embeddings)"
      ],
      "id": "6ECI8RufpzNT"
    },
    {
      "cell_type": "markdown",
      "metadata": {
        "id": "UvmRDoxup91w"
      },
      "source": [
        "... and plot it in three dimensions"
      ],
      "id": "UvmRDoxup91w"
    },
    {
      "cell_type": "code",
      "execution_count": 18,
      "metadata": {
        "colab": {
          "base_uri": "https://localhost:8080/"
        },
        "id": "-HB1tvSLqTQp",
        "outputId": "8405bfc5-cc6d-4da4-f893-3e06c4ba6b6f"
      },
      "outputs": [
        {
          "output_type": "stream",
          "name": "stdout",
          "text": [
            "Looking in indexes: https://pypi.org/simple, https://us-python.pkg.dev/colab-wheels/public/simple/\n",
            "Requirement already satisfied: plotly in /usr/local/lib/python3.10/dist-packages (5.13.1)\n",
            "Requirement already satisfied: tenacity>=6.2.0 in /usr/local/lib/python3.10/dist-packages (from plotly) (8.2.2)\n"
          ]
        }
      ],
      "source": [
        "!pip install plotly"
      ],
      "id": "-HB1tvSLqTQp"
    },
    {
      "cell_type": "code",
      "execution_count": 19,
      "metadata": {
        "colab": {
          "base_uri": "https://localhost:8080/",
          "height": 563
        },
        "id": "pTgWzUh2p9Fs",
        "outputId": "ab1a7a3f-464f-46d8-8f05-63dc7d2fc2f7"
      },
      "outputs": [
        {
          "output_type": "display_data",
          "data": {
            "text/html": [
              "<html>\n",
              "<head><meta charset=\"utf-8\" /></head>\n",
              "<body>\n",
              "    <div>            <script src=\"https://cdnjs.cloudflare.com/ajax/libs/mathjax/2.7.5/MathJax.js?config=TeX-AMS-MML_SVG\"></script><script type=\"text/javascript\">if (window.MathJax && window.MathJax.Hub && window.MathJax.Hub.Config) {window.MathJax.Hub.Config({SVG: {font: \"STIX-Web\"}});}</script>                <script type=\"text/javascript\">window.PlotlyConfig = {MathJaxConfig: 'local'};</script>\n",
              "        <script src=\"https://cdn.plot.ly/plotly-2.18.2.min.js\"></script>                <div id=\"6663992a-61c3-433a-a24f-440bc8661e20\" class=\"plotly-graph-div\" style=\"height:525px; width:100%;\"></div>            <script type=\"text/javascript\">                                    window.PLOTLYENV=window.PLOTLYENV || {};                                    if (document.getElementById(\"6663992a-61c3-433a-a24f-440bc8661e20\")) {                    Plotly.newPlot(                        \"6663992a-61c3-433a-a24f-440bc8661e20\",                        [{\"hovertemplate\":\"x=%{x}<br>y=%{y}<br>z=%{z}<extra></extra>\",\"legendgroup\":\"\",\"marker\":{\"color\":\"#636efa\",\"symbol\":\"circle\",\"line\":{\"width\":2},\"size\":3},\"mode\":\"markers\",\"name\":\"\",\"scene\":\"scene\",\"showlegend\":false,\"x\":[-21.734607696533203,-7.289736747741699,-13.636923789978027,0.8638633489608765,-14.855546951293945,-14.339391708374023,20.63621711730957,9.324828147888184,19.8983154296875,9.313799858093262,3.8736865520477295,9.341655731201172,-11.715784072875977,5.6809234619140625,18.595054626464844,-7.40412712097168,10.31240463256836,5.386985778808594,-7.90335750579834,-1.3524364233016968,14.483807563781738,-11.467548370361328,-3.473418712615967,11.946877479553223,-5.5489420890808105,-9.901274681091309,-7.033832550048828,-15.95570182800293,-1.1789969205856323,-4.8476176261901855,6.350744724273682,-4.864303112030029,-16.832231521606445,12.232067108154297,15.339466094970703,-15.30715274810791,-11.965917587280273,-3.213109254837036,5.104092597961426,-11.48242473602295,-8.501543998718262,11.194551467895508,7.047674179077148,10.005081176757812,3.3896055221557617,0.48729896545410156,-3.4615883827209473,-18.011852264404297,14.824466705322266,23.282808303833008,-18.002601623535156,20.067049026489258,-13.126917839050293,-17.250654220581055,1.7110451459884644,-2.466984987258911,17.406940460205078,10.27778434753418,-7.0845947265625,14.161064147949219,-6.321986675262451,6.894713401794434,2.301982879638672,2.103294610977173,3.8612496852874756,-15.77933120727539,-9.83923625946045,9.412834167480469,-12.005500793457031,-1.8818477392196655,-16.039287567138672,7.5402750968933105,-3.405890941619873,6.556188106536865,16.653379440307617,-0.27915504574775696,-3.7524118423461914,-12.319587707519531,-3.417160749435425,2.5461959838867188,-1.8679958581924438,13.676115036010742,21.1776065826416,6.15456485748291,12.578773498535156,-5.346153736114502,-3.6847898960113525,-13.183751106262207,18.875818252563477,8.762619972229004,6.5608649253845215,0.06710944324731827,6.622535228729248,10.678389549255371,3.806468963623047,-0.46991175413131714,1.2528733015060425,7.707185745239258,11.70734691619873,3.1184768676757812,-15.454218864440918,-1.607874870300293,4.061321258544922,9.603261947631836,-1.9826884269714355,8.122024536132812,-4.157656192779541,-22.98661231994629,-2.177919387817383,16.14243507385254,-14.085558891296387,-11.256075859069824,14.342679977416992,0.715317964553833,2.3647677898406982,14.424666404724121,13.130303382873535,-12.276079177856445,-0.22021876275539398,5.543771743774414,10.271483421325684,11.33852481842041,21.364803314208984,-4.980538845062256,-1.0471636056900024,4.022329807281494,-11.061238288879395,-5.495628833770752,10.973155975341797,2.998643636703491,1.6735358238220215,8.004919052124023,-8.600577354431152,-6.12743616104126,17.665943145751953,12.55705451965332,12.846400260925293,14.883371353149414,2.3325047492980957,8.578364372253418,-0.2107929289340973,-1.877787470817566,2.3010013103485107,7.664432525634766,11.883056640625,15.165889739990234,13.404574394226074,-17.51456069946289,0.9587027430534363,10.698992729187012,23.530353546142578,7.235419750213623,-0.3267993628978729,3.9096829891204834,-18.24373435974121,-9.779927253723145,15.741692543029785,-1.2568367719650269,8.76762866973877,-1.0750482082366943,-5.696241855621338,-13.0653715133667,-1.3941650390625,20.096420288085938,-1.159449815750122,5.861550807952881,-13.800673484802246,5.358740329742432,-1.3527672290802002,18.917701721191406,-9.547426223754883,-13.191383361816406,14.847886085510254,7.869267463684082,-10.575287818908691,-2.173200845718384,2.7182931900024414,8.159990310668945,-19.121427536010742,20.23767852783203,6.316958904266357,-15.984260559082031,-6.4686784744262695,5.233290672302246,15.595887184143066,-7.596316814422607,3.4939935207366943,-7.3793745040893555,-23.276729583740234,2.4349887371063232,10.806973457336426,7.364809036254883,-14.061934471130371,19.583341598510742,0.8094445466995239,1.7231659889221191,2.602203369140625,-18.542139053344727,9.062520027160645,-2.238104820251465,-8.890968322753906,-16.9926700592041,11.94544792175293,-8.603483200073242,7.989212989807129,-1.725010633468628,3.305051565170288,8.725250244140625,0.07720112800598145,-3.447904348373413,7.275717258453369,-18.714576721191406,-5.435619354248047,-13.47726821899414,0.9851195216178894,-4.7280683517456055,-3.2071850299835205,-4.669726848602295,2.7171831130981445,-14.239184379577637,-2.796031951904297,13.307014465332031,-0.2659342586994171,0.7708343267440796,8.280050277709961,0.4781965911388397,-11.861982345581055,0.32584288716316223,-2.8248584270477295,-10.742669105529785,-7.499223232269287,2.1911182403564453,12.735360145568848,-2.098120927810669,2.8073930740356445,11.3685302734375,-0.5557524561882019,2.099287271499634,11.22381591796875,-1.7037339210510254,-9.003060340881348,11.93310832977295,2.6870832443237305,8.847784996032715,-5.994792938232422,-6.781144142150879,6.446642875671387,4.53496789932251,0.5162283778190613,16.14320182800293,11.04220962524414,-18.853832244873047,-23.166696548461914,6.3784589767456055,2.17394757270813,10.9866943359375,-4.426069736480713,-5.385717391967773,-6.0858306884765625,1.8146333694458008,0.7678384780883789,-6.331399440765381,-4.100994110107422,-21.264894485473633,-10.949872970581055,-1.8037688732147217,-5.0936279296875,1.6974024772644043,3.1493515968322754,9.957084655761719,-14.675602912902832,13.904388427734375,11.246750831604004,18.920753479003906,-0.5424447059631348,-8.310731887817383,14.166126251220703,-6.355780601501465,-7.668562412261963,19.038053512573242,10.843184471130371,1.5658001899719238,-6.685389995574951,3.668504238128662,-23.93463134765625,7.76750373840332,-17.439008712768555,7.137521266937256,6.313665390014648,-14.381091117858887,14.025233268737793,-10.8548583984375,-3.4246325492858887,8.966937065124512,19.665618896484375,-10.075438499450684,7.499827861785889,-4.561557769775391,22.21536636352539,18.244651794433594,14.279003143310547,-2.5133821964263916,21.286865234375,5.862481594085693,18.40529441833496,17.253206253051758,-1.0243970155715942,16.022192001342773,-12.615347862243652,-0.03553502634167671,-12.298233032226562,4.714077949523926,8.388952255249023,-2.166997194290161,11.084224700927734,-18.21187400817871,2.9883854389190674,2.505411148071289,0.46100807189941406,0.30320391058921814,2.6248440742492676,13.76545524597168,7.3983473777771,-21.783842086791992,0.7732838988304138,-18.58519744873047,19.17729949951172,10.425393104553223,-12.557024002075195,-6.194225788116455,-6.029641151428223,-9.690805435180664,0.8758785128593445,2.8548755645751953,0.07109076529741287,-10.180550575256348,7.444167613983154,7.040613174438477,20.179067611694336,-2.2005701065063477,-5.191269874572754,-7.996474266052246,17.977882385253906,12.535447120666504,-4.009315490722656,-2.799330234527588,2.565769910812378,-21.785552978515625,13.996040344238281,-13.820449829101562,8.006755828857422,18.97886085510254,-6.424018859863281,-4.188158988952637,0.9632007479667664,-6.191208362579346,-13.505091667175293,1.4987305402755737,0.7657240033149719,5.2457661628723145,-3.662513256072998,-2.7305212020874023,22.80293846130371,10.535222053527832,-5.939746379852295,1.620184063911438,-3.8017141819000244,-3.145843982696533,10.962884902954102,-0.7869223356246948,-1.0595227479934692,-6.821342468261719,-3.4863154888153076,23.32896614074707,0.555557370185852,9.047910690307617,2.6923840045928955,11.757872581481934,7.866768836975098,10.193058967590332,2.6742703914642334,-14.37624740600586,10.231324195861816,7.61550235748291,1.3718611001968384,-11.092045783996582,-11.25128173828125,-5.969532489776611,-8.360419273376465,-15.063559532165527,-8.900941848754883,-4.805034637451172,13.949542045593262,17.82227897644043,-15.917710304260254,-9.651326179504395,-8.354114532470703,-9.559762954711914,1.3638527393341064,19.178544998168945,19.101343154907227,4.574711322784424,-15.047619819641113,10.668584823608398,5.651973724365234,17.799562454223633,-5.33527946472168,7.162768363952637,8.320144653320312,20.908872604370117,-13.218226432800293,1.9630842208862305,-4.751236915588379,-0.18539343774318695,1.8658560514450073,-3.420391082763672,10.279950141906738,6.551265239715576,6.448057651519775,13.346282958984375,-16.902212142944336,-3.350750207901001,14.613594055175781,6.747437000274658,14.44589900970459,-11.116373062133789,13.950555801391602,16.238645553588867,7.768568515777588,6.248710632324219,-8.204514503479004,-2.8486838340759277,-2.0734620094299316,-0.6601637005805969,5.022722244262695,-16.09056854248047,7.630041122436523,-12.877894401550293,-24.29840850830078,-1.3496308326721191,1.3297570943832397,6.290177822113037,1.3246662616729736,-2.9789023399353027,14.457742691040039,-6.828314781188965,-3.256622791290283,-5.994205951690674,-0.0639822781085968,0.13945187628269196,-6.258604526519775,7.63533878326416,5.8634352684021,-13.62159538269043,20.64801597595215,-7.9461350440979,-14.771675109863281,-5.469793796539307,13.60743236541748,-19.049043655395508,7.802755355834961,0.3140833079814911,-0.4189300537109375,-2.9545042514801025,-11.973594665527344,2.3249871730804443,1.2851346731185913,-16.177356719970703,-0.7314165234565735,-1.780542254447937,16.376205444335938,13.004737854003906,-1.5930243730545044,-0.01864011213183403,-19.93988609313965,12.054253578186035,5.037001609802246,1.6822890043258667,-21.157548904418945,5.313723087310791,-8.977115631103516,-11.257802963256836,-7.943785667419434,19.492027282714844,9.325200080871582,-12.54383373260498,6.594714164733887,10.475890159606934,10.399520874023438,3.4922707080841064,9.387760162353516,13.408434867858887,10.885208129882812,-4.568584442138672,0.4545751214027405,17.927568435668945,-2.1044843196868896,2.1947720050811768,-5.830366134643555,6.9542999267578125,13.721891403198242,18.650360107421875,6.181793212890625,-3.2099173069000244,-9.35283374786377,25.455270767211914,-2.766082286834717,-0.88920658826828,25.066144943237305,3.0950446128845215,-13.706314086914062,2.6226375102996826,-7.161767482757568,13.037814140319824,-8.443395614624023,-8.636568069458008,-0.48914217948913574,-10.179398536682129,3.826033115386963,7.6337080001831055,-11.807686805725098,-3.383246660232544,-0.9501312971115112,-8.503121376037598,-9.314271926879883,10.019532203674316,11.385799407958984,16.825729370117188,-0.09677959978580475,-21.57725715637207,8.22363567352295,-0.2033655345439911,-7.441348552703857,9.804473876953125,-6.853338241577148,-16.970008850097656,-13.839783668518066,14.839978218078613,-8.204817771911621,-12.166534423828125,13.736106872558594,4.934023857116699,3.436183214187622,-5.582951545715332,-7.595466136932373,12.534788131713867,19.405452728271484,22.301015853881836,14.73658275604248,7.186575889587402,4.451069355010986,-15.350837707519531,1.8971761465072632,-13.279317855834961,4.442519664764404,22.995670318603516,3.0136070251464844,-17.942264556884766,-2.931736469268799,-8.410270690917969,7.067914962768555,4.954042911529541,17.50164794921875,14.155326843261719,12.439804077148438,20.503995895385742,-7.344509124755859,-0.3040897846221924,-15.188068389892578,-15.800200462341309,16.410200119018555,13.525972366333008,5.105178356170654,-4.70209264755249,-16.312278747558594,2.1510989665985107,-8.12325668334961,-6.71934175491333,-23.54569435119629,2.2425310611724854,2.71608829498291,-13.381258010864258,0.3733800947666168,5.4867329597473145,-16.972505569458008,10.864269256591797,-4.57443904876709,-20.75143814086914,-2.688383102416992,1.506856083869934,-7.015512943267822,9.529316902160645,-14.691349983215332,-2.544083833694458,2.6980392932891846,-6.046666622161865,-5.841938495635986,-9.20041561126709,10.2881441116333,2.5668938159942627,-10.44424819946289,-4.444333076477051,7.289469242095947,8.076284408569336,26.297203063964844,-15.247201919555664,-3.2280642986297607,-2.056899070739746,-4.625674247741699,-5.051678657531738,11.846680641174316,-10.43860149383545,-6.37263822555542,-4.078482627868652,12.358621597290039,0.17500244081020355,-3.858187675476074,-13.256182670593262,-6.587896347045898,3.5130388736724854,-14.207932472229004,-11.665227890014648,4.337345600128174,-7.019775390625,5.855363368988037,-5.9538068771362305,-7.941940784454346,-0.06672737002372742,-2.7903175354003906,12.886372566223145,-8.218859672546387,-8.203925132751465,6.502434730529785,10.918845176696777,-0.6223279237747192,-17.59090805053711,-10.826478958129883,-7.553607940673828,-20.348941802978516,-3.4432833194732666,11.918596267700195,-1.1072651147842407,-21.430051803588867,13.130738258361816,4.650694847106934,-9.639703750610352,-1.511092185974121,-4.561093330383301,-9.566699028015137,-16.795686721801758,4.317044734954834,-1.535826325416565,-5.175256252288818,1.4276858568191528,-16.578237533569336,-2.39493727684021,2.866410255432129,-3.7032358646392822,6.432367324829102,15.839133262634277,7.580653190612793,9.032644271850586,8.826562881469727,15.599081993103027,-4.726925373077393,-15.24545669555664,21.895423889160156,-22.901107788085938,-11.09838581085205,-1.6115177869796753,-15.536333084106445,0.8313933610916138,-7.542038440704346,12.097355842590332,1.995572805404663,-3.222581386566162,-12.091812133789062,-8.962898254394531,0.33962705731391907,16.87066078186035,3.9466726779937744,15.766715049743652,0.4447614550590515,4.789971351623535,-7.323061943054199,-1.7143855094909668,-13.457942008972168,1.288285255432129,-10.638226509094238,9.835290908813477,-10.774641990661621,9.888667106628418,-19.120655059814453,12.130514144897461,-7.11336612701416,-19.510528564453125,-11.489045143127441,6.312137126922607,11.687106132507324,-7.790956974029541,-10.601126670837402,0.17030417919158936,-1.9882705211639404,-4.768998146057129,2.667721748352051,-14.808484077453613,14.576384544372559,18.47132682800293,-13.350658416748047,-4.605345726013184,12.487434387207031,-8.271411895751953,11.249621391296387,-0.0009951182873919606,8.479975700378418,-14.739927291870117,12.908249855041504,-14.13133716583252,-6.59929895401001,0.6289290189743042,-15.403982162475586,13.431748390197754,0.40222617983818054,-3.4613146781921387,1.6467933654785156,11.625431060791016,5.480189800262451,1.6054890155792236,-8.598634719848633,16.242433547973633,-8.693944931030273,8.73300552368164,-4.638256072998047,-2.2496330738067627,-8.614558219909668,-13.38985538482666,-9.81058120727539,5.355268478393555,-7.3301825523376465,3.6565747261047363,15.446569442749023,-13.203536987304688,3.2393503189086914,5.82008171081543,6.0474934577941895,1.0367323160171509,3.1080188751220703,9.781454086303711,16.256053924560547,24.015239715576172,-7.405784606933594,-7.710018157958984,20.221914291381836,-14.897534370422363,-16.82328987121582,14.582287788391113,18.77267074584961,-15.865995407104492,-15.697327613830566,1.644561767578125,9.874347686767578,2.084702968597412,13.725884437561035,15.633007049560547,-17.392595291137695,-19.02939796447754,2.1048285961151123,-10.264490127563477,-5.475439548492432,0.7543631196022034,0.7498148679733276,10.973426818847656,6.5783514976501465,11.422892570495605,-17.747512817382812,-16.66658592224121,9.695710182189941,1.8783438205718994,-15.404715538024902,12.871537208557129,6.5124006271362305,5.5662007331848145,-2.5497114658355713,-3.69850754737854,-14.865402221679688,11.312163352966309,17.03736686706543,4.106386661529541,14.355846405029297,18.661972045898438,-1.8250855207443237,-2.2089903354644775,10.83980941772461,-9.247668266296387,20.523658752441406,14.025754928588867,21.63069725036621,11.905928611755371,-11.038907051086426,0.2875640094280243,-3.337655782699585,13.315034866333008,5.939762592315674,-3.52950382232666,-4.271832466125488,10.980934143066406,11.722723007202148,8.560186386108398,-1.7340211868286133,1.023756980895996,-5.350554943084717,5.239084720611572,15.252493858337402,13.408246040344238,10.43081283569336,0.5924304723739624,-0.252897709608078,-9.36436653137207,-15.277426719665527,-18.13727569580078,-10.115272521972656,-1.8506677150726318,19.84869956970215,4.710550308227539,-17.07569694519043,-9.603056907653809,-7.913949489593506,11.026289939880371,-0.14822721481323242,-23.01255226135254,-6.717581272125244,-8.94644546508789,-4.617580413818359,-12.550768852233887,-11.613662719726562,6.185379981994629,11.054640769958496,7.972902774810791,4.967038631439209,0.4474254548549652,-7.711015701293945,-1.4114340543746948,-16.08831214904785,-15.168002128601074,-3.7354140281677246,-15.847877502441406,-2.5464346408843994,3.2615346908569336,-5.645107269287109,-19.927846908569336,7.7139973640441895,-5.989848613739014,0.9792526364326477,-7.268836975097656,13.401176452636719,-8.08327865600586,16.715534210205078,-11.826833724975586,0.8684281706809998,-5.203085899353027,0.41628679633140564,16.969295501708984,-1.3894145488739014,7.5115814208984375,1.7247008085250854,16.93738555908203,-2.611675262451172,-2.468045473098755,-4.641011714935303,-11.405506134033203,18.379405975341797,-8.75543212890625,-3.825059175491333,5.3761372566223145,0.3875436782836914,-10.128802299499512,11.3123197555542,8.803709983825684,7.871739864349365,11.667747497558594,-15.916430473327637,12.728092193603516,-9.231841087341309,-8.781578063964844,17.049240112304688,-1.3558924198150635,-2.534524917602539,-3.136509418487549,-17.16266441345215,11.834758758544922,3.689680814743042,2.3124730587005615,18.209278106689453,-21.659029006958008,3.3755743503570557,-7.706785202026367,12.502156257629395,-19.280715942382812,6.847014904022217,-4.352015495300293,1.5267328023910522,4.751800537109375,-7.892889499664307,-17.11751365661621,1.8732295036315918,-1.6392263174057007,-12.29127025604248,1.2514803409576416,-2.342125415802002,2.3825345039367676,-7.248475551605225,-17.25765037536621,-18.750925064086914,1.8759652376174927,-0.09881433099508286,-18.232091903686523,-19.972049713134766,-15.32938003540039,0.5689480900764465,12.983309745788574,12.173028945922852,-19.15607261657715,22.661617279052734,-13.1845064163208,-1.6049386262893677,1.3677486181259155,-16.590444564819336,-16.445207595825195,-3.5882625579833984,12.134346008300781,8.0475435256958,-5.475895881652832,1.7020983695983887,-6.674238681793213,15.2120361328125,-9.724031448364258,-5.346925735473633,6.034267425537109,-14.589692115783691,16.258878707885742,7.24052095413208,-5.836355209350586,11.616042137145996,-17.435213088989258,16.735944747924805,-15.554304122924805,10.764859199523926,-0.30053678154945374,-10.135475158691406,-14.911654472351074,0.2542650103569031,-0.8101493120193481,-1.3960505723953247,-5.791355609893799,-19.24481201171875,17.510086059570312,10.988289833068848,-14.717142105102539,0.4224138855934143,-9.768548965454102,7.282207012176514,-2.847440481185913,-0.020278049632906914,14.755035400390625,12.488882064819336,-8.850180625915527,-1.6423020362854004,17.561614990234375,3.5546140670776367,-9.926690101623535,11.63122272491455,-18.615032196044922,-0.8128075003623962,-1.7822808027267456,6.43526554107666,-15.247251510620117,-3.0201289653778076,1.443322777748108,-15.85889720916748,-15.593653678894043,12.121047019958496,-0.7947591543197632,1.603281021118164,3.164259195327759,-21.020235061645508,-8.200310707092285,-19.293594360351562,2.351957082748413,-11.668785095214844,-8.334941864013672,20.659717559814453,-5.993753433227539,12.624322891235352,-1.731921672821045,-10.057550430297852,9.005800247192383,-13.411860466003418,15.892721176147461,-5.763548374176025,-0.11347421258687973,22.09644889831543,-1.293104648590088,-1.6475496292114258,10.748846054077148,-9.221888542175293,9.590335845947266,4.816186904907227,14.800960540771484,0.39032846689224243,4.91333532333374,0.47346317768096924,-5.6778669357299805,11.94096851348877,6.483913898468018,-5.458561420440674,11.19355297088623,-10.255804061889648,-5.392688751220703,2.748804807662964,5.462893486022949,6.6648054122924805,2.3943989276885986,1.1866987943649292,5.982908725738525,-5.935566425323486,-18.750518798828125,-22.826370239257812,3.6235737800598145,15.098214149475098,8.022523880004883,-1.5160504579544067,-19.46614646911621,5.122493267059326,5.22122859954834,1.4791405200958252,2.0332348346710205,17.569164276123047,8.221145629882812,-8.801881790161133,2.9714622497558594,8.881256103515625,2.833493709564209,-0.6671031713485718,-2.397859573364258,-7.114158630371094,16.46490478515625,-16.018665313720703,15.519694328308105,-4.341009140014648,-15.14144515991211,-4.717955589294434,10.426231384277344,-13.846989631652832,-23.14146614074707,8.731989860534668,4.897404193878174,-8.50179386138916,-21.193815231323242,-4.015414237976074,-15.917632102966309,-9.114555358886719,19.948673248291016,-9.023666381835938,4.485843181610107,-15.016677856445312,20.144882202148438,-10.8646240234375,0.963424563407898,-11.07022476196289,-6.526242256164551,1.2163070440292358,-12.010284423828125,16.641979217529297,-18.337493896484375,-6.425383567810059,1.124161958694458,-11.28675365447998,1.2513142824172974,-2.071378707885742,8.772449493408203,9.323094367980957,-3.0198631286621094,0.02776934579014778,19.009313583374023,10.847467422485352,-16.035396575927734,-19.13312339782715,16.515426635742188,-1.6328519582748413,15.106257438659668,1.2756273746490479,3.9450159072875977,21.45722198486328,4.975385665893555,-3.617723226547241,-4.5956315994262695,-3.5362088680267334,-14.875004768371582,12.361210823059082,3.8998403549194336,-22.50836944580078,5.535223960876465,-16.885698318481445,8.944772720336914,-4.720524311065674,-1.2728465795516968,-10.635519027709961,-22.959632873535156,-3.553931713104248,3.7401514053344727,-7.091318130493164,3.9150898456573486,16.843482971191406,8.267337799072266,8.649927139282227,17.050931930541992,-2.326812267303467,3.61932635307312,-8.845979690551758,-11.590985298156738,-12.381958961486816,8.052452087402344,11.612065315246582,-4.1789445877075195,-15.467318534851074,-8.045302391052246,4.765956401824951,-10.243438720703125,15.691822052001953,9.290282249450684,9.932731628417969,15.325850486755371,-21.814603805541992,-3.859492778778076,-9.686450958251953,4.285098075866699,-12.503279685974121,-18.633468627929688,-9.720610618591309,-2.0930376052856445,6.923044204711914,17.791282653808594,16.713403701782227,-1.373268961906433,-1.7245961427688599,-10.061986923217773,-18.200756072998047,20.678754806518555,-2.9007158279418945,19.694580078125,13.574508666992188,-15.246329307556152,-5.980618953704834,9.412423133850098,-4.734795570373535,-4.251760482788086,10.65970230102539,7.200311660766602,17.796918869018555,12.293705940246582,0.8756571412086487,3.34954571723938,6.643811225891113,-8.022538185119629,0.7475849390029907,-13.7108154296875,2.5654137134552,2.16322660446167,2.1489899158477783,8.01335334777832,7.156906604766846,19.223474502563477,3.2739293575286865,2.8121979236602783,10.682366371154785,-7.389682292938232,15.049091339111328,1.7068345546722412,-11.912093162536621,-0.28706076741218567,-1.4339916706085205,4.524036884307861,17.751758575439453,-10.885075569152832,-5.343255519866943,1.0280137062072754,-15.717799186706543,0.9180083870887756,-2.638990879058838,11.224997520446777,-2.8533833026885986,-3.2787024974823,-18.995193481445312,6.935964107513428,3.1482954025268555,6.377030372619629,6.9566497802734375,-6.522106170654297,-1.0191869735717773,2.813337802886963,18.29305076599121,14.39463996887207,-4.926755428314209,4.9007110595703125,-1.890244960784912,-8.01103687286377,-9.681252479553223,-17.114625930786133,11.626087188720703,0.9241421818733215,-1.4354320764541626,-6.303658485412598,-19.32724952697754,-6.4236226081848145,-18.03276824951172,-7.585844993591309,7.621910095214844,2.6380083560943604,1.5924724340438843,-9.503525733947754,16.969388961791992,-10.959390640258789,6.439535617828369,4.439674377441406,3.0069663524627686,14.899918556213379,17.853153228759766,-21.750574111938477,-5.317289352416992,2.2409534454345703,14.545677185058594,-13.406139373779297,-1.4151618480682373,19.916179656982422,-14.732250213623047,-3.239974021911621,-14.981157302856445,-3.8536531925201416,-2.32375431060791,12.241218566894531,-8.064532279968262,-2.9877171516418457,-17.128681182861328,-21.137971878051758,13.214320182800293,-0.6705470681190491,26.311735153198242,-14.828792572021484,-9.16365909576416,-9.34683895111084,-16.68337059020996,11.94943618774414,-7.995691776275635,-9.917057991027832,1.9036064147949219,-0.6684309244155884,-2.484778642654419,6.2309346199035645,-6.417027473449707,-19.915287017822266,10.65958023071289,16.512243270874023,-2.8744986057281494,-16.8290958404541,-8.545110702514648,-16.335063934326172,-10.66807746887207,-5.204944133758545,15.357026100158691,12.441020011901855,9.57588005065918,-8.157536506652832,-1.9190165996551514,22.44867515563965,8.83515453338623,-1.3058875799179077,11.46374797821045,-12.547651290893555,13.902644157409668,12.966635704040527,9.53441333770752,8.346410751342773,-1.7138879299163818,0.3405161201953888,10.457560539245605,-5.208734512329102,-6.673221588134766,0.16074900329113007,13.28747272491455,-1.9711613655090332,11.486658096313477,5.310606956481934,-11.019573211669922,-13.873711585998535,6.992381572723389,-9.4176607131958,-2.0204243659973145,6.6907782554626465,-8.142374992370605,-2.978823184967041,20.56371307373047,13.551267623901367,-2.4153287410736084,-12.597543716430664,-8.257085800170898,17.220590591430664,-1.3789795637130737,-11.678220748901367,1.9561076164245605,-12.62297534942627,-6.3592119216918945,2.213416337966919,-5.670540809631348,-11.835129737854004,-16.783140182495117,25.397714614868164,-1.3069233894348145,12.428035736083984,-9.527186393737793,-0.0862187072634697,-7.221672058105469,-20.958662033081055,9.768912315368652,-17.99790382385254,-0.08735065907239914,-4.107058525085449,-17.62596893310547,0.02105429396033287,-8.603177070617676,-10.02741527557373,-2.100206136703491,12.93612289428711,-9.389325141906738,9.123503684997559,-11.942408561706543,18.60955047607422,-9.50020694732666,-23.656108856201172,18.374670028686523,-1.8487188816070557,-8.864068984985352,-19.720720291137695,1.4551780223846436,-4.64884614944458,9.689517974853516,9.519055366516113,12.881211280822754,-4.936716556549072,14.604453086853027,15.978981018066406,-9.162681579589844,-10.108853340148926,12.248639106750488,13.423933029174805,-12.595037460327148,-3.061931610107422,19.439971923828125,-8.990626335144043,-17.087852478027344,-5.186096668243408,-1.428430199623108,-13.820842742919922,-7.414479732513428,-10.236276626586914,-22.066692352294922,21.05409812927246,20.610624313354492,18.504499435424805,-5.340302467346191,0.9015629887580872,16.95766830444336,-8.470073699951172,24.534761428833008,-6.717888832092285,20.816415786743164,-0.17924562096595764,4.048521518707275,4.002605438232422,-7.578607082366943,-19.399494171142578,-8.613787651062012,-9.932866096496582,15.980764389038086,-8.217658996582031,-4.144266605377197,15.78773307800293,-12.638129234313965,-3.544356107711792,9.455036163330078,1.6939659118652344,4.202294826507568,-0.15366771817207336,6.680026054382324,16.623737335205078,19.11928367614746,-13.736735343933105,6.445990085601807,-4.599795341491699,15.664373397827148,-10.164554595947266,-18.585153579711914,-17.292709350585938,8.052968978881836,8.005800247192383,7.344947814941406,2.068107843399048,-6.765373229980469,-15.878512382507324,-7.872367858886719,-14.551517486572266,6.590022087097168,-7.013017177581787,-6.038758277893066,5.219216346740723,-15.198530197143555,-9.852326393127441,4.766645431518555,-4.330273628234863,6.58900260925293,-17.645488739013672,20.728525161743164,-0.7715094685554504,17.48644256591797,6.650185585021973,-23.45766258239746,5.374068260192871,-2.277336835861206,-2.5063719749450684,-20.224180221557617,17.796125411987305,-5.495844841003418,-16.69365119934082,5.498002529144287,1.5872794389724731,-17.91033935546875,11.805283546447754,5.5346221923828125,22.294836044311523,12.978960990905762,-4.744960308074951,3.296039581298828,-7.812211036682129,-17.68777084350586,-9.619068145751953,-8.630396842956543,-12.821569442749023,-3.2700743675231934,-18.130908966064453,-6.912929058074951,-16.333415985107422,14.21034049987793,-12.075294494628906,-13.12160873413086,3.5325186252593994,10.612927436828613,0.07822249829769135,11.636371612548828,-4.791598320007324,-1.086206078529358,-9.076720237731934,-11.23937702178955,18.132036209106445,6.202606678009033,1.154116153717041,17.91536521911621,-12.085342407226562,7.196088790893555,24.041339874267578,12.092228889465332,-5.014134883880615,-7.686575889587402,13.351880073547363,-9.770560264587402,0.41618072986602783,-8.635089874267578,-0.030633628368377686,-19.66558837890625,20.137510299682617,18.035078048706055,-7.1729631423950195,-13.064352989196777,-15.81234359741211,20.23348045349121,-7.426718235015869,14.545271873474121,0.7827799916267395,19.06829833984375,-7.145659446716309,16.909128189086914,6.511410236358643,-4.699656009674072,-5.710703372955322,9.624248504638672,-7.996030330657959,-19.06572151184082,-17.299407958984375,-1.9278687238693237,-4.148580074310303,-8.134462356567383,-4.550559997558594,9.507415771484375,13.420831680297852,3.1079885959625244,1.5158098936080933,-21.57381248474121,-6.934327125549316,-6.883123874664307,24.437511444091797,-1.5934597253799438,-4.698742389678955,-18.180980682373047,-2.3816134929656982,4.773948669433594,-6.46295690536499,-18.25623321533203,11.056175231933594,-20.094470977783203,6.477541446685791,-10.841060638427734,-10.781825065612793,13.658723831176758,3.813755750656128,-7.7282185554504395,-17.511621475219727,-0.40877705812454224,-19.904937744140625,-9.409900665283203,-10.973177909851074,-9.152462005615234,7.638951778411865,-7.230881214141846,18.298442840576172,-10.828981399536133,15.054912567138672,4.764014720916748,8.012938499450684,-6.293824195861816,18.488624572753906,-12.728241920471191,-2.5021026134490967,-10.456456184387207,-21.235889434814453,-4.803910255432129,-7.403806686401367,-6.83056640625,10.309622764587402,17.510072708129883,5.876249313354492,-9.925628662109375,-17.45844268798828,-10.819375038146973,-2.293116807937622,11.382460594177246,6.165565013885498,4.263298988342285,14.357465744018555,-12.347467422485352,-11.073009490966797,0.08166129142045975,16.084392547607422,-7.133570194244385,-2.255251884460449,-14.691716194152832,-6.962966442108154,-14.663695335388184,-9.33000373840332,14.128449440002441,-1.001933217048645,7.6874213218688965,-6.763391017913818,4.421778202056885,-1.3213551044464111,-4.44468879699707,12.341114044189453,-5.5239667892456055,15.778763771057129,-9.517163276672363,-5.4092793464660645,-4.278805732727051,-9.170182228088379,5.394775867462158,14.161209106445312,-1.452060341835022,-12.825688362121582,-12.642023086547852,-17.73897933959961,-14.576908111572266,-11.175359725952148,17.105083465576172,7.064149379730225,-10.142552375793457,-7.29495906829834,11.73531723022461,-14.880789756774902,1.1240062713623047,-9.498492240905762,14.156697273254395,-13.723031044006348,-7.534740924835205,-0.27426677942276,-15.705183029174805,2.7399682998657227,-8.166658401489258,7.09103536605835,-2.4026923179626465,4.073498249053955,10.901975631713867,-18.90822410583496,16.825061798095703,6.247704982757568,17.377992630004883,0.97308349609375,-19.217639923095703,-12.48604679107666,-14.642292976379395,18.87027359008789,-3.2850921154022217,16.563030242919922,-12.189821243286133,-9.37840747833252,1.3842709064483643,9.611449241638184,2.074763298034668,0.5211643576622009,4.360169887542725,14.095094680786133,-1.6978594064712524,10.852832794189453,10.907938957214355,-0.7821659445762634,14.219228744506836,-13.179667472839355,-18.2282772064209,0.832542896270752,-9.21157169342041,-9.8486328125,-11.982930183410645,7.501028537750244,4.584906101226807,2.0950217247009277,-7.571187973022461,7.520447731018066,-0.2784961760044098,-8.986698150634766,-7.340419769287109,-6.4326043128967285,3.4902050495147705,17.514108657836914,-7.35183048248291,2.7327611446380615,-4.491035461425781,-18.006595611572266,15.35482406616211,2.717813491821289,1.0355052947998047,0.8753875494003296,16.19330406188965,-0.9308273792266846,9.226343154907227,-17.66670799255371,2.1565628051757812,-7.302680969238281,-3.329089641571045,-0.6977495551109314,-3.3286449909210205,7.098050594329834,19.776628494262695,-9.144817352294922,-7.522814750671387,3.0866847038269043,8.345849990844727,-9.211003303527832,1.5276893377304077,1.2337937355041504,-1.9395631551742554,0.31220510601997375,0.7169879674911499,-12.833389282226562,3.840507745742798,-12.523085594177246,12.824296951293945,10.8418607711792,-2.3666110038757324,-0.3488965630531311,-9.689190864562988,11.42080020904541,4.17932653427124,12.838509559631348,3.5705740451812744,20.15128517150879,1.4713915586471558,19.91978645324707,-2.390284538269043,6.185845851898193,13.484171867370605,0.2564566433429718,22.472110748291016,4.077385425567627,-8.277490615844727,-6.909158706665039,-4.414126873016357,-13.460737228393555,-9.280441284179688,14.94943618774414,17.726215362548828,0.4500625729560852,-9.963184356689453,4.347862720489502,-14.598238945007324,1.9277856349945068,0.8577258586883545,13.97812557220459,-2.426504611968994,-4.463109016418457,18.280698776245117,-12.187637329101562,7.705733299255371,12.116318702697754,-3.622037649154663,17.026315689086914,-21.815031051635742,4.836495876312256,-4.057443141937256,9.087862968444824,-5.916067123413086,-15.268274307250977,-21.988412857055664,14.124265670776367,-14.171813011169434,16.35268783569336,-21.555458068847656,-19.549055099487305,1.388447642326355,-6.844167232513428,7.868052005767822,9.787531852722168,15.616710662841797,3.767653465270996,-9.801980972290039,6.515419960021973,5.886566162109375,-11.205747604370117,3.5913712978363037,-7.0409255027771,-14.349961280822754,7.229896068572998,-8.465475082397461,-3.590622901916504,0.21840950846672058,-16.85285758972168,-2.5131735801696777,-20.901350021362305,8.76730728149414,-10.895713806152344,-12.937117576599121,-21.96109390258789,8.144060134887695,0.38796016573905945,13.640963554382324,18.02921485900879,8.543309211730957,15.27867603302002,1.9619859457015991,0.2828245162963867,14.886305809020996,-6.285895824432373,6.850573539733887,9.824532508850098,-0.14324654638767242,17.49144744873047,0.905138373374939,-13.358110427856445,8.377707481384277,-2.916759729385376,12.460439682006836,-8.393665313720703,7.628609657287598,22.28900909423828,-13.787056922912598,-10.457934379577637,18.1114444732666,-17.581558227539062,13.567705154418945,16.163053512573242,0.6735998392105103,6.2835283279418945,-4.581338882446289,-10.701735496520996,1.9560627937316895,-14.542562484741211,-12.000959396362305,2.0549190044403076,11.604393005371094,-13.204571723937988,-14.082967758178711,-19.8093318939209,10.727638244628906,-5.54859733581543,-3.2641398906707764,16.348285675048828,-6.274927616119385,-5.31057596206665,-3.0093038082122803,-8.783693313598633,3.1684300899505615,-1.2168729305267334,4.4352641105651855,-15.71099853515625,-4.7960524559021,6.064255237579346,-11.894421577453613,2.815585136413574,12.832277297973633,-14.982589721679688,-23.158626556396484,11.647500038146973,-8.78969955444336,7.527327060699463,5.076959133148193,-6.336069583892822,-6.575671195983887,6.868290424346924,-3.094275951385498,3.9262773990631104,-7.3368144035339355,13.976066589355469,-0.46179717779159546,15.727716445922852,-5.504711151123047,0.5232051610946655,-13.885720252990723,-15.8314790725708,14.309257507324219,-17.439985275268555,-1.2379387617111206,-12.788166046142578,11.288331031799316,2.1244285106658936,-5.756173610687256,-9.774578094482422,17.607912063598633,-2.911036491394043,10.357884407043457,-7.586030006408691,4.256799221038818,-7.148438930511475,2.1791560649871826,-11.790056228637695,1.8622667789459229,-1.8095824718475342,13.246321678161621,4.298295974731445,-2.148857355117798,-15.323343276977539,16.838003158569336,-0.6929018497467041,3.8234386444091797,-4.530887603759766,-14.121662139892578,11.759661674499512,13.874075889587402,22.36666488647461,22.744056701660156,10.931465148925781,-0.9095224738121033,-11.252135276794434,8.622688293457031,-9.373148918151855,12.003897666931152,5.660523891448975,-2.569999933242798,-16.924535751342773,17.262434005737305,9.29062271118164,-1.813063383102417,-0.9533655643463135,7.2976202964782715,11.655552864074707,16.42417335510254,12.416199684143066,23.12325668334961,-7.8639044761657715,-0.7913001775741577,14.665421485900879,-4.98520565032959,18.860979080200195,13.74776554107666,2.041783094406128,8.204394340515137,-15.465204238891602,-8.643043518066406,-1.635252594947815,-25.040742874145508,8.720259666442871,19.430551528930664,-6.570275783538818,9.473180770874023,1.4457035064697266,-2.064805746078491,-10.130899429321289,-4.062163829803467,-5.147945404052734,9.319646835327148,-8.76492977142334,0.06848755478858948,-18.90148162841797,-20.198118209838867,1.2033274173736572,12.508235931396484,0.1967325061559677,-3.9843263626098633,-6.811478614807129,-5.7926435470581055,17.980499267578125,-0.34462255239486694,5.3527421951293945,-1.8237006664276123,16.175268173217773,-5.645969867706299,17.56003761291504,5.822276592254639,-0.3966861963272095,3.675109624862671,-1.8387013673782349,4.419661045074463,6.946072578430176,-14.548117637634277,-3.303508996963501,18.657102584838867,-0.3439454436302185,17.65519905090332,1.5823132991790771,-2.3106417655944824,12.441232681274414,-2.919698476791382,-13.678400993347168,-11.600963592529297,-1.8022875785827637,12.616628646850586,18.34304428100586,-2.190197467803955,12.510729789733887,-15.8207368850708,-15.069074630737305,11.796514511108398,2.472066640853882,-16.06560516357422,-9.050511360168457,-10.607789039611816,7.336507320404053,5.554112911224365,-13.079337120056152,-8.877096176147461,-1.751320719718933,9.403718948364258,15.027156829833984,-8.845908164978027,16.447263717651367,-13.294709205627441,-14.03073787689209,12.791932106018066,10.389184951782227,-8.70610237121582,-24.613622665405273,-6.769011974334717,-3.605590581893921,-1.4864286184310913,-14.27752685546875,9.340296745300293,1.5431642532348633,-8.466480255126953,14.780416488647461,17.050216674804688,-18.304710388183594,-15.077537536621094,-7.794003486633301,3.505915403366089,-14.741084098815918,2.000056743621826,7.681573867797852,-4.950778961181641,-8.403982162475586,22.349227905273438,-10.918132781982422,17.27899932861328,7.568681716918945,-16.44873046875,10.269447326660156,-1.9158505201339722,2.430696964263916,1.1424018144607544,22.229116439819336,8.93137264251709,-25.57282257080078,2.674299716949463,3.852928400039673,8.871983528137207,-6.668307781219482,-7.777656078338623,17.333385467529297,2.36565899848938,17.824987411499023,-13.885213851928711,-2.3082501888275146,12.098662376403809,-1.9108819961547852,3.125222682952881,8.71342658996582,13.942607879638672,13.379573822021484,7.832696437835693,3.1243624687194824,-5.583559036254883,-3.4488420486450195,3.632964611053467,-8.769913673400879,1.2591241598129272,-1.8821812868118286,-8.471929550170898,-5.7651472091674805,-2.7771971225738525,0.18145643174648285,15.727405548095703,0.12529225647449493,1.1683005094528198,7.574939727783203,1.2359342575073242,-2.098320960998535,20.435388565063477,11.721445083618164,3.561785936355591,-2.753495216369629,4.816882133483887,-6.422525882720947,-3.51342511177063,10.219461441040039,-13.151012420654297,2.8759000301361084,-8.196971893310547,-0.7917888164520264,-6.776783466339111,-2.0146031379699707,3.4188754558563232,3.295243263244629,0.5144067406654358,-7.670095920562744,-10.831938743591309,15.75357437133789,-3.5063040256500244,-15.216166496276855,6.4532952308654785,1.8682291507720947,12.858750343322754,-3.154386043548584,-11.8894681930542,-19.823583602905273,-6.513936519622803,-13.631491661071777,-5.595066547393799,0.9281284809112549,-0.1716284304857254,13.129742622375488,9.46106243133545,-5.021913528442383,-20.00599479675293,23.006200790405273,18.460983276367188,10.957171440124512,-10.332247734069824,0.21953564882278442,-7.2945075035095215,12.080416679382324,15.732527732849121,-7.04413366317749,-9.247329711914062,-18.576213836669922,4.30210018157959,3.053908586502075,15.403576850891113,12.395499229431152,19.85535430908203,-6.963151454925537,-13.037747383117676,2.8416669368743896,-7.938770771026611,1.129786729812622,0.2636866271495819,-16.523679733276367,1.009727120399475,-16.04671859741211,-5.027159690856934,10.13342571258545,11.576067924499512,3.3112032413482666,-6.978794574737549,-1.0550345182418823,-8.464077949523926,13.287482261657715],\"y\":[8.397173881530762,6.222110748291016,-12.612723350524902,-19.14698028564453,-5.999485969543457,14.929594039916992,11.149045944213867,0.49872782826423645,5.7298455238342285,10.701635360717773,15.544065475463867,-18.133203506469727,-8.677903175354004,0.20939156413078308,0.3612082600593567,5.849528789520264,-1.7965177297592163,6.927696228027344,-3.2110610008239746,13.743233680725098,-3.827354907989502,6.587031364440918,10.35955810546875,-6.6182146072387695,1.9027820825576782,1.0379703044891357,6.241288661956787,8.41517448425293,2.7580792903900146,-8.901002883911133,3.899416923522949,-2.753638744354248,6.497106075286865,-3.8858542442321777,-2.3097589015960693,-6.363276958465576,-12.29511833190918,-2.420313596725464,5.419657230377197,3.8413712978363037,-13.915199279785156,-7.747819423675537,4.230326175689697,3.2257235050201416,-17.14728546142578,17.126333236694336,0.14666777849197388,-2.2962989807128906,3.3957409858703613,0.9388002753257751,10.165533065795898,4.959762096405029,-7.298625946044922,-11.369500160217285,5.226986408233643,-10.966804504394531,11.237585067749023,7.654047012329102,-2.7271623611450195,11.98071002960205,0.7999696135520935,-4.9277262687683105,-16.653905868530273,-20.120676040649414,7.381036281585693,8.436219215393066,-3.719078302383423,1.906358242034912,1.2355057001113892,9.629533767700195,-14.886137008666992,-6.68355655670166,-4.166658878326416,-13.269303321838379,2.8184452056884766,-8.863006591796875,-5.111650466918945,3.138709306716919,14.019457817077637,-1.287576675415039,10.754136085510254,16.20115852355957,-12.402338981628418,-1.9388573169708252,3.958221673965454,10.504438400268555,-27.370872497558594,-7.146493911743164,17.152591705322266,-15.857564926147461,11.972847938537598,1.670257806777954,6.944899082183838,11.789728164672852,2.3407955169677734,17.773208618164062,-12.795982360839844,-11.589853286743164,3.987218141555786,-16.508663177490234,-11.582122802734375,-17.609758377075195,-17.4591064453125,-9.20615005493164,-5.132354736328125,6.961881637573242,-15.147396087646484,-5.383826732635498,14.817282676696777,4.927214622497559,11.290645599365234,9.152182579040527,-1.5224049091339111,-0.7647833824157715,15.11990737915039,-3.537464141845703,-10.298316955566406,-1.83333158493042,16.328920364379883,6.0877909660339355,19.777772903442383,-15.290924072265625,-4.66372537612915,-11.003162384033203,-10.063728332519531,-16.22170066833496,-14.816424369812012,-4.791347503662109,6.904792785644531,11.575796127319336,-11.201910972595215,19.34541130065918,-19.87724494934082,-0.704618513584137,10.248616218566895,11.909090995788574,12.523587226867676,11.871575355529785,-3.6652510166168213,11.050101280212402,2.6066439151763916,-4.319115161895752,-14.47977066040039,9.057454109191895,8.120270729064941,11.137008666992188,-8.182842254638672,-10.602668762207031,-8.811821937561035,-7.756629943847656,-4.946393966674805,10.236186981201172,2.4367642402648926,-1.4152952432632446,-10.258332252502441,2.0256292819976807,13.862752914428711,6.560986042022705,3.4005842208862305,-2.588114023208618,-18.830963134765625,-13.319188117980957,-6.737673282623291,12.452519416809082,-7.007747173309326,-8.76629638671875,0.2951742112636566,8.077789306640625,-15.035676956176758,-2.2670154571533203,3.7586729526519775,11.51427173614502,-9.785951614379883,7.551971435546875,-10.119583129882812,-6.086180686950684,-11.29529094696045,-3.500825881958008,-11.38070011138916,-5.9520182609558105,-2.8570635318756104,-1.9768619537353516,-2.828479528427124,6.7909369468688965,-2.3880422115325928,-3.2466206550598145,-12.210075378417969,21.158288955688477,1.8007407188415527,15.183751106262207,-7.4028849601745605,8.423020362854004,-12.801636695861816,-12.606280326843262,-2.048194169998169,-13.409879684448242,14.169169425964355,-10.744969367980957,1.2420790195465088,-3.724884510040283,-6.0278754234313965,11.799141883850098,8.251026153564453,-20.690351486206055,-5.632845878601074,4.813005447387695,-7.240392684936523,-3.6760289669036865,14.24326229095459,-9.832307815551758,-13.143574714660645,0.4204433560371399,-3.3290116786956787,-17.248817443847656,16.04640769958496,11.567533493041992,16.690776824951172,-6.263692378997803,13.388681411743164,-5.614843845367432,-5.936605930328369,-7.288941860198975,13.499608993530273,7.9436821937561035,11.588791847229004,20.916292190551758,8.051254272460938,7.323744297027588,-13.167640686035156,-14.004167556762695,19.58629035949707,3.9461922645568848,2.3544561862945557,10.36315631866455,12.878252983093262,-0.44809144735336304,-19.262130737304688,-3.6427948474884033,-11.336141586303711,5.808161735534668,0.340151846408844,8.664682388305664,-2.727768898010254,-0.8879355192184448,10.463598251342773,20.861967086791992,8.105653762817383,-1.1697386503219604,10.470739364624023,10.84724235534668,12.422564506530762,-10.645285606384277,6.163678169250488,6.066834926605225,2.921825647354126,8.374143600463867,9.779059410095215,-6.952317237854004,-1.2721312046051025,6.339291095733643,-6.834339618682861,9.558671951293945,0.004562566056847572,15.236390113830566,-16.253551483154297,8.997366905212402,22.199003219604492,11.795541763305664,-18.377159118652344,14.453365325927734,-20.764690399169922,-0.16381299495697021,8.312131881713867,12.203141212463379,-4.351926803588867,8.449969291687012,-4.600728511810303,-3.5888266563415527,-4.095311641693115,7.638965129852295,-8.87726879119873,-17.307334899902344,18.791757583618164,-2.273512840270996,3.1921329498291016,6.660114765167236,10.07534408569336,6.436412334442139,-14.177933692932129,-3.367084503173828,0.9902974367141724,-0.21682247519493103,19.810253143310547,0.12431126087903976,-10.112863540649414,17.44868278503418,4.207614421844482,-20.081348419189453,-1.5484535694122314,-5.0744547843933105,-7.486852645874023,-16.47092628479004,-11.80472469329834,2.42010760307312,-4.864666938781738,6.556243896484375,11.677895545959473,-12.266390800476074,14.623116493225098,-6.895872116088867,-4.357311725616455,10.132913589477539,17.69757843017578,-4.987453937530518,-18.49761962890625,-6.697085857391357,2.0522854328155518,5.606749057769775,-18.011585235595703,3.471456527709961,11.800714492797852,-7.372897148132324,-9.28719425201416,-1.6617119312286377,-7.453161239624023,-4.288793563842773,8.192450523376465,9.61007022857666,-7.971969127655029,-11.03673267364502,13.700393676757812,2.0485892295837402,15.244619369506836,16.80152702331543,15.592726707458496,18.23192596435547,-17.164030075073242,0.6525022387504578,-2.6624391078948975,8.378186225891113,-12.041666984558105,10.296526908874512,-9.091306686401367,1.5830460786819458,-1.7072021961212158,-17.50456428527832,15.506850242614746,-6.573465824127197,-2.400913715362549,5.985654830932617,-10.26642894744873,-4.545746326446533,-11.330225944519043,21.488698959350586,2.367886543273926,0.8276199698448181,1.2217977046966553,-12.128108978271484,-17.498029708862305,4.837380409240723,21.97943687438965,-15.257391929626465,5.247184753417969,1.7780511379241943,-1.559217929840088,-11.28984260559082,-20.973411560058594,17.42428970336914,0.5276941657066345,-7.259359836578369,-7.98828125,-11.304953575134277,-0.056777045130729675,4.615904808044434,-9.727446556091309,-0.6740780472755432,-7.418401718139648,10.389494895935059,2.0531461238861084,-3.609212636947632,8.50191593170166,-11.692877769470215,13.349932670593262,-1.867404818534851,3.237821102142334,7.159497261047363,14.509688377380371,-15.180081367492676,15.101926803588867,-16.141212463378906,-20.556936264038086,19.402915954589844,2.552398920059204,9.71149730682373,3.2276980876922607,8.524670600891113,-3.0278351306915283,10.614277839660645,20.828657150268555,11.408967971801758,9.248726844787598,-3.500523567199707,15.26451587677002,-2.4238951206207275,-15.020984649658203,0.7538071274757385,-8.049506187438965,0.06440095603466034,0.9729449152946472,-1.5457805395126343,-4.19803524017334,-10.46804428100586,1.5638190507888794,-4.083238124847412,10.485383987426758,-26.148096084594727,-15.279046058654785,6.283444404602051,-4.625992774963379,-7.3227219581604,-11.945127487182617,18.13652801513672,12.769299507141113,14.478707313537598,15.044002532958984,-0.2138376086950302,-11.47652816772461,-6.1192402839660645,-8.566131591796875,4.734494686126709,2.602191925048828,-14.202181816101074,14.817473411560059,4.232789516448975,8.48227596282959,20.148582458496094,-1.3379067182540894,3.231820821762085,1.795725703239441,-14.82676887512207,-5.279232501983643,-10.279878616333008,-9.105390548706055,-10.966596603393555,-12.361361503601074,17.02519416809082,-6.043726444244385,-6.471461772918701,7.434848785400391,5.938051700592041,-16.473487854003906,-9.400321006774902,-3.062467336654663,-6.38374662399292,7.530300617218018,8.655125617980957,-7.500840663909912,8.57271957397461,-12.314129829406738,11.773465156555176,-11.02581787109375,10.460433959960938,20.543575286865234,12.915739059448242,-0.9519146084785461,11.635706901550293,-22.877164840698242,8.355733871459961,-10.153103828430176,-10.041402816772461,-11.719437599182129,0.9154964685440063,11.731976509094238,-0.36277127265930176,-0.9007978439331055,-1.2514476776123047,12.257462501525879,18.94477653503418,-1.0362976789474487,-4.933347225189209,-21.934223175048828,13.975399017333984,21.409908294677734,-10.712407112121582,-9.168279647827148,9.086007118225098,-19.311464309692383,14.196635246276855,14.043883323669434,3.6451005935668945,19.654878616333008,2.917081356048584,4.5335516929626465,-13.357437133789062,5.124627113342285,-6.225445747375488,-21.85618782043457,-13.372123718261719,8.511007308959961,-8.125385284423828,15.95574951171875,6.53013277053833,0.5624570250511169,3.186474084854126,-12.270936965942383,-0.9448544979095459,6.380345821380615,-16.621110916137695,-0.7296300530433655,2.019622802734375,-9.11272144317627,2.07279896736145,17.5042724609375,-2.2292234897613525,-6.475592136383057,11.687779426574707,-17.009248733520508,19.325857162475586,7.810192108154297,7.5530290603637695,-19.882049560546875,-4.432017803192139,-6.499839782714844,6.250809669494629,-8.200082778930664,-0.2035260796546936,0.5138314962387085,-5.765676498413086,0.4661388397216797,-6.553786754608154,2.092236280441284,-16.732913970947266,10.719504356384277,-0.6918246746063232,16.59470558166504,-14.469789505004883,-11.98253059387207,15.916672706604004,9.13659954071045,-6.845919132232666,-0.13121499121189117,-16.125164031982422,-1.4076836109161377,-4.1743574142456055,14.959854125976562,2.1622297763824463,-5.67130708694458,0.6067841649055481,-12.380376815795898,-1.8299672603607178,-2.0758180618286133,4.881331443786621,-9.100512504577637,-0.03850682079792023,0.3228357434272766,1.1808818578720093,-23.011072158813477,-4.543308258056641,-8.944723129272461,3.7090566158294678,-16.475725173950195,5.170434474945068,-7.697505950927734,-8.032455444335938,-1.3869297504425049,10.385013580322266,-5.720827102661133,-14.664794921875,0.6517402529716492,0.3196500539779663,-0.07770945876836777,-4.741690158843994,-17.532026290893555,5.0558271408081055,13.673192024230957,-14.216591835021973,-6.0195488929748535,11.25514030456543,3.8499691486358643,-6.413791179656982,-4.76119327545166,-8.795550346374512,5.013206958770752,14.225537300109863,-13.793574333190918,-4.843364715576172,-17.497119903564453,15.20334243774414,-19.054365158081055,4.97871208190918,-17.736854553222656,17.04918098449707,15.68809986114502,-12.791342735290527,7.584120750427246,-4.406604766845703,-5.6223530769348145,-11.744616508483887,-1.5497679710388184,3.5833241939544678,-0.7520425319671631,7.950396537780762,-19.71224021911621,-3.4621660709381104,0.3380187153816223,2.9116125106811523,10.522784233093262,-4.15813684463501,5.016826629638672,-8.679744720458984,15.928674697875977,16.639636993408203,-13.347793579101562,8.54433822631836,12.240286827087402,21.55434226989746,-8.831338882446289,-10.68719482421875,10.233449935913086,-0.9680498242378235,-1.7738410234451294,-19.872758865356445,10.286306381225586,-18.322996139526367,-20.379688262939453,-6.787840366363525,4.903316497802734,-8.43036937713623,10.499859809875488,4.253180980682373,6.925940036773682,-19.28364372253418,-20.574443817138672,-0.46749499440193176,10.644549369812012,0.0874512791633606,-8.678528785705566,-6.249146938323975,0.25972965359687805,-13.901010513305664,-8.375028610229492,9.532954216003418,-3.728106737136841,-11.197951316833496,11.315085411071777,0.702690064907074,-4.635595321655273,-10.903196334838867,-3.9271459579467773,-1.7153973579406738,15.604266166687012,15.516148567199707,19.834659576416016,18.948774337768555,-13.548751831054688,-18.747066497802734,-11.47106647491455,-5.600641250610352,-17.06766128540039,16.956289291381836,17.984426498413086,-20.048198699951172,5.4955549240112305,11.101588249206543,9.139769554138184,0.7860758304595947,7.8769941329956055,4.01616907119751,-4.021270275115967,13.764100074768066,-7.635300159454346,-12.751474380493164,18.94215965270996,17.407365798950195,-18.87389373779297,7.740674018859863,5.282848834991455,-9.310585975646973,-6.158205986022949,6.60686731338501,-6.788873195648193,-5.35066556930542,7.020989894866943,-8.127243041992188,6.348659515380859,-5.6161651611328125,-2.1795103549957275,14.65468978881836,-12.340251922607422,-10.807957649230957,-12.117959976196289,-16.670448303222656,-5.414699077606201,1.5097033977508545,-12.742179870605469,10.264427185058594,-7.528996467590332,-7.326798915863037,15.02161693572998,-10.493597984313965,-18.845186233520508,-15.456155776977539,-0.16255129873752594,-3.493438243865967,3.9900853633880615,-4.606154918670654,-1.0389641523361206,1.4961060285568237,-10.338647842407227,-20.920713424682617,-7.139144420623779,8.933720588684082,-12.106233596801758,15.656715393066406,1.16266667842865,-0.7610763311386108,11.98208999633789,1.2983107566833496,17.354127883911133,8.987195014953613,8.584969520568848,9.571958541870117,13.698079109191895,1.7366446256637573,3.8322112560272217,16.293663024902344,2.4832417964935303,1.4266632795333862,-6.272942066192627,-7.35558557510376,-14.855403900146484,-8.616107940673828,-10.898143768310547,5.797128200531006,15.070137023925781,-6.3389081954956055,-2.736243724822998,7.563920497894287,-1.637419581413269,19.040611267089844,-10.666022300720215,-17.831592559814453,-0.348818302154541,13.969626426696777,-8.288145065307617,6.449408054351807,-12.420597076416016,16.968341827392578,-5.919749736785889,-2.948218584060669,10.514381408691406,-7.175283432006836,13.861388206481934,9.780802726745605,-3.256168842315674,9.096434593200684,10.70417594909668,-12.40661334991455,-3.611025810241699,-0.007326895371079445,12.702451705932617,5.157169342041016,12.947332382202148,4.097657203674316,0.47389155626296997,-6.014416217803955,8.355113983154297,0.9593815207481384,10.459904670715332,11.124815940856934,1.3536686897277832,15.961048126220703,-4.914919376373291,-16.197288513183594,-1.4193105697631836,8.19698429107666,21.699478149414062,-19.717933654785156,8.1395845413208,0.5691977143287659,9.7915620803833,-16.87101936340332,15.290315628051758,10.789769172668457,10.29023551940918,11.350298881530762,7.075464248657227,-2.2673075199127197,13.367185592651367,10.517003059387207,2.8182849884033203,7.575230598449707,-4.495327949523926,-23.08111000061035,5.584625720977783,20.313068389892578,13.54422664642334,-14.729300498962402,-6.846428394317627,-1.618357539176941,11.889607429504395,17.316680908203125,-0.8317329287528992,5.663037300109863,19.20778465270996,0.9347296357154846,4.287402629852295,-2.1809380054473877,-14.769668579101562,16.975826263427734,-13.702224731445312,11.470375061035156,-0.9721805453300476,-10.876214981079102,11.651117324829102,-19.618104934692383,11.755783081054688,-23.582324981689453,-11.063687324523926,-10.110450744628906,7.583212852478027,-0.8531923890113831,4.915555953979492,17.692232131958008,-3.5530037879943848,-10.39999008178711,10.478172302246094,-18.274456024169922,-11.739376068115234,4.140951156616211,13.0414400100708,-19.996959686279297,-13.536983489990234,14.483591079711914,-7.737153053283691,11.105531692504883,-0.5603934526443481,0.0032281302846968174,-7.283876895904541,19.46848487854004,-15.812914848327637,-3.4210760593414307,-4.009225368499756,3.4270358085632324,0.3847331404685974,-3.896059513092041,-4.944830894470215,-22.18169593811035,-16.40956687927246,-15.536262512207031,-4.30825138092041,8.368284225463867,4.8226318359375,6.210499286651611,-8.67608642578125,10.499371528625488,0.7481562495231628,-0.8677220940589905,19.683895111083984,0.20735879242420197,8.099700927734375,15.51134967803955,6.289137840270996,10.79178524017334,4.57863187789917,-5.217485427856445,-1.8999415636062622,-10.561580657958984,-6.986868858337402,-0.8910321593284607,4.450461387634277,-11.297489166259766,-11.564924240112305,8.265176773071289,14.348161697387695,4.450218200683594,2.310750722885132,-6.690966606140137,-11.138517379760742,0.21033646166324615,2.0558342933654785,15.643016815185547,11.930235862731934,0.0657222792506218,7.035840034484863,-12.935011863708496,16.976245880126953,-5.598747730255127,-8.651561737060547,6.476231098175049,5.684447288513184,3.6328625679016113,-9.885830879211426,0.1891406923532486,13.711852073669434,-18.355833053588867,-7.227728366851807,-0.6002516746520996,-5.166110515594482,10.556319236755371,-12.960350036621094,4.097726821899414,8.953435897827148,6.279383659362793,20.935609817504883,-14.458268165588379,-5.307646751403809,-7.452147006988525,-3.8031702041625977,-1.0467106103897095,0.15972059965133667,-1.4433183670043945,-4.665492534637451,-13.511229515075684,-6.61509370803833,8.018121719360352,-5.471302509307861,-4.09459924697876,-19.467697143554688,12.722058296203613,13.879033088684082,7.119672775268555,-6.111771583557129,-16.013158798217773,3.091642141342163,-2.4663658142089844,16.30733299255371,6.147693634033203,14.270346641540527,-7.119261741638184,-15.886256217956543,2.069223403930664,-18.617759704589844,-0.05385610833764076,8.734640121459961,-8.857503890991211,14.212425231933594,-18.015636444091797,-14.239544868469238,-5.320547103881836,10.297210693359375,-0.6381978988647461,-1.2234704494476318,-6.627853870391846,-6.756557464599609,14.80953598022461,-10.571778297424316,-6.667287349700928,-2.0022292137145996,-11.465965270996094,-12.25354290008545,-8.546656608581543,-4.055635452270508,-5.938976287841797,8.518827438354492,-14.028536796569824,17.383289337158203,11.502764701843262,-13.506062507629395,-16.79404067993164,0.951009213924408,-9.656669616699219,-8.74392032623291,-2.163154363632202,0.3782716691493988,-7.567830562591553,12.315574645996094,-0.6819092631340027,-19.490245819091797,16.074466705322266,12.224827766418457,3.011321544647217,14.09505844116211,-3.1018879413604736,2.1586501598358154,-10.642945289611816,12.968271255493164,-19.269561767578125,19.208587646484375,-13.791584014892578,-16.081729888916016,-0.3749845027923584,3.3267576694488525,-2.1674437522888184,8.70772647857666,-2.9160144329071045,0.5550898313522339,-10.636241912841797,0.6536749601364136,-7.309802532196045,-4.018330097198486,-10.881826400756836,-1.8725721836090088,9.441298484802246,-4.354357719421387,1.201172113418579,15.031606674194336,-4.850900650024414,-8.881814956665039,-10.246909141540527,2.5137546062469482,-6.851199150085449,-0.633272647857666,-11.478530883789062,14.123970985412598,-21.147607803344727,1.0257827043533325,11.642337799072266,1.4695165157318115,20.65739631652832,-13.689680099487305,10.181767463684082,9.8100004196167,-10.963546752929688,-0.16517814993858337,-12.349625587463379,-11.680216789245605,-18.26636505126953,-8.41590690612793,9.119507789611816,9.410558700561523,-16.173614501953125,-19.0244197845459,12.144455909729004,-17.9276123046875,8.370849609375,2.3982315063476562,5.5550456047058105,-10.359128952026367,-7.061040878295898,-10.001100540161133,9.17009162902832,11.34309196472168,9.074210166931152,10.564160346984863,16.192800521850586,-6.942386627197266,-10.38503646850586,3.6620349884033203,13.545608520507812,-13.239858627319336,14.327773094177246,15.024786949157715,-20.344005584716797,-0.6688918471336365,-2.9832241535186768,4.266819477081299,-5.833405494689941,-19.550310134887695,-8.710732460021973,-0.6943302154541016,-21.59428596496582,-6.751956939697266,-5.09315299987793,12.276844024658203,3.494612455368042,-16.595928192138672,-10.813556671142578,14.27833080291748,-11.052591323852539,-1.7974358797073364,-4.918872833251953,-4.774720191955566,-13.909629821777344,7.454864501953125,-4.265950679779053,-19.010459899902344,13.92014217376709,-15.524914741516113,-14.707900047302246,-0.47327378392219543,-10.764544486999512,2.9528112411499023,3.7805421352386475,16.227432250976562,-9.715226173400879,-16.925031661987305,9.983521461486816,16.752002716064453,18.561811447143555,6.656863212585449,0.9912811517715454,7.554268836975098,-1.7098795175552368,-13.928674697875977,-16.204843521118164,10.964741706848145,11.036162376403809,4.967184066772461,-2.2012248039245605,-3.670243501663208,-18.13978385925293,-1.0699011087417603,3.6992416381835938,-3.7044644355773926,2.304522752761841,3.2254598140716553,-11.974332809448242,3.6082112789154053,9.354240417480469,-6.074374675750732,1.2687559127807617,-3.684000253677368,-2.302192211151123,-5.378345012664795,-13.199922561645508,-0.6505731344223022,5.402907371520996,-1.0386252403259277,16.198213577270508,21.989965438842773,-5.818578720092773,-7.800236701965332,4.433248996734619,-1.1188470125198364,17.809782028198242,-10.850969314575195,14.162679672241211,0.7639944553375244,-2.300191879272461,8.82009506225586,-3.7471024990081787,13.465516090393066,11.856799125671387,9.028911590576172,0.9747678637504578,10.527295112609863,-2.7408182621002197,9.788281440734863,-12.143126487731934,-12.10012435913086,11.308422088623047,3.6561262607574463,-1.2070963382720947,-11.09369945526123,4.468995571136475,4.318242073059082,-10.886445999145508,9.323037147521973,-1.8862749338150024,2.451169729232788,9.469432830810547,7.747217655181885,18.717939376831055,-4.655498504638672,-3.13600754737854,12.341705322265625,-2.288689136505127,3.8945326805114746,-1.4350736141204834,15.394674301147461,-17.40103530883789,13.37840461730957,7.306908130645752,-16.049449920654297,-20.833499908447266,5.613881587982178,-0.14977788925170898,-1.526023507118225,16.043155670166016,11.583142280578613,4.753081798553467,5.953606605529785,-6.9918293952941895,-9.84342098236084,-14.656224250793457,8.021910667419434,10.779963493347168,-12.498727798461914,-7.555140972137451,-4.123085975646973,-4.5483293533325195,-5.963255405426025,3.855956792831421,9.978063583374023,6.682376861572266,10.987958908081055,-17.76725196838379,1.6106377840042114,-7.405919551849365,-20.42363929748535,2.394794225692749,-14.636336326599121,-16.13634490966797,14.269783973693848,-12.46947956085205,6.236499309539795,-12.92115306854248,-6.566171646118164,-4.036389350891113,-0.749085545539856,-18.83056640625,0.5207041501998901,-4.830222129821777,17.049461364746094,-6.121209144592285,16.54935646057129,0.17627358436584473,11.916872024536133,7.326830863952637,-5.547238826751709,-7.219258785247803,-2.5111634731292725,6.168740272521973,-2.5099666118621826,-18.925851821899414,-5.407952785491943,5.667705535888672,-15.681134223937988,-7.0593695640563965,14.698661804199219,-15.28551197052002,-2.8235023021698,-14.078043937683105,-16.805543899536133,16.031721115112305,12.579007148742676,13.364771842956543,-6.591066837310791,-9.782170295715332,8.166779518127441,0.8268179893493652,-8.855579376220703,-8.051484107971191,-2.476454257965088,9.559175491333008,-7.8207316398620605,8.993958473205566,4.3041229248046875,-12.052048683166504,-7.475225448608398,11.012810707092285,2.0320916175842285,-5.83172607421875,6.653947353363037,-2.5806033611297607,4.862510681152344,-18.03630256652832,-4.006645202636719,-8.180827140808105,-9.463005065917969,-4.133558750152588,15.226753234863281,2.5065855979919434,4.334811687469482,-5.844592094421387,-0.043617770075798035,14.694128036499023,8.83351993560791,-0.3127792775630951,2.354158401489258,-9.835245132446289,-10.736565589904785,-5.722599506378174,12.173755645751953,22.015491485595703,15.18863582611084,-5.426000595092773,-6.469890594482422,-10.952027320861816,11.104986190795898,1.4233945608139038,-19.210098266601562,8.653929710388184,16.041982650756836,2.2396788597106934,7.705773830413818,9.688628196716309,14.208260536193848,-6.037059307098389,-6.987098693847656,-13.356520652770996,10.077272415161133,-0.49021604657173157,3.4446303844451904,14.23556900024414,-15.403557777404785,15.246990203857422,3.2251832485198975,-6.801233291625977,15.045255661010742,-3.53713321685791,-11.713236808776855,-22.84528160095215,10.63853931427002,13.628551483154297,-2.9186644554138184,-8.76547622680664,7.933245658874512,4.777354717254639,9.25621509552002,9.888961791992188,-14.743464469909668,-5.23837947845459,-7.848686218261719,16.734617233276367,-8.484566688537598,10.445606231689453,-14.116864204406738,-14.995514869689941,-2.0837931632995605,-5.651255130767822,-6.204923629760742,-6.786467552185059,-12.583986282348633,9.749917030334473,-2.882625102996826,-6.929007530212402,3.1705000400543213,-4.731258869171143,-14.82817268371582,-21.202922821044922,-3.3095951080322266,3.6734561920166016,2.9160306453704834,-6.994576454162598,-18.45017433166504,18.04322052001953,-11.111952781677246,3.284390687942505,0.34540098905563354,-11.19138240814209,-12.188992500305176,-6.818716049194336,13.372282028198242,2.6703364849090576,-14.615996360778809,-16.008941650390625,10.387667655944824,-23.146556854248047,13.850075721740723,4.350015640258789,-14.904029846191406,4.9508280754089355,-14.825536727905273,7.432982444763184,10.344927787780762,-4.482901096343994,-10.824492454528809,-19.35686492919922,-13.256657600402832,0.4359505772590637,-12.633574485778809,3.062004327774048,-14.946125030517578,0.5540106892585754,-2.126343011856079,-13.666845321655273,9.1880464553833,0.31237441301345825,6.424408435821533,1.5498312711715698,2.195141077041626,6.914661884307861,0.6494892835617065,3.4645473957061768,5.254709243774414,-1.8841532468795776,8.737953186035156,-5.480202674865723,-7.478079319000244,-16.378202438354492,-21.740802764892578,-4.1694817543029785,-1.2797001600265503,7.000942230224609,5.671669006347656,4.77131986618042,-1.2351856231689453,-9.409443855285645,-11.864097595214844,1.2547242641448975,-2.8707501888275146,0.3065613806247711,2.814516305923462,15.683098793029785,8.061670303344727,-20.22100830078125,-19.044816970825195,11.491832733154297,-12.012456893920898,3.277432918548584,0.31436553597450256,11.172317504882812,19.736846923828125,5.5861287117004395,-3.725820541381836,1.7670785188674927,-1.7362984418869019,-1.060172200202942,11.52736759185791,14.026949882507324,-10.455456733703613,14.567277908325195,10.9302396774292,16.713973999023438,2.181532144546509,20.682289123535156,-11.198675155639648,17.56012535095215,-15.50893783569336,-12.936118125915527,-6.388136386871338,-6.566282272338867,-9.045502662658691,3.7791638374328613,-14.144063949584961,-7.090484142303467,16.057113647460938,9.61478328704834,2.5127899646759033,-17.733928680419922,2.6604866981506348,18.16593360900879,16.545734405517578,-20.640859603881836,0.7064224481582642,-6.381396770477295,5.3400750160217285,-3.3381874561309814,10.302863121032715,-10.894140243530273,18.007047653198242,-0.9475648999214172,1.3803083896636963,6.845743179321289,-0.35909080505371094,22.401670455932617,11.56462287902832,-6.361016273498535,21.23604393005371,0.8716019988059998,7.693240642547607,15.961010932922363,10.943987846374512,-12.34062671661377,-3.005594253540039,7.287738800048828,-14.65325927734375,8.875753402709961,-4.611412048339844,-2.688802480697632,4.82080602645874,-16.142044067382812,0.09502573311328888,-6.9035444259643555,-25.32320213317871,8.536555290222168,15.290772438049316,-16.45218849182129,-5.0218610763549805,3.03096604347229,-0.17254716157913208,-5.677440643310547,-0.1543332040309906,-5.118517875671387,-11.134806632995605,8.466561317443848,9.364108085632324,-4.9679155349731445,-8.745718002319336,-12.554688453674316,14.740839004516602,17.54131507873535,-10.1090726852417,0.13920235633850098,-0.2722128927707672,-5.049295902252197,-13.611433029174805,-13.52556324005127,16.597484588623047,-15.781137466430664,-9.2731351852417,2.305792808532715,-13.906518936157227,-11.393158912658691,-6.256736755371094,5.9079203605651855,9.818891525268555,-10.325928688049316,-20.79461097717285,2.0085136890411377,-4.618875503540039,9.30573558807373,9.895715713500977,3.078286647796631,-3.5344960689544678,1.7556811571121216,-0.41497042775154114,-11.833523750305176,15.196545600891113,10.612285614013672,-2.914992332458496,18.468923568725586,1.6119513511657715,6.697854995727539,-0.02381831780076027,-4.438714981079102,7.868376731872559,5.202395439147949,7.266855716705322,3.0190892219543457,13.010483741760254,11.776493072509766,10.404617309570312,13.91921615600586,5.689512729644775,-5.572268009185791,10.9912748336792,-0.04563355818390846,4.189589500427246,6.257632255554199,15.1016845703125,4.502723693847656,3.0497474670410156,-16.624053955078125,-3.8310940265655518,-17.70863151550293,-15.592996597290039,-19.912233352661133,9.25108814239502,-20.754268646240234,8.395298957824707,4.40427303314209,-13.844300270080566,7.178028106689453,-2.3582069873809814,-15.269286155700684,-22.478458404541016,8.02736759185791,18.176597595214844,10.229815483093262,0.021541764959692955,15.512068748474121,-1.4536319971084595,-2.3889009952545166,-9.698816299438477,14.3071870803833,-4.316417694091797,-12.569866180419922,-2.15360689163208,7.706174373626709,-20.91676139831543,9.185302734375,5.201402187347412,9.996648788452148,-1.920856237411499,6.520122528076172,-22.53253936767578,-13.961219787597656,1.1949458122253418,-17.696786880493164,-3.7700586318969727,1.1000587940216064,-1.1309986114501953,-0.3031972050666809,17.287267684936523,-14.137017250061035,-0.524747908115387,15.318737030029297,-6.2278852462768555,-17.657846450805664,-9.386582374572754,-1.2335381507873535,0.8350914120674133,0.0927564799785614,11.108514785766602,1.7392274141311646,-8.782541275024414,8.75532054901123,17.16879653930664,-10.598160743713379,-0.5948997139930725,2.2420401573181152,-3.26808762550354,-1.56980299949646,3.464515447616577,1.4823389053344727,-9.835487365722656,15.871315002441406,-15.402048110961914,-9.30672550201416,11.928620338439941,-14.1864595413208,-2.5120863914489746,1.8820741176605225,15.36475944519043,-2.3863134384155273,15.066810607910156,0.4974595308303833,-12.755990982055664,-4.61304235458374,-21.7613468170166,16.278833389282227,-8.045598030090332,-4.607598304748535,12.095853805541992,16.197193145751953,0.4783019423484802,13.15248966217041,-8.818953514099121,-21.164670944213867,10.400444984436035,-12.017024993896484,-14.869193077087402,19.694704055786133,-1.3478232622146606,9.507415771484375,-8.372800827026367,10.387205123901367,-5.337279319763184,-25.430065155029297,0.5830451846122742,-17.434635162353516,-3.9122800827026367,6.782818794250488,-12.277934074401855,5.5722126960754395,-3.7573952674865723,15.505965232849121,-25.787900924682617,-1.2614245414733887,6.343868732452393,13.901415824890137,11.157279014587402,-0.4071323573589325,15.76810359954834,15.327788352966309,-12.357437133789062,-7.571471691131592,-3.1125376224517822,-15.038251876831055,-5.720503330230713,6.860455513000488,-1.055680274963379,-10.73617935180664,-8.805306434631348,-4.274780750274658,16.529647827148438,1.2639906406402588,-2.513699769973755,1.8656903505325317,-12.636935234069824,-16.190662384033203,-8.531397819519043,-0.014788645319640636,-19.657154083251953,9.168745994567871,-5.445682048797607,3.3122994899749756,-21.648151397705078,1.882254719734192,5.321397304534912,17.278162002563477,-17.8631534576416,11.708773612976074,-8.360363006591797,13.241849899291992,-5.104806900024414,-11.096363067626953,14.484383583068848,-6.98613166809082,7.0529584884643555,6.229485511779785,2.4146714210510254,-2.6393072605133057,4.33380126953125,-0.9005675315856934,-14.832826614379883,-3.9725914001464844,11.658697128295898,-3.079714775085449,15.808392524719238,7.644084453582764,-1.0899566411972046,8.486954689025879,-8.52415943145752,-5.247082710266113,11.036008834838867,-13.941718101501465,0.2728087902069092,-1.793766736984253,-15.230011940002441,13.675457954406738,-10.910294532775879,-1.3426268100738525,-20.011520385742188,1.3631401062011719,11.679503440856934,-6.689114570617676,0.5826894640922546,14.311020851135254,-3.4832019805908203,3.2937629222869873,1.8397067785263062,-2.8700034618377686,-1.7118539810180664,-1.8682007789611816,-1.0893821716308594,14.623138427734375,23.168720245361328,-6.431192398071289,-4.147389888763428,0.14399372041225433,-0.49240535497665405,12.802600860595703,7.917104244232178,7.161798000335693,6.2766265869140625,-13.90807819366455,2.3068437576293945,-5.857580661773682,4.810327529907227,22.776409149169922,-5.426929950714111,4.8602824211120605,5.688719749450684,-5.741072177886963,21.692392349243164,-10.681385040283203,-3.795600175857544,-0.2287963330745697,-17.82862091064453,-0.6709019541740417,13.624679565429688,9.717171669006348,7.965152263641357,-6.106474876403809,-6.00373649597168,1.4825834035873413,0.8816838264465332,10.271191596984863,18.604503631591797,-12.254871368408203,-2.2917778491973877,-3.910651683807373,-2.9736454486846924,10.297282218933105,-9.439173698425293,5.769741058349609,-7.467813968658447,-11.780862808227539,7.639422416687012,18.22492790222168,6.206124782562256,8.630317687988281,-1.625963568687439,10.857741355895996,5.918579578399658,-15.361258506774902,12.121071815490723,8.005441665649414,20.67083740234375,-1.663399577140808,8.906192779541016,-0.3418736159801483,-4.9326276779174805,7.353846549987793,-12.14449691772461,-4.631219863891602,-4.538699150085449,-5.8255295753479,7.901186943054199,15.09928035736084,-1.5383459329605103,1.2795133590698242,-6.517860412597656,-6.10582971572876,-0.9503465294837952,-6.875909328460693,-0.8765271902084351,-3.190262794494629,-18.54634666442871,1.8265098333358765,13.142630577087402,-3.8645668029785156,-2.1923203468322754,10.37618637084961,-15.726615905761719,-13.471522331237793,-2.4622890949249268,-12.643746376037598,-5.971405029296875,9.496026992797852,15.530584335327148,-20.08550262451172,-2.6230764389038086,9.575651168823242,3.269231081008911,-15.86342716217041,-7.6614155769348145,15.730426788330078,7.45643949508667,-5.7103986740112305,-18.704008102416992,12.176874160766602,-3.005235433578491,5.4958176612854,16.791383743286133,1.9511207342147827,2.2481701374053955,0.8206894993782043,3.370630979537964,-19.08515739440918,-8.593144416809082,0.17721857130527496,0.4782223105430603,-14.421648025512695,-0.36640864610671997,11.56842041015625,-19.729951858520508,5.566475868225098,11.158183097839355,-11.919747352600098,-6.750777244567871,-8.544280052185059,11.876830101013184,-4.830900192260742,-7.880714416503906,-3.550016164779663,-7.105592250823975,17.35125160217285,-11.356345176696777,6.159120082855225,15.77968978881836,-2.9609715938568115,10.468088150024414,-15.052206039428711,-6.661955833435059,17.03805160522461,1.8846405744552612,-3.358426094055176,-5.211517810821533,-1.3441071510314941,-12.042451858520508,-1.8024711608886719,-2.2332210540771484,17.217662811279297,0.7341821789741516,1.985466718673706,16.430368423461914,3.9312524795532227,-7.126414775848389,21.38673973083496,-7.855834007263184,9.475191116333008,13.703641891479492,8.699004173278809,0.9893311858177185,-2.3238203525543213,-13.539359092712402,1.2272166013717651,-2.7727227210998535,-3.3933968544006348,6.711069583892822,7.22693395614624,12.920251846313477,-15.032768249511719,-6.2257819175720215,-2.4997644424438477,4.235304355621338,-6.2099151611328125,7.536764621734619,12.614448547363281,18.039512634277344,0.3852160573005676,9.770094871520996,-5.065272331237793,-8.269952774047852,-12.811103820800781,-8.400727272033691,3.8896734714508057,8.398921966552734,4.598086357116699,-7.079587936401367,-14.154583930969238,-20.443145751953125,-6.126417636871338,-4.113422870635986,-12.840018272399902,-2.0662295818328857,12.744522094726562,-8.378098487854004,-6.908369541168213,-5.489375591278076,6.865828037261963,17.06658363342285,16.24020004272461,1.6669481992721558,17.50994110107422,-0.7451092600822449,-5.07334041595459,-0.34149208664894104,13.211349487304688,-5.477039813995361,21.47927474975586,5.266964912414551,16.577503204345703,-22.56029510498047,-6.290853500366211,5.056084632873535,3.666724443435669,6.4628705978393555,-15.817317008972168,3.6781258583068848,-6.233794212341309,8.70140552520752,7.708324432373047,0.10751475393772125,15.344548225402832,2.6510748863220215,-17.024677276611328,-6.270902633666992,-10.32919692993164,10.347654342651367,13.155467987060547,5.69929838180542,-12.811647415161133,-4.570342540740967,17.965341567993164,5.54580020904541,16.74138069152832,3.4322807788848877,6.960949897766113,-4.725852966308594,8.451382637023926,-2.913259744644165,-8.205093383789062,16.158376693725586,6.355105400085449,9.919581413269043,-12.90250301361084,2.2810580730438232,5.255955219268799,10.725388526916504,11.493369102478027,17.827259063720703,15.460533142089844,-14.281030654907227,-6.611624717712402,-7.317572593688965,-9.277115821838379,1.9898197650909424,-14.583221435546875,4.7322998046875,-16.45035171508789,-1.460483431816101,6.288392066955566,1.859307050704956,-7.830151081085205,8.823230743408203,-6.575170993804932,-10.584779739379883,9.863303184509277,-3.8661956787109375,-14.750542640686035,-0.48592275381088257,8.998115539550781,0.5110741853713989,-17.023162841796875,-11.96414566040039,6.388664245605469,-20.009296417236328,-6.923067569732666,20.6768798828125,20.791494369506836,15.687820434570312,8.972262382507324,-18.86094093322754,3.07657790184021,14.891810417175293,3.739276170730591,-4.445247173309326,-1.7211707830429077,-8.4128999710083,12.510217666625977,-1.155633568763733,-1.9217875003814697,-4.9569478034973145,7.353153228759766,-11.69112777709961,-21.86943817138672,7.834063529968262,11.716623306274414,6.565855503082275,19.543842315673828,-16.111867904663086,15.872713088989258,2.3698058128356934,-10.599921226501465,9.165620803833008,1.9276490211486816,3.3405110836029053,-0.628692090511322,-3.093489646911621,6.561124324798584,-1.4356017112731934,4.567527770996094,11.78741455078125,13.55015754699707,17.00777816772461,-6.658961296081543,-3.572976589202881,-6.921394348144531,6.74561882019043,16.311429977416992,-7.434154987335205,1.57941472530365,16.917314529418945,14.11263656616211,-3.6416714191436768,2.1816883087158203,2.599151134490967,-26.590885162353516,-5.769275188446045,3.723965644836426,10.639378547668457,10.451129913330078,9.186612129211426,-17.396366119384766,-11.475241661071777,8.693955421447754,3.8023624420166016,3.4417777061462402,16.055265426635742,12.31223201751709,0.3049642741680145,10.627671241760254,14.035775184631348,12.218659400939941,-6.9075822830200195,13.251545906066895,5.478864669799805,-9.065536499023438,-20.48233413696289,13.683349609375,-4.504377841949463,8.359480857849121,13.662498474121094,14.016170501708984,10.537787437438965,-20.496618270874023,6.299752235412598,-2.8851590156555176,1.1191701889038086,-3.4013235569000244,-5.803828239440918,-12.746349334716797,5.4766693115234375,17.45722770690918,10.054718017578125,-7.613866329193115,7.710525989532471,-14.891371726989746,-5.398734092712402,0.7225079536437988,-12.957255363464355,0.4743150770664215,15.79001235961914,-5.217406749725342,14.373696327209473,3.5732462406158447,0.4472065567970276,13.624792098999023,8.73221492767334,7.603564739227295,12.030068397521973,-6.557064056396484,14.891694068908691,6.233651161193848,12.291497230529785,6.882909297943115,-4.377933502197266,1.9019862413406372,-9.083351135253906,2.598034620285034,-12.817395210266113,-2.6355128288269043,-11.87508773803711,-6.7425537109375,-5.959529876708984,20.585205078125,-8.357156753540039,-0.4104115664958954,-6.5271124839782715,11.071696281433105,12.508404731750488,-5.183121204376221,6.334484100341797,15.404339790344238,16.989927291870117,9.664671897888184,10.979297637939453,-19.389223098754883,-1.5319995880126953,-5.710679054260254,-5.715865135192871,9.600927352905273],\"z\":[-1.2785661220550537,16.519502639770508,-8.72123908996582,-2.210552453994751,4.89805269241333,7.082284450531006,-3.1188855171203613,-10.400681495666504,-5.786690711975098,16.37252426147461,-4.229876518249512,-8.314262390136719,4.696254253387451,6.348423957824707,-3.6779913902282715,-20.457908630371094,17.413312911987305,-7.243716239929199,-2.0345468521118164,-17.025541305541992,19.801725387573242,-11.94100284576416,-1.7211192846298218,18.031204223632812,2.327502489089966,8.714299201965332,7.012938499450684,0.8469429612159729,21.069263458251953,4.754387378692627,0.2287151962518692,29.28638458251953,-4.224270820617676,-11.669086456298828,9.717174530029297,-10.335485458374023,9.54978084564209,-20.88568687438965,-3.2464938163757324,-3.4779744148254395,-8.295853614807129,-2.9502921104431152,-0.23144583404064178,10.977095603942871,4.808507919311523,3.1414763927459717,-12.444042205810547,-13.729562759399414,18.189788818359375,3.159757137298584,-0.07196906208992004,-1.0454285144805908,15.868391990661621,12.159773826599121,5.337064743041992,-12.198098182678223,14.315084457397461,16.622318267822266,-2.9407615661621094,-5.265214443206787,6.294014930725098,17.078927993774414,-7.7422308921813965,-7.014366149902344,23.03673553466797,-8.894339561462402,-14.804577827453613,1.9358726739883423,-11.03831958770752,-1.261529803276062,-4.382352828979492,-14.586945533752441,-0.7478487491607666,-1.4771220684051514,-8.721714973449707,-5.4252028465271,-5.4311981201171875,12.454331398010254,17.288026809692383,-17.77475357055664,6.719973564147949,-7.305974006652832,1.254254937171936,10.731487274169922,-4.470983028411865,-18.86918830871582,4.205236911773682,1.9053484201431274,-8.809123992919922,-12.39757251739502,-0.8178024888038635,7.848518371582031,-7.42161750793457,16.92994499206543,17.42717170715332,6.7200541496276855,-2.8791637420654297,6.702478885650635,15.271146774291992,12.924871444702148,15.801636695861816,6.6666951179504395,11.552372932434082,-12.091535568237305,2.1061172485351562,-12.326720237731934,8.000000953674316,8.358402252197266,2.9370977878570557,-14.378772735595703,5.880006313323975,13.684836387634277,1.0108507871627808,1.595370888710022,-20.34284782409668,-6.822510242462158,11.334210395812988,9.636154174804688,-18.003820419311523,-13.657039642333984,-6.858095169067383,-10.599267959594727,2.9674556255340576,7.263747692108154,-4.711642742156982,-8.069610595703125,5.2072062492370605,-14.003738403320312,-5.4315338134765625,-22.537290573120117,7.740434169769287,-2.3297181129455566,-0.8236298561096191,-15.157605171203613,-6.264359951019287,2.6931519508361816,-9.823675155639648,-10.74602222442627,-4.937963962554932,11.420589447021484,-9.686697959899902,24.512554168701172,-10.054194450378418,-8.252025604248047,9.582723617553711,-7.794523239135742,6.886340141296387,-3.0385055541992188,4.262490272521973,4.148927211761475,4.237543106079102,-8.52641773223877,13.50760555267334,9.640125274658203,-0.877307653427124,-14.454009056091309,-9.512396812438965,7.821084976196289,15.516530990600586,6.621224403381348,-7.692281246185303,3.050297975540161,24.59830093383789,-0.9733011722564697,21.40502166748047,-16.665847778320312,-7.800024509429932,-17.65920066833496,8.035669326782227,13.357966423034668,9.21375846862793,1.7353771924972534,4.232716083526611,-3.161949634552002,-3.8969249725341797,-21.51749610900879,1.390755534172058,9.742300987243652,-1.606648325920105,-1.4362345933914185,15.571013450622559,-4.7453389167785645,27.0163516998291,-3.0059831142425537,-4.982588768005371,6.731760501861572,8.037042617797852,-7.050365447998047,-4.096397876739502,14.101198196411133,10.449378967285156,8.091109275817871,-2.0416345596313477,0.8301390409469604,19.39165687561035,-0.5659916400909424,-5.724213600158691,-0.14784741401672363,13.106440544128418,21.151399612426758,19.669795989990234,-0.827817976474762,7.756626129150391,6.198056221008301,-20.299970626831055,-17.77872085571289,1.3597633838653564,-3.655418872833252,-23.819393157958984,-4.618576526641846,6.967370510101318,11.854110717773438,6.070276737213135,-1.8993910551071167,-16.21967887878418,-18.07906150817871,-15.917880058288574,11.19432544708252,15.990748405456543,-9.55280590057373,11.782693862915039,16.98594093322754,-19.11205291748047,9.85538101196289,-9.255176544189453,-2.145801544189453,-17.01577377319336,0.7014382481575012,-10.411949157714844,15.038614273071289,10.713841438293457,23.247861862182617,-6.662229537963867,17.304279327392578,16.91460418701172,6.796329975128174,5.484063148498535,-8.312358856201172,-14.6760835647583,4.382665634155273,10.097206115722656,8.759166717529297,13.702742576599121,-1.940904974937439,-16.18964958190918,-0.5880600810050964,17.5245304107666,3.7315282821655273,-19.8789119720459,14.753799438476562,-8.09354305267334,4.640603542327881,-6.441966533660889,-10.818507194519043,-5.332281589508057,-11.936132431030273,14.852444648742676,-0.554196298122406,-11.060489654541016,4.327919960021973,15.830070495605469,-17.91654396057129,14.805197715759277,-1.588918924331665,15.651865005493164,-15.695201873779297,-8.30528736114502,10.38188362121582,-10.165602684020996,7.2697882652282715,-1.4676727056503296,-0.4374403953552246,-3.744380235671997,-2.842050313949585,-1.1905648708343506,-22.793468475341797,-6.650825023651123,27.913043975830078,2.763382911682129,7.282078266143799,-16.582860946655273,5.508684158325195,0.18037107586860657,25.45320701599121,-0.5707029700279236,-4.267411708831787,0.7232432961463928,-12.094136238098145,11.244831085205078,-14.056846618652344,2.1577911376953125,23.503131866455078,-8.732688903808594,-10.205032348632812,-0.2435397505760193,-9.193405151367188,7.235032081604004,-5.125300884246826,4.3232293128967285,16.99652671813965,0.3510608971118927,-7.716531276702881,1.039371132850647,8.8164701461792,15.580665588378906,6.630205154418945,-4.389849662780762,-13.307307243347168,0.29038551449775696,18.083486557006836,24.750669479370117,19.80898094177246,-6.688437461853027,-21.154176712036133,-3.0141947269439697,-6.770935535430908,11.015093803405762,7.725602626800537,4.703917026519775,-24.072420120239258,-23.20896339416504,-5.307974815368652,13.25177001953125,-1.781847596168518,-23.295413970947266,6.217944622039795,-7.775792598724365,-2.464062213897705,-7.2095046043396,-12.017403602600098,-19.8095645904541,-5.466303825378418,16.267927169799805,-18.505826950073242,3.4212005138397217,4.906311988830566,1.4465453624725342,20.127071380615234,15.135854721069336,-18.78670310974121,-11.614338874816895,4.417065143585205,10.752737045288086,-16.755420684814453,-15.733592987060547,12.479536056518555,4.768896102905273,2.1752736568450928,-7.878630638122559,1.0405879020690918,-0.07853604108095169,15.128849983215332,2.410151243209839,-9.790261268615723,6.335103988647461,-9.319403648376465,-15.847661972045898,-3.0071141719818115,-12.56531810760498,-3.5222504138946533,7.0553765296936035,8.41845703125,-5.668015003204346,-1.4927703142166138,-8.37606143951416,-4.597624778747559,9.825209617614746,-15.45351791381836,11.124336242675781,-17.44015121459961,-22.162317276000977,-6.571869373321533,-9.18226432800293,-5.1772685050964355,-8.868058204650879,10.25402545928955,-19.73357582092285,8.385640144348145,9.708968162536621,-12.15994644165039,-18.890766143798828,16.55839729309082,-13.375231742858887,10.838796615600586,-4.2840375900268555,-21.127525329589844,3.6832387447357178,-5.8538007736206055,9.694140434265137,11.884636878967285,-2.404754161834717,11.128348350524902,18.06342315673828,7.849200248718262,-13.253941535949707,5.512958526611328,-20.24312400817871,-2.733240842819214,-11.901117324829102,-2.8166840076446533,-9.637170791625977,-5.625711441040039,-1.1836609840393066,1.3614661693572998,13.776738166809082,1.8846282958984375,5.342224597930908,-20.963869094848633,-19.81190299987793,-2.0926830768585205,-8.268147468566895,-21.60495948791504,20.765621185302734,21.412946701049805,-13.462358474731445,4.132699966430664,-11.585323333740234,10.985937118530273,1.1571357250213623,15.950994491577148,3.2570064067840576,3.205414056777954,-2.05875301361084,-19.119163513183594,-11.42867660522461,-0.4152170717716217,-0.2621288597583771,6.2245402336120605,-5.828512191772461,-11.719061851501465,-2.578842878341675,-20.867637634277344,-6.511475563049316,19.838075637817383,-3.669654369354248,1.6591414213180542,17.308019638061523,-9.04163646697998,-3.627171516418457,3.44987416267395,17.100801467895508,-7.904947757720947,14.251121520996094,-15.258926391601562,12.61373233795166,-11.34847640991211,-13.059425354003906,-3.010524272918701,-13.509891510009766,3.9140772819519043,10.30476188659668,16.40938949584961,-18.588729858398438,4.578518390655518,-7.833338737487793,-14.167750358581543,-2.509045124053955,5.732047080993652,-10.066527366638184,6.31797456741333,7.3170013427734375,12.962003707885742,-2.761411428451538,9.196651458740234,-16.993087768554688,-14.86310863494873,5.80756950378418,-8.590537071228027,-11.972427368164062,-3.613325595855713,5.280681610107422,17.609905242919922,-11.024405479431152,23.377676010131836,-7.896116733551025,-20.16756820678711,7.97019100189209,9.363189697265625,-9.521717071533203,11.027000427246094,3.7510643005371094,4.3387579917907715,-10.424942016601562,-2.8260293006896973,-12.836920738220215,-16.027055740356445,-1.4560680389404297,-7.118436813354492,1.2544951438903809,-23.45103645324707,-6.608024597167969,-0.9199631810188293,4.672280311584473,-13.78339958190918,-23.703018188476562,-3.52164363861084,0.767388641834259,-8.039100646972656,-21.868396759033203,8.113580703735352,-5.934163570404053,-11.836030960083008,-5.973657608032227,4.522520542144775,5.004135608673096,-9.077971458435059,8.895297050476074,-7.868412971496582,-9.15549373626709,-24.782926559448242,14.705153465270996,-23.886873245239258,-11.421878814697266,14.452345848083496,-14.801798820495605,-22.125232696533203,-7.780740261077881,4.448575496673584,3.7586915493011475,4.1599321365356445,6.2866644859313965,25.715120315551758,1.0425360202789307,15.701875686645508,21.499958038330078,-1.0654677152633667,-15.728446006774902,15.059599876403809,20.494691848754883,2.637594223022461,-20.021385192871094,-14.008353233337402,-6.369588375091553,11.420028686523438,-0.4856516718864441,6.936315536499023,-7.328465938568115,-11.641221046447754,-19.77271270751953,4.960813522338867,-16.115739822387695,9.649630546569824,26.370168685913086,1.8931790590286255,-11.509424209594727,-8.335609436035156,-9.905755043029785,-9.490015029907227,-5.187607765197754,-17.89289093017578,-11.312742233276367,4.540974140167236,-19.8436222076416,-8.987344741821289,0.95245361328125,3.7603392601013184,5.825577735900879,-0.6535684466362,5.64363956451416,-0.6520394086837769,5.895274639129639,14.586044311523438,1.2490562200546265,4.507997512817383,-3.9438722133636475,-10.474806785583496,25.84685516357422,10.29971694946289,-2.415393114089966,-0.761504590511322,-10.570219993591309,0.4749601483345032,12.934714317321777,-0.8052272200584412,-0.8390322923660278,2.0747296810150146,-2.4800961017608643,-20.934452056884766,-0.9433311820030212,17.281373977661133,5.7291998863220215,6.828006267547607,14.557615280151367,-18.98483657836914,-5.466336727142334,15.381141662597656,-10.927489280700684,-1.2091584205627441,6.208463668823242,1.1960475444793701,0.6131623387336731,-11.739127159118652,2.832425355911255,12.906157493591309,-8.587479591369629,8.591617584228516,17.193017959594727,11.223969459533691,21.802871704101562,11.127129554748535,7.695683479309082,-7.945485591888428,-1.1991060972213745,-0.1756303608417511,-2.7586145401000977,-12.978400230407715,-7.530391693115234,-9.673908233642578,-11.124341011047363,10.366796493530273,13.664005279541016,-13.3192138671875,-12.498483657836914,-12.213658332824707,17.763036727905273,-3.1246938705444336,3.7817952632904053,5.896685600280762,-22.075515747070312,19.362106323242188,-14.419307708740234,4.3469462394714355,-22.934005737304688,9.719374656677246,5.1605610847473145,19.402856826782227,-4.672030448913574,-8.975136756896973,18.215011596679688,-4.905375957489014,6.090677261352539,3.3485231399536133,11.873126983642578,3.3078622817993164,-2.4901082515716553,12.216753005981445,12.491514205932617,-10.52694034576416,-13.413606643676758,-5.4463701248168945,-7.183846473693848,-1.1132845878601074,-3.9849624633789062,-2.029154062271118,-6.228951930999756,1.2443318367004395,0.1805686056613922,5.738821983337402,10.27712345123291,-4.721919059753418,5.017505168914795,-3.411754846572876,8.753976821899414,-6.395864009857178,-2.144610643386841,9.559782981872559,-7.940980434417725,-13.288528442382812,10.865596771240234,-12.118247032165527,-8.806147575378418,-1.5182726383209229,-2.772296190261841,8.467257499694824,-7.80668830871582,-0.2914498746395111,-4.817467212677002,-2.0767149925231934,24.471942901611328,8.739033699035645,9.593998908996582,-18.06589126586914,10.011174201965332,-2.659012794494629,-0.003246191656216979,-6.491400241851807,-8.287757873535156,8.277996063232422,17.96461296081543,-11.143048286437988,-1.1504756212234497,1.2311017513275146,-2.0573654174804688,3.327038049697876,-2.7573890686035156,-13.635102272033691,5.525942325592041,-14.949981689453125,5.093329429626465,12.941420555114746,14.739421844482422,5.9199981689453125,-8.105552673339844,-19.102170944213867,-6.359714508056641,-3.1398165225982666,20.881181716918945,-6.462295055389404,16.27481460571289,12.574952125549316,11.895004272460938,-0.013417170383036137,3.272095203399658,19.29081153869629,-9.822922706604004,15.768567085266113,0.622551679611206,-3.9901387691497803,-0.3572683334350586,-0.13626673817634583,21.88506507873535,-17.491487503051758,-3.042975902557373,17.025522232055664,1.9087861776351929,-5.042272090911865,-4.804536819458008,-15.897588729858398,7.143778324127197,-17.228870391845703,9.956034660339355,-10.562946319580078,1.9854485988616943,21.08095932006836,22.29037094116211,14.591644287109375,21.950647354125977,-10.264920234680176,21.136545181274414,-0.7393835783004761,5.9083991050720215,-13.139466285705566,-10.238862037658691,-8.295780181884766,10.7520170211792,-7.059689044952393,24.02993392944336,13.71652603149414,-14.180569648742676,6.28215217590332,2.030585289001465,-4.281105041503906,1.0896790027618408,0.2910539507865906,-17.99016571044922,1.710145354270935,-2.8656117916107178,-11.64885425567627,-10.073736190795898,7.071446895599365,6.421443462371826,26.314266204833984,-7.405334949493408,-5.371185302734375,9.163018226623535,13.79434871673584,-4.079602241516113,-0.4177808463573456,7.179347515106201,0.8575189709663391,9.0866117477417,9.33739185333252,-9.888923645019531,10.884346961975098,-11.104923248291016,0.7107662558555603,6.096258163452148,-21.836368560791016,-15.971729278564453,9.189852714538574,8.347021102905273,-3.5031027793884277,19.22726821899414,9.520111083984375,-15.418364524841309,-1.8597915172576904,-6.008946418762207,2.514841079711914,11.094742774963379,-15.809517860412598,-17.27291488647461,10.91598892211914,4.828741550445557,12.54044246673584,4.954442501068115,-7.471077919006348,-7.021636486053467,-12.475400924682617,-5.26360559463501,-1.7096866369247437,-1.653369665145874,-18.899179458618164,-1.083583950996399,7.896512985229492,-1.657999873161316,-12.934761047363281,-4.766109943389893,0.3070080876350403,9.090668678283691,-5.757624626159668,14.705238342285156,12.820724487304688,4.3678388595581055,0.8115693926811218,-10.441239356994629,18.717897415161133,14.93532943725586,-19.043476104736328,-9.047468185424805,-14.430713653564453,-7.225041389465332,-4.541449069976807,-3.913455009460449,11.792201042175293,6.8884382247924805,10.895164489746094,-16.867895126342773,3.333834171295166,-3.9303009510040283,-3.8780391216278076,-21.254852294921875,21.42531394958496,-9.442734718322754,1.395273208618164,-11.079634666442871,5.456786632537842,-7.267030715942383,-2.5381035804748535,0.31370577216148376,-4.482457160949707,-16.76498031616211,5.327297687530518,-5.418422222137451,-13.011405944824219,-10.313117980957031,7.133722305297852,-0.48321667313575745,14.988802909851074,-5.819183349609375,3.431367874145508,-7.391088962554932,0.6039117574691772,-13.472709655761719,-6.970926761627197,20.03432273864746,-7.098109722137451,26.108489990234375,2.267852544784546,-9.407207489013672,3.229572057723999,-18.75938606262207,-18.459579467773438,1.9081050157546997,-19.52635383605957,17.253772735595703,-19.05394744873047,-10.380560874938965,23.69336700439453,4.380146503448486,0.8710718154907227,5.296885967254639,0.9032675623893738,-6.482400417327881,-7.8259124755859375,-23.999710083007812,5.976276397705078,25.256351470947266,-16.44652557373047,1.3320382833480835,22.721223831176758,2.224132776260376,2.4883134365081787,0.35071298480033875,-5.779565811157227,-18.812795639038086,5.825201511383057,10.849803924560547,-0.8267761468887329,-0.6912216544151306,11.08804702758789,-5.510067462921143,12.988079071044922,-21.122594833374023,-18.106857299804688,-16.664649963378906,7.687593936920166,-3.4340038299560547,20.19515037536621,6.829631328582764,-2.989914655685425,-16.55179786682129,20.70426368713379,5.226775169372559,-1.6343034505844116,3.7793076038360596,0.818286120891571,21.836978912353516,-6.783814907073975,5.042343616485596,-2.0165035724639893,8.109793663024902,5.771800994873047,-0.6142668128013611,-4.9711127281188965,-11.531536102294922,7.930947303771973,5.431457042694092,-23.743377685546875,15.863158226013184,9.424454689025879,5.51849889755249,-11.540051460266113,-8.35403060913086,-3.0921592712402344,14.033066749572754,1.4873225688934326,1.8182880878448486,16.164451599121094,-5.096965789794922,2.5898382663726807,-11.808333396911621,-6.657104969024658,7.580977439880371,-1.3562321662902832,-23.49738121032715,-6.099749565124512,-1.5490895509719849,9.587416648864746,17.38442611694336,-18.35294532775879,7.069266319274902,-10.43997859954834,1.8185769319534302,7.392849445343018,-16.725332260131836,22.796489715576172,-20.00579071044922,0.20642869174480438,-2.2781028747558594,6.848750591278076,15.979961395263672,8.354857444763184,2.2278168201446533,-13.697800636291504,14.560323715209961,3.9794814586639404,-14.935925483703613,-1.398331642150879,-13.774049758911133,15.36327838897705,2.761090040206909,22.799196243286133,26.88832664489746,6.505880355834961,5.799400806427002,-0.7783213257789612,15.492314338684082,9.840033531188965,-19.215269088745117,12.666091918945312,-19.03022003173828,2.762246608734131,-18.851058959960938,4.040946006774902,17.12299156188965,12.861405372619629,-15.004258155822754,11.7962064743042,-4.515151023864746,-12.17391300201416,17.288776397705078,6.699701309204102,-7.803343296051025,6.605732440948486,-19.456499099731445,-2.259547233581543,-10.914619445800781,-0.7082232236862183,1.3699132204055786,-4.103704929351807,-0.31497371196746826,23.054067611694336,4.940908432006836,-17.976957321166992,-0.7684550881385803,16.066728591918945,12.27254581451416,9.968334197998047,-19.93136978149414,1.56609046459198,3.0123815536499023,13.495402336120605,-18.064598083496094,1.042685627937317,6.943614959716797,13.920429229736328,1.9241770505905151,-3.8111090660095215,14.206109046936035,16.52239227294922,-9.370954513549805,23.182424545288086,24.546306610107422,0.7238872051239014,-17.39021110534668,-0.4833551347255707,-14.073486328125,-3.825087547302246,-11.979432106018066,6.503476142883301,-19.990964889526367,7.719216346740723,-11.619091033935547,5.713959693908691,2.1283607482910156,4.312184810638428,13.643675804138184,13.423213958740234,18.005435943603516,-4.429388523101807,8.097920417785645,-7.825692653656006,-3.796109676361084,-3.3072309494018555,11.958422660827637,-6.1345953941345215,0.38671430945396423,16.24673080444336,2.136810064315796,-22.025169372558594,-11.20608139038086,-3.3967182636260986,7.125180244445801,-16.915681838989258,8.862018585205078,-9.160623550415039,14.373065948486328,-1.7756110429763794,0.8130174875259399,14.267728805541992,-6.286600112915039,13.863800048828125,3.0292325019836426,-12.975249290466309,-5.119830131530762,9.561636924743652,-9.57404899597168,-2.3629307746887207,-3.8856444358825684,-9.549223899841309,27.20109748840332,0.004410369321703911,8.851104736328125,-4.905967712402344,11.3013916015625,-14.386991500854492,10.928484916687012,7.522119998931885,3.9205732345581055,2.823274850845337,24.10919952392578,-9.301671028137207,6.983733177185059,-6.165283203125,1.5845195055007935,-11.314544677734375,11.143180847167969,-21.806293487548828,16.1528377532959,4.304932594299316,9.724687576293945,-3.0877044200897217,4.526763439178467,7.234182834625244,10.030814170837402,-21.481220245361328,-2.2892065048217773,-21.0765438079834,-7.593682765960693,-6.560486316680908,-13.644432067871094,-11.251670837402344,18.013906478881836,10.91590404510498,-0.029788291081786156,12.347962379455566,1.9400488138198853,8.176522254943848,-17.626602172851562,3.340116500854492,17.16397476196289,-2.233381748199463,-1.3312355279922485,3.5453107357025146,21.88007164001465,-4.88817834854126,18.856658935546875,-0.3232964277267456,-1.4539481401443481,11.039710998535156,8.675475120544434,19.843645095825195,-7.790815830230713,-2.644629716873169,24.381023406982422,-20.67593002319336,-15.894428253173828,-5.68231725692749,25.690364837646484,-15.35715389251709,-1.262953519821167,-9.435608863830566,10.713645935058594,-1.288220763206482,-5.992452621459961,-9.944997787475586,-5.195049285888672,-18.941553115844727,11.727975845336914,-6.326003074645996,-3.2095272541046143,18.097848892211914,8.107498168945312,3.2924280166625977,-4.566886901855469,16.81308364868164,20.109670639038086,25.244476318359375,15.781533241271973,-5.290970325469971,5.510309219360352,14.764578819274902,-2.759073495864868,-20.80508804321289,19.2252197265625,-6.24675178527832,-9.752547264099121,11.805976867675781,-5.457406997680664,28.665987014770508,18.07415008544922,-17.145919799804688,-6.012778282165527,6.408496856689453,-9.961369514465332,8.25883960723877,0.9025693535804749,15.449721336364746,24.748703002929688,10.068289756774902,-10.28663158416748,-1.390209674835205,-21.60944175720215,0.9912113547325134,-8.91447925567627,10.050474166870117,0.3494461178779602,-3.0554392337799072,0.5599918365478516,-5.211874008178711,-18.858118057250977,15.209233283996582,19.47174835205078,25.210350036621094,-18.61264991760254,-3.1438448429107666,0.4860832989215851,-16.449588775634766,0.8355301022529602,15.168512344360352,-1.6176692247390747,-2.995429039001465,-5.960007667541504,25.098100662231445,-15.483132362365723,4.011788368225098,-4.424882411956787,4.6293110847473145,-11.117915153503418,7.984929084777832,6.556187152862549,21.594379425048828,-5.574528694152832,6.646274566650391,3.9217684268951416,-21.84663200378418,-3.085705041885376,3.5626842975616455,25.992155075073242,4.366127014160156,-13.015596389770508,4.321573257446289,10.665894508361816,0.6023253202438354,8.196742057800293,-7.543986797332764,-6.663133144378662,11.6849946975708,-21.39641761779785,4.562842845916748,18.57765769958496,2.10878849029541,30.69011878967285,-13.027563095092773,11.466986656188965,6.0893754959106445,-13.743819236755371,9.90966510772705,-9.705484390258789,8.695887565612793,9.768506050109863,-3.8937947750091553,-11.762173652648926,-5.922293186187744,-1.1407744884490967,-14.429008483886719,-10.489472389221191,-17.908557891845703,-24.5484676361084,19.33954429626465,-16.09877586364746,-20.333911895751953,-7.400890350341797,2.952816963195801,9.18994426727295,14.164825439453125,-6.764132022857666,6.516491413116455,-9.618971824645996,8.190695762634277,5.240286350250244,1.502453088760376,11.269682884216309,10.61137580871582,8.813152313232422,27.588132858276367,-14.273847579956055,6.555461883544922,-20.91387367248535,-4.699403762817383,8.448599815368652,-5.030107021331787,5.139532566070557,-5.3565826416015625,7.61189079284668,0.6830698847770691,-2.6597702503204346,-2.6150410175323486,3.2434253692626953,0.9932618141174316,3.6565821170806885,10.54646110534668,-0.980713427066803,-12.96263313293457,-16.084081649780273,-0.9273925423622131,1.7921972274780273,-15.533316612243652,20.680570602416992,3.814664602279663,1.9137251377105713,5.981142044067383,7.817239761352539,-0.3920711576938629,8.547481536865234,-8.484397888183594,2.1231703758239746,-22.28749656677246,-12.670845031738281,3.203209400177002,0.6574617624282837,8.909006118774414,-16.502565383911133,3.595423460006714,-4.943707466125488,-6.606484413146973,10.140341758728027,-1.039352536201477,-10.981958389282227,3.1014492511749268,6.97533655166626,14.170246124267578,9.332958221435547,6.499143600463867,-1.5968148708343506,3.187713623046875,-7.753891468048096,-9.727818489074707,-7.062191009521484,-8.31151008605957,-11.96642017364502,-8.836481094360352,16.70147705078125,11.369449615478516,-6.008355140686035,-10.14716625213623,-8.194579124450684,14.767670631408691,-5.307205677032471,-3.0286197662353516,-3.3224079608917236,-14.7611722946167,27.958492279052734,16.416406631469727,8.414575576782227,-7.0013251304626465,16.778038024902344,20.62944984436035,14.758833885192871,-5.748047351837158,7.183910369873047,4.273564338684082,24.951797485351562,19.595230102539062,3.958503246307373,4.249889373779297,0.6521415710449219,-2.2864294052124023,-4.021163463592529,16.233726501464844,-3.967482328414917,3.2095601558685303,-0.3802940845489502,1.230519413948059,-21.5523738861084,4.330667972564697,8.103797912597656,7.518548011779785,0.33511272072792053,-3.0265679359436035,-21.28096580505371,6.394670486450195,2.9549038410186768,-6.640292644500732,-1.785523772239685,5.174844264984131,-0.7643073797225952,8.02842903137207,-1.3343909978866577,-13.556924819946289,13.703287124633789,-10.345233917236328,-16.879261016845703,2.8387441635131836,-12.40449333190918,16.443111419677734,16.736745834350586,-12.700186729431152,-1.6578744649887085,5.789449214935303,5.959507942199707,-14.597272872924805,-8.478365898132324,2.997048854827881,-6.77243709564209,-2.0883169174194336,6.413811206817627,18.857336044311523,2.810246467590332,18.659591674804688,-0.9307904839515686,5.4480390548706055,4.304649829864502,23.905799865722656,-9.54723072052002,-6.448180198669434,-8.83945083618164,-9.847710609436035,-14.72960376739502,-20.168609619140625,-11.711380004882812,-4.0141472816467285,7.546482563018799,11.128812789916992,-13.455681800842285,-19.19663429260254,-7.893539905548096,5.563242435455322,7.807013511657715,6.684889316558838,3.6164193153381348,10.21805191040039,-0.9083088636398315,-23.229373931884766,-9.870862007141113,-0.9367985129356384,5.2779645919799805,22.56334686279297,-18.64081573486328,25.95778465270996,-22.790231704711914,0.6298239827156067,13.371630668640137,0.7078008055686951,-7.756331443786621,0.07419628649950027,8.65091609954834,9.128440856933594,7.591503620147705,5.223886489868164,8.014805793762207,4.18227481842041,-0.2721565067768097,-21.601734161376953,12.290940284729004,-22.654312133789062,10.413825988769531,-10.379741668701172,-17.653221130371094,-0.5878708362579346,19.657608032226562,-10.031678199768066,-4.084417343139648,3.48856782913208,3.5671684741973877,-4.448720455169678,19.811925888061523,11.242199897766113,20.2316837310791,5.5038018226623535,-10.642154693603516,-21.063234329223633,-6.091377258300781,-13.431589126586914,-4.958348274230957,16.907846450805664,15.762426376342773,7.577754974365234,7.420703887939453,20.082500457763672,9.96293830871582,-8.167597770690918,-19.294994354248047,7.263461112976074,-2.2925496101379395,3.4595093727111816,-16.73682975769043,-7.698892116546631,-9.414507865905762,-5.343698024749756,15.476544380187988,17.543317794799805,0.0018997841980308294,9.934060096740723,3.1146621704101562,-15.658193588256836,4.6341328620910645,-0.28320029377937317,-2.368579149246216,-3.898414134979248,18.699922561645508,13.091850280761719,6.671947956085205,-1.2993422746658325,14.632514953613281,25.346487045288086,2.2894673347473145,-16.020116806030273,17.979665756225586,3.124152660369873,-3.824080467224121,-0.5886148810386658,3.1487083435058594,0.15345117449760437,5.173034191131592,-19.16047477722168,-4.685219764709473,6.013512134552002,11.094799995422363,-10.69691276550293,-17.056222915649414,-7.383453369140625,23.82744789123535,-21.930822372436523,2.471334457397461,-3.6919538974761963,-0.7089753150939941,6.546672344207764,-1.1906050443649292,-12.376566886901855,2.71970534324646,-10.20705509185791,-8.915185928344727,3.5208120346069336,-2.360333204269409,3.4127962589263916,-12.591533660888672,-4.072686195373535,-1.5870498418807983,-0.9401116371154785,-6.736931324005127,-23.432687759399414,13.344873428344727,7.748813152313232,6.657412528991699,-0.4587826132774353,20.236772537231445,26.640628814697266,5.573962211608887,-11.27469253540039,14.325756072998047,2.2895195484161377,0.6576084494590759,-20.331693649291992,-0.757195234298706,-12.574383735656738,14.423526763916016,3.5281784534454346,-1.6844704151153564,-10.87218189239502,-0.6265437006950378,9.028579711914062,-15.364008903503418,-5.243191719055176,-9.58377456665039,-9.061267852783203,2.25561261177063,0.7493435740470886,3.9554405212402344,5.174835681915283,-12.420428276062012,-3.8506808280944824,-0.8194822072982788,4.676131248474121,11.914002418518066,-7.9012532234191895,-0.7200904488563538,-0.20747138559818268,7.445156574249268,-0.6825418472290039,-16.63231658935547,-17.731182098388672,-16.56962776184082,-6.410358905792236,-0.3054581582546234,-21.648059844970703,3.227494478225708,-3.9573147296905518,2.7309396266937256,10.914440155029297,20.460268020629883,4.735883712768555,-6.5932793617248535,-15.205564498901367,7.728301048278809,-14.890238761901855,-2.2175638675689697,11.280722618103027,-3.248826503753662,5.36293888092041,-9.304720878601074,-13.071528434753418,-11.809062957763672,-17.010324478149414,-0.8283274173736572,-18.51349639892578,0.1334361433982849,-1.0639370679855347,15.596723556518555,-6.5441975593566895,-9.811033248901367,10.137968063354492,2.124300003051758,-2.947793483734131,-3.244249105453491,-3.545820713043213,9.009733200073242,7.983855724334717,14.18098258972168,5.957390308380127,0.5440261960029602,16.263404846191406,18.720684051513672,18.43372917175293,18.53777313232422,-2.4049506187438965,-6.467519283294678,6.08102560043335,-12.721758842468262,-10.931096076965332,13.47491455078125,16.626012802124023,-15.780170440673828,2.4275624752044678,-8.531341552734375,-16.094192504882812,0.9231952428817749,-9.692062377929688,-9.427252769470215,5.70210075378418,14.198694229125977,22.89224624633789,0.5160481929779053,0.4289524257183075,15.813970565795898,21.361452102661133,-7.458542823791504,4.798446178436279,2.0208353996276855,-6.708582401275635,14.975056648254395,5.167141437530518,-8.021531105041504,0.05463322997093201,-2.7180206775665283,6.302051067352295,-5.3648223876953125,6.706076622009277,10.768393516540527,-1.3094102144241333,-10.67688274383545,-3.6455295085906982,-11.037020683288574,0.3252803683280945,-15.359814643859863,8.370450973510742,-14.354663848876953,-13.230093955993652,-4.215157508850098,10.745983123779297,-3.3898046016693115,-5.979404926300049,11.59530258178711,8.115150451660156,6.710558891296387,-1.9613763093948364,-8.598511695861816,-2.082167387008667,-3.1423754692077637,7.458252906799316,-2.0690791606903076,5.781352996826172,-13.205988883972168,-2.0480337142944336,17.392396926879883,-2.5247092247009277,8.727889060974121,19.07472038269043,9.385661125183105,-10.392892837524414,26.714080810546875,5.554100036621094,-20.88541603088379,12.241374015808105,21.891115188598633,1.0311986207962036,6.667600154876709,-13.912952423095703,7.874613285064697,-5.611673355102539,-7.115753173828125,-11.846338272094727,-0.37378716468811035,5.672935962677002,-12.084554672241211,-18.189620971679688,-3.2652840614318848,14.715994834899902,-5.005544185638428,12.000890731811523,-6.168867111206055,27.238122940063477,-8.06430721282959,12.377872467041016,11.944268226623535,-18.32767105102539,-0.6410179138183594,1.5817396640777588,5.625573635101318,-5.518811225891113,-10.606538772583008,16.92287254333496,-15.575870513916016,7.198092937469482,-14.941004753112793,19.428407669067383,18.330968856811523,6.745659828186035,-19.41595458984375,6.701827526092529,14.759586334228516,10.844347953796387,4.195908546447754,7.580145835876465,12.43498420715332,15.810379028320312,-7.048625469207764,-14.640494346618652,-17.000709533691406,-10.442789077758789,0.227994903922081,7.606871604919434,-4.790518283843994,-12.19253921508789,-12.575506210327148,17.76360511779785,5.963443279266357,26.212743759155273,17.277671813964844,-14.77009391784668,7.190181255340576,12.260988235473633,10.99842643737793,20.02715301513672,1.6057225465774536,6.236186504364014,7.301390647888184,-17.220874786376953,4.174200057983398,-8.874884605407715,-23.381132125854492,-14.883966445922852,-6.5997514724731445,-7.287764549255371,-1.195803165435791,-10.656192779541016,-4.404899597167969,8.478011131286621,5.566116809844971,-14.191692352294922,-3.738346576690674,6.34635591506958,-11.472976684570312,11.88354206085205,2.255840301513672,9.65540885925293,4.570113182067871,17.521303176879883,-1.7781001329421997,-1.0221132040023804,-2.054824113845825,-1.1292569637298584,8.16195011138916,-2.6142096519470215,15.823104858398438,-18.339998245239258,-5.162611961364746,-7.061842918395996,12.606340408325195,14.444869041442871,-14.39664363861084,11.309098243713379,14.207140922546387,8.261488914489746,8.591767311096191,-17.47233772277832,-14.53857707977295,-15.628006935119629,-14.987839698791504,0.8407846689224243,-7.108277320861816,0.01093505509197712,-6.338561534881592,7.743686199188232,-10.907499313354492,3.4469971656799316,4.615746021270752,-5.432796478271484,-11.39748477935791,10.619543075561523,-16.88967514038086,-1.2838332653045654,3.9431304931640625,4.531238555908203,20.735431671142578,-2.2290995121002197,-14.864616394042969,5.079473495483398,-7.205249786376953,-6.366652011871338,5.355527400970459,-7.419843673706055,-8.636921882629395,-13.635398864746094,1.949004054069519,-16.28277587890625,-20.356855392456055,-11.525724411010742,-0.053491540253162384,5.682968616485596,10.939971923828125,-9.36391830444336,-1.759711503982544,-9.084454536437988,-21.459707260131836,11.895974159240723,27.285079956054688,-3.936676502227783,16.194242477416992,11.950299263000488,8.362199783325195,-10.196529388427734,-5.169437885284424,-7.128065586090088,-2.027475357055664,2.357905626296997,-3.2291133403778076,13.873476028442383,2.566229820251465,14.073261260986328,-11.594099044799805,-10.12475299835205,23.89142608642578,0.5004710555076599,-19.379579544067383,18.459901809692383,14.242023468017578,6.7880096435546875,25.53049659729004,16.512630462646484,10.457040786743164,3.790161371231079,-13.161187171936035,13.914824485778809,1.7333909273147583,-8.579298973083496,-17.57471466064453,20.736177444458008,-13.842507362365723,3.2119698524475098,0.6997127532958984,-8.05151653289795,2.0285229682922363,11.220806121826172,-2.076368808746338,17.730224609375,10.323486328125,-10.090737342834473,-1.3042562007904053,-7.083400726318359,-12.276299476623535,-14.610013008117676,12.578410148620605,-9.801553726196289,11.725936889648438,10.063373565673828,14.905558586120605,6.855015277862549,-3.7519171237945557,8.855637550354004,-10.001304626464844,-5.598056793212891,4.641715049743652,-10.026224136352539,-1.742152214050293,-22.554845809936523,2.040090799331665,-11.517934799194336,-23.645254135131836,11.378637313842773,2.516824245452881,-14.28138542175293,20.624004364013672,2.9078497886657715,-1.8746756315231323,-12.900920867919922,0.25835201144218445,15.67796802520752,8.800127983093262,-3.2751271724700928,-6.023921489715576,7.95811653137207,2.191965103149414,7.929631233215332,7.034420013427734,22.144807815551758,16.07575035095215,2.2304415702819824,-6.630281448364258,1.3312584161758423,3.120406150817871,-6.9473114013671875,-14.823943138122559,-7.603076934814453,16.7220401763916,-2.474851608276367,-0.4515252411365509,9.191067695617676,7.332942962646484,14.098289489746094,2.887266159057617,-19.02251625061035,-7.629337310791016,-3.870781898498535,28.04246711730957,6.6633100509643555,-15.053690910339355,-19.476333618164062,21.543310165405273,0.6669884920120239,7.702998638153076,25.838808059692383,2.1753954887390137,11.562893867492676,10.681092262268066,-8.269631385803223,14.350153923034668,1.2280136346817017,0.9424298405647278,-1.7074323892593384,-0.36747002601623535,-3.204256057739258,14.445570945739746,-7.204442024230957,-3.2276740074157715,-7.424006462097168,3.8194775581359863,17.207096099853516,-1.2547003030776978,-7.407995700836182,20.38675308227539,10.524582862854004,-4.945255279541016,-1.8719044923782349,-21.824417114257812,0.04172666743397713,-19.999744415283203,-5.031510353088379,-1.7554707527160645,-7.156056880950928,-9.163775444030762,5.347264766693115,5.452717304229736,-5.348827362060547,11.857378005981445,-3.8430235385894775,1.9015687704086304,-1.2772691249847412,-11.050458908081055,-9.312490463256836,-9.636242866516113,1.4684473276138306,-0.11957858502864838,3.9687306880950928,14.336946487426758,5.657681941986084,-0.2200375646352768,-4.5221734046936035,-8.42651081085205,-8.249671936035156,-22.080703735351562,18.12065887451172,-8.636387825012207,-1.4112505912780762,4.833438873291016,-5.667713642120361,-12.214150428771973,-11.017139434814453,-5.96191930770874,-18.940271377563477,12.034193992614746,2.686607599258423,-1.4836101531982422,14.120062828063965,-15.290766716003418,-10.032293319702148,9.93148136138916,0.7362637519836426,-12.42796516418457,10.933581352233887,11.959352493286133,-14.369153022766113,-2.9138805866241455,1.386993408203125,-8.827140808105469,9.397706985473633,1.8752350807189941,-10.154746055603027,-10.141600608825684,-21.154747009277344,-9.000511169433594,-10.455145835876465,1.7192764282226562,-15.4761381149292,-3.095435619354248,-13.521828651428223,1.977289080619812,-10.982481956481934,4.887923717498779,4.5928521156311035,5.532728672027588,3.2621545791625977,-5.059784889221191,-16.97530746459961,-11.30635929107666,-2.002281427383423,-1.0866562128067017,12.537315368652344,-0.8449514508247375,-1.2202359437942505,-12.974464416503906,-9.425034523010254,15.905468940734863,2.043792724609375,13.963556289672852,-12.398649215698242,16.114850997924805,-16.12017822265625,6.641382694244385,-7.088389873504639,-8.007373809814453,20.67159080505371,-13.314393997192383,21.27789306640625,-1.870949149131775,-19.291053771972656,8.305024147033691,6.134940147399902,-14.321802139282227,-8.409340858459473,5.401462554931641,14.442787170410156,21.481935501098633,2.9007441997528076,-9.64130687713623,-1.1248465776443481,14.510814666748047,6.55821418762207,7.916100025177002,-7.266674041748047,11.973313331604004,18.108654022216797,11.220272064208984,-25.292499542236328,-20.094160079956055,-1.6091644763946533,15.770401000976562,-18.662109375,-7.140568256378174,-4.2487874031066895,12.256813049316406,-14.188131332397461,-6.377558708190918,9.62114143371582,5.3851637840271,1.3774842023849487,-13.894886016845703,-19.155071258544922,9.907058715820312,5.96551513671875,-17.8918399810791,0.41454970836639404,22.88265609741211,-13.294548034667969,-9.148181915283203,15.13543701171875,4.5173258781433105,-13.647329330444336,14.193473815917969,-0.967303991317749,-16.525665283203125,17.215286254882812,-6.745512962341309,5.7014241218566895,-8.222916603088379,-0.6754683256149292,-3.6615328788757324,6.573073863983154,-0.19464439153671265,9.859132766723633,-9.992202758789062,3.164538860321045,-19.671960830688477,-12.255867958068848,4.97360897064209,2.4094038009643555,-10.650400161743164,-1.5326991081237793,14.021778106689453,-7.389957904815674,-18.23230743408203,-11.316567420959473,-0.8569221496582031,-6.217225074768066,18.57809066772461,-7.623923301696777,0.5583208203315735,1.715613603591919,8.734230995178223,-18.842426300048828,14.345231056213379,11.134082794189453,21.06859588623047,-4.082332134246826,6.004242420196533,-3.3851218223571777,2.0011329650878906,-11.994929313659668,12.158184051513672,1.5056208372116089,6.526169300079346,1.60086989402771,-10.83846378326416,-6.378162384033203,-12.606851577758789,17.125072479248047,21.661664962768555,-17.120641708374023],\"type\":\"scatter3d\"}],                        {\"template\":{\"data\":{\"histogram2dcontour\":[{\"type\":\"histogram2dcontour\",\"colorbar\":{\"outlinewidth\":0,\"ticks\":\"\"},\"colorscale\":[[0.0,\"#0d0887\"],[0.1111111111111111,\"#46039f\"],[0.2222222222222222,\"#7201a8\"],[0.3333333333333333,\"#9c179e\"],[0.4444444444444444,\"#bd3786\"],[0.5555555555555556,\"#d8576b\"],[0.6666666666666666,\"#ed7953\"],[0.7777777777777778,\"#fb9f3a\"],[0.8888888888888888,\"#fdca26\"],[1.0,\"#f0f921\"]]}],\"choropleth\":[{\"type\":\"choropleth\",\"colorbar\":{\"outlinewidth\":0,\"ticks\":\"\"}}],\"histogram2d\":[{\"type\":\"histogram2d\",\"colorbar\":{\"outlinewidth\":0,\"ticks\":\"\"},\"colorscale\":[[0.0,\"#0d0887\"],[0.1111111111111111,\"#46039f\"],[0.2222222222222222,\"#7201a8\"],[0.3333333333333333,\"#9c179e\"],[0.4444444444444444,\"#bd3786\"],[0.5555555555555556,\"#d8576b\"],[0.6666666666666666,\"#ed7953\"],[0.7777777777777778,\"#fb9f3a\"],[0.8888888888888888,\"#fdca26\"],[1.0,\"#f0f921\"]]}],\"heatmap\":[{\"type\":\"heatmap\",\"colorbar\":{\"outlinewidth\":0,\"ticks\":\"\"},\"colorscale\":[[0.0,\"#0d0887\"],[0.1111111111111111,\"#46039f\"],[0.2222222222222222,\"#7201a8\"],[0.3333333333333333,\"#9c179e\"],[0.4444444444444444,\"#bd3786\"],[0.5555555555555556,\"#d8576b\"],[0.6666666666666666,\"#ed7953\"],[0.7777777777777778,\"#fb9f3a\"],[0.8888888888888888,\"#fdca26\"],[1.0,\"#f0f921\"]]}],\"heatmapgl\":[{\"type\":\"heatmapgl\",\"colorbar\":{\"outlinewidth\":0,\"ticks\":\"\"},\"colorscale\":[[0.0,\"#0d0887\"],[0.1111111111111111,\"#46039f\"],[0.2222222222222222,\"#7201a8\"],[0.3333333333333333,\"#9c179e\"],[0.4444444444444444,\"#bd3786\"],[0.5555555555555556,\"#d8576b\"],[0.6666666666666666,\"#ed7953\"],[0.7777777777777778,\"#fb9f3a\"],[0.8888888888888888,\"#fdca26\"],[1.0,\"#f0f921\"]]}],\"contourcarpet\":[{\"type\":\"contourcarpet\",\"colorbar\":{\"outlinewidth\":0,\"ticks\":\"\"}}],\"contour\":[{\"type\":\"contour\",\"colorbar\":{\"outlinewidth\":0,\"ticks\":\"\"},\"colorscale\":[[0.0,\"#0d0887\"],[0.1111111111111111,\"#46039f\"],[0.2222222222222222,\"#7201a8\"],[0.3333333333333333,\"#9c179e\"],[0.4444444444444444,\"#bd3786\"],[0.5555555555555556,\"#d8576b\"],[0.6666666666666666,\"#ed7953\"],[0.7777777777777778,\"#fb9f3a\"],[0.8888888888888888,\"#fdca26\"],[1.0,\"#f0f921\"]]}],\"surface\":[{\"type\":\"surface\",\"colorbar\":{\"outlinewidth\":0,\"ticks\":\"\"},\"colorscale\":[[0.0,\"#0d0887\"],[0.1111111111111111,\"#46039f\"],[0.2222222222222222,\"#7201a8\"],[0.3333333333333333,\"#9c179e\"],[0.4444444444444444,\"#bd3786\"],[0.5555555555555556,\"#d8576b\"],[0.6666666666666666,\"#ed7953\"],[0.7777777777777778,\"#fb9f3a\"],[0.8888888888888888,\"#fdca26\"],[1.0,\"#f0f921\"]]}],\"mesh3d\":[{\"type\":\"mesh3d\",\"colorbar\":{\"outlinewidth\":0,\"ticks\":\"\"}}],\"scatter\":[{\"fillpattern\":{\"fillmode\":\"overlay\",\"size\":10,\"solidity\":0.2},\"type\":\"scatter\"}],\"parcoords\":[{\"type\":\"parcoords\",\"line\":{\"colorbar\":{\"outlinewidth\":0,\"ticks\":\"\"}}}],\"scatterpolargl\":[{\"type\":\"scatterpolargl\",\"marker\":{\"colorbar\":{\"outlinewidth\":0,\"ticks\":\"\"}}}],\"bar\":[{\"error_x\":{\"color\":\"#2a3f5f\"},\"error_y\":{\"color\":\"#2a3f5f\"},\"marker\":{\"line\":{\"color\":\"#E5ECF6\",\"width\":0.5},\"pattern\":{\"fillmode\":\"overlay\",\"size\":10,\"solidity\":0.2}},\"type\":\"bar\"}],\"scattergeo\":[{\"type\":\"scattergeo\",\"marker\":{\"colorbar\":{\"outlinewidth\":0,\"ticks\":\"\"}}}],\"scatterpolar\":[{\"type\":\"scatterpolar\",\"marker\":{\"colorbar\":{\"outlinewidth\":0,\"ticks\":\"\"}}}],\"histogram\":[{\"marker\":{\"pattern\":{\"fillmode\":\"overlay\",\"size\":10,\"solidity\":0.2}},\"type\":\"histogram\"}],\"scattergl\":[{\"type\":\"scattergl\",\"marker\":{\"colorbar\":{\"outlinewidth\":0,\"ticks\":\"\"}}}],\"scatter3d\":[{\"type\":\"scatter3d\",\"line\":{\"colorbar\":{\"outlinewidth\":0,\"ticks\":\"\"}},\"marker\":{\"colorbar\":{\"outlinewidth\":0,\"ticks\":\"\"}}}],\"scattermapbox\":[{\"type\":\"scattermapbox\",\"marker\":{\"colorbar\":{\"outlinewidth\":0,\"ticks\":\"\"}}}],\"scatterternary\":[{\"type\":\"scatterternary\",\"marker\":{\"colorbar\":{\"outlinewidth\":0,\"ticks\":\"\"}}}],\"scattercarpet\":[{\"type\":\"scattercarpet\",\"marker\":{\"colorbar\":{\"outlinewidth\":0,\"ticks\":\"\"}}}],\"carpet\":[{\"aaxis\":{\"endlinecolor\":\"#2a3f5f\",\"gridcolor\":\"white\",\"linecolor\":\"white\",\"minorgridcolor\":\"white\",\"startlinecolor\":\"#2a3f5f\"},\"baxis\":{\"endlinecolor\":\"#2a3f5f\",\"gridcolor\":\"white\",\"linecolor\":\"white\",\"minorgridcolor\":\"white\",\"startlinecolor\":\"#2a3f5f\"},\"type\":\"carpet\"}],\"table\":[{\"cells\":{\"fill\":{\"color\":\"#EBF0F8\"},\"line\":{\"color\":\"white\"}},\"header\":{\"fill\":{\"color\":\"#C8D4E3\"},\"line\":{\"color\":\"white\"}},\"type\":\"table\"}],\"barpolar\":[{\"marker\":{\"line\":{\"color\":\"#E5ECF6\",\"width\":0.5},\"pattern\":{\"fillmode\":\"overlay\",\"size\":10,\"solidity\":0.2}},\"type\":\"barpolar\"}],\"pie\":[{\"automargin\":true,\"type\":\"pie\"}]},\"layout\":{\"autotypenumbers\":\"strict\",\"colorway\":[\"#636efa\",\"#EF553B\",\"#00cc96\",\"#ab63fa\",\"#FFA15A\",\"#19d3f3\",\"#FF6692\",\"#B6E880\",\"#FF97FF\",\"#FECB52\"],\"font\":{\"color\":\"#2a3f5f\"},\"hovermode\":\"closest\",\"hoverlabel\":{\"align\":\"left\"},\"paper_bgcolor\":\"white\",\"plot_bgcolor\":\"#E5ECF6\",\"polar\":{\"bgcolor\":\"#E5ECF6\",\"angularaxis\":{\"gridcolor\":\"white\",\"linecolor\":\"white\",\"ticks\":\"\"},\"radialaxis\":{\"gridcolor\":\"white\",\"linecolor\":\"white\",\"ticks\":\"\"}},\"ternary\":{\"bgcolor\":\"#E5ECF6\",\"aaxis\":{\"gridcolor\":\"white\",\"linecolor\":\"white\",\"ticks\":\"\"},\"baxis\":{\"gridcolor\":\"white\",\"linecolor\":\"white\",\"ticks\":\"\"},\"caxis\":{\"gridcolor\":\"white\",\"linecolor\":\"white\",\"ticks\":\"\"}},\"coloraxis\":{\"colorbar\":{\"outlinewidth\":0,\"ticks\":\"\"}},\"colorscale\":{\"sequential\":[[0.0,\"#0d0887\"],[0.1111111111111111,\"#46039f\"],[0.2222222222222222,\"#7201a8\"],[0.3333333333333333,\"#9c179e\"],[0.4444444444444444,\"#bd3786\"],[0.5555555555555556,\"#d8576b\"],[0.6666666666666666,\"#ed7953\"],[0.7777777777777778,\"#fb9f3a\"],[0.8888888888888888,\"#fdca26\"],[1.0,\"#f0f921\"]],\"sequentialminus\":[[0.0,\"#0d0887\"],[0.1111111111111111,\"#46039f\"],[0.2222222222222222,\"#7201a8\"],[0.3333333333333333,\"#9c179e\"],[0.4444444444444444,\"#bd3786\"],[0.5555555555555556,\"#d8576b\"],[0.6666666666666666,\"#ed7953\"],[0.7777777777777778,\"#fb9f3a\"],[0.8888888888888888,\"#fdca26\"],[1.0,\"#f0f921\"]],\"diverging\":[[0,\"#8e0152\"],[0.1,\"#c51b7d\"],[0.2,\"#de77ae\"],[0.3,\"#f1b6da\"],[0.4,\"#fde0ef\"],[0.5,\"#f7f7f7\"],[0.6,\"#e6f5d0\"],[0.7,\"#b8e186\"],[0.8,\"#7fbc41\"],[0.9,\"#4d9221\"],[1,\"#276419\"]]},\"xaxis\":{\"gridcolor\":\"white\",\"linecolor\":\"white\",\"ticks\":\"\",\"title\":{\"standoff\":15},\"zerolinecolor\":\"white\",\"automargin\":true,\"zerolinewidth\":2},\"yaxis\":{\"gridcolor\":\"white\",\"linecolor\":\"white\",\"ticks\":\"\",\"title\":{\"standoff\":15},\"zerolinecolor\":\"white\",\"automargin\":true,\"zerolinewidth\":2},\"scene\":{\"xaxis\":{\"backgroundcolor\":\"#E5ECF6\",\"gridcolor\":\"white\",\"linecolor\":\"white\",\"showbackground\":true,\"ticks\":\"\",\"zerolinecolor\":\"white\",\"gridwidth\":2},\"yaxis\":{\"backgroundcolor\":\"#E5ECF6\",\"gridcolor\":\"white\",\"linecolor\":\"white\",\"showbackground\":true,\"ticks\":\"\",\"zerolinecolor\":\"white\",\"gridwidth\":2},\"zaxis\":{\"backgroundcolor\":\"#E5ECF6\",\"gridcolor\":\"white\",\"linecolor\":\"white\",\"showbackground\":true,\"ticks\":\"\",\"zerolinecolor\":\"white\",\"gridwidth\":2}},\"shapedefaults\":{\"line\":{\"color\":\"#2a3f5f\"}},\"annotationdefaults\":{\"arrowcolor\":\"#2a3f5f\",\"arrowhead\":0,\"arrowwidth\":1},\"geo\":{\"bgcolor\":\"white\",\"landcolor\":\"#E5ECF6\",\"subunitcolor\":\"white\",\"showland\":true,\"showlakes\":true,\"lakecolor\":\"white\"},\"title\":{\"x\":0.05},\"mapbox\":{\"style\":\"light\"}}},\"scene\":{\"domain\":{\"x\":[0.0,1.0],\"y\":[0.0,1.0]},\"xaxis\":{\"title\":{\"text\":\"x\"}},\"yaxis\":{\"title\":{\"text\":\"y\"}},\"zaxis\":{\"title\":{\"text\":\"z\"}}},\"legend\":{\"tracegroupgap\":0},\"margin\":{\"t\":60}},                        {\"responsive\": true}                    ).then(function(){\n",
              "                            \n",
              "var gd = document.getElementById('6663992a-61c3-433a-a24f-440bc8661e20');\n",
              "var x = new MutationObserver(function (mutations, observer) {{\n",
              "        var display = window.getComputedStyle(gd).display;\n",
              "        if (!display || display === 'none') {{\n",
              "            console.log([gd, 'removed!']);\n",
              "            Plotly.purge(gd);\n",
              "            observer.disconnect();\n",
              "        }}\n",
              "}});\n",
              "\n",
              "// Listen for the removal of the full notebook cells\n",
              "var notebookContainer = gd.closest('#notebook-container');\n",
              "if (notebookContainer) {{\n",
              "    x.observe(notebookContainer, {childList: true});\n",
              "}}\n",
              "\n",
              "// Listen for the clearing of the current output cell\n",
              "var outputEl = gd.closest('.output');\n",
              "if (outputEl) {{\n",
              "    x.observe(outputEl, {childList: true});\n",
              "}}\n",
              "\n",
              "                        })                };                            </script>        </div>\n",
              "</body>\n",
              "</html>"
            ]
          },
          "metadata": {}
        }
      ],
      "source": [
        "import numpy as np\n",
        "import plotly.express as px\n",
        "\n",
        "x, y, z = np.transpose(tsne_embedding)\n",
        "\n",
        "fig = px.scatter_3d(x=x, y=y, z=z)\n",
        "fig.update_traces(marker=dict(size=3,line=dict(width=2)))\n",
        "fig.show()"
      ],
      "id": "pTgWzUh2p9Fs"
    },
    {
      "cell_type": "markdown",
      "metadata": {
        "id": "MkFJZWi50nkF"
      },
      "source": [
        "Now let's select randomly a few sentences to display"
      ],
      "id": "MkFJZWi50nkF"
    },
    {
      "cell_type": "code",
      "execution_count": 20,
      "metadata": {
        "colab": {
          "base_uri": "https://localhost:8080/",
          "height": 563
        },
        "id": "TUC8hTv24S41",
        "outputId": "f1e2898a-e754-4437-c37f-7fa2f2de740b"
      },
      "outputs": [
        {
          "output_type": "display_data",
          "data": {
            "text/html": [
              "<html>\n",
              "<head><meta charset=\"utf-8\" /></head>\n",
              "<body>\n",
              "    <div>            <script src=\"https://cdnjs.cloudflare.com/ajax/libs/mathjax/2.7.5/MathJax.js?config=TeX-AMS-MML_SVG\"></script><script type=\"text/javascript\">if (window.MathJax && window.MathJax.Hub && window.MathJax.Hub.Config) {window.MathJax.Hub.Config({SVG: {font: \"STIX-Web\"}});}</script>                <script type=\"text/javascript\">window.PlotlyConfig = {MathJaxConfig: 'local'};</script>\n",
              "        <script src=\"https://cdn.plot.ly/plotly-2.18.2.min.js\"></script>                <div id=\"55503aa1-53c5-427c-b726-8d9b9ca6d45a\" class=\"plotly-graph-div\" style=\"height:525px; width:100%;\"></div>            <script type=\"text/javascript\">                                    window.PLOTLYENV=window.PLOTLYENV || {};                                    if (document.getElementById(\"55503aa1-53c5-427c-b726-8d9b9ca6d45a\")) {                    Plotly.newPlot(                        \"55503aa1-53c5-427c-b726-8d9b9ca6d45a\",                        [{\"hovertemplate\":\"x=%{x}<br>y=%{y}<br>z=%{z}<br>text=%{text}<extra></extra>\",\"legendgroup\":\"\",\"marker\":{\"color\":\"#636efa\",\"symbol\":\"circle\",\"line\":{\"width\":2},\"size\":3},\"mode\":\"markers+text\",\"name\":\"\",\"scene\":\"scene\",\"showlegend\":false,\"text\":[946.0,1625.0,1047.0,882.0,618.0,368.0,1314.0,1051.0,586.0,817.0],\"x\":[10.764859199523926,14.095094680786133,15.519694328308105,-9.231841087341309,-6.587896347045898,10.962884902954102,-16.783140182495117,10.426231384277344,-4.57443904876709,-9.36436653137207],\"y\":[-10.571778297424316,-0.4071323573589325,-5.833405494689941,11.930235862731934,10.233449935913086,0.5276941657066345,2.9160306453704834,-21.59428596496582,-17.497119903564453,-23.582324981689453],\"z\":[-14.935925483703613,-1.9613763093948364,-2.3629307746887207,-21.122594833374023,-22.075515747070312,11.124336242675781,3.958503246307373,0.004410369321703911,-10.927489280700684,3.333834171295166],\"type\":\"scatter3d\"}],                        {\"template\":{\"data\":{\"histogram2dcontour\":[{\"type\":\"histogram2dcontour\",\"colorbar\":{\"outlinewidth\":0,\"ticks\":\"\"},\"colorscale\":[[0.0,\"#0d0887\"],[0.1111111111111111,\"#46039f\"],[0.2222222222222222,\"#7201a8\"],[0.3333333333333333,\"#9c179e\"],[0.4444444444444444,\"#bd3786\"],[0.5555555555555556,\"#d8576b\"],[0.6666666666666666,\"#ed7953\"],[0.7777777777777778,\"#fb9f3a\"],[0.8888888888888888,\"#fdca26\"],[1.0,\"#f0f921\"]]}],\"choropleth\":[{\"type\":\"choropleth\",\"colorbar\":{\"outlinewidth\":0,\"ticks\":\"\"}}],\"histogram2d\":[{\"type\":\"histogram2d\",\"colorbar\":{\"outlinewidth\":0,\"ticks\":\"\"},\"colorscale\":[[0.0,\"#0d0887\"],[0.1111111111111111,\"#46039f\"],[0.2222222222222222,\"#7201a8\"],[0.3333333333333333,\"#9c179e\"],[0.4444444444444444,\"#bd3786\"],[0.5555555555555556,\"#d8576b\"],[0.6666666666666666,\"#ed7953\"],[0.7777777777777778,\"#fb9f3a\"],[0.8888888888888888,\"#fdca26\"],[1.0,\"#f0f921\"]]}],\"heatmap\":[{\"type\":\"heatmap\",\"colorbar\":{\"outlinewidth\":0,\"ticks\":\"\"},\"colorscale\":[[0.0,\"#0d0887\"],[0.1111111111111111,\"#46039f\"],[0.2222222222222222,\"#7201a8\"],[0.3333333333333333,\"#9c179e\"],[0.4444444444444444,\"#bd3786\"],[0.5555555555555556,\"#d8576b\"],[0.6666666666666666,\"#ed7953\"],[0.7777777777777778,\"#fb9f3a\"],[0.8888888888888888,\"#fdca26\"],[1.0,\"#f0f921\"]]}],\"heatmapgl\":[{\"type\":\"heatmapgl\",\"colorbar\":{\"outlinewidth\":0,\"ticks\":\"\"},\"colorscale\":[[0.0,\"#0d0887\"],[0.1111111111111111,\"#46039f\"],[0.2222222222222222,\"#7201a8\"],[0.3333333333333333,\"#9c179e\"],[0.4444444444444444,\"#bd3786\"],[0.5555555555555556,\"#d8576b\"],[0.6666666666666666,\"#ed7953\"],[0.7777777777777778,\"#fb9f3a\"],[0.8888888888888888,\"#fdca26\"],[1.0,\"#f0f921\"]]}],\"contourcarpet\":[{\"type\":\"contourcarpet\",\"colorbar\":{\"outlinewidth\":0,\"ticks\":\"\"}}],\"contour\":[{\"type\":\"contour\",\"colorbar\":{\"outlinewidth\":0,\"ticks\":\"\"},\"colorscale\":[[0.0,\"#0d0887\"],[0.1111111111111111,\"#46039f\"],[0.2222222222222222,\"#7201a8\"],[0.3333333333333333,\"#9c179e\"],[0.4444444444444444,\"#bd3786\"],[0.5555555555555556,\"#d8576b\"],[0.6666666666666666,\"#ed7953\"],[0.7777777777777778,\"#fb9f3a\"],[0.8888888888888888,\"#fdca26\"],[1.0,\"#f0f921\"]]}],\"surface\":[{\"type\":\"surface\",\"colorbar\":{\"outlinewidth\":0,\"ticks\":\"\"},\"colorscale\":[[0.0,\"#0d0887\"],[0.1111111111111111,\"#46039f\"],[0.2222222222222222,\"#7201a8\"],[0.3333333333333333,\"#9c179e\"],[0.4444444444444444,\"#bd3786\"],[0.5555555555555556,\"#d8576b\"],[0.6666666666666666,\"#ed7953\"],[0.7777777777777778,\"#fb9f3a\"],[0.8888888888888888,\"#fdca26\"],[1.0,\"#f0f921\"]]}],\"mesh3d\":[{\"type\":\"mesh3d\",\"colorbar\":{\"outlinewidth\":0,\"ticks\":\"\"}}],\"scatter\":[{\"fillpattern\":{\"fillmode\":\"overlay\",\"size\":10,\"solidity\":0.2},\"type\":\"scatter\"}],\"parcoords\":[{\"type\":\"parcoords\",\"line\":{\"colorbar\":{\"outlinewidth\":0,\"ticks\":\"\"}}}],\"scatterpolargl\":[{\"type\":\"scatterpolargl\",\"marker\":{\"colorbar\":{\"outlinewidth\":0,\"ticks\":\"\"}}}],\"bar\":[{\"error_x\":{\"color\":\"#2a3f5f\"},\"error_y\":{\"color\":\"#2a3f5f\"},\"marker\":{\"line\":{\"color\":\"#E5ECF6\",\"width\":0.5},\"pattern\":{\"fillmode\":\"overlay\",\"size\":10,\"solidity\":0.2}},\"type\":\"bar\"}],\"scattergeo\":[{\"type\":\"scattergeo\",\"marker\":{\"colorbar\":{\"outlinewidth\":0,\"ticks\":\"\"}}}],\"scatterpolar\":[{\"type\":\"scatterpolar\",\"marker\":{\"colorbar\":{\"outlinewidth\":0,\"ticks\":\"\"}}}],\"histogram\":[{\"marker\":{\"pattern\":{\"fillmode\":\"overlay\",\"size\":10,\"solidity\":0.2}},\"type\":\"histogram\"}],\"scattergl\":[{\"type\":\"scattergl\",\"marker\":{\"colorbar\":{\"outlinewidth\":0,\"ticks\":\"\"}}}],\"scatter3d\":[{\"type\":\"scatter3d\",\"line\":{\"colorbar\":{\"outlinewidth\":0,\"ticks\":\"\"}},\"marker\":{\"colorbar\":{\"outlinewidth\":0,\"ticks\":\"\"}}}],\"scattermapbox\":[{\"type\":\"scattermapbox\",\"marker\":{\"colorbar\":{\"outlinewidth\":0,\"ticks\":\"\"}}}],\"scatterternary\":[{\"type\":\"scatterternary\",\"marker\":{\"colorbar\":{\"outlinewidth\":0,\"ticks\":\"\"}}}],\"scattercarpet\":[{\"type\":\"scattercarpet\",\"marker\":{\"colorbar\":{\"outlinewidth\":0,\"ticks\":\"\"}}}],\"carpet\":[{\"aaxis\":{\"endlinecolor\":\"#2a3f5f\",\"gridcolor\":\"white\",\"linecolor\":\"white\",\"minorgridcolor\":\"white\",\"startlinecolor\":\"#2a3f5f\"},\"baxis\":{\"endlinecolor\":\"#2a3f5f\",\"gridcolor\":\"white\",\"linecolor\":\"white\",\"minorgridcolor\":\"white\",\"startlinecolor\":\"#2a3f5f\"},\"type\":\"carpet\"}],\"table\":[{\"cells\":{\"fill\":{\"color\":\"#EBF0F8\"},\"line\":{\"color\":\"white\"}},\"header\":{\"fill\":{\"color\":\"#C8D4E3\"},\"line\":{\"color\":\"white\"}},\"type\":\"table\"}],\"barpolar\":[{\"marker\":{\"line\":{\"color\":\"#E5ECF6\",\"width\":0.5},\"pattern\":{\"fillmode\":\"overlay\",\"size\":10,\"solidity\":0.2}},\"type\":\"barpolar\"}],\"pie\":[{\"automargin\":true,\"type\":\"pie\"}]},\"layout\":{\"autotypenumbers\":\"strict\",\"colorway\":[\"#636efa\",\"#EF553B\",\"#00cc96\",\"#ab63fa\",\"#FFA15A\",\"#19d3f3\",\"#FF6692\",\"#B6E880\",\"#FF97FF\",\"#FECB52\"],\"font\":{\"color\":\"#2a3f5f\"},\"hovermode\":\"closest\",\"hoverlabel\":{\"align\":\"left\"},\"paper_bgcolor\":\"white\",\"plot_bgcolor\":\"#E5ECF6\",\"polar\":{\"bgcolor\":\"#E5ECF6\",\"angularaxis\":{\"gridcolor\":\"white\",\"linecolor\":\"white\",\"ticks\":\"\"},\"radialaxis\":{\"gridcolor\":\"white\",\"linecolor\":\"white\",\"ticks\":\"\"}},\"ternary\":{\"bgcolor\":\"#E5ECF6\",\"aaxis\":{\"gridcolor\":\"white\",\"linecolor\":\"white\",\"ticks\":\"\"},\"baxis\":{\"gridcolor\":\"white\",\"linecolor\":\"white\",\"ticks\":\"\"},\"caxis\":{\"gridcolor\":\"white\",\"linecolor\":\"white\",\"ticks\":\"\"}},\"coloraxis\":{\"colorbar\":{\"outlinewidth\":0,\"ticks\":\"\"}},\"colorscale\":{\"sequential\":[[0.0,\"#0d0887\"],[0.1111111111111111,\"#46039f\"],[0.2222222222222222,\"#7201a8\"],[0.3333333333333333,\"#9c179e\"],[0.4444444444444444,\"#bd3786\"],[0.5555555555555556,\"#d8576b\"],[0.6666666666666666,\"#ed7953\"],[0.7777777777777778,\"#fb9f3a\"],[0.8888888888888888,\"#fdca26\"],[1.0,\"#f0f921\"]],\"sequentialminus\":[[0.0,\"#0d0887\"],[0.1111111111111111,\"#46039f\"],[0.2222222222222222,\"#7201a8\"],[0.3333333333333333,\"#9c179e\"],[0.4444444444444444,\"#bd3786\"],[0.5555555555555556,\"#d8576b\"],[0.6666666666666666,\"#ed7953\"],[0.7777777777777778,\"#fb9f3a\"],[0.8888888888888888,\"#fdca26\"],[1.0,\"#f0f921\"]],\"diverging\":[[0,\"#8e0152\"],[0.1,\"#c51b7d\"],[0.2,\"#de77ae\"],[0.3,\"#f1b6da\"],[0.4,\"#fde0ef\"],[0.5,\"#f7f7f7\"],[0.6,\"#e6f5d0\"],[0.7,\"#b8e186\"],[0.8,\"#7fbc41\"],[0.9,\"#4d9221\"],[1,\"#276419\"]]},\"xaxis\":{\"gridcolor\":\"white\",\"linecolor\":\"white\",\"ticks\":\"\",\"title\":{\"standoff\":15},\"zerolinecolor\":\"white\",\"automargin\":true,\"zerolinewidth\":2},\"yaxis\":{\"gridcolor\":\"white\",\"linecolor\":\"white\",\"ticks\":\"\",\"title\":{\"standoff\":15},\"zerolinecolor\":\"white\",\"automargin\":true,\"zerolinewidth\":2},\"scene\":{\"xaxis\":{\"backgroundcolor\":\"#E5ECF6\",\"gridcolor\":\"white\",\"linecolor\":\"white\",\"showbackground\":true,\"ticks\":\"\",\"zerolinecolor\":\"white\",\"gridwidth\":2},\"yaxis\":{\"backgroundcolor\":\"#E5ECF6\",\"gridcolor\":\"white\",\"linecolor\":\"white\",\"showbackground\":true,\"ticks\":\"\",\"zerolinecolor\":\"white\",\"gridwidth\":2},\"zaxis\":{\"backgroundcolor\":\"#E5ECF6\",\"gridcolor\":\"white\",\"linecolor\":\"white\",\"showbackground\":true,\"ticks\":\"\",\"zerolinecolor\":\"white\",\"gridwidth\":2}},\"shapedefaults\":{\"line\":{\"color\":\"#2a3f5f\"}},\"annotationdefaults\":{\"arrowcolor\":\"#2a3f5f\",\"arrowhead\":0,\"arrowwidth\":1},\"geo\":{\"bgcolor\":\"white\",\"landcolor\":\"#E5ECF6\",\"subunitcolor\":\"white\",\"showland\":true,\"showlakes\":true,\"lakecolor\":\"white\"},\"title\":{\"x\":0.05},\"mapbox\":{\"style\":\"light\"}}},\"scene\":{\"domain\":{\"x\":[0.0,1.0],\"y\":[0.0,1.0]},\"xaxis\":{\"title\":{\"text\":\"x\"}},\"yaxis\":{\"title\":{\"text\":\"y\"}},\"zaxis\":{\"title\":{\"text\":\"z\"}}},\"legend\":{\"tracegroupgap\":0},\"margin\":{\"t\":60}},                        {\"responsive\": true}                    ).then(function(){\n",
              "                            \n",
              "var gd = document.getElementById('55503aa1-53c5-427c-b726-8d9b9ca6d45a');\n",
              "var x = new MutationObserver(function (mutations, observer) {{\n",
              "        var display = window.getComputedStyle(gd).display;\n",
              "        if (!display || display === 'none') {{\n",
              "            console.log([gd, 'removed!']);\n",
              "            Plotly.purge(gd);\n",
              "            observer.disconnect();\n",
              "        }}\n",
              "}});\n",
              "\n",
              "// Listen for the removal of the full notebook cells\n",
              "var notebookContainer = gd.closest('#notebook-container');\n",
              "if (notebookContainer) {{\n",
              "    x.observe(notebookContainer, {childList: true});\n",
              "}}\n",
              "\n",
              "// Listen for the clearing of the current output cell\n",
              "var outputEl = gd.closest('.output');\n",
              "if (outputEl) {{\n",
              "    x.observe(outputEl, {childList: true});\n",
              "}}\n",
              "\n",
              "                        })                };                            </script>        </div>\n",
              "</body>\n",
              "</html>"
            ]
          },
          "metadata": {}
        }
      ],
      "source": [
        "# Select ranomly the sentences\n",
        "embed_idxs = np.random.choice(np.arange(len(tsne_embedding)), 10)\n",
        "sent_idxs = np.arange(0, len(sentences), 300)[embed_idxs]\n",
        "\n",
        "# Plot the selected sentences\n",
        "fig = px.scatter_3d(x=x[embed_idxs], y=y[embed_idxs], z=z[embed_idxs], text=embed_idxs)\n",
        "fig.update_traces(marker=dict(size=3,line=dict(width=2)))\n",
        "fig.show()"
      ],
      "id": "TUC8hTv24S41"
    },
    {
      "cell_type": "markdown",
      "metadata": {
        "id": "X2RjnDcL3O9g"
      },
      "source": [
        "Let's give a look at the text of the selected sentences"
      ],
      "id": "X2RjnDcL3O9g"
    },
    {
      "cell_type": "code",
      "execution_count": 21,
      "metadata": {
        "colab": {
          "base_uri": "https://localhost:8080/"
        },
        "id": "jUf_QX-H3PMs",
        "outputId": "356d7503-27a7-47ab-c46a-3afe28d1b286"
      },
      "outputs": [
        {
          "output_type": "stream",
          "name": "stdout",
          "text": [
            "   946:\t\"Two men are sitting on the couch eating chips\"\n",
            "  1625:\t\"A woman in a green tank top and green necklace, wearing sunglasses, holding a purse.\"\n",
            "  1047:\t\"The woman here is not in a boat.\"\n",
            "   882:\t\"Dogs from the same manager are being measured for their racing potential.\"\n",
            "   618:\t\"The dogs are running around.\"\n",
            "   368:\t\"A construction worker is working while wearing a white hard hat.\"\n",
            "  1314:\t\"The men are competing in a wrestling competition.\"\n",
            "  1051:\t\"The worker made the cupcakes to frost.\"\n",
            "   586:\t\"three females are hanging while the other three females are walking away.\"\n",
            "   817:\t\"protesters demand better food at mcdonalds and shorter lines\"\n"
          ]
        }
      ],
      "source": [
        "for e_idx, s_idx in zip(embed_idxs, sent_idxs):\n",
        "    print(f\"{e_idx:6d}:\\t\\\"{sentences[s_idx]}\\\"\")"
      ],
      "id": "jUf_QX-H3PMs"
    },
    {
      "cell_type": "markdown",
      "metadata": {
        "id": "53ae9259-929d-45ad-8ce3-255fb94ebe79"
      },
      "source": [
        "### Multi-lingual models\n",
        "\n",
        "We have models working with multiple languages, this means we can compute also cross-language similarity"
      ],
      "id": "53ae9259-929d-45ad-8ce3-255fb94ebe79"
    },
    {
      "cell_type": "code",
      "execution_count": 22,
      "metadata": {
        "id": "OS8a8E8TbynR"
      },
      "outputs": [],
      "source": [
        "multilingual_model = SentenceTransformer('paraphrase-multilingual-mpnet-base-v2')"
      ],
      "id": "OS8a8E8TbynR"
    },
    {
      "cell_type": "markdown",
      "metadata": {
        "id": "CpgwzusQiYFb"
      },
      "source": [
        "Let's pick a sentence and translate it in multiple languages"
      ],
      "id": "CpgwzusQiYFb"
    },
    {
      "cell_type": "code",
      "execution_count": 23,
      "metadata": {
        "id": "Ou_VhMqwby6h"
      },
      "outputs": [],
      "source": [
        "# multilingual_corpus = [\n",
        "#     \"Where is the library?\",\n",
        "#     \"¿Donde está la biblioteca?\",\n",
        "#     \"Dov'è la biblioteca?\"\n",
        "# ]\n",
        "multilingual_corpus = [\n",
        "    \"Io sono Vincenzo Scotti dall'Abruzzo, tu chi sei?\",\n",
        "    \"I am Mark Carman and I'm from Australia... Mate!\",\n",
        "    \"Sono Mark Carman e vengo dall'Australia... Amico!\",\n",
        "    \"Soy Mark Carman y soy de Australia... Compañero!\",\n",
        "    \"Ich bin Mark Carman und ich komme aus Australien... Kumpel!\"\n",
        "]"
      ],
      "id": "Ou_VhMqwby6h"
    },
    {
      "cell_type": "markdown",
      "metadata": {
        "id": "5IQNQd0PikeN"
      },
      "source": [
        "Now let's compute the similarity between translation pairs"
      ],
      "id": "5IQNQd0PikeN"
    },
    {
      "cell_type": "code",
      "execution_count": 24,
      "metadata": {
        "colab": {
          "base_uri": "https://localhost:8080/"
        },
        "id": "hhrXPDE2ciZr",
        "outputId": "32a155b8-49c0-4286-aa03-946656b32af8"
      },
      "outputs": [
        {
          "output_type": "stream",
          "name": "stdout",
          "text": [
            "Sentence 1: \"Io sono Vincenzo Scotti dall'Abruzzo, tu chi sei?\"\n",
            "Sentence 2: \"I am Mark Carman and I'm from Australia... Mate!\"\n",
            "---------------------------------------------------------------\n",
            "Cosine similarity: 0.19\n",
            "\n",
            "\n",
            "\n",
            "\n",
            "\n",
            "Sentence 1: \"Io sono Vincenzo Scotti dall'Abruzzo, tu chi sei?\"\n",
            "Sentence 2: \"Sono Mark Carman e vengo dall'Australia... Amico!\"\n",
            "---------------------------------------------------------------\n",
            "Cosine similarity: 0.55\n",
            "\n",
            "\n",
            "\n",
            "\n",
            "\n",
            "Sentence 1: \"Io sono Vincenzo Scotti dall'Abruzzo, tu chi sei?\"\n",
            "Sentence 2: \"Soy Mark Carman y soy de Australia... Compañero!\"\n",
            "---------------------------------------------------------------\n",
            "Cosine similarity: 0.25\n",
            "\n",
            "\n",
            "\n",
            "\n",
            "\n",
            "Sentence 1: \"Io sono Vincenzo Scotti dall'Abruzzo, tu chi sei?\"\n",
            "Sentence 2: \"Ich bin Mark Carman und ich komme aus Australien... Kumpel!\"\n",
            "---------------------------------------------------------------\n",
            "Cosine similarity: 0.27\n",
            "\n",
            "\n",
            "\n",
            "\n",
            "\n",
            "Sentence 1: \"I am Mark Carman and I'm from Australia... Mate!\"\n",
            "Sentence 2: \"Sono Mark Carman e vengo dall'Australia... Amico!\"\n",
            "---------------------------------------------------------------\n",
            "Cosine similarity: 0.53\n",
            "\n",
            "\n",
            "\n",
            "\n",
            "\n",
            "Sentence 1: \"I am Mark Carman and I'm from Australia... Mate!\"\n",
            "Sentence 2: \"Soy Mark Carman y soy de Australia... Compañero!\"\n",
            "---------------------------------------------------------------\n",
            "Cosine similarity: 0.69\n",
            "\n",
            "\n",
            "\n",
            "\n",
            "\n",
            "Sentence 1: \"I am Mark Carman and I'm from Australia... Mate!\"\n",
            "Sentence 2: \"Ich bin Mark Carman und ich komme aus Australien... Kumpel!\"\n",
            "---------------------------------------------------------------\n",
            "Cosine similarity: 0.60\n",
            "\n",
            "\n",
            "\n",
            "\n",
            "\n",
            "Sentence 1: \"Sono Mark Carman e vengo dall'Australia... Amico!\"\n",
            "Sentence 2: \"Soy Mark Carman y soy de Australia... Compañero!\"\n",
            "---------------------------------------------------------------\n",
            "Cosine similarity: 0.65\n",
            "\n",
            "\n",
            "\n",
            "\n",
            "\n",
            "Sentence 1: \"Sono Mark Carman e vengo dall'Australia... Amico!\"\n",
            "Sentence 2: \"Ich bin Mark Carman und ich komme aus Australien... Kumpel!\"\n",
            "---------------------------------------------------------------\n",
            "Cosine similarity: 0.57\n",
            "\n",
            "\n",
            "\n",
            "\n",
            "\n",
            "Sentence 1: \"Soy Mark Carman y soy de Australia... Compañero!\"\n",
            "Sentence 2: \"Ich bin Mark Carman und ich komme aus Australien... Kumpel!\"\n",
            "---------------------------------------------------------------\n",
            "Cosine similarity: 0.63\n",
            "\n",
            "\n",
            "\n",
            "\n",
            "\n"
          ]
        }
      ],
      "source": [
        "for idx, s1 in enumerate(multilingual_corpus):\n",
        "    for s2 in multilingual_corpus[idx + 1:]:\n",
        "        s1_embeddings = model.encode(s1, convert_to_tensor=True)\n",
        "        s2_embeddings = model.encode(s2, convert_to_tensor=True)\n",
        "\n",
        "        print(f\"Sentence 1: \\\"{s1}\\\"\")\n",
        "        print(f\"Sentence 2: \\\"{s2}\\\"\")\n",
        "        print(\"---------------------------------------------------------------\")\n",
        "        print(f\"Cosine similarity: {util.cos_sim(s1_embeddings, s2_embeddings)[0].item():.2f}\")\n",
        "        print(\"\\n\\n\\n\\n\")"
      ],
      "id": "hhrXPDE2ciZr"
    },
    {
      "cell_type": "markdown",
      "metadata": {
        "id": "UxXljoPC57_E"
      },
      "source": [
        "## Semantic search\n",
        "\n",
        "Contextual embedding models allow for semantic search.\n",
        "\n",
        "We can use the cosine similarity between the embeddings of documents and queries to search through a collection of docuemnts exploting semantics (meaning) rather than syntax.\n",
        "We can compute the cosine similarity between the embedding of a document and the embedding of a query to compute their matching score.\n",
        "\n",
        "Altrantively, instead of encoding separately the document and the query, we can learn a model that works on both at the same time and predicts directly the matching score."
      ],
      "id": "UxXljoPC57_E"
    },
    {
      "cell_type": "markdown",
      "metadata": {
        "id": "1d654093-19e4-40ce-afb8-02bf9e574590"
      },
      "source": [
        "### Computing document-query similarity\n",
        "\n",
        "We can do semantic seach using the cosine similarity between embeddings or we can learn a model predicting directly the matching probability."
      ],
      "id": "1d654093-19e4-40ce-afb8-02bf9e574590"
    },
    {
      "cell_type": "markdown",
      "metadata": {
        "id": "iP7m4gOJ6hTM"
      },
      "source": [
        "#### Cosine similarity search\n",
        "\n",
        "We can use an encoder model like BERT to extract the emebeddings of two sentences seprately and compare them though cosine similarity. \n",
        "\n",
        "![BERT_visual_bienc.png](data:image/png;base64,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)\n",
        "\n",
        "Note that since sentences are encoded separately one from the other, we can pre-compute the embeddings forming some sort of indexed data base and exploit the pre computed embeddings for a later search."
      ],
      "id": "iP7m4gOJ6hTM"
    },
    {
      "cell_type": "markdown",
      "metadata": {
        "id": "9HEba_wDsb3a"
      },
      "source": [
        "Let's get back at the examples sentence from before and embed them"
      ],
      "id": "9HEba_wDsb3a"
    },
    {
      "cell_type": "code",
      "execution_count": 25,
      "metadata": {
        "id": "abbb2973-a892-445e-a1ef-af047cd2fbda"
      },
      "outputs": [],
      "source": [
        "docs = [\n",
        "    'A man is eating food.',\n",
        "    'A man is eating a piece of bread.',\n",
        "    'The girl is carrying a baby.',\n",
        "    'A man is riding a horse.',\n",
        "    'A woman is playing violin.',\n",
        "    'Two men pushed carts through the woods.',\n",
        "    'A man is riding a white horse on an enclosed ground.',\n",
        "    'A monkey is playing drums.',\n",
        "    'A cheetah is running behind its prey.'\n",
        "]\n",
        "docs_embeddings = model.encode(docs, convert_to_tensor=True, device='cuda')"
      ],
      "id": "abbb2973-a892-445e-a1ef-af047cd2fbda"
    },
    {
      "cell_type": "markdown",
      "metadata": {
        "id": "wV_q6PUItHbM"
      },
      "source": [
        "Now we can create a set of queries for semantic similarity"
      ],
      "id": "wV_q6PUItHbM"
    },
    {
      "cell_type": "code",
      "execution_count": 26,
      "metadata": {
        "id": "5cfc5ffa-0429-4de9-86a9-c5e217f8d05c"
      },
      "outputs": [],
      "source": [
        "queries = [\n",
        "    'A man is eating pasta.', \n",
        "    'Someone in a gorilla costume is playing a set of drums.', \n",
        "    'A cheetah chases prey on across a field.'\n",
        "]"
      ],
      "id": "5cfc5ffa-0429-4de9-86a9-c5e217f8d05c"
    },
    {
      "cell_type": "markdown",
      "metadata": {
        "id": "ad0c8c7b-10cd-415f-a5e2-15d54d347fe5"
      },
      "source": [
        "Let's find the closest 5 sentences of the corpus for each query sentence based on cosine similarity"
      ],
      "id": "ad0c8c7b-10cd-415f-a5e2-15d54d347fe5"
    },
    {
      "cell_type": "code",
      "execution_count": 27,
      "metadata": {
        "colab": {
          "base_uri": "https://localhost:8080/"
        },
        "id": "3f2867da-88fc-4b1b-bb1e-5cdcbcb5e170",
        "outputId": "fd58faf8-b814-456c-847c-5b2bbf7021df"
      },
      "outputs": [
        {
          "output_type": "stream",
          "name": "stdout",
          "text": [
            "Query: \"A man is eating pasta.\"\n",
            "Top 5 most similar sentences in corpus:\n",
            "---------------------------------------\n",
            "Score: 0.59 - Document: \"A man is eating food.\"\n",
            "Score: 0.42 - Document: \"A man is eating a piece of bread.\"\n",
            "Score: 0.19 - Document: \"A man is riding a horse.\"\n",
            "Score: 0.10 - Document: \"A man is riding a white horse on an enclosed ground.\"\n",
            "Score: 0.01 - Document: \"A cheetah is running behind its prey.\"\n",
            "\n",
            "\n",
            "\n",
            "\n",
            "\n",
            "Query: \"Someone in a gorilla costume is playing a set of drums.\"\n",
            "Top 5 most similar sentences in corpus:\n",
            "---------------------------------------\n",
            "Score: 0.64 - Document: \"A monkey is playing drums.\"\n",
            "Score: 0.18 - Document: \"A cheetah is running behind its prey.\"\n",
            "Score: 0.12 - Document: \"A woman is playing violin.\"\n",
            "Score: 0.08 - Document: \"A man is riding a white horse on an enclosed ground.\"\n",
            "Score: 0.07 - Document: \"A man is eating food.\"\n",
            "\n",
            "\n",
            "\n",
            "\n",
            "\n",
            "Query: \"A cheetah chases prey on across a field.\"\n",
            "Top 5 most similar sentences in corpus:\n",
            "---------------------------------------\n",
            "Score: 0.80 - Document: \"A cheetah is running behind its prey.\"\n",
            "Score: 0.16 - Document: \"A man is riding a white horse on an enclosed ground.\"\n",
            "Score: 0.16 - Document: \"A monkey is playing drums.\"\n",
            "Score: 0.12 - Document: \"A man is riding a horse.\"\n",
            "Score: 0.08 - Document: \"A woman is playing violin.\"\n",
            "\n",
            "\n",
            "\n",
            "\n",
            "\n"
          ]
        }
      ],
      "source": [
        "# Let's set the maximum number of matches to retrieve\n",
        "top_k = min(5, len(corpus))\n",
        "# Iterate over queries\n",
        "for query in queries:\n",
        "    # Embed query\n",
        "    query_embedding = model.encode(query, convert_to_tensor=True)\n",
        "    # Use cosine-similarity and torch.topk to find the highest 5 scores\n",
        "    cos_scores = util.cos_sim(query_embedding, docs_embeddings)[0]\n",
        "    top_results = torch.topk(cos_scores, k=top_k)\n",
        "    # Print the result\n",
        "    print(f\"Query: \\\"{query}\\\"\")\n",
        "    print(\"Top 5 most similar sentences in corpus:\")\n",
        "    print(\"---------------------------------------\")\n",
        "    for score, idx in zip(top_results[0], top_results[1]):\n",
        "        print(f\"Score: {score:.2f} - Document: \\\"{corpus[idx]}\\\"\")\n",
        "    print(\"\\n\\n\\n\\n\")"
      ],
      "id": "3f2867da-88fc-4b1b-bb1e-5cdcbcb5e170"
    },
    {
      "cell_type": "markdown",
      "metadata": {
        "id": "ziZPdt4UvfAI"
      },
      "source": [
        "Alternatively, we can use the built in function for semantic search that computes automatically all the query-document similarity pairs"
      ],
      "id": "ziZPdt4UvfAI"
    },
    {
      "cell_type": "code",
      "execution_count": 28,
      "metadata": {
        "colab": {
          "base_uri": "https://localhost:8080/"
        },
        "id": "WTk53OG8vfMp",
        "outputId": "602630cb-97d6-4253-abdf-78f11b485e42"
      },
      "outputs": [
        {
          "output_type": "execute_result",
          "data": {
            "text/plain": [
              "[[{'corpus_id': 0, 'score': 0.5898960828781128},\n",
              "  {'corpus_id': 1, 'score': 0.42187654972076416},\n",
              "  {'corpus_id': 3, 'score': 0.19115908443927765},\n",
              "  {'corpus_id': 6, 'score': 0.09997966140508652},\n",
              "  {'corpus_id': 8, 'score': 0.008013548329472542},\n",
              "  {'corpus_id': 7, 'score': -0.018896592780947685},\n",
              "  {'corpus_id': 4, 'score': -0.02139924466609955},\n",
              "  {'corpus_id': 2, 'score': -0.02980898879468441},\n",
              "  {'corpus_id': 5, 'score': -0.11770576983690262}],\n",
              " [{'corpus_id': 7, 'score': 0.6435330510139465},\n",
              "  {'corpus_id': 8, 'score': 0.1774650663137436},\n",
              "  {'corpus_id': 4, 'score': 0.11836577951908112},\n",
              "  {'corpus_id': 6, 'score': 0.08056444674730301},\n",
              "  {'corpus_id': 0, 'score': 0.07234090566635132},\n",
              "  {'corpus_id': 3, 'score': 0.03812291473150253},\n",
              "  {'corpus_id': 1, 'score': 0.018695659935474396},\n",
              "  {'corpus_id': 5, 'score': -0.011233516968786716},\n",
              "  {'corpus_id': 2, 'score': -0.06205813214182854}],\n",
              " [{'corpus_id': 8, 'score': 0.8002290725708008},\n",
              "  {'corpus_id': 6, 'score': 0.16320981085300446},\n",
              "  {'corpus_id': 7, 'score': 0.15903687477111816},\n",
              "  {'corpus_id': 3, 'score': 0.11885682493448257},\n",
              "  {'corpus_id': 4, 'score': 0.07616285979747772},\n",
              "  {'corpus_id': 5, 'score': 0.03773816302418709},\n",
              "  {'corpus_id': 0, 'score': 0.037087708711624146},\n",
              "  {'corpus_id': 1, 'score': 0.02620307169854641},\n",
              "  {'corpus_id': 2, 'score': 0.020169414579868317}]]"
            ]
          },
          "metadata": {},
          "execution_count": 28
        }
      ],
      "source": [
        "query_embeddings = model.encode(queries, convert_to_tensor=True)\n",
        "\n",
        "util.semantic_search(query_embeddings, docs_embeddings, score_function=util.cos_sim)"
      ],
      "id": "WTk53OG8vfMp"
    },
    {
      "cell_type": "markdown",
      "metadata": {
        "id": "RHcJVNNEszdf"
      },
      "source": [
        "#### Speed up cosine similarity"
      ],
      "id": "RHcJVNNEszdf"
    },
    {
      "cell_type": "markdown",
      "metadata": {
        "id": "71af4a5d-c00d-4f9b-970e-fe016b1d356c"
      },
      "source": [
        "We can speed-up the process by pre-nomalising the embeddings and compute directly the dot-product instead of cosine similarity."
      ],
      "id": "71af4a5d-c00d-4f9b-970e-fe016b1d356c"
    },
    {
      "cell_type": "code",
      "execution_count": 29,
      "metadata": {
        "id": "219db30f-f14a-4157-a88a-402995ab8a85"
      },
      "outputs": [],
      "source": [
        "normlaised_docs_embeddings = util.normalize_embeddings(model.encode(docs, convert_to_tensor=True))\n",
        "normalised_query_embeddings = util.normalize_embeddings(model.encode(queries, convert_to_tensor=True))"
      ],
      "id": "219db30f-f14a-4157-a88a-402995ab8a85"
    },
    {
      "cell_type": "code",
      "execution_count": 30,
      "metadata": {
        "colab": {
          "base_uri": "https://localhost:8080/"
        },
        "id": "43f329dd-aa9b-4ee3-8a19-c104f6814892",
        "outputId": "286a7133-7b64-4227-e86a-b8ca499adfa6"
      },
      "outputs": [
        {
          "output_type": "execute_result",
          "data": {
            "text/plain": [
              "[[{'corpus_id': 0, 'score': 0.5898960828781128},\n",
              "  {'corpus_id': 1, 'score': 0.42187654972076416},\n",
              "  {'corpus_id': 3, 'score': 0.19115908443927765},\n",
              "  {'corpus_id': 6, 'score': 0.09997966140508652},\n",
              "  {'corpus_id': 8, 'score': 0.008013548329472542},\n",
              "  {'corpus_id': 7, 'score': -0.018896592780947685},\n",
              "  {'corpus_id': 4, 'score': -0.02139924466609955},\n",
              "  {'corpus_id': 2, 'score': -0.02980898879468441},\n",
              "  {'corpus_id': 5, 'score': -0.11770576983690262}],\n",
              " [{'corpus_id': 7, 'score': 0.6435330510139465},\n",
              "  {'corpus_id': 8, 'score': 0.1774650663137436},\n",
              "  {'corpus_id': 4, 'score': 0.11836577951908112},\n",
              "  {'corpus_id': 6, 'score': 0.08056444674730301},\n",
              "  {'corpus_id': 0, 'score': 0.07234090566635132},\n",
              "  {'corpus_id': 3, 'score': 0.03812291473150253},\n",
              "  {'corpus_id': 1, 'score': 0.018695659935474396},\n",
              "  {'corpus_id': 5, 'score': -0.011233516968786716},\n",
              "  {'corpus_id': 2, 'score': -0.06205813214182854}],\n",
              " [{'corpus_id': 8, 'score': 0.8002290725708008},\n",
              "  {'corpus_id': 6, 'score': 0.16320981085300446},\n",
              "  {'corpus_id': 7, 'score': 0.15903687477111816},\n",
              "  {'corpus_id': 3, 'score': 0.11885682493448257},\n",
              "  {'corpus_id': 4, 'score': 0.07616285979747772},\n",
              "  {'corpus_id': 5, 'score': 0.03773816302418709},\n",
              "  {'corpus_id': 0, 'score': 0.037087708711624146},\n",
              "  {'corpus_id': 1, 'score': 0.02620307169854641},\n",
              "  {'corpus_id': 2, 'score': 0.020169414579868317}]]"
            ]
          },
          "metadata": {},
          "execution_count": 30
        }
      ],
      "source": [
        "hits = util.semantic_search(normalised_query_embeddings, normlaised_docs_embeddings, score_function=util.dot_score)\n",
        "hits"
      ],
      "id": "43f329dd-aa9b-4ee3-8a19-c104f6814892"
    },
    {
      "cell_type": "markdown",
      "metadata": {
        "id": "22b91088-565b-4bf3-805c-a917ac6969b8"
      },
      "source": [
        "#### Cross-encoder\n",
        "\n",
        "Cross encoder models work by encoding together the sentences in a pair or a document-query pair.\n",
        "\n",
        "![BERT_visual_xenc.png](data:image/png;base64,iVBORw0KGgoAAAANSUhEUgAAAfYAAAHRCAIAAAAXIAxlAAAAAXNSR0IArs4c6QAAAJBlWElmTU0AKgAAAAgABgEGAAMAAAABAAIAAAESAAMAAAABAAEAAAEaAAUAAAABAAAAVgEbAAUAAAABAAAAXgEoAAMAAAABAAIAAIdpAAQAAAABAAAAZgAAAAAAAABIAAAAAQAAAEgAAAABAAOgAQADAAAAAQABAACgAgAEAAAAAQAAAfagAwAEAAAAAQAAAdEAAAAAESkuFAAAAAlwSFlzAAALEwAACxMBAJqcGAAAAgtpVFh0WE1MOmNvbS5hZG9iZS54bXAAAAAAADx4OnhtcG1ldGEgeG1sbnM6eD0iYWRvYmU6bnM6bWV0YS8iIHg6eG1wdGs9IlhNUCBDb3JlIDYuMC4wIj4KICAgPHJkZjpSREYgeG1sbnM6cmRmPSJodHRwOi8vd3d3LnczLm9yZy8xOTk5LzAyLzIyLXJkZi1zeW50YXgtbnMjIj4KICAgICAgPHJkZjpEZXNjcmlwdGlvbiByZGY6YWJvdXQ9IiIKICAgICAgICAgICAgeG1sbnM6dGlmZj0iaHR0cDovL25zLmFkb2JlLmNvbS90aWZmLzEuMC8iPgogICAgICAgICA8dGlmZjpSZXNvbHV0aW9uVW5pdD4yPC90aWZmOlJlc29sdXRpb25Vbml0PgogICAgICAgICA8dGlmZjpPcmllbnRhdGlvbj4xPC90aWZmOk9yaWVudGF0aW9uPgogICAgICAgICA8dGlmZjpDb21wcmVzc2lvbj41PC90aWZmOkNvbXByZXNzaW9uPgogICAgICAgICA8dGlmZjpQaG90b21ldHJpY0ludGVycHJldGF0aW9uPjI8L3RpZmY6UGhvdG9tZXRyaWNJbnRlcnByZXRhdGlvbj4KICAgICAgPC9yZGY6RGVzY3JpcHRpb24+CiAgIDwvcmRmOlJERj4KPC94OnhtcG1ldGE+CtQK6igAAEAASURBVHgB7Z15nBTF3cbddREEVg4BuQUR0IBGooioHIqKGgXxwngRMd5+3hg1KpgYo4hKRPRjUCMgnkTAA0SNaEAEIx5EBEFAbhQUVs7lPt8HyrQ9PbOzPbs9PX1854/Z6upf1/Gt2meqq35dnbdnz579+EAAAhCAQBQJFESxUtQpagTy8/MDOBbJy8vbvXt31FhTn2gRQOKj1Z4RrY30PZgSH1HeVCs6BPKjUxVqAgEIQAACiQSQ+EQeHEEAAhCIEAEkPkKNSVUgAAEIJBJA4hN5cAQBCEAgQgSQ+Ag1JlWBAAQgkEgAiU/kwREEIACBCBFA4iPUmFQFAhCAQCIBJD6RB0cQgAAEIkQAiY9QY1IVCEAAAokEkPhEHhxBAAIQiBABJD5CjUlVIAABCCQSQOITeXAEAQhAIEIEkPgINSZVgQAEIJBIAIlP5MERBCAAgQgRQOIj1JhUBQIQgEAiASQ+kQdHEIAABCJEAImPUGNSFQhAAAKJBJD4RB4cQQACEIgQASQ+Qo1JVSAAAQgkEkDiE3lwBAEIQCBCBJD4CDUmVYEABCCQSACJT+TBEQQgAIEIEUDiI9SYVAUCEIBAIgEkPpEHRxCAAAQiRACJj1BjUhUIQAACiQSQ+EQeHEEAAhCIEAEkPkKNSVUgAAEIJBJA4hN5cAQBCEAgQgSQ+Ag1JlWBAAQgkEgAiU/kwREEIACBCBFA4iPUmFQFAhCAQCIBJD6RB0cQgAAEIkQAiY9QY1IVCEAAAokEkPhEHhxBAAIQiBABJD5CjUlVIAABCCQSQOITeXAEAQhAIEIEkPgINSZVgQAEIJBIAIlP5MERBCAAgQgRKIhQXahKZAnk7fsErXoqVNCKRHkg4CCQt2fPHkcUhxCIKoGdO3fOmzevZcuWBQUMbqLayNQrgQATNQk4OIg2gcmTJ7du3frDDz+MdjWpHQQsAki8hYJA9AkMHjw4Pz9f39GvKjWEwD4CTNTQEeJCoLi4uHbt2tu2batYsWJRUVFhYWFcak49Y0yAUXyMGz9mVR89erSZgq9QocKoUaNiVnuqG1MCjOJj2vAxrHbbtm2//vrrrVu37t69+7jjjvv8889jCIEqx40AEh+3Fo9vfdevX79gwQKJ+7Rp0w4//PBq1arFlwU1jw0BJD42TU1F9xGQMzuOwvSF+BBgLj4+bU1NIQCB2BFA4mPX5FQYAhCIDwEkPj5tTU0hAIHYEUDiY9fkVBgCEIgPASQ+Pm1NTSEAgdgRQOJj1+RUGAIQiA8BJD4+bU1NIQCB2BFA4mPX5FQYAhCIDwEkPj5tTU0hAIHYEUDiY9fkVBgCEIgRAT3M7fisWbNm+PDh5513XosWLapWrRojFlQVAhCAQKgISKIl1JJribak2yHmOtzPHrVly5b+/fuzPVOompjCQgACENhLQNItAZeM21X95y2Zli9frp8CbcIn0y5duvTs2bNjx44NGjRgIE/3gQAEIBBMAhs3bpR0642VI0eOnDBhggqpvVTHjBkj6TYF/kniZdSuXTt9N2/efMiQIZ06dQpmfSgVBCAAAQikJKCXEl9zzTXz58+Xvn/66adG5fdKvF6S0KFDB43f9T127NgaNWqkvJ5ICEAAAhAIMoG1a9d27959ypQpGsvru1KlSns9agYNGiR91/gdfQ9y41E2CEAAAukJaIAuGZeYS9Il7DLO0yJs06ZN9UKcSZMmMT+THh9nIQABCASfgGZsOnfurNXXxYsX50vype9aX0Xfg99ylBACEIBAqQQk5pJ0CbvkfX+952zu3Ll9+vQ59thjS70SAwhAAAIQCD6Bbdu2jRs3TvKer3fSq7jyjwx+oSkhBCAAAQi4IWAkXfKeJ7d3eVYWFxfj/+4GHDYQgAAEgk9Aql5YWChVzzNl3fucK5/oEli5cuVrr72m+unptvr166ep6AsvvKDO0bVr12bNmqUxi+Gp//73v/I1rlmz5iWXXOJb9XOSqW+1I6OsEtAszc/p2x94JRw9Au+//75p7Lfffjt97QoKCmQ5atSo9GYxPNuvXz+R+cUvfpGlusv54al9H3v62c7UnhfhiBEw//J7/5/5QAACOScwY8aMG264QcW47rrrEsZfOS8ZBQgzASQ+zK2XhbI///zzu3fvPumkk7KQdriTvPDCCw899NBatWr5WY2cZOpnBckr2wSQ+GwTDln6l156achK7FdxW+77+JXbT/nkJFOf60h2WSXAK0Gyijd8if/mN7/p0aPHxx9/bIr+5JNP6vDpp5/+8ccf+/btq12MtEavwaw2Il20aJGjerK544479NhF9erV27Rp84c//OGDDz5w2OzatUsT/VrOPeyww6pUqVK7dm09kHHfffdpB1TLUg9eK9OXX35Z9xPaFO+iiy6S2ZIlSywDK7Bjxw5Z6vPVV1/985//1JhXj2proH3mmWf+9a9/lZ+YZalA+mS1HH3llVe2bt36oIMO0pZ8mjPR4qr98ldffVUZ/d///Z89UuE33nhD0A4//HAVUgaPP/649glx2OhQ23lrnVZPlit95fLb3/521qxZxuydd97RhQ8++KA5VFgfZafDlJmuWrVKD7KcfvrpyrFx48ZaQv/b3/4mP2hzufnOqOHsFxKOJoGIrTNQHQeBMi+3auM69fiLL774mGOOcXR9uWR98803VkbaACPZV0dzysOGDbNsJNlSQ0c65lA/DFJ/Y3nBBRcoUr8of/zjHy1j/aJY6VgB64fhqKOOsiytgJZG7SUsKVl5EPXq1cu6ygpo5fmhhx6y8kpe+VTuV199tWVvBfTztnr1autCPWRosrYMTEBwXnzxRZk98cQTjlM6fOCBB3QqOVM1Zd26dZPtlam9su4bziongYgRSOgkEasb1XEQKKfEm75y7bXX/nvfx9K13r17m4w0rtTIXWZNmjSRbH355Zevv/66REcxEjI9ZWfM5JFpkpLkyWz27Nn6YdCT1iZy5syZxswIovHarFChgoaruiFwvOjAWFoSrxQOPPBAyeJHH300fvx4FdWkKZV3/HIkJ2sNzDV4V7G/+OKLZ5991tpuWzcHJq9ktb377rtNLtdff712BZk6deqf/vQnFViRbdu2NVfp26itIs8555zRo0frDunee+9t2LChYg444IB58+bJl0Y3K1dddZVJ7ZlnntHh9OnTda0j0++++65y5crmQt2mKEdtEW5d2KpVq507d5p8rUxlnKbhrEISiB4B051++o5e9aiRnUD5JV5aY0+wffv26jrSFBNpRL9evXr2V4tt375dSiczjdCNmRksn3DCCfakdIlxIHnuuedMvDXm1azL559/bjd2hC2J33///bV1qv3sgAEDTOc2I2WdSpmsRr5GlDW3owJbKRQVFTVq1Egp6EdLu20r3qG2CxYsqFixogzsI32Z6W0MJl9NUulQZsYP9bLLLrN+bBSv3yFjpvkZHepjXah7HROjb0emBqBw6RfFslHg4YcfNqlpSs3EWxKfvuHsiRCOGAHTJZiLNxz4TkdA08e33Xab3UJz8TpcsWKFidTgVIG77rrL/rIBSaeZX5YeSelk0K1bN80aG9kyF+r722+/1b+WAlJYK9IENK+tba8dkSkPNR998skn209p4K81A8VoGG6PV9ierKbgNaGfn5//2GOPGa03xprQ1z2BwloD+OSTTxwp6FAbPGn6W7Pht99+u/2sdus2JdEMleK18KCRtdJXrfVtWZ5xxhnS5Ztvvvnggw+2ItMHREmpyUZL4o4dR2699Va9wFOnXnnlFXsipTac3ZhwJAngURPJZvW4UkcccYTeLWBP1Ei5xEuRmj3YsGGDApqH0VDabrZ582ZzqDkZLUief/75OtQoVTM5+syZM0eTM+ZtZParTFhTGeeee25yfMoY/Xg44jV2PuusszSq1Utw7KccyWoUr7Na+5Xvit1MYY3rTYxsdCPiOGs2d1LFkx921cSLjM1q6sKFCxXW7Y7uBhwpaGnaEZP+UL+F5q5F9XJYqrKnnXaayqmP/VT6hrNbEo4qASQ+qi3rZb301L4jOTPuNpFmhK6wnrbXx2FpDjVZr4CGvRoaDx48WJMzlpl2tdaCpHVoBTLaQSF5pVfpHHLIIfo2gltSstJNnTIz45aNCWiEbnZwSvYdkoGptWpkXF8c1+rQVNlca83sJ5u5jzFFlX3K0mpSS6d0X6UimRkkHaZvOPdZYxleAkh8eNsuKCW3HDw0LDVCk1wyvaBAkZqylyukApqO17hbvoOaXtDoXlosFxTHVVayjviUh/bfDMtArjIKO2TOkaxZJU75G6Mh86ZNm5SCtN5K0wqYdDRfL88fK9Ie0E+XDs3ufqYk9rNlCJui6sKUpZXHqk5pZsbS9zJkwSXRI4DER69N/a6RNFqz2JrRlmOlwydSkfIMUYEk/evWrRsxYoTCcvDQ/IlZYtWh5m20nplcaLNKmRyfMuazzz6TZ6fjlJZqFeO4G3Aka6aw5dYiNZefvj0F49OimOQ5HEUeeeSR+tb8ldxp7FcprOl7DeHr1KmjsElfU1JaaZD/jN1Sa6fatEC/dqJhjy8pLM6azRcu+fwkT0wp0squpBSIjyGBn9d/Ylh5quwJAYmmdEpJPfroo/YJHMXoaSN5Iuqstro0PpGK1ANKlr7r8F//+pcZLCtc5s/QoUMdA3mp5+TJk5XgiSeemCZZPcyls1ozsJxSLOO//OUvCkvEUy75mgs10f/WW29Zlyig2Xm5G6nWZqnZeI7qHsXcvliWmtHS0oUKqWeXrEgTcDC0zmp4bjyUtFzsuOmRq6hxmnKsOVvXEogtASQ+Xk2vGWQN91J+HBKZEZf7779f9nojsDxbjJuNZjm0q6WJ1yyNJqOtGWR5MWq+WPZyItS43jgC6jDlQ6Eui6G5C2mufkVkL4mUw7hZk5QXucPjxZGg1lTNJFL//v3l9GIKJgGV14qeAZCxnFXMnL7jwlNPPdVcePnll48cOdKsPAvvjTfe+MMPP8hYXpL6luuR1jwVuOmmm4x3je5s9DirfGkUqbsfy5XTWtBWvnLZtPxBZWZ9zO+Q7oeUu1VZPXZg1rE1NWS56luXEIDAXgL6r+ATYQKWX3ya7q5BpQiYeQyJkaFh3Kulgw448mFXUnrA1Yo3mmXSl4O8JViaCtc0iDE7+uijjYHESDMYZtZYiZjFUumdEpGlUT1JpJV4SQFLB80DQUpc2Vlz1nKW1+681rUlJSvfGONeqcs1l6KwdZOhQbFG5SYF4+tp30xYIquamhqpLvYlX1MRc+HEiRNVR2OmuSBNl5uwvgcOHGgVz+H5U9LTrfYnfvXbY2b8lZSA6/fSSs19w1mXEIgYAdPNGMVb/24EfiZgeYhbgZ/PlRDSU/iSGM0XSx+///57M72uKWPNlpj5aF0nX3LzLKsG3XLv0yheQ2/dUtxzzz26SsNb44VSQg7povU4qB61lc7qXkSDXIm7fk40HE6eKE9ORbPqmjDRzYQ8QTVjvnTpUv2r67ZDz6Dq4VtLnZMv1K4JulDzTrLR8N/cvmgZVtNTmkux7E855RR5iMqpUcXTlJRxMJUPpXzYdYtgmQmd7iSk2sZ93pC3fxtLPdL15ptvygtTddT0l0gqWWHUwoN9IcR9w1kFIBBJAj+9FkR9OpLVo1L+E9DmX/KC16BS65wp9VHzGFqQlIFGxNYK5LJly+QTItHMSJv0Q6J9C1RHTX1oZkYCqiG5fjmk79a4PiMC0nf5JmpqJXnTYA2rtT+ByqzaOdLUv4+cIyXxmliXj439ESe7pSZz9MOmXyCpuVmMtZ/NNKz1A5VE1VdpHWvImSaFfSQJmJtRJD6SjRuXSjkkPqvV1mS6tm/U8qluO7KaEYlDwBMCRuILzMMd8ts1DryeJE0iEIgSAT2hKrcZbRqsSjl2DohSNalLlAiYnbSl6vlmjWj58uVRqh51gYCHBLRB2C233KIFBqV5xRVXeJgySUEgSwTMypDkvUBzi5of1JpYyuc7spQ9yULAEwKauNc+NpquSZ469yR9k4gmu88++2x5x2s903hAepg4SUEgGwTMQyFals/Ty2i037T8HIwXcDYyI00IQAACEPCTgDy4tMGf5D1PTmZ6uFyuV/IPS95Oz88ykRcEIAABCJSfgLbv1nN5emZCe/Dlyxf4zjvvVKJ6VqI8jxeWv1ikAAEIQAAC5SQgGTcPvknYJe95cunVVKYendDT5/rWwymKLWceXA4BCEAAAv4TkL7rpTR6bYOWjvStp0/2Pt2qP/IZ0ON8itL2SRrk+18ycoQABCAAgfIQkHRLwCXjEnNJuoRdqe0dxZtE5TepPaQ0ltehVl+1fZJcgGWKv3x5oHMtBCAAgewR0CNNkm75z2gvPPMCNY3fzZD9p0wl8dZHmzpplwxrY6PsFYuUIQABCEDAWwKSbgm4ZNySdAVS7DEpHxu52mhEr92jGMJ72wakBgEIQMBDApJoCbXkWqIt6baLuwn/PFHjYa4kBYEAEtAuYNrWWI/4sWlXAFuHImWJAJsJZwksyQaOgOYr9bZYvAkC1zAUKJsEkPhs0iXtIBEYPHiwtvnVd5AKRVkgkF0CTNRkly+pB4SANt6rXbu2XtyhF2jotXkpN7IPSFEpBgQ8JMAo3kOYJBVcAqNHjzZT8Nq5TK8tDG5BKRkEPCXAKN5TnCQWVAJt27bVC6H0IPfu3bvlOKzX4AW1pJQLAl4SQOK9pElagSWgjfYWLFggcdfDfXqvHg9/BLalKJi3BJB4b3mSWqAJ6FVnex8G4QOB2BBgLj42TU1FIQCB+BFA4uPX5tQYAhCIDQEkPjZNTUUhAIH4EUDi49fm1BgCEIgNASQ+Nk1NRSEAgfgRQOLj1+bUGAIQiA0BJD42TU1FIQCB+BFA4uPX5tQYAhCIDQEkPjZNTUUhAIH4EUDi49fm1BgCEIgNASQ+Nk1NRSEAgfgRYMuO+LV5CGusV3kEcG8Z7XijfStDiJMix4hAQYzqSlVDS8C8aDhoxZfEB61IlAcCDgJM1DiAcAgBCEAgOgSQ+Oi0JTWBAAQg4CCAxDuAcAgBCEAgOgSQ+Oi0JTWBAAQg4CCAxDuAcAgBCEAgOgSQ+Oi0JTWBAAQg4CCAxDuAcAgBCEAgOgSQ+Oi0JTWBAAQg4CCAxDuAcAgBCEAgOgSQ+Oi0JTWBAAQg4CCAxDuAcAgBCEAgOgSQ+Oi0JTWBAAQg4CCAxDuAcAgBCEAgOgSQ+Oi0JTWBAAQg4CCAxDuAcAgBCEAgOgSQ+Oi0JTWBAAQg4CCAxDuAcAgBCEAgOgSQ+Oi0JTWBAAQg4CCAxDuAcAgBCEAgOgSQ+Oi0JTWBAAQg4CCAxDuAcAgBCEAgOgSQ+Oi0JTWBAAQg4CCAxDuAcAgBCEAgOgSQ+Oi0JTWBAAQg4CCAxDuAcAgBCEAgOgSQ+Oi0JTWBAAQg4CCAxDuAcAgBCEAgOgSQ+Oi0JTWBAAQg4CCAxDuAcAgBCEAgOgSQ+Oi0JTWBAAQg4CCAxDuAcAgBCEAgOgSQ+Oi0JTWBAAQg4CCAxDuAcAgBCEAgOgSQ+Oi0JTWBAAQg4CCAxDuAcAgBCEAgOgSQ+Oi0JTWBAAQg4CCAxDuAcAgBCEAgOgSQ+Oi0JTWBAAQg4CBQ4DjmEAIBJJC37xO0gqlQQSsS5YGAg0Denj17HFEcQiCqBJYvX56fn1+vXr2oVpB6QcBBAIl3AOEwygTq1q1bo0aNOXPmRLmS1A0CNgLMxdtgEIw0gVmzZm3YsGHRokUrVqyIdEWpHAR+JoDE/8yCULQJDB48eMeOHZqoeemll6JdU2oHAYsAEzUWCgJRJrB9+/aaNWtu2rRJlWzSpMnixYujXFvqBoH/EWAU/z8S/I00gWnTpknfq+77LNn3iXR1qRwEfiLAKJ6uEBcCc+fOveqqq3r27HnWWWe1bNkyLtWmnvEmgMTHu/1jVnu5S3722WeNGjWKWb2pbnwJMFET37aPW82Lioq2bt2Kvset3WNeXyQ+5h0gRtWfPn360UcfHaMKU1UI7LcfEk8viAuBf/zjH1dccUVcaks9IbCPAHPxdIRYEFi9evVhhx323XffFRYWxqLCVBIC+wgwiqcjxILAiBEjunfvjr7HorGppI0Ao3gbDIIRJbBu3Tp5Sb777rtt2rSJaBWpFgRSE0DiU3MhNkoEbrrpJlVHGxhEqVLUBQJuCLBfvBtK2ISYgBxpXn311Xnz5oW4DhQdAmUlwFx8WclxXRgIrFmzRo+zPvLII9WrVw9DeSkjBDwmgMR7DJTkgkNg8+bNZ5xxhhwl8ZUMTqNQEp8JMBfvM3Cy84mA9L1Tp0561mnYsGE+ZUk2EAgeAUbxwWsTSlRuAkuXLq1SpcoFF1wwdOjQcidGAhAIMQEkPsSNR9FTEpg6dWq7du0GDRp011138QbtlIiIjA8BPGri09bRr6m2C+7bt+/nn3/+yiuvdO7cOfoVpoYQKI0Ao/jSCHE+8AR27949ZcqUm2++uUOHDieeeOLs2bPR98A3GgX0iQCjeJ9Ak42HBIqLi5cvX663bK9cufK9994bN26ctgg+99xzFyxYUK1aNQ8zIikIhJ1Azjxqvvzyy7feemvGjBk//PDD999/r2/zXs2wA6X8PhDQUmqDBg3q169/yCGHnHTSSdp8pnHjxj7kSxYQCB0BvyV+zpw5eg5l/PjxBx54oP4zjz/++Lp16+pdPPpmi6jQ9R4KDAEIBJyAfxL/7bff3nPPPRq59+nT59e//jUvzwx4z6B4EIBABAj4sdy6Z8+e++67Tw+hNGzYcOHChbfeeiv6HoGuQxUgAIHgE8j6cqtm2Hv16qVlMe0DVadOneAToYQQgAAEIkMgu6P4jRs3tm/f/qCDDpo4cSL6HplOQ0UgAIGwEMiixG/ZskUrqOecc86zzz5boUKFsBChnBCAAAQiQyBby62af9cOIVu3bn3nnXciA4uKQAACEAgXgWzNxd9///1FRUWanwkXDkoLAQhAIEoEsjKKl3+k/GdYX41SR6EuEIBAGAlkReJ79+6tJw/79esXRiKUGQIQgEBkCHgv8Xp+tWPHjvJ/lyNNZDBREQhAAAJhJOC9R83AgQP1/Cr6HsbeQJkhAIGIEfB+FK9HWCdMmMDzqxHrKFQHAhAIIwGPR/HaP1L7i6HvYewKlBkCEIgeAY8lXruMaf/I6GGiRhCAAATCSMBjiZ85c2bbtm3DCIIyQwACEIgeAY8lXi/30Obv0cNEjSAAAQiEkYDHEq+XN+nlHmEEQZkhAAEIRI+Axx41euOa9g2uWrVq9EhRIwhAAAKhI+CxxOfleZxg6IBSYAhAAALBIeDxRE1wKkZJIAABCEAAiacPQAACEIgsASQ+sk1LxSAAAQgg8fQBCEAAAtEloNczaY00uvWjZhCAAARiSkDavvetT1J5fYLGIJjOOZTKfT+BFazcE3BvSb/KiBUTNe5xYQkBCEAgZASQ+JA1GMWFAAQg4J4AEu+eFZYQgAAEQkYAiQ9Zg1FcCEAAAu4JIPHuWWEJAQhAIGQEkPiQNRjFhQAEIOCeABLvnhWWEIAABEJGAIkPWYNRXAhAAALuCSDx7llhCQEIQCBkBJD4kDUYxYUABCDgngAS754VlhCAAARCRgCJD1mDUVwIQAAC7gkg8e5ZYQkBCEAgZASQ+JA1GMWFAAQg4J4AEu+eFZYQgAAEQkYAiQ9Zg1FcCEAAAu4JIPHuWWEJAQhAIGQEkPiQNRjFhQAEIOCeABLvnhWWEIAABEJGAIkPWYNRXAhAAALuCSDx7llhCQEIQCBkBJD4kDUYxYUABCDgngAS754VlhCAAARCRgCJD1mDUVwIQAAC7gkg8e5ZYQkBCEAgZASQ+JA1GMWFAAQg4J4AEu+eFZYQgAAEQkYAiQ9Zg1FcCEAAAu4JIPHuWWEJAQhAIGQEkPiQNRjFhQAEIOCeABLvnhWWEIAABEJGAIkPWYNRXAhAAALuCSDx7llhCQEIQCBkBJD4kDUYxYUABCDgngAS754VlhCAAARCRgCJD1mDUVwIQAAC7gkg8e5ZYQkBCEAgZASQ+JA1GMWFAAQgkAGBPXv25OXlZXABphCAAAQgEAYC0vY8SbxXRd25c+e8efNatmxZUFDgVZrlT4dSuWcIK1i5J+Dekn6VQ1ZeTtRMnjy5devWH374ofv6+GBJqdxDhhWs3BNwb0m/yiUrjeK9+px//vn5+fk9evTwKkFP0qFU7jHCClbuCbi3pF/lkJVnEzXFxcW1a9fetm1bxYoVi4qKCgsL3f9wZc+SUrlnCytYuSfg3pJ+lVtWnk3UjB492kzBV6hQYdSoUe5rlVVLSuUeL6xg5Z6Ae0v6VY5Zub+DSG953HHHVa5cWRM1qo/C6Y19O0up3KOGFazcE3BvSb/KLav93Gef3nLdunXTpk2Tvutb4fTGvp2lVO5RwwpW7gm4t6Rf5ZaVZ3Px5mbEWy9M9zc46S0pVXo+9rOwstNIH4ZVej72s7Cy00gf9paVZ3Px6QvNWQhAAAIQ8J8AEu8/c3KEAAQg4BMBJN4n0GQDAQhAwH8CSLz/zMkRAhCAgE8EkHifQJMNBCAAAf8JIPH+MydHCEAAAj4RQOJ9Ak02EIAABPwngMT7z5wcIQABCPhEAIn3CTTZQAACEPCfABLvP3NyhAAEIOAXgeT9E9asWTN8+PDzzjuvRYsWVatW9asg5AMBCEAAApkRkERLqCXXEm1Jd7KeJ2xDtmXLlv79+1erVi2zTLCGAAQgAIFcE5B0S8Al43ah/3kbsuXLl+unwOwW2aVLl549e3bs2LFBgwYM5HPdcOQPAQhAIDWBjRs3Srr16sSRI0dOmDBBRtq9ecyYMZJuc8FPEi+jdu3a6bt58+ZDhgzp1KlT6vSIhQAEIACBQBLQe7Ovueaa+fPnS98//fRTo/J7JX7r1q0dOnTQ+F3fY8eOrVGjRiDLT6EgAAEIQCAdgbVr13bv3n3KlCkay+u7UqVKez1qBg0aJH3X+B19TwePcxCAAASCTUADdMm4xFySLmFXYfO0CNu0adP169dPmjSJ+ZlgNx+lgwAEIFA6Ac3YdO7cWauvixcvzpfkS9+1voq+l04OCwhAAAKBJyAxl6RL2CXv++slUnPnzu3Tp8+xxx4b+JJTQAhAAAIQKJ3Atm3bxo0bJ3nP//rrr2Uu/8jSL8ICAhCAAATCQMBIuuQ9T27v8qwsLi7G/z0MDUcZIQABCJROQKpeWFgoVc8ztnKdLP0iLCAAAQhAICQENEujkrINWUiai2JCAAIQyJwAEp85M66AAAQgEBICSHxIGopiQgACEMicABKfOTOugAAEIBASAkh8SBqKYkIAAhDInAASnzkzroAABCAQEgJIfEgaimJCAAIQyJwAEp85M66AAAQgEBICSHxIGopiQgACEMicABKfOTOugAAEIBASAkh8SBqKYkIAAhDInAASnzkzroAABCAQEgJIfEgaimJCAAIQyJwAEp85M66AAAQgEBICSHxIGopiQgACEMicABKfOTOugAAEIBASAgUhKSfFjCCBb775Zs2aNSkrlp+fv//+++u1NXXq1KlevXpKG0WmSSHlJS1atKhZs6ZObd68eebMmSltrMhatWo1adKkoCDhf2T79u1ffPGFZeM+0KBBg0aNGrm3xxICXhLQW5/4QMBnAt27d3fTievWrXvDDTesWrUquXguU7ByeeSRR0wi06dPtyLTBPQz06xZswEDBmzZssVcuGTJkjT2aU717ds3ufzEQCB7BExvZKImzX8lpwJB4Icffnjqqac6d+6sQDkLtHv37oxS2LVr18KFC++4446WLVvOmTMno2sxhkAQCCTchAahQJQhhgQ0JdK2bVt7xaXFGzZsWLp06YoVK0y83iV/6qmnzp4927yR0m6scHIKDgNzeNhhhyXHt2/fPnkuSBMyEvdly5aZXwUFLrnkkk8//bRGjRpnn322Rl6OdObPn79gwQITedZZZznO6vCEE05IjiQGAj4RyN7NAilDoCQC1jRL165dS7KRqtp1edq0aXZLNynY7a2wfaJm6tSpVrwjMGvWrF/96lfWP+GgQYMcBtbhPffcY8w0rWRFEoBADgmYDslEjfX/SyCIBI4//vj33nvPKtm///1vK+xDoFWrVq+//nqlSpVMXvqB8SFTsoCAhwSQeA9hklRWCGjBU54tJmkN6rOSR8mJHnrooV26dDHnS3XCKTkZzkAgNwSQ+NxwJ9eMCFSrVs3YH3zwwRld6Ilx7dq1TTpaffUkQRKBgG8EkHjfUJNRGQnId37evHnm4qOOOqqMqZTjsq+++spcrRF9OZLhUgjkgAASnwPoZOmewPr166+88sqtW7fqEj0J1atXL/fXemKpqaEZM2aYpDp16uRJmiQCAd8I4DTpG2oyKpGAPA6HDBliP71z5055wctpUqudxcXFOqUpmhdeeMGasbEbK6xZckcKDgMdHnnkkSeffHJyfEkx27ZtGzt2rJ66UmFkU7ly5auvvrokY+IhEEwCSHww2yVepVq0aNG1116bps5VqlSRa2Pz5s1Lsvn+++/Tp6ALr7/++pQSryebzK4GVuIS9x9//FE/PLqHMJHaxmD06NHyvrdsCEAgFASQ+FA0U9wLuWnTpmOPPfb+++///e9/7zmLKVOmpE9TrvHDhg075phj0ptxFgIBJIDEB7BRYlekpk2bXnTRRY5q6/nSlStXas8vs9aq6Zpbbrll48aNd999t8NShylTcJiV+flSlaFfv34jRow44IADHGlyCIGAE0DiA95AsSieNoB8+OGHS6rqBx98oB+A1atXy0BSe9VVV9WvX99hnD4Fh7HjUBvg6BEnR6R+UTS/P3ToUG1joFOvvfZanz59Bg4c6DDjEAIBJ4DEB7yBKN5+p5xyihZdjTeLXGtGjRql4byHXDQDk3KAr71oNL9/4oknmtuIZ599tn///hUrVvQwa5KCQLYJ4DSZbcKk7wGBDh06aP8vk5BWQT1I0V0SWoa96667jO26deu0FZq767CCQFAIIPFBaQnKkYaAdpfUu0GMgXagTGPp+Sn7tpF+/rp4XhESjCcBJD6e7R6yWsujRo6VptDJ8+ZZrcwh+z4mCw3ks5oXiUPAcwJIvOdISdB7AvKi2bFjh0nXf+fFxo0bm6zNkq/31SNFCGSNABKfNbQkXG4C8pvU/jCXXXbZ448/bhJr06bN6aefXu6EM0vA2obMej9JZtdjDYHcEcCjJnfsyfl/BMaPH+94vtSc0bS7fXNHvUlVuxTo+3/X/fx3woQJKVP42WJf6MYbb5TbpSOy1EM9W2tsyvZi7lLTxwAC2SOAxGePLSlnQGDt2rXprbVr/PDhw/WMa0ozbSNTagq6UG/ZTnl5+kjNxhsDvRJEA/lkr/z0l3MWAjkkwERNDuHHPesDDzwwPQI50mhfGj33NGDAAG33KNdJh32pKZRkn9GFp512mklHE0fWlJEjZevQekWUFUMAAjkkkGfy1gsGc1gIsoYABCAAAW8JmBfZM4r3liqpQQACEAgQASQ+QI1BUSAAAQh4SwCJ95YnqUEAAhAIEAEkPkCNQVEgAAEIeEsAifeWJ6lBAAIQCBABJD5AjUFRIAABCHhLAIn3liepQQACEAgQASQ+QI1BUSAAAQh4SwCJ95YnqUEAAhAIEAEkPkCNQVEgAAEIeEsAifeWJ6lBAAIQCBABJD5AjUFRIAABCHhLAIn3liepQQACEAgQASQ+QI1BUSAAAQh4SwCJ95YnqUEAAhAIEAEkPkCNQVEgAAEIeEsAifeWJ6lBAAIQCBABJD5AjUFRIAABCHhLIL9q1apKcePGjd6mS2oQgAAEIJArAsXFxcpa8p5vXie/fPnyXBWFfCEAAQhAwFsCK1asUIKS9/xf/OIXCk2ePNnbDEgNAhCAAARyRcBIeqtWrfK7d++uQowcOTJXRSFfCEAAAhDwloCR9G7duuWtWbOmadOm69evnzRpUqdOnbzNhtQgAAEIQMBnAh9++GHnzp2rVau2ePHi/Bo1atx5550qwTXXXLN27Vqfi0J2EIAABCDgIQHJuMRcCUrYJe95e/bs2bp1a4cOHaZNm6bvsWPHKtbD/EgKAhCAAAT8ISB919z7lClTjjvuOH1XqlRpr1+8/owZM6ZBgwaKateunQb5/pSGXCAAAQhAwCsCkm4JuGRcYi5Jl7Ar5b2jeJOB/CbPO+88jeV12KVLl549e3bs2FGmxnHeq0KQDgQgAAEIeEVAjzRJuuU/o/XVCRMmKFmN382Q/acsJPHWZ8uWLf3799ckvVfZkw4EIAABCPhDQNItAZeMW5KuwH72AxOWj83w4cM1om/RogVDeH/ahlwgAAEIlIGAJFpCLbmWaEu6k/X854maMqRuv2Tnzp3z5s1r2bJlQUGBPT63YUrlnj+s3LOSJbjc44JVDll5tg2ZJoNat24dtKVaSuW+b8HKPStZgss9LljlklXywL5sMeeff35+fn6PHj3KdnmWrqJU7sHCyj0rWYLLPS5Y5ZCVNxM12tWsdu3a27Ztq1ixYlFRUWFhoftfrexZUir3bGHlnpUsweUeF6xyy8qbiZrRo0ebKfgKFSqMGjXKfZWyakmp3OOFlXtWsgSXe1ywyjEr93cQaSzliVm5cmVN1KgyCqex9PMUpXJPG1buWckSXO5xwSq3rFI4TbovkGW5bt0688yUvhW24nMboFTu+cPKPStZgss9LljllpU3c/HmTiQvz8vU3N/dpLekVOn52M/Cyk6j1DC4SkVkGcDKQlFqwFtW3szFl1poDCAAAQhAwH8CSLz/zMkRAhCAgE8EkHifQJMNBCAAAf8JIPH+MydHCEAAAj4RQOJ9Ak02EIAABPwngMT7z5wcIQABCPhEAIn3CTTZQAACEPCfABLvP3NyhAAEIOATASTeJ9BkAwEIQMB/Aki8/8zJEQIQgIBPBJB4n0CTDQQgAIEcENAWOdoSIQcZkyUEIAABCGSTgLR973tWzUZo2cyoLGl7uxdPWUqQ6hpKlYpK6jhYpeaSKhZWqaikjoNVai6pYsWKiZpUYIiDAAQgEAkCSHwkmpFKQAACEEhFAIlPRYU4CEAAApEggMRHohmpBAQgAIFUBJD4VFSIgwAEIBAJAkh8JJqRSkAAAhBIRQCJT0WFOAhAAAKRIIDER6IZqQQEIACBVASQ+FRUiIMABCAQCQJIfCSakUpAAAIQSEVg7wYGJX3GjRs3fvx4na1QoULfvn1r165dkmVG8SNGjPj44491iR6uvffeew8++OCMLscYAtkgQG/PBlXSzDmBdBL/yCOP5Ofnn3jiifvv+5iyrlu37l//+pe+L7zwwqlTp5566qnLly+fMWOGzlavXv2MM86wV2n37t0TJ06cO3du9+7dv/7661/96lf6ndi1a5eR9Ycffvicc87p2rWr/RLCEMgJgZS9ff78+W+99Vb79u3r16+/ePHiTp06qbf/5z//sZdQ/xxnnnnmrFmzli5dauJr1qzZrl27wsJCHdLb7awI54CA9iBTrmYnMsd3x44dH3roIXvkggULDj/88COOOKJLly4VK1YsKCh45ZVXXn/99aZNmx500EHdunVbs2aNZa9wkyZNmjVrph+DatWqHXDAAU888YR1VgFd8u6779pj7OGSSmW38T9MqdwzDxer5N5+7bXXqov26NGjRYsW6u0yUN2fe+65OnXq1KtXT3JvPvov0KBHnVz1Pfroo/V7oLte/STMmzfPzorebqdRnnC4+lV5alr+a8Uq3Shep+0f5Xf55ZdrJP7yyy+rW48ePfriiy9WpP4HFi5c+Oabb44dO9ZuP2jQoEaNGk2ePFmRGg2p98vYbkAYAoEloFvPF154QTLduHHjnTt36m7V9N5evXrpxlR6rfGKKXzr1q2rVKmif4fKlSsrUr8EGtxccskl/fr1UwqBrSAFiwmBDCT+o48+mj59+pgxY6TvonPRRRddeumlGqeXRKpGjRpFRUWrVq3SqKd58+a6ET7mmGNKMiYeAoEiIL3evn27hiaSeHX4xx57TMruKOEnn3xSqVIlTdE44jVRc+655+oSRzyHEPCfQAYeNXPmzNEd6yGHHGKVUsP5E044wTp0BDTk1/+JxF0TOI8//rjuZE866SSHDYcQCCYBKfstt9yitSWtRd19990q5O23324VdcqUKbfddtvVV189bNgwK9IKaDD05JNPqv9bMQQgkCsCGUj8pk2bdEPqvqBaWf300081XaN1pz//+c+tWrVatGiR+8uxhEBuCQwcOHDSpElt27bVJMxxxx03ZMgQqzxaRN26daumbszsjRUvtwIN4Tt06KC5+xtuuMGKJwCBXBHIQOI1J6M5d3ufXrZsmf3QUQcJutwPevfurcH+kiVLJPHPPPOMw4ZDCASTgAY0n332mcRaN6Cal7///vvlAGb19s6dOw8ePHjo0KGOobrM3n77bc3gf/HFF3Xr1g1m1ShVrAhkIPFyFSguLrbWVOU3qbl14zjvQHbTTTd98MEH8nm3BjIa2mi6xrjDO4w5hEAACUyYMEE6/uOPP6psch2+8sorNb5ZuXKlvaiaw9FE5VNPPSW5N/HGo0bzmbrEbkkYArkikEFH1KjkxhtvvO6667TKtGHDhnvuuWfHjh1t2rTZtm2bpF/fWlk1H3nRfPPNN3KKlzOZRjpyMJg9e7a8Cy677LJc1ZN8IZARAQ3Yt2zZoul49WR1YHkPy6lG/wKaolG8xvj/6+yr9O+gMbtidInGPRnlgjEEsk0gA48aFWXAgAGScrkDS9zlGvzqq69q9VWeA/fdd5/OWiuxemxVw3Z9dJ+ryZnrr79e/xhauXLc1Wa7bqQPgTITqFWrVsOGDTWUOfbYYyXfDRo0eO2115Tao48+qql5BYYPH24l/sc//lFmmp3v2bPnzJkz5WJgnSIAgdwSyNPQo6Q3mp9++ulffvmlnkTV83t6vqlly5amrBrF6I710EMP1YVpSr9582ZdqHWn1atXa0Rv7X+gJ0qMs7ymLBXQz0DKREoqVUpj3yIplXvU4WKV3Ns1eNcwRa6TK1asKLW3l4SF3l4SmTLHh6tflbmanlwoVukkXjouFVZO8gvWRLyMPclVy7DfffedkpJP8fHHH19SmjRkSWSS42GVzKSkmJJY0duTiZXEKtnSzxhK5Z62WKWTePcJZcOShnRPFVawck/AvSX9KgKsMlhudV9bLCEAAQhAIAgEkPggtAJlgAAEIJAVAkh8VrCSKAQgAIEgEEDig9AKlAECEIBAVggg8VnBSqIQgAAEgkAAiQ9CK1AGCEAAAlkhgMRnBSuJQgACEAgCASQ+CK1AGSAAAQhkhQASnxWsJAoBCEAgCASQ+CC0AmWAAAQgkBUCSHxWsJIoBCAAgSAQQOKD0AqUAQIQgEBWCCDxWcFKohCAAASCQACJD0IrUAYIQAAC2SFgXgmSnbRJFQIQgAAEcklg737xucy/hLxfeumld999V98lnCcaAmUhcMUVV3Tt2jVoL5ikt5elLbmmNAKmtwdU4pcsWaIXQv3www+8yb60duS8WwIazdSvX/+jjz5q1qyZ22t8saO3+4I5XplYvT2gc/F6VaZe9j1lypR4NQu1zSaBzz//vLCwsGnTptnMpCxp09vLQo1r0hKwentAJV5vFPvrX//6+9//PpjzSGnZcjKgBO68884+ffoE8L6Q3h7QHhPmYlm9PaASL7Y9evSoV69eo0aNwsyZsgeFwMCBA1evXn3ppZcGpUCJ5aC3J/LgqFwE7L09oHPxpn47duw44IADunXrNmbMGI10ylVpLo4xgVGjRvXs2XP+/PmHH354YDHQ2wPbNOEqmKO3B3cUL6wVKlQoLi7evn17mzZtPvzww927d4eLNaXNOQH1mYcfflj6/u233wZZ3+ntOe8qEShAyt5eEPCKVa1a9Z133nnjjTduvvnmlStXnnHGGXXq1Hn00UcDXuzAFk9rG3G4H9qwYcOKFSt08/fyyy9rMXPhwoUNGzYMbKNYBaO3WygIuCeQvrcHeqLGXklp09KlS+XxNmTIkMmTJ9tPRTK8//77V6tWrVatWrVr1+7UqdOpp57avn37ypUrZ1TZzZs3T5069YMPPpg0aVJRUdGPP/6o3rBz586MEgmjsbSyQYMGgnb++eefdtppoatCPHv7wQcfrAGch719/fr1u3btCl3rZ1rg9L09NBKfabUjYK/lQYmy7l3ef//9iRMnair5tttu6927t0S/1NpJ0J999lmtujRv3vyUU07R3Y+cUPWDof+iUq/FAAL+E1Bv10ePwtDbPYav8QKfUBDQbMNvfvMbDXM0c5W+wDKQmYx1SXpLzkIgmATo7V61y35eJUQ6/hD46quv6tatO3jw4JKy09PwMpBZSQbEQyAsBOjt5W8pJmo8vivyIblly5adc845v/zlL7UsUalSJStHeR+de+65cj1avHhxkyZNrHgCEAgvAXp7Odsu0E6T5axbVC9v3LjxJ598UqVKlRNOOOHee+/VNg/jxo0bNGjQQQcddPTRR69btw59j2rTx7Be9PZyNjqj+HICzOXlb775phxm5C1To0YNLatecskl8rrJZYHIGwJZI0BvLxtaJL5s3LgKAhCAQAgIMFETgkaiiBCAAATKRgCJLxs3roIABCAQAgJIfAgaiSJCAAIQKBsBJL5s3LgKAhCAQAgIIPEhaCSKCAEIQKBsBJD4snHjKghAAAIhIIDEh6CRKCIEIACBshFA4svGjasgAAEIhIBA0F8JkkOE//3vf/VCCe14991332kPXu0K0LFjR23fqJ3cc1iqMGatPRX+85//HHbYYUceeWQYyx+HMtPbPWnlJUuWaNNvvatArxjTS0k9SbO8iZR/J7PopbB27drTTz89JVm13Mcff5y9KmsHsaf2fbKXhf8pP/TQQ4KpN1D7nzU5lkqA3l4qolIN9Jqd++67T/uIWKJRsWLFW2+9dc2aNaVem20DNjCwGuWnwNatW/UCDe3tpWPt5ti9e3e9gkNvKnjrrbdmzJihSL1bQ0Me/VA7r/TieOzYseedd55S0msYo/EGvm+++UbvJNFr9iTxr7/+uheQSMMzAvT28qPUv6oUY8KECUpKt/h6kaTu+/XGaR3qpdPaRUpyX/5cyp5Ctn9DQpf+q6++amjqFUuOwutFz+bU1Vdf7Tjl1aFeN2qyUL/xKk3/01Hhpex6/2KfPn1q1qxpasQo3v+GKDVHenupiEo1eOGFF0wPv/zyy/XiTNnrxqhXr14m8s9//nOpKWTVgFeCOPHecsstapuCgoJNmzY5z+3Z07lzZ53VnHLyKU9ioiHx6uimf9u/kXhPeoi3idDby89T9/rq59rH2z4s09SNhvCK1+av5c+iPCngUWNXob1hLZjoWzdcarC9x4mfSy+9VBtYb9n3sZ954403tBKrmXrN6kjLHn/8cf2SWwZPPvmkIp9++mm9i7Vv374dOnTQG3V1Q9ezZ89FixYZM72NTzYPPvigOVRYH2uQpUhde8cdd+jlxdWrV1fv+cMf/qD3bltZKOAmF7v98OHDtf+wdiHWRvOtW7f+7W9/O2vWLLuBwqVm6rA3h6KnElof+xxlSnsic0WA3m4nX7bebv6Ff/e739lnVvUvYNbzzOyuPRe/w+X5fYjktQ888IBpA83GbNy4sdQ6Su1lmdxsEji9bthcfs0118jg4osvPuaYYxyWhYWFmtOQ2RNPPOE4pUMVxqSgTeHr16/vMFCXGjZsmFVCN7kYY72Z/oILLnCkpkMl+OKLL1oJusnUMk4TuOKKK5S4frHS2HAqJwTo7Rb2svX2zZs3645f3Tv5jcoSfcU3bNjQyiInASZqnNhnz56tIbbaRh+trKqdRo0apfUTp93/ju+++25jfP311+ulelpd+dOf/lShQgVFtm3b1lgZ8TVm11577b/3fawfht69e8tMvjR6Ud9VV11lzJ555hkdTp8+XadWrVqlkbvi5bgpCf7yyy+1bqmfEMVIlPXKJ/e5OCz1gsDRo0fLR0hvj1JfVILy9Jo3b577TE2C6b+R+PR8cniW3l7+3q7b/V27djkaUY7C9erV0z/U2Wef7Tjl8yESnwK4lNo0j1rI+kher7vuOomz/YIFCxaY5XL5BdrjrSl1zaUo3pL4fv362c3MS5patWplRVoX2uf1zI+BimT3wdKSvX5CVDxN3ZjLXeaiMptxx2WXXWbvmuPHjzeV1WSREnSZqVXyNAEkPg2cnJ+it6sJPOztSk1+SrpnNf9N7733Xm6bGIlPzX/btm3PPfecPCarVatmqbwJ6I2p5pdfVw4cOFCRmn/X6oojoZNPPlmntMiueCO+mvLWrI7d7LHHHpONpqqtyJQSrwtlpvl9y8wE9HujeH30tIViXObSv39/XZKfn6/7BkeCchm6+eabdQOheJeZOlJIeYjEp8QSnEh6u4e9Xf9W1vs1NSjMeSvzdOs+jUz60nyF3J700ThXi5Cafnn77bfff/99/TPo1dhdu3ZVTN26db/++mtdKgcSrVs60lBLK8a+gHnEEUdUqlTJbmbWIfXzYI90hDVHZBxU5JtlvPUtA80DmrBut7XSa8Kl5qLndWWpWwfdl5hLrG8t55pwpplaKRAIIwF6e0b/YiU1sdR88ODBchTWGp5sbr/99gEDBpRk7Fs8El8Kaq2MyylKH0216wEoib7uvOSH8Pzzz995552a9ND10n2764s9RU2jW4eWh7gVoz5hhUsKmCx0Vs9b6ZPSLKNcjANA+ke3Ms00ZamIDB0Berubf7GUzap/GS2qmUGYlrWGDh2qgWBKS58jkfgE4HJuOemkkxT1z3/+87TTTks4t99+GrZr6bVOnTqaB9coXmcVo+9GjRrJFdJhbA6T53lSmqWJNFnIQEPspk2bprQ03vopTyVHmsVkM9BIPmtiPM+0pIyIzyEBertXvX3atGkSdC2V6TdSg3c97lSlSpUctqw9ayTeTmM/+bzLoXDHjh16MjNZ4mUqyZb8LVu2rLi4WIdmXy1Nv2iMn5DQPv96Da71e+CIz/RQMzDyz1GR5HAp13v75YqUy41iSpJ+u7EVbtGihcJz5szRD5VjpyTdo8iNV4sNf//7373N1MqdQHAI0Ns96e1Sgy5dumiqRzOfI0eOPP7444PTxCoJjz4lNIfE+qijjlKUNE5rqgnn9h1o8l0tqqAZOOshJoW12qkdbOzGam8tubRr1856lMl+1k3YmsOR94s0V5c8+uijVqRJYdCgQcpCZ1euXOkmTWNjvC3ls699NO1X6RZV0/3q9PrP9zxTe0aEA0KA3u5Jb9eErf7fdSsvz/qg6fvenibV4GMnID9x85SaZqu156OWNM1ZTbjL3cU4U+p27IsvvjDxRus1un/llVc0rFakFF/+iObfWB5pijG+Lmeeeaa5xPqW047M9PSTFfPuu++aC+XCqJsAk7u6jons1q3b8uXLZax4/aiYKRdt8mUud5mLCqklWSV44IEHatChQw3ntZhsfkg0eJ87d64SdJmpVfI0ATxq0sDJ7Sl6ezl7u/bXM/+bcpsuSvXRU+65bWIkPgX/v/zlL6bZ9C01104DmtywJtcUo5l667KZM2daTvTykbc/gyoHRGPmUnxlrJ8HK2sFrKdblZQVr+wszxwt4VoenO5zmThxon5XTIKql/EYM4dyA7Wq5iZTyzhNAIlPAyfnp+jtpgnK1tu1Naz1j5kyoK1BctvESHxq/hrDJs/FS9z1RIOm6R3XaLh94YUXWqKpltZ8vWZRrAeLbrzxRkW6GcUrZfmt66la+a3rEjldWXmNGDFC8/LmDsN0Jg3q5ZRpGWSUi1wnVUH7NqeaSdSNiJWaCZSaqcM+5aE8DVRgNjBICScIkfR20wpl6O3aJt78M5YF2j0bAAAAzklEQVT0nXOJZ7/4kppmb7wmrOViaDzcNUMtha1Vq1ZJF6iXyFg3brLUxJzR6JKMyxyvZV55wWsU36xZM/uPStkSlEu+3Cr0sLWqlmZl2NtMy1ZUrso2AXq7IRyx3o7EZ/sfh/QhAAEI5IzA3tkAPhCAAAQgEEkCSHwkm5VKQQACENhLAImnH0AAAhCILAEkPrJNS8UgAAEIIPH0AQhAAAKRJYDER7ZpqRgEIAABJJ4+AAEIQCCyBJD4yDYtFYMABCCAxNMHIAABCESWwP8DxIWQO42j3/4AAAAASUVORK5CYII=)\n",
        "\n",
        "Differently from the previous models that can be trained either with a supervised approach or with an unsupervised appraoch, in this case they only work if trained for some supervised target like classification (e.g., paraphrase detection) or regression (e.g., sentence similarity)."
      ],
      "id": "22b91088-565b-4bf3-805c-a917ac6969b8"
    },
    {
      "cell_type": "markdown",
      "metadata": {
        "id": "Vkav6gth97yQ"
      },
      "source": [
        "Let's load a cross-encoder model"
      ],
      "id": "Vkav6gth97yQ"
    },
    {
      "cell_type": "code",
      "execution_count": 31,
      "metadata": {
        "id": "RVcPzZiL98BI"
      },
      "outputs": [],
      "source": [
        "from sentence_transformers import CrossEncoder\n",
        "\n",
        "model = CrossEncoder('cross-encoder/stsb-distilroberta-base')"
      ],
      "id": "RVcPzZiL98BI"
    },
    {
      "cell_type": "markdown",
      "metadata": {
        "id": "sQ2ABi3B98Us"
      },
      "source": [
        "Let's use this model to compute the similarity between the queries and the documents"
      ],
      "id": "sQ2ABi3B98Us"
    },
    {
      "cell_type": "code",
      "execution_count": 32,
      "metadata": {
        "colab": {
          "base_uri": "https://localhost:8080/"
        },
        "id": "BFZyvK1E98f_",
        "outputId": "ccef4903-2bc3-44d3-de9e-5c3d2c7357f1"
      },
      "outputs": [
        {
          "output_type": "stream",
          "name": "stdout",
          "text": [
            "Query: \"A man is eating pasta.\"\n",
            "---------------------------------------\n",
            "Score: 0.6732 - Document: \"A man is eating food.\"\n",
            "Score: 0.3410 - Document: \"A man is eating a piece of bread.\"\n",
            "Score: 0.0757 - Document: \"A man is riding a horse.\"\n",
            "Score: 0.0668 - Document: \"A man is riding a white horse on an enclosed ground.\"\n",
            "Score: 0.0054 - Document: \"The girl is carrying a baby.\"\n",
            "Score: 0.0054 - Document: \"Two men pushed carts through the woods.\"\n",
            "Score: 0.0053 - Document: \"A monkey is playing drums.\"\n",
            "Score: 0.0053 - Document: \"A woman is playing violin.\"\n",
            "Score: 0.0052 - Document: \"A cheetah is running behind its prey.\"\n",
            "\n",
            "\n",
            "\n",
            "\n",
            "\n",
            "Query: \"Someone in a gorilla costume is playing a set of drums.\"\n",
            "---------------------------------------\n",
            "Score: 0.5655 - Document: \"A monkey is playing drums.\"\n",
            "Score: 0.0832 - Document: \"A woman is playing violin.\"\n",
            "Score: 0.0206 - Document: \"A cheetah is running behind its prey.\"\n",
            "Score: 0.0060 - Document: \"Two men pushed carts through the woods.\"\n",
            "Score: 0.0057 - Document: \"The girl is carrying a baby.\"\n",
            "Score: 0.0056 - Document: \"A man is riding a horse.\"\n",
            "Score: 0.0054 - Document: \"A man is riding a white horse on an enclosed ground.\"\n",
            "Score: 0.0052 - Document: \"A man is eating a piece of bread.\"\n",
            "Score: 0.0051 - Document: \"A man is eating food.\"\n",
            "\n",
            "\n",
            "\n",
            "\n",
            "\n",
            "Query: \"A cheetah chases prey on across a field.\"\n",
            "---------------------------------------\n",
            "Score: 0.6340 - Document: \"A cheetah is running behind its prey.\"\n",
            "Score: 0.0142 - Document: \"A monkey is playing drums.\"\n",
            "Score: 0.0117 - Document: \"Two men pushed carts through the woods.\"\n",
            "Score: 0.0076 - Document: \"A man is riding a white horse on an enclosed ground.\"\n",
            "Score: 0.0073 - Document: \"A man is riding a horse.\"\n",
            "Score: 0.0069 - Document: \"A man is eating food.\"\n",
            "Score: 0.0055 - Document: \"The girl is carrying a baby.\"\n",
            "Score: 0.0052 - Document: \"A woman is playing violin.\"\n",
            "Score: 0.0051 - Document: \"A man is eating a piece of bread.\"\n",
            "\n",
            "\n",
            "\n",
            "\n",
            "\n"
          ]
        }
      ],
      "source": [
        "import numpy as np\n",
        "\n",
        "# Iterate over queries\n",
        "for query in queries:\n",
        "    # Prepare model inputs \n",
        "    model_inputs = [[query, doc] for doc in docs]\n",
        "    # Predict similarity score\n",
        "    scores = model.predict(model_inputs)\n",
        "    # Print the result\n",
        "    print(f\"Query: \\\"{query}\\\"\")\n",
        "    print(\"---------------------------------------\")\n",
        "    for idx in np.argsort(-scores):\n",
        "        print(f\"Score: {scores[idx]:.4f} - Document: \\\"{corpus[idx]}\\\"\")\n",
        "    print(\"\\n\\n\\n\\n\")"
      ],
      "id": "BFZyvK1E98f_"
    },
    {
      "cell_type": "markdown",
      "metadata": {
        "id": "VBcWYl7r6xlN"
      },
      "source": [
        "### Question answering pipeline\n",
        "\n",
        "Ok this is cool (I know you think it is cool, I can read your minds), but what can we do when we have a large data set and complex applications like question answering?\n",
        "Let's try out!\n",
        "\n",
        "The following example is based on this one https://github.com/UKPLab/sentence-transformers/blob/master/examples/applications/retrieve_rerank/retrieve_rerank_simple_wikipedia.ipynb"
      ],
      "id": "VBcWYl7r6xlN"
    },
    {
      "cell_type": "markdown",
      "metadata": {
        "id": "sRHrj6HqAZ4V"
      },
      "source": [
        "Let's start by loading a sentence embedding model and a cross encoder model"
      ],
      "id": "sRHrj6HqAZ4V"
    },
    {
      "cell_type": "code",
      "execution_count": 33,
      "metadata": {
        "id": "Q2Uqvlr8AaEu"
      },
      "outputs": [],
      "source": [
        "from sentence_transformers import SentenceTransformer, CrossEncoder, util\n",
        "\n",
        "semb_model = SentenceTransformer('multi-qa-MiniLM-L6-cos-v1')\n",
        "xenc_model = CrossEncoder('cross-encoder/ms-marco-MiniLM-L-6-v2')"
      ],
      "id": "Q2Uqvlr8AaEu"
    },
    {
      "cell_type": "markdown",
      "metadata": {
        "id": "73d8fd91-bf88-49e5-a624-15e2d0dcff7d"
      },
      "source": [
        "#### Prepare data\n",
        "\n",
        "We can load a reduced copy of Wikipedia ([Simple Wikipedia](https://simple.wikipedia.org/wiki/Main_Page), which is different from Simple Jack from Tropic Thunder 😬).\n",
        "\n"
      ],
      "id": "73d8fd91-bf88-49e5-a624-15e2d0dcff7d"
    },
    {
      "cell_type": "markdown",
      "metadata": {
        "id": "7HJxQNkn_Tz_"
      },
      "source": [
        "Let's start by downloading the data set if it is not avaialble"
      ],
      "id": "7HJxQNkn_Tz_"
    },
    {
      "cell_type": "code",
      "execution_count": 34,
      "metadata": {
        "id": "cB805G0K_P_s"
      },
      "outputs": [],
      "source": [
        "import os\n",
        "\n",
        "wikipedia_filepath = 'simplewiki-2020-11-01.jsonl.gz'\n",
        "if not os.path.exists(wikipedia_filepath):\n",
        "    util.http_get('http://sbert.net/datasets/simplewiki-2020-11-01.jsonl.gz', wikipedia_filepath)"
      ],
      "id": "cB805G0K_P_s"
    },
    {
      "cell_type": "markdown",
      "metadata": {
        "id": "xf_y12Zl_ZpM"
      },
      "source": [
        "Now let's load the first paragraph of each document"
      ],
      "id": "xf_y12Zl_ZpM"
    },
    {
      "cell_type": "code",
      "execution_count": 35,
      "metadata": {
        "colab": {
          "base_uri": "https://localhost:8080/"
        },
        "id": "95OoeI9K_Z29",
        "outputId": "89346a00-516d-43ce-e184-b1130f407dd4"
      },
      "outputs": [
        {
          "output_type": "stream",
          "name": "stdout",
          "text": [
            "Retreived 169597 passages\n"
          ]
        }
      ],
      "source": [
        "import json\n",
        "import gzip\n",
        "\n",
        "passages = []\n",
        "# Open the file with the dump of Simple Wikipedia\n",
        "with gzip.open(wikipedia_filepath, 'rt', encoding='utf8') as f:\n",
        "    # Iterate over the lines\n",
        "    for line in f:\n",
        "        # Parse the document using JSON\n",
        "        data = json.loads(line.strip())\n",
        "        # Add all paragraphs\n",
        "        #passages.extend(data['paragraphs'])\n",
        "        # Only add the first paragraph\n",
        "        passages.append(data['paragraphs'][0])\n",
        "\n",
        "print(f\"Retreived {len(passages)} passages\")"
      ],
      "id": "95OoeI9K_Z29"
    },
    {
      "cell_type": "markdown",
      "metadata": {
        "id": "0ccMuWe7ATfL"
      },
      "source": [
        "Now we can embed the retrieved passaged using the sentence embedding model"
      ],
      "id": "0ccMuWe7ATfL"
    },
    {
      "cell_type": "code",
      "execution_count": 36,
      "metadata": {
        "colab": {
          "base_uri": "https://localhost:8080/",
          "height": 69,
          "referenced_widgets": [
            "53837ea1e63143969c3a63dd14dbfc02",
            "29d8a8afa2034f0496a9dbfafada47c7",
            "6cf2ce8d708445bc804c2c36f5517fff",
            "aca21192f4834aeaac79edb6dfee6863",
            "9e5b60282bd942499e7257794f933951",
            "905c84320b0c46edb4c0003ccf5be790",
            "ea43cc53556c49749f8f6d3df5d1e354",
            "873002c53c2a4820a15b11c098ad7272",
            "dc525198cd1843e9b4d3dc583840e53d",
            "e6564654b99641aab2481751fdb8b8b4",
            "3ffdcbe93d1d41189abd07bbc3cb7b72"
          ]
        },
        "id": "rLwe49q4ATsc",
        "outputId": "7bf9391f-349a-46ce-a148-beb8af53d1df"
      },
      "outputs": [
        {
          "output_type": "display_data",
          "data": {
            "text/plain": [
              "Batches:   0%|          | 0/5300 [00:00<?, ?it/s]"
            ],
            "application/vnd.jupyter.widget-view+json": {
              "version_major": 2,
              "version_minor": 0,
              "model_id": "53837ea1e63143969c3a63dd14dbfc02"
            }
          },
          "metadata": {}
        }
      ],
      "source": [
        "corpus_embeddings = semb_model.encode(passages, convert_to_tensor=True, show_progress_bar=True)"
      ],
      "id": "rLwe49q4ATsc"
    },
    {
      "cell_type": "markdown",
      "metadata": {
        "id": "e1036f0e-f2c9-4a2e-bb73-36bc3d0279a4"
      },
      "source": [
        "#### Approximated Nearest Neighbor search\n",
        "\n",
        "When we use an embedding model with cosine similarity, we can pre-compute the embeddings in our data set and index them to speed-up the search.\n",
        "There are techniques for Approximate Nearest Neighbor (ANN), which use clustering to index the embedding space and speed-up the search process.\n",
        "\n",
        "Note that this is not applicable to cross-encoder models, which encode document and query together.\n",
        "\n",
        "Sentence transformers support different libraries for ANN:\n",
        "- [HNSWLIB](https://github.com/nmslib/hnswlib/)\n",
        "- [Annoy](https://github.com/spotify/annoy)\n",
        "- [FAISS](https://github.com/spotify/annoy)\n",
        "\n",
        "Let's try indexing with **HNSWLIB** (yes yes I know, do or do not, there is not try...)"
      ],
      "id": "e1036f0e-f2c9-4a2e-bb73-36bc3d0279a4"
    },
    {
      "cell_type": "markdown",
      "metadata": {
        "id": "9vfeR2RMEPbD"
      },
      "source": [
        "Import the HNSWLIB library and create and empty index"
      ],
      "id": "9vfeR2RMEPbD"
    },
    {
      "cell_type": "code",
      "execution_count": 37,
      "metadata": {
        "id": "AwJjV_wxEOa4"
      },
      "outputs": [],
      "source": [
        "import hnswlib\n",
        "\n",
        "index = hnswlib.Index(space='cosine', dim=corpus_embeddings.size(1))"
      ],
      "id": "AwJjV_wxEOa4"
    },
    {
      "cell_type": "markdown",
      "metadata": {
        "id": "I10ItvdQEWBb"
      },
      "source": [
        "Now we can index our data. The index we compute can be saved and loaded, so we can check if it is already availabel and load it (this will save time)"
      ],
      "id": "I10ItvdQEWBb"
    },
    {
      "cell_type": "code",
      "execution_count": 38,
      "metadata": {
        "colab": {
          "base_uri": "https://localhost:8080/"
        },
        "id": "05SpZx1dExeu",
        "outputId": "9ec08f32-4678-4aab-a8f5-cbad0a664875"
      },
      "outputs": [
        {
          "output_type": "stream",
          "name": "stdout",
          "text": [
            "Start creating HNSWLIB index\n",
            "Saving index to: ./hnswlib.index\n"
          ]
        }
      ],
      "source": [
        "import os\n",
        "\n",
        "# Define hnswlib index path\n",
        "index_path = \"./hnswlib.index\"\n",
        "\n",
        "# Load index if available\n",
        "if os.path.exists(index_path):\n",
        "    print(\"Loading index...\")\n",
        "    index.load_index(index_path)\n",
        "# Else index data collection\n",
        "else:\n",
        "    # Initialise the index\n",
        "    print(\"Start creating HNSWLIB index\")\n",
        "    index.init_index(max_elements=corpus_embeddings.size(0), ef_construction=400, M=64)\n",
        "    #  Compute the HNSWLIB index (it may take a while)\n",
        "    index.add_items(corpus_embeddings.cpu(), list(range(len(corpus_embeddings))))\n",
        "    # Save the index to a file for future loading\n",
        "    print(\"Saving index to:\", index_path)\n",
        "    index.save_index(index_path)"
      ],
      "id": "05SpZx1dExeu"
    },
    {
      "cell_type": "markdown",
      "metadata": {
        "id": "S_M-yqrSFqv2"
      },
      "source": [
        "Is it really faster to search? Let's see.\n",
        "\n",
        "We can create a query"
      ],
      "id": "S_M-yqrSFqv2"
    },
    {
      "cell_type": "code",
      "execution_count": 39,
      "metadata": {
        "id": "3egoMGPAGZs_"
      },
      "outputs": [],
      "source": [
        "query = \"Why is it that the plural of finger is fingers and not hand?\"\n",
        "query_embedding = semb_model.encode(query, convert_to_tensor=True)"
      ],
      "id": "3egoMGPAGZs_"
    },
    {
      "cell_type": "markdown",
      "metadata": {
        "id": "KKagl2pMGZ8N"
      },
      "source": [
        "And measure the running time"
      ],
      "id": "KKagl2pMGZ8N"
    },
    {
      "cell_type": "code",
      "execution_count": 40,
      "metadata": {
        "colab": {
          "base_uri": "https://localhost:8080/"
        },
        "id": "VLO-0byOFrHI",
        "outputId": "85484d45-0ba0-4b8a-e0bb-173d16945871"
      },
      "outputs": [
        {
          "output_type": "stream",
          "name": "stdout",
          "text": [
            "Search time with index: 0:00:00.003077\n",
            "Search time without index: 0:00:00.005909\n"
          ]
        }
      ],
      "source": [
        "from datetime import datetime\n",
        "\n",
        "# Search using index\n",
        "t_start = datetime.now()\n",
        "_ = index.knn_query(query_embedding.cpu(), k=128)\n",
        "t_stop = datetime.now()\n",
        "print(f\"Search time with index: {t_stop - t_start}\")\n",
        "\n",
        "# Search without index\n",
        "t_start = datetime.now()\n",
        "_ = util.semantic_search(query_embedding, corpus_embeddings, score_function=util.cos_sim, top_k=128)\n",
        "t_stop = datetime.now()\n",
        "print(f\"Search time without index: {t_stop - t_start}\")"
      ],
      "id": "VLO-0byOFrHI"
    },
    {
      "cell_type": "markdown",
      "metadata": {
        "id": "7146c4c7-4dea-4283-bd69-764001ef50dc"
      },
      "source": [
        "### Re-ranking\n",
        "\n",
        "Cross-encoder models empirically yield better results, but are slow at inference.\n",
        "Embedding models with cosine similarity, on the other side, are less precise, but are also faster at inference.\n",
        "\n",
        "We can take advantage of both: We can do a first search with bi-encoder models and then re-rank the top-$k$ results with a cross-encoder.\n",
        "We call this approach *retrieve and re-rank*.\n",
        "\n",
        "Let's use the ANN index we just computed and a cross encoder model to build a retrieval pipeline"
      ],
      "id": "7146c4c7-4dea-4283-bd69-764001ef50dc"
    },
    {
      "cell_type": "markdown",
      "metadata": {
        "id": "eyIli6VHIYgE"
      },
      "source": [
        "Define a query"
      ],
      "id": "eyIli6VHIYgE"
    },
    {
      "cell_type": "code",
      "execution_count": 41,
      "metadata": {
        "id": "hCLoQ96wIXjr"
      },
      "outputs": [],
      "source": [
        "query = \"Which is the capital of the United States?\"\n",
        "query_embedding = semb_model.encode(query, convert_to_tensor=True)"
      ],
      "id": "hCLoQ96wIXjr"
    },
    {
      "cell_type": "markdown",
      "metadata": {
        "id": "1kw8zAXCIaf8"
      },
      "source": [
        "Search using ANN index"
      ],
      "id": "1kw8zAXCIaf8"
    },
    {
      "cell_type": "code",
      "execution_count": 42,
      "metadata": {
        "id": "oVtbQRLjIZmT",
        "colab": {
          "base_uri": "https://localhost:8080/"
        },
        "outputId": "982e0c07-2694-48e9-8371-99be1be6294e"
      },
      "outputs": [
        {
          "output_type": "stream",
          "name": "stdout",
          "text": [
            "Cosine similarity model search results\n",
            "Query: \"Which is the capital of the United States?\"\n",
            "---------------------------------------\n",
            "Score: 0.6216\n",
            "Document: \"Cities in the United States:\"\n",
            "\n",
            "\n",
            "Score: 0.6067\n",
            "Document: \"The United States Capitol is the building where the United States Congress meets. It is the center of the legislative branch of the U.S. federal government. It is in Washington, D.C., on top of Capitol Hill at the east end of the National Mall.\"\n",
            "\n",
            "\n",
            "Score: 0.5744\n",
            "Document: \"Washington, D.C. (also known as simply Washington or D.C., and officially as the District of Columbia) is the capital of the United States. It is a federal district. The President of the USA and many major national government offices are in the territory. This makes it the political center of the United States of America.\"\n",
            "\n",
            "\n"
          ]
        }
      ],
      "source": [
        "corpus_ids, distances = index.knn_query(query_embedding.cpu(), k=3)\n",
        "scores = 1 - distances\n",
        "\n",
        "print(\"Cosine similarity model search results\")\n",
        "print(f\"Query: \\\"{query}\\\"\")\n",
        "print(\"---------------------------------------\")\n",
        "for idx, score in zip(corpus_ids[0], scores[0]):\n",
        "    print(f\"Score: {score:.4f}\\nDocument: \\\"{passages[idx]}\\\"\\n\\n\")"
      ],
      "id": "oVtbQRLjIZmT"
    },
    {
      "cell_type": "markdown",
      "metadata": {
        "id": "6p1evNY2Iqlt"
      },
      "source": [
        "Let's add the re-ranking"
      ],
      "id": "6p1evNY2Iqlt"
    },
    {
      "cell_type": "code",
      "execution_count": 43,
      "metadata": {
        "id": "3_LdOhYhIq4C",
        "colab": {
          "base_uri": "https://localhost:8080/"
        },
        "outputId": "b13afd34-595c-40b6-8e5d-e062337b3d86"
      },
      "outputs": [
        {
          "output_type": "stream",
          "name": "stdout",
          "text": [
            "Cross-encoder model re-ranking results\n",
            "Query: \"Which is the capital of the United States?\"\n",
            "---------------------------------------\n",
            "Score: 9.3665\n",
            "Document: \"Washington, D.C. (also known as simply Washington or D.C., and officially as the District of Columbia) is the capital of the United States. It is a federal district. The President of the USA and many major national government offices are in the territory. This makes it the political center of the United States of America.\"\n",
            "\n",
            "\n",
            "Score: 4.1543\n",
            "Document: \"The continental United States is the area of the United States of America that is located in the continent of North America. It includes 49 of the 50 states (48 of which are located south of Canada and north of Mexico, known as the \"lower 48 states\", the other being Alaska) and the District of Columbia, which contains the federal capital, Washington, D.C. The only state which is not part of this is Hawaii (as they are islands in the Pacific Ocean and not part of North America).\"\n",
            "\n",
            "\n",
            "Score: 3.6647\n",
            "Document: \"The United States Capitol is the building where the United States Congress meets. It is the center of the legislative branch of the U.S. federal government. It is in Washington, D.C., on top of Capitol Hill at the east end of the National Mall.\"\n",
            "\n",
            "\n"
          ]
        }
      ],
      "source": [
        "corpus_ids, _ = index.knn_query(query_embedding.cpu(), k=128)\n",
        "\n",
        "model_inputs = [(query, passages[idx]) for idx in corpus_ids[0]]\n",
        "cross_scores = xenc_model.predict(model_inputs)\n",
        "\n",
        "print(\"Cross-encoder model re-ranking results\")\n",
        "print(f\"Query: \\\"{query}\\\"\")\n",
        "print(\"---------------------------------------\")\n",
        "for idx in np.argsort(-cross_scores)[:3]:\n",
        "    print(f\"Score: {cross_scores[idx]:.4f}\\nDocument: \\\"{passages[corpus_ids[0][idx]]}\\\"\\n\\n\")"
      ],
      "id": "3_LdOhYhIq4C"
    },
    {
      "cell_type": "markdown",
      "metadata": {
        "id": "lDe4L3MFIbfq"
      },
      "source": [
        "Try out other queries"
      ],
      "id": "lDe4L3MFIbfq"
    },
    {
      "cell_type": "code",
      "execution_count": 44,
      "metadata": {
        "id": "J0isqjMWIdKJ",
        "colab": {
          "base_uri": "https://localhost:8080/"
        },
        "outputId": "04534d19-612d-4cec-8492-a73f8c75490a"
      },
      "outputs": [
        {
          "output_type": "stream",
          "name": "stdout",
          "text": [
            "Cross-encoder model re-ranking results\n",
            "Query: \"What is the best orchestra in the world?\"\n",
            "---------------------------------------\n",
            "Score: 5.9522\n",
            "Document: \"The London Symphony Orchestra (LSO) is one of the most famous orchestras of the world. They are based in London's Barbican Centre, but they often tour to lots of different countries.\"\n",
            "\n",
            "\n",
            "Score: 5.7941\n",
            "Document: \"The Vienna Philharmonic (in German: die Wiener Philharmoniker) is an orchestra based in Vienna, Austria. It is thought of as one of the greatest orchestras in the world.\"\n",
            "\n",
            "\n",
            "Score: 5.3239\n",
            "Document: \"The Berlin Philharmonic (in German: Die Berliner Philharmoniker), is an orchestra from Berlin, Germany. It is one of the greatest orchestras in the world. The conductor of the orchestra is Sir Simon Rattle.\"\n",
            "\n",
            "\n"
          ]
        }
      ],
      "source": [
        "query = \"What is the best orchestra in the world?\"\n",
        "query_embedding = semb_model.encode(query, convert_to_tensor=True)\n",
        "\n",
        "corpus_ids, _ = index.knn_query(query_embedding.cpu(), k=128)\n",
        "\n",
        "model_inputs = [(query, passages[idx]) for idx in corpus_ids[0]]\n",
        "cross_scores = xenc_model.predict(model_inputs)\n",
        "\n",
        "print(\"Cross-encoder model re-ranking results\")\n",
        "print(f\"Query: \\\"{query}\\\"\")\n",
        "print(\"---------------------------------------\")\n",
        "for idx in np.argsort(-cross_scores)[:3]:\n",
        "    print(f\"Score: {cross_scores[idx]:.4f}\\nDocument: \\\"{passages[corpus_ids[0][idx]]}\\\"\\n\\n\")"
      ],
      "id": "J0isqjMWIdKJ"
    },
    {
      "cell_type": "code",
      "execution_count": 45,
      "metadata": {
        "id": "rmU626jUIdWs",
        "colab": {
          "base_uri": "https://localhost:8080/"
        },
        "outputId": "f471b6ff-5f52-4905-ebcf-026fdbf58f68"
      },
      "outputs": [
        {
          "output_type": "stream",
          "name": "stdout",
          "text": [
            "Cross-encoder model re-ranking results\n",
            "Query: \"Number countries Europe\"\n",
            "---------------------------------------\n",
            "Score: 5.1992\n",
            "Document: \"The European Union (abbreviation: EU) is a confederation of 27 member countries in Europe established by the Maastricht Treaty in 1992-1993. The EU grew out of the European Economic Community (EEC) which was established by the Treaties of Rome in 1957. It has created a common economic area with Europe-wide laws allowing the citizens of EU countries to move and trade in other EU countries almost the same as they do in their own. Nineteen of these countries also share the same type of money: the euro.\"\n",
            "\n",
            "\n",
            "Score: 3.2021\n",
            "Document: \"A European Union member state is any one of the twenty-seven countries that have joined the European Union (EU) since it was found in 1958 as the European Economic Community (EEC). From an original membership of six states, there have been five successive enlargements. The largest happened on 1 May 2004, when ten member states joined.\"\n",
            "\n",
            "\n",
            "Score: 2.8856\n",
            "Document: \"Organization for Security and Co-operation in Europe (OSCE) is an international organization for peace and human rights. Presently, it has 57 countries as its members. Most of the member countries of the OSCE are from Europe, the Caucasus, Central Asia and North America.\"\n",
            "\n",
            "\n"
          ]
        }
      ],
      "source": [
        "query = \"Number countries Europe\"\n",
        "query_embedding = semb_model.encode(query, convert_to_tensor=True)\n",
        "\n",
        "corpus_ids, _ = index.knn_query(query_embedding.cpu(), k=128)\n",
        "\n",
        "model_inputs = [(query, passages[idx]) for idx in corpus_ids[0]]\n",
        "cross_scores = xenc_model.predict(model_inputs)\n",
        "\n",
        "print(\"Cross-encoder model re-ranking results\")\n",
        "print(f\"Query: \\\"{query}\\\"\")\n",
        "print(\"---------------------------------------\")\n",
        "for idx in np.argsort(-cross_scores)[:3]:\n",
        "    print(f\"Score: {cross_scores[idx]:.4f}\\nDocument: \\\"{passages[corpus_ids[0][idx]]}\\\"\\n\\n\")"
      ],
      "id": "rmU626jUIdWs"
    },
    {
      "cell_type": "code",
      "execution_count": 46,
      "metadata": {
        "id": "hsnmCzi6Idi3",
        "colab": {
          "base_uri": "https://localhost:8080/"
        },
        "outputId": "cc9475b7-7997-46a2-c251-8a13f176f1ed"
      },
      "outputs": [
        {
          "output_type": "stream",
          "name": "stdout",
          "text": [
            "Cross-encoder model re-ranking results\n",
            "Query: \"When did the cold war end?\"\n",
            "---------------------------------------\n",
            "Score: 5.2034\n",
            "Document: \"The Cold War was the tense relationship between the United States (and its allies), and the Soviet Union (the USSR and its allies) between the end of World War II and the fall of the Soviet Union. It is called the \"Cold\" War because the US and the USSR never actually fought each other directly. Instead, they opposed each other in conflicts known as proxy wars, where each country chose a side to support.\"\n",
            "\n",
            "\n",
            "Score: 2.5311\n",
            "Document: \"A speech was made by American President Harry S. Truman to the U.S. Congress on 12 March 1947. In this speech he said he thought that The United States should help Greece and Turkey to stop them being 'Totalitarianists' although he meant Soviet Communism. This became known as the Truman Doctrine. Some Historians believe that this was the start of the Cold War.\"\n",
            "\n",
            "\n",
            "Score: 2.0793\n",
            "Document: \"The Sino-Soviet split (1960–1989) was a time when the relations between the People's Republic of China and the Soviet Union weakened during the Cold War. Eventually, China's leader, Mao Zedong, decided to break the alliance with the Soviet Union.\"\n",
            "\n",
            "\n"
          ]
        }
      ],
      "source": [
        "query = \"When did the cold war end?\"\n",
        "query_embedding = semb_model.encode(query, convert_to_tensor=True)\n",
        "\n",
        "corpus_ids, _ = index.knn_query(query_embedding.cpu(), k=128)\n",
        "\n",
        "model_inputs = [(query, passages[idx]) for idx in corpus_ids[0]]\n",
        "cross_scores = xenc_model.predict(model_inputs)\n",
        "\n",
        "print(\"Cross-encoder model re-ranking results\")\n",
        "print(f\"Query: \\\"{query}\\\"\")\n",
        "print(\"---------------------------------------\")\n",
        "for idx in np.argsort(-cross_scores)[:3]:\n",
        "    print(f\"Score: {cross_scores[idx]:.4f}\\nDocument: \\\"{passages[corpus_ids[0][idx]]}\\\"\\n\\n\")"
      ],
      "id": "hsnmCzi6Idi3"
    },
    {
      "cell_type": "markdown",
      "metadata": {
        "id": "39ba866b-244d-4273-9119-f9ad31d80a5b"
      },
      "source": [
        "## Retrieval-based chatbots\n",
        "\n",
        "During the lectures you have started getting familiar with *chabots* (open-domain conversational agents).\n",
        "\n",
        "We can use these semantic search pipelines to build a retrieval-based chatbot.\n",
        "It is a data-driven kind of chatbot that gets responses from a data set.\n",
        "\n",
        "We can use the same retreive and re-rank pipeline from before, let's start by importing the models.\n"
      ],
      "id": "39ba866b-244d-4273-9119-f9ad31d80a5b"
    },
    {
      "cell_type": "code",
      "execution_count": 47,
      "metadata": {
        "id": "amISMhw2NgBu"
      },
      "outputs": [],
      "source": [
        "from sentence_transformers import SentenceTransformer, CrossEncoder, util\n",
        "\n",
        "semb_model = SentenceTransformer('multi-qa-MiniLM-L6-cos-v1')\n",
        "xenc_model = CrossEncoder('cross-encoder/ms-marco-MiniLM-L-6-v2')"
      ],
      "id": "amISMhw2NgBu"
    },
    {
      "cell_type": "markdown",
      "metadata": {
        "id": "I3HENFkbNlDV"
      },
      "source": [
        "We are going to use a slightly different appraoch.\n",
        "1. First we are going to rank by similarity of the last user sentence and the sentences in out corpus (the initial matches).\n",
        "2. Then we we are going to extract the response to the matches in our data set. Intuitively, semantic similarity gives us a sentence that is similar to the query one, so we want to get the responses to to a possible match.\n",
        "3. We are going to re-rank the user-message and retreived-response pairs"
      ],
      "id": "I3HENFkbNlDV"
    },
    {
      "cell_type": "markdown",
      "metadata": {
        "id": "56a54170-251d-4a23-9013-a9634b4bd046"
      },
      "source": [
        "### Dialogue data\n",
        "\n",
        "For this part we are going to use the [EmpatheticDialogues](https://arxiv.org/pdf/1811.00207.pdf) data set, again available via the HuggingFace datasets library"
      ],
      "id": "56a54170-251d-4a23-9013-a9634b4bd046"
    },
    {
      "cell_type": "markdown",
      "metadata": {
        "id": "723b0ec3-3d42-4e0c-ad12-26369109c15f"
      },
      "source": [
        "#### Load \n",
        "\n",
        "Let's start by loading our data set. \n",
        "For simplicity we are going to use only the validation set."
      ],
      "id": "723b0ec3-3d42-4e0c-ad12-26369109c15f"
    },
    {
      "cell_type": "code",
      "execution_count": 48,
      "metadata": {
        "id": "ePwU83MHPuyE",
        "colab": {
          "base_uri": "https://localhost:8080/",
          "height": 412,
          "referenced_widgets": [
            "919ab6b8ea5e479ab4f1ec26afde87d4",
            "10efd81d6aad4bd081b1a1af3fdea4a9",
            "1989ab6e8252473ba9739008a249c016",
            "30397561ff964f2984f6b88a917c4632",
            "a53a0e0026884931a013f9942cd3628a",
            "62dd3a67245041988387b9915c6f69f3",
            "1cd65564e76a44d198132c131f754af7",
            "59db7c0c934144c89d70a1e5b9ef344a",
            "2b5c307861d84be7acd2ba69bfedf8f6",
            "23510ffeee8240ef847bed18a338678b",
            "7f6971179155411c81981fb0f4ff2e8c",
            "c9bf25031a6b44aebb1185f0b9bccdec",
            "345d82899bae4fd79088c9db18c94444",
            "ee9203a983634fe4a6975407d1067084",
            "8210f9c83bc64d2cb76c36b9197902cf",
            "4020ecbb6d4a44dfac1fb05007ccd8c6",
            "620f1487d4fb44be97752de544fa710c",
            "67d6b7a5c2f7408fa4e88a424711c9e9",
            "067fd6fca18248a193a84c722f559a4d",
            "619a46827c3b4088a689e4db974bea93",
            "a980b7896b1e4a29ada77a3c4cd77509",
            "ed69e74fc6a64e7f8cda049aac93b66e",
            "4fcd2d4e72c4485a93da3a1d127699f0",
            "060d04461a3e43cda2f7d5d72a2c4cac",
            "98254dd2545c4ff8afc4ebcb8888dfe5",
            "236a2af0cb1d447caed965420d77e723",
            "98856839a87847409399735a8b4f56d9",
            "17235a7974c7452ab7f363a6a26cc621",
            "df1cb4632475483bb781b94b66fb0979",
            "fcfa0ae465b344c493468121b32db898",
            "5a5f1025027e4f7c8a85435dc0336a53",
            "2b374f24da2d44188b3c66b5857198b4",
            "7600932cf91b415085eabbb15d0d783f",
            "08b82fe6557a488bb40934759f2eed62",
            "40cf9750b2a4495d92869a5afbb9ce13",
            "057a8fd0c7594d3184928bd637b38ef1",
            "2ff0d1ec046d48d1a56564d07eb2edc7",
            "663a4b258e7640c6b43992556d188afc",
            "99a8c7cdb8e3472582a49eb8f2867e06",
            "907c13f8986843fd9982dbd99f406cf3",
            "54741174e0674237bdaa1beb12ebd298",
            "87e440fffb614369b898ed6075903e46",
            "f6493d2a5a064d21874de21e7236d31d",
            "b016e23c1e20493aa167bd0853b1d58b",
            "91f2e8de0f574d8b9ce381c375a65e1f",
            "fabc00f69b524c8b99dfd23d0743090e",
            "c10f2bb2d63f4e9f830ab3c48e0b75cf",
            "ad332467d46147eebcd11b8e19a17a93",
            "7712087e9fc044a5b96b4bd8d60b2ce4",
            "2ee36601a5c648d69e995359bdc21ed3",
            "8e1a870610ed432dae78fd5d875f0c0f",
            "fc8590edd64048a5827fb61a01241598",
            "435bdf15ad1d4b8597e00dde6771952e",
            "45aea93d1506408899afe92644ca2836",
            "19a3c46c4a824f7f899a503984aa67fb",
            "f4ace7372d7a46bc9e4d162cc8cd6d00",
            "473655d6c7cc40aab7e6386bb3d58a21",
            "4cdc612e732c4aac9d8aa77b28f7a5c4",
            "f5beeb50aa064cd5a89f70085cbed57c",
            "2028f54202544d41b11662e5d3bcf810",
            "7864462f8f434278bfa56bb99f5c814d",
            "8c51bd805bef43ccb0dc6fdde83509be",
            "45664a2b20614f1fb56ca10878a6123c",
            "4fb5fe7a505e4af4a69b38e936eaea6b",
            "c6e118bdc8f840379cd83a95efcf0b3e",
            "f5879daf81b742f3817710727bd64df8",
            "5c27b998c7114c6bb2fa849ba3d96437",
            "8c89460407314927bf013b4aab3fc366",
            "330b66c315db4930b14208afd33de16d",
            "f91acf0ecb6e4433b82b0abf7bd0439b",
            "a524dfa4a49a46da9355a43db9577eb7",
            "f5bae66f22804c97b8d43486c0fb34c8",
            "ccc76cbe3a144ed4bffa2a323476a314",
            "edb40bdf7d214ee5837d0e44def14368",
            "fd2f56c374ec42f78358659c3c5e61f5",
            "4669311426b84115886609fcd528049f",
            "8d08ba1136ad48d6a4d06f337421453e"
          ]
        },
        "outputId": "2e5ba2e0-8ffa-4b56-86ce-0873c8a2453a"
      },
      "outputs": [
        {
          "output_type": "display_data",
          "data": {
            "text/plain": [
              "Downloading builder script:   0%|          | 0.00/4.51k [00:00<?, ?B/s]"
            ],
            "application/vnd.jupyter.widget-view+json": {
              "version_major": 2,
              "version_minor": 0,
              "model_id": "919ab6b8ea5e479ab4f1ec26afde87d4"
            }
          },
          "metadata": {}
        },
        {
          "output_type": "display_data",
          "data": {
            "text/plain": [
              "Downloading metadata:   0%|          | 0.00/1.91k [00:00<?, ?B/s]"
            ],
            "application/vnd.jupyter.widget-view+json": {
              "version_major": 2,
              "version_minor": 0,
              "model_id": "c9bf25031a6b44aebb1185f0b9bccdec"
            }
          },
          "metadata": {}
        },
        {
          "output_type": "display_data",
          "data": {
            "text/plain": [
              "Downloading readme:   0%|          | 0.00/7.15k [00:00<?, ?B/s]"
            ],
            "application/vnd.jupyter.widget-view+json": {
              "version_major": 2,
              "version_minor": 0,
              "model_id": "4fcd2d4e72c4485a93da3a1d127699f0"
            }
          },
          "metadata": {}
        },
        {
          "output_type": "stream",
          "name": "stdout",
          "text": [
            "Downloading and preparing dataset empathetic_dialogues/default to /root/.cache/huggingface/datasets/empathetic_dialogues/default/0.1.0/09bbeed3882a67db98c73952fb3c1c9a85af83dc78f81454c2454382fd03f6cf...\n"
          ]
        },
        {
          "output_type": "display_data",
          "data": {
            "text/plain": [
              "Downloading data:   0%|          | 0.00/28.0M [00:00<?, ?B/s]"
            ],
            "application/vnd.jupyter.widget-view+json": {
              "version_major": 2,
              "version_minor": 0,
              "model_id": "08b82fe6557a488bb40934759f2eed62"
            }
          },
          "metadata": {}
        },
        {
          "output_type": "display_data",
          "data": {
            "text/plain": [
              "Generating train split:   0%|          | 0/76673 [00:00<?, ? examples/s]"
            ],
            "application/vnd.jupyter.widget-view+json": {
              "version_major": 2,
              "version_minor": 0,
              "model_id": "91f2e8de0f574d8b9ce381c375a65e1f"
            }
          },
          "metadata": {}
        },
        {
          "output_type": "display_data",
          "data": {
            "text/plain": [
              "Generating validation split:   0%|          | 0/12030 [00:00<?, ? examples/s]"
            ],
            "application/vnd.jupyter.widget-view+json": {
              "version_major": 2,
              "version_minor": 0,
              "model_id": "f4ace7372d7a46bc9e4d162cc8cd6d00"
            }
          },
          "metadata": {}
        },
        {
          "output_type": "display_data",
          "data": {
            "text/plain": [
              "Generating test split:   0%|          | 0/10943 [00:00<?, ? examples/s]"
            ],
            "application/vnd.jupyter.widget-view+json": {
              "version_major": 2,
              "version_minor": 0,
              "model_id": "5c27b998c7114c6bb2fa849ba3d96437"
            }
          },
          "metadata": {}
        },
        {
          "output_type": "stream",
          "name": "stdout",
          "text": [
            "Dataset empathetic_dialogues downloaded and prepared to /root/.cache/huggingface/datasets/empathetic_dialogues/default/0.1.0/09bbeed3882a67db98c73952fb3c1c9a85af83dc78f81454c2454382fd03f6cf. Subsequent calls will reuse this data.\n"
          ]
        },
        {
          "output_type": "execute_result",
          "data": {
            "text/plain": [
              "{'conv_id': ['hit:0_conv:1', 'hit:0_conv:1', 'hit:0_conv:1'],\n",
              " 'utterance_idx': [1, 2, 3],\n",
              " 'context': ['sentimental', 'sentimental', 'sentimental'],\n",
              " 'prompt': ['I remember going to the fireworks with my best friend. There was a lot of people_comma_ but it only felt like us in the world.',\n",
              "  'I remember going to the fireworks with my best friend. There was a lot of people_comma_ but it only felt like us in the world.',\n",
              "  'I remember going to the fireworks with my best friend. There was a lot of people_comma_ but it only felt like us in the world.'],\n",
              " 'speaker_idx': [1, 0, 1],\n",
              " 'utterance': ['I remember going to see the fireworks with my best friend. It was the first time we ever spent time alone together. Although there was a lot of people_comma_ we felt like the only people in the world.',\n",
              "  'Was this a friend you were in love with_comma_ or just a best friend?',\n",
              "  'This was a best friend. I miss her.'],\n",
              " 'selfeval': ['5|5|5_2|2|5', '5|5|5_2|2|5', '5|5|5_2|2|5'],\n",
              " 'tags': ['', '', '']}"
            ]
          },
          "metadata": {},
          "execution_count": 48
        }
      ],
      "source": [
        "import datasets\n",
        "\n",
        "empdialogues = datasets.load_dataset('empathetic_dialogues', split='train')\n",
        "empdialogues[:3]"
      ],
      "id": "ePwU83MHPuyE"
    },
    {
      "cell_type": "markdown",
      "metadata": {
        "id": "if1Ty18ZQsn9"
      },
      "source": [
        "Now we need to build all the message-response pairs.\n",
        "\n",
        "We start by grouping together the utterances (turns) that belong to the same dialogue.\n",
        "First we convert the data set to a Pandas DataFrame"
      ],
      "id": "if1Ty18ZQsn9"
    },
    {
      "cell_type": "code",
      "execution_count": 49,
      "metadata": {
        "id": "h5CCmDH9Q8ZT",
        "colab": {
          "base_uri": "https://localhost:8080/",
          "height": 447
        },
        "outputId": "aeec4fc2-e439-485c-862f-b1f82b48ed57"
      },
      "outputs": [
        {
          "output_type": "execute_result",
          "data": {
            "text/plain": [
              "                    conv_id  utterance_idx      context  \\\n",
              "0              hit:0_conv:1              1  sentimental   \n",
              "1              hit:0_conv:1              2  sentimental   \n",
              "2              hit:0_conv:1              3  sentimental   \n",
              "3              hit:0_conv:1              4  sentimental   \n",
              "4              hit:0_conv:1              5  sentimental   \n",
              "...                     ...            ...          ...   \n",
              "76668  hit:12424_conv:24848              5  sentimental   \n",
              "76669  hit:12424_conv:24849              1    surprised   \n",
              "76670  hit:12424_conv:24849              2    surprised   \n",
              "76671  hit:12424_conv:24849              3    surprised   \n",
              "76672  hit:12424_conv:24849              4    surprised   \n",
              "\n",
              "                                                  prompt  speaker_idx  \\\n",
              "0      I remember going to the fireworks with my best...            1   \n",
              "1      I remember going to the fireworks with my best...            0   \n",
              "2      I remember going to the fireworks with my best...            1   \n",
              "3      I remember going to the fireworks with my best...            0   \n",
              "4      I remember going to the fireworks with my best...            1   \n",
              "...                                                  ...          ...   \n",
              "76668  I found some pictures of my grandma in the att...          389   \n",
              "76669  I woke up this morning to my wife telling me s...          294   \n",
              "76670  I woke up this morning to my wife telling me s...          389   \n",
              "76671  I woke up this morning to my wife telling me s...          294   \n",
              "76672  I woke up this morning to my wife telling me s...          389   \n",
              "\n",
              "                                               utterance     selfeval tags  \n",
              "0      I remember going to see the fireworks with my ...  5|5|5_2|2|5       \n",
              "1      Was this a friend you were in love with_comma_...  5|5|5_2|2|5       \n",
              "2                    This was a best friend. I miss her.  5|5|5_2|2|5       \n",
              "3                                    Where has she gone?  5|5|5_2|2|5       \n",
              "4                                     We no longer talk.  5|5|5_2|2|5       \n",
              "...                                                  ...          ...  ...  \n",
              "76668  Yeah reminds me of the good old days.  I miss ...  5|5|5_5|5|5       \n",
              "76669  I woke up this morning to my wife telling me s...  5|5|5_5|5|5       \n",
              "76670     Oh hey that's awesome!  That is awesome right?  5|5|5_5|5|5       \n",
              "76671  It is soooo awesome.  We have been wanting a b...  5|5|5_5|5|5       \n",
              "76672               That is awesome!!!! Congratulations!  5|5|5_5|5|5       \n",
              "\n",
              "[76673 rows x 8 columns]"
            ],
            "text/html": [
              "\n",
              "  <div id=\"df-983d97c1-4774-4da7-961b-c256ccffc18e\">\n",
              "    <div class=\"colab-df-container\">\n",
              "      <div>\n",
              "<style scoped>\n",
              "    .dataframe tbody tr th:only-of-type {\n",
              "        vertical-align: middle;\n",
              "    }\n",
              "\n",
              "    .dataframe tbody tr th {\n",
              "        vertical-align: top;\n",
              "    }\n",
              "\n",
              "    .dataframe thead th {\n",
              "        text-align: right;\n",
              "    }\n",
              "</style>\n",
              "<table border=\"1\" class=\"dataframe\">\n",
              "  <thead>\n",
              "    <tr style=\"text-align: right;\">\n",
              "      <th></th>\n",
              "      <th>conv_id</th>\n",
              "      <th>utterance_idx</th>\n",
              "      <th>context</th>\n",
              "      <th>prompt</th>\n",
              "      <th>speaker_idx</th>\n",
              "      <th>utterance</th>\n",
              "      <th>selfeval</th>\n",
              "      <th>tags</th>\n",
              "    </tr>\n",
              "  </thead>\n",
              "  <tbody>\n",
              "    <tr>\n",
              "      <th>0</th>\n",
              "      <td>hit:0_conv:1</td>\n",
              "      <td>1</td>\n",
              "      <td>sentimental</td>\n",
              "      <td>I remember going to the fireworks with my best...</td>\n",
              "      <td>1</td>\n",
              "      <td>I remember going to see the fireworks with my ...</td>\n",
              "      <td>5|5|5_2|2|5</td>\n",
              "      <td></td>\n",
              "    </tr>\n",
              "    <tr>\n",
              "      <th>1</th>\n",
              "      <td>hit:0_conv:1</td>\n",
              "      <td>2</td>\n",
              "      <td>sentimental</td>\n",
              "      <td>I remember going to the fireworks with my best...</td>\n",
              "      <td>0</td>\n",
              "      <td>Was this a friend you were in love with_comma_...</td>\n",
              "      <td>5|5|5_2|2|5</td>\n",
              "      <td></td>\n",
              "    </tr>\n",
              "    <tr>\n",
              "      <th>2</th>\n",
              "      <td>hit:0_conv:1</td>\n",
              "      <td>3</td>\n",
              "      <td>sentimental</td>\n",
              "      <td>I remember going to the fireworks with my best...</td>\n",
              "      <td>1</td>\n",
              "      <td>This was a best friend. I miss her.</td>\n",
              "      <td>5|5|5_2|2|5</td>\n",
              "      <td></td>\n",
              "    </tr>\n",
              "    <tr>\n",
              "      <th>3</th>\n",
              "      <td>hit:0_conv:1</td>\n",
              "      <td>4</td>\n",
              "      <td>sentimental</td>\n",
              "      <td>I remember going to the fireworks with my best...</td>\n",
              "      <td>0</td>\n",
              "      <td>Where has she gone?</td>\n",
              "      <td>5|5|5_2|2|5</td>\n",
              "      <td></td>\n",
              "    </tr>\n",
              "    <tr>\n",
              "      <th>4</th>\n",
              "      <td>hit:0_conv:1</td>\n",
              "      <td>5</td>\n",
              "      <td>sentimental</td>\n",
              "      <td>I remember going to the fireworks with my best...</td>\n",
              "      <td>1</td>\n",
              "      <td>We no longer talk.</td>\n",
              "      <td>5|5|5_2|2|5</td>\n",
              "      <td></td>\n",
              "    </tr>\n",
              "    <tr>\n",
              "      <th>...</th>\n",
              "      <td>...</td>\n",
              "      <td>...</td>\n",
              "      <td>...</td>\n",
              "      <td>...</td>\n",
              "      <td>...</td>\n",
              "      <td>...</td>\n",
              "      <td>...</td>\n",
              "      <td>...</td>\n",
              "    </tr>\n",
              "    <tr>\n",
              "      <th>76668</th>\n",
              "      <td>hit:12424_conv:24848</td>\n",
              "      <td>5</td>\n",
              "      <td>sentimental</td>\n",
              "      <td>I found some pictures of my grandma in the att...</td>\n",
              "      <td>389</td>\n",
              "      <td>Yeah reminds me of the good old days.  I miss ...</td>\n",
              "      <td>5|5|5_5|5|5</td>\n",
              "      <td></td>\n",
              "    </tr>\n",
              "    <tr>\n",
              "      <th>76669</th>\n",
              "      <td>hit:12424_conv:24849</td>\n",
              "      <td>1</td>\n",
              "      <td>surprised</td>\n",
              "      <td>I woke up this morning to my wife telling me s...</td>\n",
              "      <td>294</td>\n",
              "      <td>I woke up this morning to my wife telling me s...</td>\n",
              "      <td>5|5|5_5|5|5</td>\n",
              "      <td></td>\n",
              "    </tr>\n",
              "    <tr>\n",
              "      <th>76670</th>\n",
              "      <td>hit:12424_conv:24849</td>\n",
              "      <td>2</td>\n",
              "      <td>surprised</td>\n",
              "      <td>I woke up this morning to my wife telling me s...</td>\n",
              "      <td>389</td>\n",
              "      <td>Oh hey that's awesome!  That is awesome right?</td>\n",
              "      <td>5|5|5_5|5|5</td>\n",
              "      <td></td>\n",
              "    </tr>\n",
              "    <tr>\n",
              "      <th>76671</th>\n",
              "      <td>hit:12424_conv:24849</td>\n",
              "      <td>3</td>\n",
              "      <td>surprised</td>\n",
              "      <td>I woke up this morning to my wife telling me s...</td>\n",
              "      <td>294</td>\n",
              "      <td>It is soooo awesome.  We have been wanting a b...</td>\n",
              "      <td>5|5|5_5|5|5</td>\n",
              "      <td></td>\n",
              "    </tr>\n",
              "    <tr>\n",
              "      <th>76672</th>\n",
              "      <td>hit:12424_conv:24849</td>\n",
              "      <td>4</td>\n",
              "      <td>surprised</td>\n",
              "      <td>I woke up this morning to my wife telling me s...</td>\n",
              "      <td>389</td>\n",
              "      <td>That is awesome!!!! Congratulations!</td>\n",
              "      <td>5|5|5_5|5|5</td>\n",
              "      <td></td>\n",
              "    </tr>\n",
              "  </tbody>\n",
              "</table>\n",
              "<p>76673 rows × 8 columns</p>\n",
              "</div>\n",
              "      <button class=\"colab-df-convert\" onclick=\"convertToInteractive('df-983d97c1-4774-4da7-961b-c256ccffc18e')\"\n",
              "              title=\"Convert this dataframe to an interactive table.\"\n",
              "              style=\"display:none;\">\n",
              "        \n",
              "  <svg xmlns=\"http://www.w3.org/2000/svg\" height=\"24px\"viewBox=\"0 0 24 24\"\n",
              "       width=\"24px\">\n",
              "    <path d=\"M0 0h24v24H0V0z\" fill=\"none\"/>\n",
              "    <path d=\"M18.56 5.44l.94 2.06.94-2.06 2.06-.94-2.06-.94-.94-2.06-.94 2.06-2.06.94zm-11 1L8.5 8.5l.94-2.06 2.06-.94-2.06-.94L8.5 2.5l-.94 2.06-2.06.94zm10 10l.94 2.06.94-2.06 2.06-.94-2.06-.94-.94-2.06-.94 2.06-2.06.94z\"/><path d=\"M17.41 7.96l-1.37-1.37c-.4-.4-.92-.59-1.43-.59-.52 0-1.04.2-1.43.59L10.3 9.45l-7.72 7.72c-.78.78-.78 2.05 0 2.83L4 21.41c.39.39.9.59 1.41.59.51 0 1.02-.2 1.41-.59l7.78-7.78 2.81-2.81c.8-.78.8-2.07 0-2.86zM5.41 20L4 18.59l7.72-7.72 1.47 1.35L5.41 20z\"/>\n",
              "  </svg>\n",
              "      </button>\n",
              "      \n",
              "  <style>\n",
              "    .colab-df-container {\n",
              "      display:flex;\n",
              "      flex-wrap:wrap;\n",
              "      gap: 12px;\n",
              "    }\n",
              "\n",
              "    .colab-df-convert {\n",
              "      background-color: #E8F0FE;\n",
              "      border: none;\n",
              "      border-radius: 50%;\n",
              "      cursor: pointer;\n",
              "      display: none;\n",
              "      fill: #1967D2;\n",
              "      height: 32px;\n",
              "      padding: 0 0 0 0;\n",
              "      width: 32px;\n",
              "    }\n",
              "\n",
              "    .colab-df-convert:hover {\n",
              "      background-color: #E2EBFA;\n",
              "      box-shadow: 0px 1px 2px rgba(60, 64, 67, 0.3), 0px 1px 3px 1px rgba(60, 64, 67, 0.15);\n",
              "      fill: #174EA6;\n",
              "    }\n",
              "\n",
              "    [theme=dark] .colab-df-convert {\n",
              "      background-color: #3B4455;\n",
              "      fill: #D2E3FC;\n",
              "    }\n",
              "\n",
              "    [theme=dark] .colab-df-convert:hover {\n",
              "      background-color: #434B5C;\n",
              "      box-shadow: 0px 1px 3px 1px rgba(0, 0, 0, 0.15);\n",
              "      filter: drop-shadow(0px 1px 2px rgba(0, 0, 0, 0.3));\n",
              "      fill: #FFFFFF;\n",
              "    }\n",
              "  </style>\n",
              "\n",
              "      <script>\n",
              "        const buttonEl =\n",
              "          document.querySelector('#df-983d97c1-4774-4da7-961b-c256ccffc18e button.colab-df-convert');\n",
              "        buttonEl.style.display =\n",
              "          google.colab.kernel.accessAllowed ? 'block' : 'none';\n",
              "\n",
              "        async function convertToInteractive(key) {\n",
              "          const element = document.querySelector('#df-983d97c1-4774-4da7-961b-c256ccffc18e');\n",
              "          const dataTable =\n",
              "            await google.colab.kernel.invokeFunction('convertToInteractive',\n",
              "                                                     [key], {});\n",
              "          if (!dataTable) return;\n",
              "\n",
              "          const docLinkHtml = 'Like what you see? Visit the ' +\n",
              "            '<a target=\"_blank\" href=https://colab.research.google.com/notebooks/data_table.ipynb>data table notebook</a>'\n",
              "            + ' to learn more about interactive tables.';\n",
              "          element.innerHTML = '';\n",
              "          dataTable['output_type'] = 'display_data';\n",
              "          await google.colab.output.renderOutput(dataTable, element);\n",
              "          const docLink = document.createElement('div');\n",
              "          docLink.innerHTML = docLinkHtml;\n",
              "          element.appendChild(docLink);\n",
              "        }\n",
              "      </script>\n",
              "    </div>\n",
              "  </div>\n",
              "  "
            ]
          },
          "metadata": {},
          "execution_count": 49
        }
      ],
      "source": [
        "import pandas as pd\n",
        "\n",
        "df = pd.DataFrame(empdialogues)\n",
        "df"
      ],
      "id": "h5CCmDH9Q8ZT"
    },
    {
      "cell_type": "markdown",
      "metadata": {
        "id": "GlYJsUZnQ8wU"
      },
      "source": [
        "Now we can goup the samples and go through individual dialogues to build the pairs"
      ],
      "id": "GlYJsUZnQ8wU"
    },
    {
      "cell_type": "code",
      "execution_count": 50,
      "metadata": {
        "id": "yNU5sMk1Rwz_",
        "colab": {
          "base_uri": "https://localhost:8080/"
        },
        "outputId": "153c5518-4828-48be-a1ab-c2f2952629f7"
      },
      "outputs": [
        {
          "output_type": "execute_result",
          "data": {
            "text/plain": [
              "58829"
            ]
          },
          "metadata": {},
          "execution_count": 50
        }
      ],
      "source": [
        "data_pairs = []\n",
        "# Iterate over dialogues\n",
        "for _, dialogue_df in df.groupby('conv_id', sort=False):\n",
        "    # Extract utterances text\n",
        "    uttrances = dialogue_df['utterance'].values\n",
        "    # Iterarte over pairs\n",
        "    for message, response in zip(uttrances[:-1], uttrances[1:]):\n",
        "        # Add pair to collection\n",
        "        data_pairs.append(\n",
        "            {'message': message.replace('_comma_', ','), 'response': response.replace('_comma_', ',')}\n",
        "        )\n",
        "\n",
        "len(data_pairs)"
      ],
      "id": "yNU5sMk1Rwz_"
    },
    {
      "cell_type": "markdown",
      "metadata": {
        "id": "8e678963-290c-4ed1-94c2-7e56d9a7fbed"
      },
      "source": [
        "#### Index\n",
        "\n",
        "Now we can embed the messages in our data set"
      ],
      "id": "8e678963-290c-4ed1-94c2-7e56d9a7fbed"
    },
    {
      "cell_type": "code",
      "execution_count": 51,
      "metadata": {
        "id": "T3-siUaZT0XN",
        "colab": {
          "base_uri": "https://localhost:8080/",
          "height": 69,
          "referenced_widgets": [
            "45b0448834624d79aa3a60d90218a443",
            "16b888dbf59d4948ba9a0460e65ab5db",
            "fda8d8893ee14478854486fa853a4272",
            "1af1267a8aa34cdf8c8ec1c8ef8ccace",
            "14aed807e6b74cc9b3b6b428ccb1483e",
            "e02f4c972a04497f8ece8b35bb19890c",
            "e31194563da44c0f8daafb4312c872c6",
            "520c0ec60bee46cebdfc3f2f05fabd3c",
            "39f6df6755054f889010f48a5a9ebb88",
            "b5db5aae67c444faa8463a4605746796",
            "2e7c91c94e494adeaf6d648cb96f56bb"
          ]
        },
        "outputId": "a32e5986-2744-4703-e264-66a6b37eb34c"
      },
      "outputs": [
        {
          "output_type": "display_data",
          "data": {
            "text/plain": [
              "Batches:   0%|          | 0/1839 [00:00<?, ?it/s]"
            ],
            "application/vnd.jupyter.widget-view+json": {
              "version_major": 2,
              "version_minor": 0,
              "model_id": "45b0448834624d79aa3a60d90218a443"
            }
          },
          "metadata": {}
        }
      ],
      "source": [
        "corpus_embeddings = semb_model.encode([sample['message'] for sample in data_pairs], convert_to_tensor=True, show_progress_bar=True)"
      ],
      "id": "T3-siUaZT0XN"
    },
    {
      "cell_type": "markdown",
      "metadata": {
        "id": "fUciorFqT0vm"
      },
      "source": [
        "And we can build an ANN index to do a quick cosine similarity search"
      ],
      "id": "fUciorFqT0vm"
    },
    {
      "cell_type": "code",
      "execution_count": 52,
      "metadata": {
        "id": "EJsloDmiT1PU",
        "colab": {
          "base_uri": "https://localhost:8080/"
        },
        "outputId": "0e0a9a5a-1a14-40e1-b684-a62bf4543b6c"
      },
      "outputs": [
        {
          "output_type": "stream",
          "name": "stdout",
          "text": [
            "Start creating HNSWLIB index\n",
            "Saving index to: ./emp_dialogue_hnswlib.index\n"
          ]
        }
      ],
      "source": [
        "import os\n",
        "import hnswlib\n",
        "\n",
        "# Create empty index\n",
        "hnswlib_index = hnswlib.Index(space='cosine', dim=corpus_embeddings.size(1))\n",
        "\n",
        "# Define hnswlib index path\n",
        "index_path = \"./emp_dialogue_hnswlib.index\"\n",
        "\n",
        "# Load index if available\n",
        "if os.path.exists(index_path):\n",
        "    print(\"Loading index...\")\n",
        "    hnswlib_index.load_index(index_path)\n",
        "# Else index data collection\n",
        "else:\n",
        "    # Initialise the index\n",
        "    print(\"Start creating HNSWLIB index\")\n",
        "    hnswlib_index.init_index(max_elements=corpus_embeddings.size(0), ef_construction=400, M=64)\n",
        "    #  Compute the HNSWLIB index (it may take a while)\n",
        "    hnswlib_index.add_items(corpus_embeddings.cpu(), list(range(len(corpus_embeddings))))\n",
        "    # Save the index to a file for future loading\n",
        "    print(\"Saving index to:\", index_path)\n",
        "    hnswlib_index.save_index(index_path)"
      ],
      "id": "EJsloDmiT1PU"
    },
    {
      "cell_type": "markdown",
      "metadata": {
        "id": "97aab601-e10a-40cf-a88f-9918a6d0f786"
      },
      "source": [
        "### Search for response\n",
        "\n",
        "We are going to search for a response in the following way:\n",
        "1. Search for a similar message to the latest user input.\n",
        "2. Retrieve response associated to the message.\n",
        "2. Re-rank possible responses."
      ],
      "id": "97aab601-e10a-40cf-a88f-9918a6d0f786"
    },
    {
      "cell_type": "markdown",
      "metadata": {
        "id": "yzyWccwUX0tE"
      },
      "source": [
        "#### Retrieval function\n",
        "\n",
        "Let's define a response function"
      ],
      "id": "yzyWccwUX0tE"
    },
    {
      "cell_type": "code",
      "execution_count": 53,
      "metadata": {
        "id": "bf31044c-404b-4069-bb24-3820dc2269a9"
      },
      "outputs": [],
      "source": [
        "import numpy as np\n",
        "\n",
        "def get_response(message, mes_resp_pairs, index, re_ranking_model=None, top_k=32):\n",
        "    message_embedding = semb_model.encode(message, convert_to_tensor=True).cpu()\n",
        "\n",
        "    corpus_ids, _ = index.knn_query(message_embedding, k=top_k)\n",
        "\n",
        "    model_inputs = [(message, mes_resp_pairs[idx]['response']) for idx in corpus_ids[0]]\n",
        "    cross_scores = xenc_model.predict(model_inputs)\n",
        "\n",
        "    idx = np.argsort(-cross_scores)[0]\n",
        "\n",
        "    return mes_resp_pairs[corpus_ids[0][idx]]['response']"
      ],
      "id": "bf31044c-404b-4069-bb24-3820dc2269a9"
    },
    {
      "cell_type": "markdown",
      "metadata": {
        "id": "tRBJNCzDTacH"
      },
      "source": [
        "Note that the use of re-ranking is optional (you can pass a none `re_ranking_model`) and the top results to re-score are configurable. \n",
        "You can play a bit with these hyperaparameters to see how responses change."
      ],
      "id": "tRBJNCzDTacH"
    },
    {
      "cell_type": "markdown",
      "metadata": {
        "id": "8ZyjivDZX5SO"
      },
      "source": [
        "Let's try out the retreival function"
      ],
      "id": "8ZyjivDZX5SO"
    },
    {
      "cell_type": "code",
      "execution_count": 54,
      "metadata": {
        "id": "ORqwQqDWX5iD",
        "colab": {
          "base_uri": "https://localhost:8080/",
          "height": 56
        },
        "outputId": "2686272f-649b-4afc-8470-2744c6d77934"
      },
      "outputs": [
        {
          "output_type": "execute_result",
          "data": {
            "text/plain": [
              "\"Awesome, I bet you're with your puppy all the time now :)\""
            ],
            "application/vnd.google.colaboratory.intrinsic+json": {
              "type": "string"
            }
          },
          "metadata": {},
          "execution_count": 54
        }
      ],
      "source": [
        "chatbot_response = get_response(\n",
        "    \"I like going out with my puppies.\", data_pairs, hnswlib_index, re_ranking_model=xenc_model\n",
        ")\n",
        "chatbot_response"
      ],
      "id": "ORqwQqDWX5iD"
    },
    {
      "cell_type": "markdown",
      "metadata": {
        "id": "614a808a-c7f1-4fdd-91e8-443a95720a03"
      },
      "source": [
        "#### Conversation loop \n",
        "\n",
        "Let's try chatting with our retreival system"
      ],
      "id": "614a808a-c7f1-4fdd-91e8-443a95720a03"
    },
    {
      "cell_type": "code",
      "execution_count": 55,
      "metadata": {
        "id": "55395e14-1647-4801-a7ef-02489fd13b20",
        "colab": {
          "base_uri": "https://localhost:8080/"
        },
        "outputId": "b29f9576-92c4-4ec7-8ac1-4b954a9f1a3d"
      },
      "outputs": [
        {
          "output_type": "stream",
          "name": "stdout",
          "text": [
            "Press [Ctrl-C] to stop\n",
            "\n",
            "\n",
            "\n",
            "\n",
            "Chatbot: Hello, how are you?\n",
            "User: I'm sad, my dog died yesterday...\n",
            "Chatbot: Man, that is so sad.  I don't know what I would do if my dog ran away!  Did you ever find him?\n"
          ]
        }
      ],
      "source": [
        "# Initialise dialogue history\n",
        "dialogue_history = [\"Hello, how are you?\"]\n",
        "\n",
        "# Start chatting\n",
        "print(\"Press [Ctrl-C] to stop\\n\\n\\n\\n\")\n",
        "print(f\"Chatbot: {dialogue_history[0]}\")\n",
        "# Keep talking until stop\n",
        "running = True\n",
        "while running:\n",
        "    try:\n",
        "        # Read user message\n",
        "        user_message = input(\"User: \")\n",
        "        # Append message to dialogue history\n",
        "        dialogue_history.append(user_message)\n",
        "        # Search for a chatbot response\n",
        "        chatbot_response = get_response(\n",
        "            user_message, data_pairs, hnswlib_index, re_ranking_model=xenc_model\n",
        "        )\n",
        "        # Append chatbot response to dialogue history\n",
        "        dialogue_history.append(chatbot_response)\n",
        "        # Print chatbot response\n",
        "        print(f\"Chatbot: {chatbot_response}\")\n",
        "    except KeyboardInterrupt:\n",
        "        running = False"
      ],
      "id": "55395e14-1647-4801-a7ef-02489fd13b20"
    },
    {
      "cell_type": "code",
      "execution_count": 55,
      "metadata": {
        "id": "JOk6dbuoWsP1"
      },
      "outputs": [],
      "source": [],
      "id": "JOk6dbuoWsP1"
    }
  ],
  "metadata": {
    "accelerator": "GPU",
    "colab": {
      "provenance": []
    },
    "gpuClass": "standard",
    "kernelspec": {
      "display_name": "Python 3 (ipykernel)",
      "language": "python",
      "name": "python3"
    },
    "language_info": {
      "codemirror_mode": {
        "name": "ipython",
        "version": 3
      },
      "file_extension": ".py",
      "mimetype": "text/x-python",
      "name": "python",
      "nbconvert_exporter": "python",
      "pygments_lexer": "ipython3",
      "version": "3.7.13"
    },
    "widgets": {
      "application/vnd.jupyter.widget-state+json": {
        "53837ea1e63143969c3a63dd14dbfc02": {
          "model_module": "@jupyter-widgets/controls",
          "model_name": "HBoxModel",
          "model_module_version": "1.5.0",
          "state": {
            "_dom_classes": [],
            "_model_module": "@jupyter-widgets/controls",
            "_model_module_version": "1.5.0",
            "_model_name": "HBoxModel",
            "_view_count": null,
            "_view_module": "@jupyter-widgets/controls",
            "_view_module_version": "1.5.0",
            "_view_name": "HBoxView",
            "box_style": "",
            "children": [
              "IPY_MODEL_29d8a8afa2034f0496a9dbfafada47c7",
              "IPY_MODEL_6cf2ce8d708445bc804c2c36f5517fff",
              "IPY_MODEL_aca21192f4834aeaac79edb6dfee6863"
            ],
            "layout": "IPY_MODEL_9e5b60282bd942499e7257794f933951"
          }
        },
        "29d8a8afa2034f0496a9dbfafada47c7": {
          "model_module": "@jupyter-widgets/controls",
          "model_name": "HTMLModel",
          "model_module_version": "1.5.0",
          "state": {
            "_dom_classes": [],
            "_model_module": "@jupyter-widgets/controls",
            "_model_module_version": "1.5.0",
            "_model_name": "HTMLModel",
            "_view_count": null,
            "_view_module": "@jupyter-widgets/controls",
            "_view_module_version": "1.5.0",
            "_view_name": "HTMLView",
            "description": "",
            "description_tooltip": null,
            "layout": "IPY_MODEL_905c84320b0c46edb4c0003ccf5be790",
            "placeholder": "​",
            "style": "IPY_MODEL_ea43cc53556c49749f8f6d3df5d1e354",
            "value": "Batches: 100%"
          }
        },
        "6cf2ce8d708445bc804c2c36f5517fff": {
          "model_module": "@jupyter-widgets/controls",
          "model_name": "FloatProgressModel",
          "model_module_version": "1.5.0",
          "state": {
            "_dom_classes": [],
            "_model_module": "@jupyter-widgets/controls",
            "_model_module_version": "1.5.0",
            "_model_name": "FloatProgressModel",
            "_view_count": null,
            "_view_module": "@jupyter-widgets/controls",
            "_view_module_version": "1.5.0",
            "_view_name": "ProgressView",
            "bar_style": "success",
            "description": "",
            "description_tooltip": null,
            "layout": "IPY_MODEL_873002c53c2a4820a15b11c098ad7272",
            "max": 5300,
            "min": 0,
            "orientation": "horizontal",
            "style": "IPY_MODEL_dc525198cd1843e9b4d3dc583840e53d",
            "value": 5300
          }
        },
        "aca21192f4834aeaac79edb6dfee6863": {
          "model_module": "@jupyter-widgets/controls",
          "model_name": "HTMLModel",
          "model_module_version": "1.5.0",
          "state": {
            "_dom_classes": [],
            "_model_module": "@jupyter-widgets/controls",
            "_model_module_version": "1.5.0",
            "_model_name": "HTMLModel",
            "_view_count": null,
            "_view_module": "@jupyter-widgets/controls",
            "_view_module_version": "1.5.0",
            "_view_name": "HTMLView",
            "description": "",
            "description_tooltip": null,
            "layout": "IPY_MODEL_e6564654b99641aab2481751fdb8b8b4",
            "placeholder": "​",
            "style": "IPY_MODEL_3ffdcbe93d1d41189abd07bbc3cb7b72",
            "value": " 5300/5300 [02:15&lt;00:00, 104.87it/s]"
          }
        },
        "9e5b60282bd942499e7257794f933951": {
          "model_module": "@jupyter-widgets/base",
          "model_name": "LayoutModel",
          "model_module_version": "1.2.0",
          "state": {
            "_model_module": "@jupyter-widgets/base",
            "_model_module_version": "1.2.0",
            "_model_name": "LayoutModel",
            "_view_count": null,
            "_view_module": "@jupyter-widgets/base",
            "_view_module_version": "1.2.0",
            "_view_name": "LayoutView",
            "align_content": null,
            "align_items": null,
            "align_self": null,
            "border": null,
            "bottom": null,
            "display": null,
            "flex": null,
            "flex_flow": null,
            "grid_area": null,
            "grid_auto_columns": null,
            "grid_auto_flow": null,
            "grid_auto_rows": null,
            "grid_column": null,
            "grid_gap": null,
            "grid_row": null,
            "grid_template_areas": null,
            "grid_template_columns": null,
            "grid_template_rows": null,
            "height": null,
            "justify_content": null,
            "justify_items": null,
            "left": null,
            "margin": null,
            "max_height": null,
            "max_width": null,
            "min_height": null,
            "min_width": null,
            "object_fit": null,
            "object_position": null,
            "order": null,
            "overflow": null,
            "overflow_x": null,
            "overflow_y": null,
            "padding": null,
            "right": null,
            "top": null,
            "visibility": null,
            "width": null
          }
        },
        "905c84320b0c46edb4c0003ccf5be790": {
          "model_module": "@jupyter-widgets/base",
          "model_name": "LayoutModel",
          "model_module_version": "1.2.0",
          "state": {
            "_model_module": "@jupyter-widgets/base",
            "_model_module_version": "1.2.0",
            "_model_name": "LayoutModel",
            "_view_count": null,
            "_view_module": "@jupyter-widgets/base",
            "_view_module_version": "1.2.0",
            "_view_name": "LayoutView",
            "align_content": null,
            "align_items": null,
            "align_self": null,
            "border": null,
            "bottom": null,
            "display": null,
            "flex": null,
            "flex_flow": null,
            "grid_area": null,
            "grid_auto_columns": null,
            "grid_auto_flow": null,
            "grid_auto_rows": null,
            "grid_column": null,
            "grid_gap": null,
            "grid_row": null,
            "grid_template_areas": null,
            "grid_template_columns": null,
            "grid_template_rows": null,
            "height": null,
            "justify_content": null,
            "justify_items": null,
            "left": null,
            "margin": null,
            "max_height": null,
            "max_width": null,
            "min_height": null,
            "min_width": null,
            "object_fit": null,
            "object_position": null,
            "order": null,
            "overflow": null,
            "overflow_x": null,
            "overflow_y": null,
            "padding": null,
            "right": null,
            "top": null,
            "visibility": null,
            "width": null
          }
        },
        "ea43cc53556c49749f8f6d3df5d1e354": {
          "model_module": "@jupyter-widgets/controls",
          "model_name": "DescriptionStyleModel",
          "model_module_version": "1.5.0",
          "state": {
            "_model_module": "@jupyter-widgets/controls",
            "_model_module_version": "1.5.0",
            "_model_name": "DescriptionStyleModel",
            "_view_count": null,
            "_view_module": "@jupyter-widgets/base",
            "_view_module_version": "1.2.0",
            "_view_name": "StyleView",
            "description_width": ""
          }
        },
        "873002c53c2a4820a15b11c098ad7272": {
          "model_module": "@jupyter-widgets/base",
          "model_name": "LayoutModel",
          "model_module_version": "1.2.0",
          "state": {
            "_model_module": "@jupyter-widgets/base",
            "_model_module_version": "1.2.0",
            "_model_name": "LayoutModel",
            "_view_count": null,
            "_view_module": "@jupyter-widgets/base",
            "_view_module_version": "1.2.0",
            "_view_name": "LayoutView",
            "align_content": null,
            "align_items": null,
            "align_self": null,
            "border": null,
            "bottom": null,
            "display": null,
            "flex": null,
            "flex_flow": null,
            "grid_area": null,
            "grid_auto_columns": null,
            "grid_auto_flow": null,
            "grid_auto_rows": null,
            "grid_column": null,
            "grid_gap": null,
            "grid_row": null,
            "grid_template_areas": null,
            "grid_template_columns": null,
            "grid_template_rows": null,
            "height": null,
            "justify_content": null,
            "justify_items": null,
            "left": null,
            "margin": null,
            "max_height": null,
            "max_width": null,
            "min_height": null,
            "min_width": null,
            "object_fit": null,
            "object_position": null,
            "order": null,
            "overflow": null,
            "overflow_x": null,
            "overflow_y": null,
            "padding": null,
            "right": null,
            "top": null,
            "visibility": null,
            "width": null
          }
        },
        "dc525198cd1843e9b4d3dc583840e53d": {
          "model_module": "@jupyter-widgets/controls",
          "model_name": "ProgressStyleModel",
          "model_module_version": "1.5.0",
          "state": {
            "_model_module": "@jupyter-widgets/controls",
            "_model_module_version": "1.5.0",
            "_model_name": "ProgressStyleModel",
            "_view_count": null,
            "_view_module": "@jupyter-widgets/base",
            "_view_module_version": "1.2.0",
            "_view_name": "StyleView",
            "bar_color": null,
            "description_width": ""
          }
        },
        "e6564654b99641aab2481751fdb8b8b4": {
          "model_module": "@jupyter-widgets/base",
          "model_name": "LayoutModel",
          "model_module_version": "1.2.0",
          "state": {
            "_model_module": "@jupyter-widgets/base",
            "_model_module_version": "1.2.0",
            "_model_name": "LayoutModel",
            "_view_count": null,
            "_view_module": "@jupyter-widgets/base",
            "_view_module_version": "1.2.0",
            "_view_name": "LayoutView",
            "align_content": null,
            "align_items": null,
            "align_self": null,
            "border": null,
            "bottom": null,
            "display": null,
            "flex": null,
            "flex_flow": null,
            "grid_area": null,
            "grid_auto_columns": null,
            "grid_auto_flow": null,
            "grid_auto_rows": null,
            "grid_column": null,
            "grid_gap": null,
            "grid_row": null,
            "grid_template_areas": null,
            "grid_template_columns": null,
            "grid_template_rows": null,
            "height": null,
            "justify_content": null,
            "justify_items": null,
            "left": null,
            "margin": null,
            "max_height": null,
            "max_width": null,
            "min_height": null,
            "min_width": null,
            "object_fit": null,
            "object_position": null,
            "order": null,
            "overflow": null,
            "overflow_x": null,
            "overflow_y": null,
            "padding": null,
            "right": null,
            "top": null,
            "visibility": null,
            "width": null
          }
        },
        "3ffdcbe93d1d41189abd07bbc3cb7b72": {
          "model_module": "@jupyter-widgets/controls",
          "model_name": "DescriptionStyleModel",
          "model_module_version": "1.5.0",
          "state": {
            "_model_module": "@jupyter-widgets/controls",
            "_model_module_version": "1.5.0",
            "_model_name": "DescriptionStyleModel",
            "_view_count": null,
            "_view_module": "@jupyter-widgets/base",
            "_view_module_version": "1.2.0",
            "_view_name": "StyleView",
            "description_width": ""
          }
        },
        "919ab6b8ea5e479ab4f1ec26afde87d4": {
          "model_module": "@jupyter-widgets/controls",
          "model_name": "HBoxModel",
          "model_module_version": "1.5.0",
          "state": {
            "_dom_classes": [],
            "_model_module": "@jupyter-widgets/controls",
            "_model_module_version": "1.5.0",
            "_model_name": "HBoxModel",
            "_view_count": null,
            "_view_module": "@jupyter-widgets/controls",
            "_view_module_version": "1.5.0",
            "_view_name": "HBoxView",
            "box_style": "",
            "children": [
              "IPY_MODEL_10efd81d6aad4bd081b1a1af3fdea4a9",
              "IPY_MODEL_1989ab6e8252473ba9739008a249c016",
              "IPY_MODEL_30397561ff964f2984f6b88a917c4632"
            ],
            "layout": "IPY_MODEL_a53a0e0026884931a013f9942cd3628a"
          }
        },
        "10efd81d6aad4bd081b1a1af3fdea4a9": {
          "model_module": "@jupyter-widgets/controls",
          "model_name": "HTMLModel",
          "model_module_version": "1.5.0",
          "state": {
            "_dom_classes": [],
            "_model_module": "@jupyter-widgets/controls",
            "_model_module_version": "1.5.0",
            "_model_name": "HTMLModel",
            "_view_count": null,
            "_view_module": "@jupyter-widgets/controls",
            "_view_module_version": "1.5.0",
            "_view_name": "HTMLView",
            "description": "",
            "description_tooltip": null,
            "layout": "IPY_MODEL_62dd3a67245041988387b9915c6f69f3",
            "placeholder": "​",
            "style": "IPY_MODEL_1cd65564e76a44d198132c131f754af7",
            "value": "Downloading builder script: 100%"
          }
        },
        "1989ab6e8252473ba9739008a249c016": {
          "model_module": "@jupyter-widgets/controls",
          "model_name": "FloatProgressModel",
          "model_module_version": "1.5.0",
          "state": {
            "_dom_classes": [],
            "_model_module": "@jupyter-widgets/controls",
            "_model_module_version": "1.5.0",
            "_model_name": "FloatProgressModel",
            "_view_count": null,
            "_view_module": "@jupyter-widgets/controls",
            "_view_module_version": "1.5.0",
            "_view_name": "ProgressView",
            "bar_style": "success",
            "description": "",
            "description_tooltip": null,
            "layout": "IPY_MODEL_59db7c0c934144c89d70a1e5b9ef344a",
            "max": 4514,
            "min": 0,
            "orientation": "horizontal",
            "style": "IPY_MODEL_2b5c307861d84be7acd2ba69bfedf8f6",
            "value": 4514
          }
        },
        "30397561ff964f2984f6b88a917c4632": {
          "model_module": "@jupyter-widgets/controls",
          "model_name": "HTMLModel",
          "model_module_version": "1.5.0",
          "state": {
            "_dom_classes": [],
            "_model_module": "@jupyter-widgets/controls",
            "_model_module_version": "1.5.0",
            "_model_name": "HTMLModel",
            "_view_count": null,
            "_view_module": "@jupyter-widgets/controls",
            "_view_module_version": "1.5.0",
            "_view_name": "HTMLView",
            "description": "",
            "description_tooltip": null,
            "layout": "IPY_MODEL_23510ffeee8240ef847bed18a338678b",
            "placeholder": "​",
            "style": "IPY_MODEL_7f6971179155411c81981fb0f4ff2e8c",
            "value": " 4.51k/4.51k [00:00&lt;00:00, 229kB/s]"
          }
        },
        "a53a0e0026884931a013f9942cd3628a": {
          "model_module": "@jupyter-widgets/base",
          "model_name": "LayoutModel",
          "model_module_version": "1.2.0",
          "state": {
            "_model_module": "@jupyter-widgets/base",
            "_model_module_version": "1.2.0",
            "_model_name": "LayoutModel",
            "_view_count": null,
            "_view_module": "@jupyter-widgets/base",
            "_view_module_version": "1.2.0",
            "_view_name": "LayoutView",
            "align_content": null,
            "align_items": null,
            "align_self": null,
            "border": null,
            "bottom": null,
            "display": null,
            "flex": null,
            "flex_flow": null,
            "grid_area": null,
            "grid_auto_columns": null,
            "grid_auto_flow": null,
            "grid_auto_rows": null,
            "grid_column": null,
            "grid_gap": null,
            "grid_row": null,
            "grid_template_areas": null,
            "grid_template_columns": null,
            "grid_template_rows": null,
            "height": null,
            "justify_content": null,
            "justify_items": null,
            "left": null,
            "margin": null,
            "max_height": null,
            "max_width": null,
            "min_height": null,
            "min_width": null,
            "object_fit": null,
            "object_position": null,
            "order": null,
            "overflow": null,
            "overflow_x": null,
            "overflow_y": null,
            "padding": null,
            "right": null,
            "top": null,
            "visibility": null,
            "width": null
          }
        },
        "62dd3a67245041988387b9915c6f69f3": {
          "model_module": "@jupyter-widgets/base",
          "model_name": "LayoutModel",
          "model_module_version": "1.2.0",
          "state": {
            "_model_module": "@jupyter-widgets/base",
            "_model_module_version": "1.2.0",
            "_model_name": "LayoutModel",
            "_view_count": null,
            "_view_module": "@jupyter-widgets/base",
            "_view_module_version": "1.2.0",
            "_view_name": "LayoutView",
            "align_content": null,
            "align_items": null,
            "align_self": null,
            "border": null,
            "bottom": null,
            "display": null,
            "flex": null,
            "flex_flow": null,
            "grid_area": null,
            "grid_auto_columns": null,
            "grid_auto_flow": null,
            "grid_auto_rows": null,
            "grid_column": null,
            "grid_gap": null,
            "grid_row": null,
            "grid_template_areas": null,
            "grid_template_columns": null,
            "grid_template_rows": null,
            "height": null,
            "justify_content": null,
            "justify_items": null,
            "left": null,
            "margin": null,
            "max_height": null,
            "max_width": null,
            "min_height": null,
            "min_width": null,
            "object_fit": null,
            "object_position": null,
            "order": null,
            "overflow": null,
            "overflow_x": null,
            "overflow_y": null,
            "padding": null,
            "right": null,
            "top": null,
            "visibility": null,
            "width": null
          }
        },
        "1cd65564e76a44d198132c131f754af7": {
          "model_module": "@jupyter-widgets/controls",
          "model_name": "DescriptionStyleModel",
          "model_module_version": "1.5.0",
          "state": {
            "_model_module": "@jupyter-widgets/controls",
            "_model_module_version": "1.5.0",
            "_model_name": "DescriptionStyleModel",
            "_view_count": null,
            "_view_module": "@jupyter-widgets/base",
            "_view_module_version": "1.2.0",
            "_view_name": "StyleView",
            "description_width": ""
          }
        },
        "59db7c0c934144c89d70a1e5b9ef344a": {
          "model_module": "@jupyter-widgets/base",
          "model_name": "LayoutModel",
          "model_module_version": "1.2.0",
          "state": {
            "_model_module": "@jupyter-widgets/base",
            "_model_module_version": "1.2.0",
            "_model_name": "LayoutModel",
            "_view_count": null,
            "_view_module": "@jupyter-widgets/base",
            "_view_module_version": "1.2.0",
            "_view_name": "LayoutView",
            "align_content": null,
            "align_items": null,
            "align_self": null,
            "border": null,
            "bottom": null,
            "display": null,
            "flex": null,
            "flex_flow": null,
            "grid_area": null,
            "grid_auto_columns": null,
            "grid_auto_flow": null,
            "grid_auto_rows": null,
            "grid_column": null,
            "grid_gap": null,
            "grid_row": null,
            "grid_template_areas": null,
            "grid_template_columns": null,
            "grid_template_rows": null,
            "height": null,
            "justify_content": null,
            "justify_items": null,
            "left": null,
            "margin": null,
            "max_height": null,
            "max_width": null,
            "min_height": null,
            "min_width": null,
            "object_fit": null,
            "object_position": null,
            "order": null,
            "overflow": null,
            "overflow_x": null,
            "overflow_y": null,
            "padding": null,
            "right": null,
            "top": null,
            "visibility": null,
            "width": null
          }
        },
        "2b5c307861d84be7acd2ba69bfedf8f6": {
          "model_module": "@jupyter-widgets/controls",
          "model_name": "ProgressStyleModel",
          "model_module_version": "1.5.0",
          "state": {
            "_model_module": "@jupyter-widgets/controls",
            "_model_module_version": "1.5.0",
            "_model_name": "ProgressStyleModel",
            "_view_count": null,
            "_view_module": "@jupyter-widgets/base",
            "_view_module_version": "1.2.0",
            "_view_name": "StyleView",
            "bar_color": null,
            "description_width": ""
          }
        },
        "23510ffeee8240ef847bed18a338678b": {
          "model_module": "@jupyter-widgets/base",
          "model_name": "LayoutModel",
          "model_module_version": "1.2.0",
          "state": {
            "_model_module": "@jupyter-widgets/base",
            "_model_module_version": "1.2.0",
            "_model_name": "LayoutModel",
            "_view_count": null,
            "_view_module": "@jupyter-widgets/base",
            "_view_module_version": "1.2.0",
            "_view_name": "LayoutView",
            "align_content": null,
            "align_items": null,
            "align_self": null,
            "border": null,
            "bottom": null,
            "display": null,
            "flex": null,
            "flex_flow": null,
            "grid_area": null,
            "grid_auto_columns": null,
            "grid_auto_flow": null,
            "grid_auto_rows": null,
            "grid_column": null,
            "grid_gap": null,
            "grid_row": null,
            "grid_template_areas": null,
            "grid_template_columns": null,
            "grid_template_rows": null,
            "height": null,
            "justify_content": null,
            "justify_items": null,
            "left": null,
            "margin": null,
            "max_height": null,
            "max_width": null,
            "min_height": null,
            "min_width": null,
            "object_fit": null,
            "object_position": null,
            "order": null,
            "overflow": null,
            "overflow_x": null,
            "overflow_y": null,
            "padding": null,
            "right": null,
            "top": null,
            "visibility": null,
            "width": null
          }
        },
        "7f6971179155411c81981fb0f4ff2e8c": {
          "model_module": "@jupyter-widgets/controls",
          "model_name": "DescriptionStyleModel",
          "model_module_version": "1.5.0",
          "state": {
            "_model_module": "@jupyter-widgets/controls",
            "_model_module_version": "1.5.0",
            "_model_name": "DescriptionStyleModel",
            "_view_count": null,
            "_view_module": "@jupyter-widgets/base",
            "_view_module_version": "1.2.0",
            "_view_name": "StyleView",
            "description_width": ""
          }
        },
        "c9bf25031a6b44aebb1185f0b9bccdec": {
          "model_module": "@jupyter-widgets/controls",
          "model_name": "HBoxModel",
          "model_module_version": "1.5.0",
          "state": {
            "_dom_classes": [],
            "_model_module": "@jupyter-widgets/controls",
            "_model_module_version": "1.5.0",
            "_model_name": "HBoxModel",
            "_view_count": null,
            "_view_module": "@jupyter-widgets/controls",
            "_view_module_version": "1.5.0",
            "_view_name": "HBoxView",
            "box_style": "",
            "children": [
              "IPY_MODEL_345d82899bae4fd79088c9db18c94444",
              "IPY_MODEL_ee9203a983634fe4a6975407d1067084",
              "IPY_MODEL_8210f9c83bc64d2cb76c36b9197902cf"
            ],
            "layout": "IPY_MODEL_4020ecbb6d4a44dfac1fb05007ccd8c6"
          }
        },
        "345d82899bae4fd79088c9db18c94444": {
          "model_module": "@jupyter-widgets/controls",
          "model_name": "HTMLModel",
          "model_module_version": "1.5.0",
          "state": {
            "_dom_classes": [],
            "_model_module": "@jupyter-widgets/controls",
            "_model_module_version": "1.5.0",
            "_model_name": "HTMLModel",
            "_view_count": null,
            "_view_module": "@jupyter-widgets/controls",
            "_view_module_version": "1.5.0",
            "_view_name": "HTMLView",
            "description": "",
            "description_tooltip": null,
            "layout": "IPY_MODEL_620f1487d4fb44be97752de544fa710c",
            "placeholder": "​",
            "style": "IPY_MODEL_67d6b7a5c2f7408fa4e88a424711c9e9",
            "value": "Downloading metadata: 100%"
          }
        },
        "ee9203a983634fe4a6975407d1067084": {
          "model_module": "@jupyter-widgets/controls",
          "model_name": "FloatProgressModel",
          "model_module_version": "1.5.0",
          "state": {
            "_dom_classes": [],
            "_model_module": "@jupyter-widgets/controls",
            "_model_module_version": "1.5.0",
            "_model_name": "FloatProgressModel",
            "_view_count": null,
            "_view_module": "@jupyter-widgets/controls",
            "_view_module_version": "1.5.0",
            "_view_name": "ProgressView",
            "bar_style": "success",
            "description": "",
            "description_tooltip": null,
            "layout": "IPY_MODEL_067fd6fca18248a193a84c722f559a4d",
            "max": 1907,
            "min": 0,
            "orientation": "horizontal",
            "style": "IPY_MODEL_619a46827c3b4088a689e4db974bea93",
            "value": 1907
          }
        },
        "8210f9c83bc64d2cb76c36b9197902cf": {
          "model_module": "@jupyter-widgets/controls",
          "model_name": "HTMLModel",
          "model_module_version": "1.5.0",
          "state": {
            "_dom_classes": [],
            "_model_module": "@jupyter-widgets/controls",
            "_model_module_version": "1.5.0",
            "_model_name": "HTMLModel",
            "_view_count": null,
            "_view_module": "@jupyter-widgets/controls",
            "_view_module_version": "1.5.0",
            "_view_name": "HTMLView",
            "description": "",
            "description_tooltip": null,
            "layout": "IPY_MODEL_a980b7896b1e4a29ada77a3c4cd77509",
            "placeholder": "​",
            "style": "IPY_MODEL_ed69e74fc6a64e7f8cda049aac93b66e",
            "value": " 1.91k/1.91k [00:00&lt;00:00, 101kB/s]"
          }
        },
        "4020ecbb6d4a44dfac1fb05007ccd8c6": {
          "model_module": "@jupyter-widgets/base",
          "model_name": "LayoutModel",
          "model_module_version": "1.2.0",
          "state": {
            "_model_module": "@jupyter-widgets/base",
            "_model_module_version": "1.2.0",
            "_model_name": "LayoutModel",
            "_view_count": null,
            "_view_module": "@jupyter-widgets/base",
            "_view_module_version": "1.2.0",
            "_view_name": "LayoutView",
            "align_content": null,
            "align_items": null,
            "align_self": null,
            "border": null,
            "bottom": null,
            "display": null,
            "flex": null,
            "flex_flow": null,
            "grid_area": null,
            "grid_auto_columns": null,
            "grid_auto_flow": null,
            "grid_auto_rows": null,
            "grid_column": null,
            "grid_gap": null,
            "grid_row": null,
            "grid_template_areas": null,
            "grid_template_columns": null,
            "grid_template_rows": null,
            "height": null,
            "justify_content": null,
            "justify_items": null,
            "left": null,
            "margin": null,
            "max_height": null,
            "max_width": null,
            "min_height": null,
            "min_width": null,
            "object_fit": null,
            "object_position": null,
            "order": null,
            "overflow": null,
            "overflow_x": null,
            "overflow_y": null,
            "padding": null,
            "right": null,
            "top": null,
            "visibility": null,
            "width": null
          }
        },
        "620f1487d4fb44be97752de544fa710c": {
          "model_module": "@jupyter-widgets/base",
          "model_name": "LayoutModel",
          "model_module_version": "1.2.0",
          "state": {
            "_model_module": "@jupyter-widgets/base",
            "_model_module_version": "1.2.0",
            "_model_name": "LayoutModel",
            "_view_count": null,
            "_view_module": "@jupyter-widgets/base",
            "_view_module_version": "1.2.0",
            "_view_name": "LayoutView",
            "align_content": null,
            "align_items": null,
            "align_self": null,
            "border": null,
            "bottom": null,
            "display": null,
            "flex": null,
            "flex_flow": null,
            "grid_area": null,
            "grid_auto_columns": null,
            "grid_auto_flow": null,
            "grid_auto_rows": null,
            "grid_column": null,
            "grid_gap": null,
            "grid_row": null,
            "grid_template_areas": null,
            "grid_template_columns": null,
            "grid_template_rows": null,
            "height": null,
            "justify_content": null,
            "justify_items": null,
            "left": null,
            "margin": null,
            "max_height": null,
            "max_width": null,
            "min_height": null,
            "min_width": null,
            "object_fit": null,
            "object_position": null,
            "order": null,
            "overflow": null,
            "overflow_x": null,
            "overflow_y": null,
            "padding": null,
            "right": null,
            "top": null,
            "visibility": null,
            "width": null
          }
        },
        "67d6b7a5c2f7408fa4e88a424711c9e9": {
          "model_module": "@jupyter-widgets/controls",
          "model_name": "DescriptionStyleModel",
          "model_module_version": "1.5.0",
          "state": {
            "_model_module": "@jupyter-widgets/controls",
            "_model_module_version": "1.5.0",
            "_model_name": "DescriptionStyleModel",
            "_view_count": null,
            "_view_module": "@jupyter-widgets/base",
            "_view_module_version": "1.2.0",
            "_view_name": "StyleView",
            "description_width": ""
          }
        },
        "067fd6fca18248a193a84c722f559a4d": {
          "model_module": "@jupyter-widgets/base",
          "model_name": "LayoutModel",
          "model_module_version": "1.2.0",
          "state": {
            "_model_module": "@jupyter-widgets/base",
            "_model_module_version": "1.2.0",
            "_model_name": "LayoutModel",
            "_view_count": null,
            "_view_module": "@jupyter-widgets/base",
            "_view_module_version": "1.2.0",
            "_view_name": "LayoutView",
            "align_content": null,
            "align_items": null,
            "align_self": null,
            "border": null,
            "bottom": null,
            "display": null,
            "flex": null,
            "flex_flow": null,
            "grid_area": null,
            "grid_auto_columns": null,
            "grid_auto_flow": null,
            "grid_auto_rows": null,
            "grid_column": null,
            "grid_gap": null,
            "grid_row": null,
            "grid_template_areas": null,
            "grid_template_columns": null,
            "grid_template_rows": null,
            "height": null,
            "justify_content": null,
            "justify_items": null,
            "left": null,
            "margin": null,
            "max_height": null,
            "max_width": null,
            "min_height": null,
            "min_width": null,
            "object_fit": null,
            "object_position": null,
            "order": null,
            "overflow": null,
            "overflow_x": null,
            "overflow_y": null,
            "padding": null,
            "right": null,
            "top": null,
            "visibility": null,
            "width": null
          }
        },
        "619a46827c3b4088a689e4db974bea93": {
          "model_module": "@jupyter-widgets/controls",
          "model_name": "ProgressStyleModel",
          "model_module_version": "1.5.0",
          "state": {
            "_model_module": "@jupyter-widgets/controls",
            "_model_module_version": "1.5.0",
            "_model_name": "ProgressStyleModel",
            "_view_count": null,
            "_view_module": "@jupyter-widgets/base",
            "_view_module_version": "1.2.0",
            "_view_name": "StyleView",
            "bar_color": null,
            "description_width": ""
          }
        },
        "a980b7896b1e4a29ada77a3c4cd77509": {
          "model_module": "@jupyter-widgets/base",
          "model_name": "LayoutModel",
          "model_module_version": "1.2.0",
          "state": {
            "_model_module": "@jupyter-widgets/base",
            "_model_module_version": "1.2.0",
            "_model_name": "LayoutModel",
            "_view_count": null,
            "_view_module": "@jupyter-widgets/base",
            "_view_module_version": "1.2.0",
            "_view_name": "LayoutView",
            "align_content": null,
            "align_items": null,
            "align_self": null,
            "border": null,
            "bottom": null,
            "display": null,
            "flex": null,
            "flex_flow": null,
            "grid_area": null,
            "grid_auto_columns": null,
            "grid_auto_flow": null,
            "grid_auto_rows": null,
            "grid_column": null,
            "grid_gap": null,
            "grid_row": null,
            "grid_template_areas": null,
            "grid_template_columns": null,
            "grid_template_rows": null,
            "height": null,
            "justify_content": null,
            "justify_items": null,
            "left": null,
            "margin": null,
            "max_height": null,
            "max_width": null,
            "min_height": null,
            "min_width": null,
            "object_fit": null,
            "object_position": null,
            "order": null,
            "overflow": null,
            "overflow_x": null,
            "overflow_y": null,
            "padding": null,
            "right": null,
            "top": null,
            "visibility": null,
            "width": null
          }
        },
        "ed69e74fc6a64e7f8cda049aac93b66e": {
          "model_module": "@jupyter-widgets/controls",
          "model_name": "DescriptionStyleModel",
          "model_module_version": "1.5.0",
          "state": {
            "_model_module": "@jupyter-widgets/controls",
            "_model_module_version": "1.5.0",
            "_model_name": "DescriptionStyleModel",
            "_view_count": null,
            "_view_module": "@jupyter-widgets/base",
            "_view_module_version": "1.2.0",
            "_view_name": "StyleView",
            "description_width": ""
          }
        },
        "4fcd2d4e72c4485a93da3a1d127699f0": {
          "model_module": "@jupyter-widgets/controls",
          "model_name": "HBoxModel",
          "model_module_version": "1.5.0",
          "state": {
            "_dom_classes": [],
            "_model_module": "@jupyter-widgets/controls",
            "_model_module_version": "1.5.0",
            "_model_name": "HBoxModel",
            "_view_count": null,
            "_view_module": "@jupyter-widgets/controls",
            "_view_module_version": "1.5.0",
            "_view_name": "HBoxView",
            "box_style": "",
            "children": [
              "IPY_MODEL_060d04461a3e43cda2f7d5d72a2c4cac",
              "IPY_MODEL_98254dd2545c4ff8afc4ebcb8888dfe5",
              "IPY_MODEL_236a2af0cb1d447caed965420d77e723"
            ],
            "layout": "IPY_MODEL_98856839a87847409399735a8b4f56d9"
          }
        },
        "060d04461a3e43cda2f7d5d72a2c4cac": {
          "model_module": "@jupyter-widgets/controls",
          "model_name": "HTMLModel",
          "model_module_version": "1.5.0",
          "state": {
            "_dom_classes": [],
            "_model_module": "@jupyter-widgets/controls",
            "_model_module_version": "1.5.0",
            "_model_name": "HTMLModel",
            "_view_count": null,
            "_view_module": "@jupyter-widgets/controls",
            "_view_module_version": "1.5.0",
            "_view_name": "HTMLView",
            "description": "",
            "description_tooltip": null,
            "layout": "IPY_MODEL_17235a7974c7452ab7f363a6a26cc621",
            "placeholder": "​",
            "style": "IPY_MODEL_df1cb4632475483bb781b94b66fb0979",
            "value": "Downloading readme: 100%"
          }
        },
        "98254dd2545c4ff8afc4ebcb8888dfe5": {
          "model_module": "@jupyter-widgets/controls",
          "model_name": "FloatProgressModel",
          "model_module_version": "1.5.0",
          "state": {
            "_dom_classes": [],
            "_model_module": "@jupyter-widgets/controls",
            "_model_module_version": "1.5.0",
            "_model_name": "FloatProgressModel",
            "_view_count": null,
            "_view_module": "@jupyter-widgets/controls",
            "_view_module_version": "1.5.0",
            "_view_name": "ProgressView",
            "bar_style": "success",
            "description": "",
            "description_tooltip": null,
            "layout": "IPY_MODEL_fcfa0ae465b344c493468121b32db898",
            "max": 7152,
            "min": 0,
            "orientation": "horizontal",
            "style": "IPY_MODEL_5a5f1025027e4f7c8a85435dc0336a53",
            "value": 7152
          }
        },
        "236a2af0cb1d447caed965420d77e723": {
          "model_module": "@jupyter-widgets/controls",
          "model_name": "HTMLModel",
          "model_module_version": "1.5.0",
          "state": {
            "_dom_classes": [],
            "_model_module": "@jupyter-widgets/controls",
            "_model_module_version": "1.5.0",
            "_model_name": "HTMLModel",
            "_view_count": null,
            "_view_module": "@jupyter-widgets/controls",
            "_view_module_version": "1.5.0",
            "_view_name": "HTMLView",
            "description": "",
            "description_tooltip": null,
            "layout": "IPY_MODEL_2b374f24da2d44188b3c66b5857198b4",
            "placeholder": "​",
            "style": "IPY_MODEL_7600932cf91b415085eabbb15d0d783f",
            "value": " 7.15k/7.15k [00:00&lt;00:00, 376kB/s]"
          }
        },
        "98856839a87847409399735a8b4f56d9": {
          "model_module": "@jupyter-widgets/base",
          "model_name": "LayoutModel",
          "model_module_version": "1.2.0",
          "state": {
            "_model_module": "@jupyter-widgets/base",
            "_model_module_version": "1.2.0",
            "_model_name": "LayoutModel",
            "_view_count": null,
            "_view_module": "@jupyter-widgets/base",
            "_view_module_version": "1.2.0",
            "_view_name": "LayoutView",
            "align_content": null,
            "align_items": null,
            "align_self": null,
            "border": null,
            "bottom": null,
            "display": null,
            "flex": null,
            "flex_flow": null,
            "grid_area": null,
            "grid_auto_columns": null,
            "grid_auto_flow": null,
            "grid_auto_rows": null,
            "grid_column": null,
            "grid_gap": null,
            "grid_row": null,
            "grid_template_areas": null,
            "grid_template_columns": null,
            "grid_template_rows": null,
            "height": null,
            "justify_content": null,
            "justify_items": null,
            "left": null,
            "margin": null,
            "max_height": null,
            "max_width": null,
            "min_height": null,
            "min_width": null,
            "object_fit": null,
            "object_position": null,
            "order": null,
            "overflow": null,
            "overflow_x": null,
            "overflow_y": null,
            "padding": null,
            "right": null,
            "top": null,
            "visibility": null,
            "width": null
          }
        },
        "17235a7974c7452ab7f363a6a26cc621": {
          "model_module": "@jupyter-widgets/base",
          "model_name": "LayoutModel",
          "model_module_version": "1.2.0",
          "state": {
            "_model_module": "@jupyter-widgets/base",
            "_model_module_version": "1.2.0",
            "_model_name": "LayoutModel",
            "_view_count": null,
            "_view_module": "@jupyter-widgets/base",
            "_view_module_version": "1.2.0",
            "_view_name": "LayoutView",
            "align_content": null,
            "align_items": null,
            "align_self": null,
            "border": null,
            "bottom": null,
            "display": null,
            "flex": null,
            "flex_flow": null,
            "grid_area": null,
            "grid_auto_columns": null,
            "grid_auto_flow": null,
            "grid_auto_rows": null,
            "grid_column": null,
            "grid_gap": null,
            "grid_row": null,
            "grid_template_areas": null,
            "grid_template_columns": null,
            "grid_template_rows": null,
            "height": null,
            "justify_content": null,
            "justify_items": null,
            "left": null,
            "margin": null,
            "max_height": null,
            "max_width": null,
            "min_height": null,
            "min_width": null,
            "object_fit": null,
            "object_position": null,
            "order": null,
            "overflow": null,
            "overflow_x": null,
            "overflow_y": null,
            "padding": null,
            "right": null,
            "top": null,
            "visibility": null,
            "width": null
          }
        },
        "df1cb4632475483bb781b94b66fb0979": {
          "model_module": "@jupyter-widgets/controls",
          "model_name": "DescriptionStyleModel",
          "model_module_version": "1.5.0",
          "state": {
            "_model_module": "@jupyter-widgets/controls",
            "_model_module_version": "1.5.0",
            "_model_name": "DescriptionStyleModel",
            "_view_count": null,
            "_view_module": "@jupyter-widgets/base",
            "_view_module_version": "1.2.0",
            "_view_name": "StyleView",
            "description_width": ""
          }
        },
        "fcfa0ae465b344c493468121b32db898": {
          "model_module": "@jupyter-widgets/base",
          "model_name": "LayoutModel",
          "model_module_version": "1.2.0",
          "state": {
            "_model_module": "@jupyter-widgets/base",
            "_model_module_version": "1.2.0",
            "_model_name": "LayoutModel",
            "_view_count": null,
            "_view_module": "@jupyter-widgets/base",
            "_view_module_version": "1.2.0",
            "_view_name": "LayoutView",
            "align_content": null,
            "align_items": null,
            "align_self": null,
            "border": null,
            "bottom": null,
            "display": null,
            "flex": null,
            "flex_flow": null,
            "grid_area": null,
            "grid_auto_columns": null,
            "grid_auto_flow": null,
            "grid_auto_rows": null,
            "grid_column": null,
            "grid_gap": null,
            "grid_row": null,
            "grid_template_areas": null,
            "grid_template_columns": null,
            "grid_template_rows": null,
            "height": null,
            "justify_content": null,
            "justify_items": null,
            "left": null,
            "margin": null,
            "max_height": null,
            "max_width": null,
            "min_height": null,
            "min_width": null,
            "object_fit": null,
            "object_position": null,
            "order": null,
            "overflow": null,
            "overflow_x": null,
            "overflow_y": null,
            "padding": null,
            "right": null,
            "top": null,
            "visibility": null,
            "width": null
          }
        },
        "5a5f1025027e4f7c8a85435dc0336a53": {
          "model_module": "@jupyter-widgets/controls",
          "model_name": "ProgressStyleModel",
          "model_module_version": "1.5.0",
          "state": {
            "_model_module": "@jupyter-widgets/controls",
            "_model_module_version": "1.5.0",
            "_model_name": "ProgressStyleModel",
            "_view_count": null,
            "_view_module": "@jupyter-widgets/base",
            "_view_module_version": "1.2.0",
            "_view_name": "StyleView",
            "bar_color": null,
            "description_width": ""
          }
        },
        "2b374f24da2d44188b3c66b5857198b4": {
          "model_module": "@jupyter-widgets/base",
          "model_name": "LayoutModel",
          "model_module_version": "1.2.0",
          "state": {
            "_model_module": "@jupyter-widgets/base",
            "_model_module_version": "1.2.0",
            "_model_name": "LayoutModel",
            "_view_count": null,
            "_view_module": "@jupyter-widgets/base",
            "_view_module_version": "1.2.0",
            "_view_name": "LayoutView",
            "align_content": null,
            "align_items": null,
            "align_self": null,
            "border": null,
            "bottom": null,
            "display": null,
            "flex": null,
            "flex_flow": null,
            "grid_area": null,
            "grid_auto_columns": null,
            "grid_auto_flow": null,
            "grid_auto_rows": null,
            "grid_column": null,
            "grid_gap": null,
            "grid_row": null,
            "grid_template_areas": null,
            "grid_template_columns": null,
            "grid_template_rows": null,
            "height": null,
            "justify_content": null,
            "justify_items": null,
            "left": null,
            "margin": null,
            "max_height": null,
            "max_width": null,
            "min_height": null,
            "min_width": null,
            "object_fit": null,
            "object_position": null,
            "order": null,
            "overflow": null,
            "overflow_x": null,
            "overflow_y": null,
            "padding": null,
            "right": null,
            "top": null,
            "visibility": null,
            "width": null
          }
        },
        "7600932cf91b415085eabbb15d0d783f": {
          "model_module": "@jupyter-widgets/controls",
          "model_name": "DescriptionStyleModel",
          "model_module_version": "1.5.0",
          "state": {
            "_model_module": "@jupyter-widgets/controls",
            "_model_module_version": "1.5.0",
            "_model_name": "DescriptionStyleModel",
            "_view_count": null,
            "_view_module": "@jupyter-widgets/base",
            "_view_module_version": "1.2.0",
            "_view_name": "StyleView",
            "description_width": ""
          }
        },
        "08b82fe6557a488bb40934759f2eed62": {
          "model_module": "@jupyter-widgets/controls",
          "model_name": "HBoxModel",
          "model_module_version": "1.5.0",
          "state": {
            "_dom_classes": [],
            "_model_module": "@jupyter-widgets/controls",
            "_model_module_version": "1.5.0",
            "_model_name": "HBoxModel",
            "_view_count": null,
            "_view_module": "@jupyter-widgets/controls",
            "_view_module_version": "1.5.0",
            "_view_name": "HBoxView",
            "box_style": "",
            "children": [
              "IPY_MODEL_40cf9750b2a4495d92869a5afbb9ce13",
              "IPY_MODEL_057a8fd0c7594d3184928bd637b38ef1",
              "IPY_MODEL_2ff0d1ec046d48d1a56564d07eb2edc7"
            ],
            "layout": "IPY_MODEL_663a4b258e7640c6b43992556d188afc"
          }
        },
        "40cf9750b2a4495d92869a5afbb9ce13": {
          "model_module": "@jupyter-widgets/controls",
          "model_name": "HTMLModel",
          "model_module_version": "1.5.0",
          "state": {
            "_dom_classes": [],
            "_model_module": "@jupyter-widgets/controls",
            "_model_module_version": "1.5.0",
            "_model_name": "HTMLModel",
            "_view_count": null,
            "_view_module": "@jupyter-widgets/controls",
            "_view_module_version": "1.5.0",
            "_view_name": "HTMLView",
            "description": "",
            "description_tooltip": null,
            "layout": "IPY_MODEL_99a8c7cdb8e3472582a49eb8f2867e06",
            "placeholder": "​",
            "style": "IPY_MODEL_907c13f8986843fd9982dbd99f406cf3",
            "value": "Downloading data: 100%"
          }
        },
        "057a8fd0c7594d3184928bd637b38ef1": {
          "model_module": "@jupyter-widgets/controls",
          "model_name": "FloatProgressModel",
          "model_module_version": "1.5.0",
          "state": {
            "_dom_classes": [],
            "_model_module": "@jupyter-widgets/controls",
            "_model_module_version": "1.5.0",
            "_model_name": "FloatProgressModel",
            "_view_count": null,
            "_view_module": "@jupyter-widgets/controls",
            "_view_module_version": "1.5.0",
            "_view_name": "ProgressView",
            "bar_style": "success",
            "description": "",
            "description_tooltip": null,
            "layout": "IPY_MODEL_54741174e0674237bdaa1beb12ebd298",
            "max": 28022709,
            "min": 0,
            "orientation": "horizontal",
            "style": "IPY_MODEL_87e440fffb614369b898ed6075903e46",
            "value": 28022709
          }
        },
        "2ff0d1ec046d48d1a56564d07eb2edc7": {
          "model_module": "@jupyter-widgets/controls",
          "model_name": "HTMLModel",
          "model_module_version": "1.5.0",
          "state": {
            "_dom_classes": [],
            "_model_module": "@jupyter-widgets/controls",
            "_model_module_version": "1.5.0",
            "_model_name": "HTMLModel",
            "_view_count": null,
            "_view_module": "@jupyter-widgets/controls",
            "_view_module_version": "1.5.0",
            "_view_name": "HTMLView",
            "description": "",
            "description_tooltip": null,
            "layout": "IPY_MODEL_f6493d2a5a064d21874de21e7236d31d",
            "placeholder": "​",
            "style": "IPY_MODEL_b016e23c1e20493aa167bd0853b1d58b",
            "value": " 28.0M/28.0M [00:00&lt;00:00, 90.7MB/s]"
          }
        },
        "663a4b258e7640c6b43992556d188afc": {
          "model_module": "@jupyter-widgets/base",
          "model_name": "LayoutModel",
          "model_module_version": "1.2.0",
          "state": {
            "_model_module": "@jupyter-widgets/base",
            "_model_module_version": "1.2.0",
            "_model_name": "LayoutModel",
            "_view_count": null,
            "_view_module": "@jupyter-widgets/base",
            "_view_module_version": "1.2.0",
            "_view_name": "LayoutView",
            "align_content": null,
            "align_items": null,
            "align_self": null,
            "border": null,
            "bottom": null,
            "display": null,
            "flex": null,
            "flex_flow": null,
            "grid_area": null,
            "grid_auto_columns": null,
            "grid_auto_flow": null,
            "grid_auto_rows": null,
            "grid_column": null,
            "grid_gap": null,
            "grid_row": null,
            "grid_template_areas": null,
            "grid_template_columns": null,
            "grid_template_rows": null,
            "height": null,
            "justify_content": null,
            "justify_items": null,
            "left": null,
            "margin": null,
            "max_height": null,
            "max_width": null,
            "min_height": null,
            "min_width": null,
            "object_fit": null,
            "object_position": null,
            "order": null,
            "overflow": null,
            "overflow_x": null,
            "overflow_y": null,
            "padding": null,
            "right": null,
            "top": null,
            "visibility": null,
            "width": null
          }
        },
        "99a8c7cdb8e3472582a49eb8f2867e06": {
          "model_module": "@jupyter-widgets/base",
          "model_name": "LayoutModel",
          "model_module_version": "1.2.0",
          "state": {
            "_model_module": "@jupyter-widgets/base",
            "_model_module_version": "1.2.0",
            "_model_name": "LayoutModel",
            "_view_count": null,
            "_view_module": "@jupyter-widgets/base",
            "_view_module_version": "1.2.0",
            "_view_name": "LayoutView",
            "align_content": null,
            "align_items": null,
            "align_self": null,
            "border": null,
            "bottom": null,
            "display": null,
            "flex": null,
            "flex_flow": null,
            "grid_area": null,
            "grid_auto_columns": null,
            "grid_auto_flow": null,
            "grid_auto_rows": null,
            "grid_column": null,
            "grid_gap": null,
            "grid_row": null,
            "grid_template_areas": null,
            "grid_template_columns": null,
            "grid_template_rows": null,
            "height": null,
            "justify_content": null,
            "justify_items": null,
            "left": null,
            "margin": null,
            "max_height": null,
            "max_width": null,
            "min_height": null,
            "min_width": null,
            "object_fit": null,
            "object_position": null,
            "order": null,
            "overflow": null,
            "overflow_x": null,
            "overflow_y": null,
            "padding": null,
            "right": null,
            "top": null,
            "visibility": null,
            "width": null
          }
        },
        "907c13f8986843fd9982dbd99f406cf3": {
          "model_module": "@jupyter-widgets/controls",
          "model_name": "DescriptionStyleModel",
          "model_module_version": "1.5.0",
          "state": {
            "_model_module": "@jupyter-widgets/controls",
            "_model_module_version": "1.5.0",
            "_model_name": "DescriptionStyleModel",
            "_view_count": null,
            "_view_module": "@jupyter-widgets/base",
            "_view_module_version": "1.2.0",
            "_view_name": "StyleView",
            "description_width": ""
          }
        },
        "54741174e0674237bdaa1beb12ebd298": {
          "model_module": "@jupyter-widgets/base",
          "model_name": "LayoutModel",
          "model_module_version": "1.2.0",
          "state": {
            "_model_module": "@jupyter-widgets/base",
            "_model_module_version": "1.2.0",
            "_model_name": "LayoutModel",
            "_view_count": null,
            "_view_module": "@jupyter-widgets/base",
            "_view_module_version": "1.2.0",
            "_view_name": "LayoutView",
            "align_content": null,
            "align_items": null,
            "align_self": null,
            "border": null,
            "bottom": null,
            "display": null,
            "flex": null,
            "flex_flow": null,
            "grid_area": null,
            "grid_auto_columns": null,
            "grid_auto_flow": null,
            "grid_auto_rows": null,
            "grid_column": null,
            "grid_gap": null,
            "grid_row": null,
            "grid_template_areas": null,
            "grid_template_columns": null,
            "grid_template_rows": null,
            "height": null,
            "justify_content": null,
            "justify_items": null,
            "left": null,
            "margin": null,
            "max_height": null,
            "max_width": null,
            "min_height": null,
            "min_width": null,
            "object_fit": null,
            "object_position": null,
            "order": null,
            "overflow": null,
            "overflow_x": null,
            "overflow_y": null,
            "padding": null,
            "right": null,
            "top": null,
            "visibility": null,
            "width": null
          }
        },
        "87e440fffb614369b898ed6075903e46": {
          "model_module": "@jupyter-widgets/controls",
          "model_name": "ProgressStyleModel",
          "model_module_version": "1.5.0",
          "state": {
            "_model_module": "@jupyter-widgets/controls",
            "_model_module_version": "1.5.0",
            "_model_name": "ProgressStyleModel",
            "_view_count": null,
            "_view_module": "@jupyter-widgets/base",
            "_view_module_version": "1.2.0",
            "_view_name": "StyleView",
            "bar_color": null,
            "description_width": ""
          }
        },
        "f6493d2a5a064d21874de21e7236d31d": {
          "model_module": "@jupyter-widgets/base",
          "model_name": "LayoutModel",
          "model_module_version": "1.2.0",
          "state": {
            "_model_module": "@jupyter-widgets/base",
            "_model_module_version": "1.2.0",
            "_model_name": "LayoutModel",
            "_view_count": null,
            "_view_module": "@jupyter-widgets/base",
            "_view_module_version": "1.2.0",
            "_view_name": "LayoutView",
            "align_content": null,
            "align_items": null,
            "align_self": null,
            "border": null,
            "bottom": null,
            "display": null,
            "flex": null,
            "flex_flow": null,
            "grid_area": null,
            "grid_auto_columns": null,
            "grid_auto_flow": null,
            "grid_auto_rows": null,
            "grid_column": null,
            "grid_gap": null,
            "grid_row": null,
            "grid_template_areas": null,
            "grid_template_columns": null,
            "grid_template_rows": null,
            "height": null,
            "justify_content": null,
            "justify_items": null,
            "left": null,
            "margin": null,
            "max_height": null,
            "max_width": null,
            "min_height": null,
            "min_width": null,
            "object_fit": null,
            "object_position": null,
            "order": null,
            "overflow": null,
            "overflow_x": null,
            "overflow_y": null,
            "padding": null,
            "right": null,
            "top": null,
            "visibility": null,
            "width": null
          }
        },
        "b016e23c1e20493aa167bd0853b1d58b": {
          "model_module": "@jupyter-widgets/controls",
          "model_name": "DescriptionStyleModel",
          "model_module_version": "1.5.0",
          "state": {
            "_model_module": "@jupyter-widgets/controls",
            "_model_module_version": "1.5.0",
            "_model_name": "DescriptionStyleModel",
            "_view_count": null,
            "_view_module": "@jupyter-widgets/base",
            "_view_module_version": "1.2.0",
            "_view_name": "StyleView",
            "description_width": ""
          }
        },
        "91f2e8de0f574d8b9ce381c375a65e1f": {
          "model_module": "@jupyter-widgets/controls",
          "model_name": "HBoxModel",
          "model_module_version": "1.5.0",
          "state": {
            "_dom_classes": [],
            "_model_module": "@jupyter-widgets/controls",
            "_model_module_version": "1.5.0",
            "_model_name": "HBoxModel",
            "_view_count": null,
            "_view_module": "@jupyter-widgets/controls",
            "_view_module_version": "1.5.0",
            "_view_name": "HBoxView",
            "box_style": "",
            "children": [
              "IPY_MODEL_fabc00f69b524c8b99dfd23d0743090e",
              "IPY_MODEL_c10f2bb2d63f4e9f830ab3c48e0b75cf",
              "IPY_MODEL_ad332467d46147eebcd11b8e19a17a93"
            ],
            "layout": "IPY_MODEL_7712087e9fc044a5b96b4bd8d60b2ce4"
          }
        },
        "fabc00f69b524c8b99dfd23d0743090e": {
          "model_module": "@jupyter-widgets/controls",
          "model_name": "HTMLModel",
          "model_module_version": "1.5.0",
          "state": {
            "_dom_classes": [],
            "_model_module": "@jupyter-widgets/controls",
            "_model_module_version": "1.5.0",
            "_model_name": "HTMLModel",
            "_view_count": null,
            "_view_module": "@jupyter-widgets/controls",
            "_view_module_version": "1.5.0",
            "_view_name": "HTMLView",
            "description": "",
            "description_tooltip": null,
            "layout": "IPY_MODEL_2ee36601a5c648d69e995359bdc21ed3",
            "placeholder": "​",
            "style": "IPY_MODEL_8e1a870610ed432dae78fd5d875f0c0f",
            "value": "Generating train split: 100%"
          }
        },
        "c10f2bb2d63f4e9f830ab3c48e0b75cf": {
          "model_module": "@jupyter-widgets/controls",
          "model_name": "FloatProgressModel",
          "model_module_version": "1.5.0",
          "state": {
            "_dom_classes": [],
            "_model_module": "@jupyter-widgets/controls",
            "_model_module_version": "1.5.0",
            "_model_name": "FloatProgressModel",
            "_view_count": null,
            "_view_module": "@jupyter-widgets/controls",
            "_view_module_version": "1.5.0",
            "_view_name": "ProgressView",
            "bar_style": "",
            "description": "",
            "description_tooltip": null,
            "layout": "IPY_MODEL_fc8590edd64048a5827fb61a01241598",
            "max": 76673,
            "min": 0,
            "orientation": "horizontal",
            "style": "IPY_MODEL_435bdf15ad1d4b8597e00dde6771952e",
            "value": 76673
          }
        },
        "ad332467d46147eebcd11b8e19a17a93": {
          "model_module": "@jupyter-widgets/controls",
          "model_name": "HTMLModel",
          "model_module_version": "1.5.0",
          "state": {
            "_dom_classes": [],
            "_model_module": "@jupyter-widgets/controls",
            "_model_module_version": "1.5.0",
            "_model_name": "HTMLModel",
            "_view_count": null,
            "_view_module": "@jupyter-widgets/controls",
            "_view_module_version": "1.5.0",
            "_view_name": "HTMLView",
            "description": "",
            "description_tooltip": null,
            "layout": "IPY_MODEL_45aea93d1506408899afe92644ca2836",
            "placeholder": "​",
            "style": "IPY_MODEL_19a3c46c4a824f7f899a503984aa67fb",
            "value": " 76553/76673 [00:08&lt;00:00, 6373.87 examples/s]"
          }
        },
        "7712087e9fc044a5b96b4bd8d60b2ce4": {
          "model_module": "@jupyter-widgets/base",
          "model_name": "LayoutModel",
          "model_module_version": "1.2.0",
          "state": {
            "_model_module": "@jupyter-widgets/base",
            "_model_module_version": "1.2.0",
            "_model_name": "LayoutModel",
            "_view_count": null,
            "_view_module": "@jupyter-widgets/base",
            "_view_module_version": "1.2.0",
            "_view_name": "LayoutView",
            "align_content": null,
            "align_items": null,
            "align_self": null,
            "border": null,
            "bottom": null,
            "display": null,
            "flex": null,
            "flex_flow": null,
            "grid_area": null,
            "grid_auto_columns": null,
            "grid_auto_flow": null,
            "grid_auto_rows": null,
            "grid_column": null,
            "grid_gap": null,
            "grid_row": null,
            "grid_template_areas": null,
            "grid_template_columns": null,
            "grid_template_rows": null,
            "height": null,
            "justify_content": null,
            "justify_items": null,
            "left": null,
            "margin": null,
            "max_height": null,
            "max_width": null,
            "min_height": null,
            "min_width": null,
            "object_fit": null,
            "object_position": null,
            "order": null,
            "overflow": null,
            "overflow_x": null,
            "overflow_y": null,
            "padding": null,
            "right": null,
            "top": null,
            "visibility": "hidden",
            "width": null
          }
        },
        "2ee36601a5c648d69e995359bdc21ed3": {
          "model_module": "@jupyter-widgets/base",
          "model_name": "LayoutModel",
          "model_module_version": "1.2.0",
          "state": {
            "_model_module": "@jupyter-widgets/base",
            "_model_module_version": "1.2.0",
            "_model_name": "LayoutModel",
            "_view_count": null,
            "_view_module": "@jupyter-widgets/base",
            "_view_module_version": "1.2.0",
            "_view_name": "LayoutView",
            "align_content": null,
            "align_items": null,
            "align_self": null,
            "border": null,
            "bottom": null,
            "display": null,
            "flex": null,
            "flex_flow": null,
            "grid_area": null,
            "grid_auto_columns": null,
            "grid_auto_flow": null,
            "grid_auto_rows": null,
            "grid_column": null,
            "grid_gap": null,
            "grid_row": null,
            "grid_template_areas": null,
            "grid_template_columns": null,
            "grid_template_rows": null,
            "height": null,
            "justify_content": null,
            "justify_items": null,
            "left": null,
            "margin": null,
            "max_height": null,
            "max_width": null,
            "min_height": null,
            "min_width": null,
            "object_fit": null,
            "object_position": null,
            "order": null,
            "overflow": null,
            "overflow_x": null,
            "overflow_y": null,
            "padding": null,
            "right": null,
            "top": null,
            "visibility": null,
            "width": null
          }
        },
        "8e1a870610ed432dae78fd5d875f0c0f": {
          "model_module": "@jupyter-widgets/controls",
          "model_name": "DescriptionStyleModel",
          "model_module_version": "1.5.0",
          "state": {
            "_model_module": "@jupyter-widgets/controls",
            "_model_module_version": "1.5.0",
            "_model_name": "DescriptionStyleModel",
            "_view_count": null,
            "_view_module": "@jupyter-widgets/base",
            "_view_module_version": "1.2.0",
            "_view_name": "StyleView",
            "description_width": ""
          }
        },
        "fc8590edd64048a5827fb61a01241598": {
          "model_module": "@jupyter-widgets/base",
          "model_name": "LayoutModel",
          "model_module_version": "1.2.0",
          "state": {
            "_model_module": "@jupyter-widgets/base",
            "_model_module_version": "1.2.0",
            "_model_name": "LayoutModel",
            "_view_count": null,
            "_view_module": "@jupyter-widgets/base",
            "_view_module_version": "1.2.0",
            "_view_name": "LayoutView",
            "align_content": null,
            "align_items": null,
            "align_self": null,
            "border": null,
            "bottom": null,
            "display": null,
            "flex": null,
            "flex_flow": null,
            "grid_area": null,
            "grid_auto_columns": null,
            "grid_auto_flow": null,
            "grid_auto_rows": null,
            "grid_column": null,
            "grid_gap": null,
            "grid_row": null,
            "grid_template_areas": null,
            "grid_template_columns": null,
            "grid_template_rows": null,
            "height": null,
            "justify_content": null,
            "justify_items": null,
            "left": null,
            "margin": null,
            "max_height": null,
            "max_width": null,
            "min_height": null,
            "min_width": null,
            "object_fit": null,
            "object_position": null,
            "order": null,
            "overflow": null,
            "overflow_x": null,
            "overflow_y": null,
            "padding": null,
            "right": null,
            "top": null,
            "visibility": null,
            "width": null
          }
        },
        "435bdf15ad1d4b8597e00dde6771952e": {
          "model_module": "@jupyter-widgets/controls",
          "model_name": "ProgressStyleModel",
          "model_module_version": "1.5.0",
          "state": {
            "_model_module": "@jupyter-widgets/controls",
            "_model_module_version": "1.5.0",
            "_model_name": "ProgressStyleModel",
            "_view_count": null,
            "_view_module": "@jupyter-widgets/base",
            "_view_module_version": "1.2.0",
            "_view_name": "StyleView",
            "bar_color": null,
            "description_width": ""
          }
        },
        "45aea93d1506408899afe92644ca2836": {
          "model_module": "@jupyter-widgets/base",
          "model_name": "LayoutModel",
          "model_module_version": "1.2.0",
          "state": {
            "_model_module": "@jupyter-widgets/base",
            "_model_module_version": "1.2.0",
            "_model_name": "LayoutModel",
            "_view_count": null,
            "_view_module": "@jupyter-widgets/base",
            "_view_module_version": "1.2.0",
            "_view_name": "LayoutView",
            "align_content": null,
            "align_items": null,
            "align_self": null,
            "border": null,
            "bottom": null,
            "display": null,
            "flex": null,
            "flex_flow": null,
            "grid_area": null,
            "grid_auto_columns": null,
            "grid_auto_flow": null,
            "grid_auto_rows": null,
            "grid_column": null,
            "grid_gap": null,
            "grid_row": null,
            "grid_template_areas": null,
            "grid_template_columns": null,
            "grid_template_rows": null,
            "height": null,
            "justify_content": null,
            "justify_items": null,
            "left": null,
            "margin": null,
            "max_height": null,
            "max_width": null,
            "min_height": null,
            "min_width": null,
            "object_fit": null,
            "object_position": null,
            "order": null,
            "overflow": null,
            "overflow_x": null,
            "overflow_y": null,
            "padding": null,
            "right": null,
            "top": null,
            "visibility": null,
            "width": null
          }
        },
        "19a3c46c4a824f7f899a503984aa67fb": {
          "model_module": "@jupyter-widgets/controls",
          "model_name": "DescriptionStyleModel",
          "model_module_version": "1.5.0",
          "state": {
            "_model_module": "@jupyter-widgets/controls",
            "_model_module_version": "1.5.0",
            "_model_name": "DescriptionStyleModel",
            "_view_count": null,
            "_view_module": "@jupyter-widgets/base",
            "_view_module_version": "1.2.0",
            "_view_name": "StyleView",
            "description_width": ""
          }
        },
        "f4ace7372d7a46bc9e4d162cc8cd6d00": {
          "model_module": "@jupyter-widgets/controls",
          "model_name": "HBoxModel",
          "model_module_version": "1.5.0",
          "state": {
            "_dom_classes": [],
            "_model_module": "@jupyter-widgets/controls",
            "_model_module_version": "1.5.0",
            "_model_name": "HBoxModel",
            "_view_count": null,
            "_view_module": "@jupyter-widgets/controls",
            "_view_module_version": "1.5.0",
            "_view_name": "HBoxView",
            "box_style": "",
            "children": [
              "IPY_MODEL_473655d6c7cc40aab7e6386bb3d58a21",
              "IPY_MODEL_4cdc612e732c4aac9d8aa77b28f7a5c4",
              "IPY_MODEL_f5beeb50aa064cd5a89f70085cbed57c"
            ],
            "layout": "IPY_MODEL_2028f54202544d41b11662e5d3bcf810"
          }
        },
        "473655d6c7cc40aab7e6386bb3d58a21": {
          "model_module": "@jupyter-widgets/controls",
          "model_name": "HTMLModel",
          "model_module_version": "1.5.0",
          "state": {
            "_dom_classes": [],
            "_model_module": "@jupyter-widgets/controls",
            "_model_module_version": "1.5.0",
            "_model_name": "HTMLModel",
            "_view_count": null,
            "_view_module": "@jupyter-widgets/controls",
            "_view_module_version": "1.5.0",
            "_view_name": "HTMLView",
            "description": "",
            "description_tooltip": null,
            "layout": "IPY_MODEL_7864462f8f434278bfa56bb99f5c814d",
            "placeholder": "​",
            "style": "IPY_MODEL_8c51bd805bef43ccb0dc6fdde83509be",
            "value": "Generating validation split:  94%"
          }
        },
        "4cdc612e732c4aac9d8aa77b28f7a5c4": {
          "model_module": "@jupyter-widgets/controls",
          "model_name": "FloatProgressModel",
          "model_module_version": "1.5.0",
          "state": {
            "_dom_classes": [],
            "_model_module": "@jupyter-widgets/controls",
            "_model_module_version": "1.5.0",
            "_model_name": "FloatProgressModel",
            "_view_count": null,
            "_view_module": "@jupyter-widgets/controls",
            "_view_module_version": "1.5.0",
            "_view_name": "ProgressView",
            "bar_style": "",
            "description": "",
            "description_tooltip": null,
            "layout": "IPY_MODEL_45664a2b20614f1fb56ca10878a6123c",
            "max": 12030,
            "min": 0,
            "orientation": "horizontal",
            "style": "IPY_MODEL_4fb5fe7a505e4af4a69b38e936eaea6b",
            "value": 12030
          }
        },
        "f5beeb50aa064cd5a89f70085cbed57c": {
          "model_module": "@jupyter-widgets/controls",
          "model_name": "HTMLModel",
          "model_module_version": "1.5.0",
          "state": {
            "_dom_classes": [],
            "_model_module": "@jupyter-widgets/controls",
            "_model_module_version": "1.5.0",
            "_model_name": "HTMLModel",
            "_view_count": null,
            "_view_module": "@jupyter-widgets/controls",
            "_view_module_version": "1.5.0",
            "_view_name": "HTMLView",
            "description": "",
            "description_tooltip": null,
            "layout": "IPY_MODEL_c6e118bdc8f840379cd83a95efcf0b3e",
            "placeholder": "​",
            "style": "IPY_MODEL_f5879daf81b742f3817710727bd64df8",
            "value": " 11294/12030 [00:02&lt;00:00, 6552.63 examples/s]"
          }
        },
        "2028f54202544d41b11662e5d3bcf810": {
          "model_module": "@jupyter-widgets/base",
          "model_name": "LayoutModel",
          "model_module_version": "1.2.0",
          "state": {
            "_model_module": "@jupyter-widgets/base",
            "_model_module_version": "1.2.0",
            "_model_name": "LayoutModel",
            "_view_count": null,
            "_view_module": "@jupyter-widgets/base",
            "_view_module_version": "1.2.0",
            "_view_name": "LayoutView",
            "align_content": null,
            "align_items": null,
            "align_self": null,
            "border": null,
            "bottom": null,
            "display": null,
            "flex": null,
            "flex_flow": null,
            "grid_area": null,
            "grid_auto_columns": null,
            "grid_auto_flow": null,
            "grid_auto_rows": null,
            "grid_column": null,
            "grid_gap": null,
            "grid_row": null,
            "grid_template_areas": null,
            "grid_template_columns": null,
            "grid_template_rows": null,
            "height": null,
            "justify_content": null,
            "justify_items": null,
            "left": null,
            "margin": null,
            "max_height": null,
            "max_width": null,
            "min_height": null,
            "min_width": null,
            "object_fit": null,
            "object_position": null,
            "order": null,
            "overflow": null,
            "overflow_x": null,
            "overflow_y": null,
            "padding": null,
            "right": null,
            "top": null,
            "visibility": "hidden",
            "width": null
          }
        },
        "7864462f8f434278bfa56bb99f5c814d": {
          "model_module": "@jupyter-widgets/base",
          "model_name": "LayoutModel",
          "model_module_version": "1.2.0",
          "state": {
            "_model_module": "@jupyter-widgets/base",
            "_model_module_version": "1.2.0",
            "_model_name": "LayoutModel",
            "_view_count": null,
            "_view_module": "@jupyter-widgets/base",
            "_view_module_version": "1.2.0",
            "_view_name": "LayoutView",
            "align_content": null,
            "align_items": null,
            "align_self": null,
            "border": null,
            "bottom": null,
            "display": null,
            "flex": null,
            "flex_flow": null,
            "grid_area": null,
            "grid_auto_columns": null,
            "grid_auto_flow": null,
            "grid_auto_rows": null,
            "grid_column": null,
            "grid_gap": null,
            "grid_row": null,
            "grid_template_areas": null,
            "grid_template_columns": null,
            "grid_template_rows": null,
            "height": null,
            "justify_content": null,
            "justify_items": null,
            "left": null,
            "margin": null,
            "max_height": null,
            "max_width": null,
            "min_height": null,
            "min_width": null,
            "object_fit": null,
            "object_position": null,
            "order": null,
            "overflow": null,
            "overflow_x": null,
            "overflow_y": null,
            "padding": null,
            "right": null,
            "top": null,
            "visibility": null,
            "width": null
          }
        },
        "8c51bd805bef43ccb0dc6fdde83509be": {
          "model_module": "@jupyter-widgets/controls",
          "model_name": "DescriptionStyleModel",
          "model_module_version": "1.5.0",
          "state": {
            "_model_module": "@jupyter-widgets/controls",
            "_model_module_version": "1.5.0",
            "_model_name": "DescriptionStyleModel",
            "_view_count": null,
            "_view_module": "@jupyter-widgets/base",
            "_view_module_version": "1.2.0",
            "_view_name": "StyleView",
            "description_width": ""
          }
        },
        "45664a2b20614f1fb56ca10878a6123c": {
          "model_module": "@jupyter-widgets/base",
          "model_name": "LayoutModel",
          "model_module_version": "1.2.0",
          "state": {
            "_model_module": "@jupyter-widgets/base",
            "_model_module_version": "1.2.0",
            "_model_name": "LayoutModel",
            "_view_count": null,
            "_view_module": "@jupyter-widgets/base",
            "_view_module_version": "1.2.0",
            "_view_name": "LayoutView",
            "align_content": null,
            "align_items": null,
            "align_self": null,
            "border": null,
            "bottom": null,
            "display": null,
            "flex": null,
            "flex_flow": null,
            "grid_area": null,
            "grid_auto_columns": null,
            "grid_auto_flow": null,
            "grid_auto_rows": null,
            "grid_column": null,
            "grid_gap": null,
            "grid_row": null,
            "grid_template_areas": null,
            "grid_template_columns": null,
            "grid_template_rows": null,
            "height": null,
            "justify_content": null,
            "justify_items": null,
            "left": null,
            "margin": null,
            "max_height": null,
            "max_width": null,
            "min_height": null,
            "min_width": null,
            "object_fit": null,
            "object_position": null,
            "order": null,
            "overflow": null,
            "overflow_x": null,
            "overflow_y": null,
            "padding": null,
            "right": null,
            "top": null,
            "visibility": null,
            "width": null
          }
        },
        "4fb5fe7a505e4af4a69b38e936eaea6b": {
          "model_module": "@jupyter-widgets/controls",
          "model_name": "ProgressStyleModel",
          "model_module_version": "1.5.0",
          "state": {
            "_model_module": "@jupyter-widgets/controls",
            "_model_module_version": "1.5.0",
            "_model_name": "ProgressStyleModel",
            "_view_count": null,
            "_view_module": "@jupyter-widgets/base",
            "_view_module_version": "1.2.0",
            "_view_name": "StyleView",
            "bar_color": null,
            "description_width": ""
          }
        },
        "c6e118bdc8f840379cd83a95efcf0b3e": {
          "model_module": "@jupyter-widgets/base",
          "model_name": "LayoutModel",
          "model_module_version": "1.2.0",
          "state": {
            "_model_module": "@jupyter-widgets/base",
            "_model_module_version": "1.2.0",
            "_model_name": "LayoutModel",
            "_view_count": null,
            "_view_module": "@jupyter-widgets/base",
            "_view_module_version": "1.2.0",
            "_view_name": "LayoutView",
            "align_content": null,
            "align_items": null,
            "align_self": null,
            "border": null,
            "bottom": null,
            "display": null,
            "flex": null,
            "flex_flow": null,
            "grid_area": null,
            "grid_auto_columns": null,
            "grid_auto_flow": null,
            "grid_auto_rows": null,
            "grid_column": null,
            "grid_gap": null,
            "grid_row": null,
            "grid_template_areas": null,
            "grid_template_columns": null,
            "grid_template_rows": null,
            "height": null,
            "justify_content": null,
            "justify_items": null,
            "left": null,
            "margin": null,
            "max_height": null,
            "max_width": null,
            "min_height": null,
            "min_width": null,
            "object_fit": null,
            "object_position": null,
            "order": null,
            "overflow": null,
            "overflow_x": null,
            "overflow_y": null,
            "padding": null,
            "right": null,
            "top": null,
            "visibility": null,
            "width": null
          }
        },
        "f5879daf81b742f3817710727bd64df8": {
          "model_module": "@jupyter-widgets/controls",
          "model_name": "DescriptionStyleModel",
          "model_module_version": "1.5.0",
          "state": {
            "_model_module": "@jupyter-widgets/controls",
            "_model_module_version": "1.5.0",
            "_model_name": "DescriptionStyleModel",
            "_view_count": null,
            "_view_module": "@jupyter-widgets/base",
            "_view_module_version": "1.2.0",
            "_view_name": "StyleView",
            "description_width": ""
          }
        },
        "5c27b998c7114c6bb2fa849ba3d96437": {
          "model_module": "@jupyter-widgets/controls",
          "model_name": "HBoxModel",
          "model_module_version": "1.5.0",
          "state": {
            "_dom_classes": [],
            "_model_module": "@jupyter-widgets/controls",
            "_model_module_version": "1.5.0",
            "_model_name": "HBoxModel",
            "_view_count": null,
            "_view_module": "@jupyter-widgets/controls",
            "_view_module_version": "1.5.0",
            "_view_name": "HBoxView",
            "box_style": "",
            "children": [
              "IPY_MODEL_8c89460407314927bf013b4aab3fc366",
              "IPY_MODEL_330b66c315db4930b14208afd33de16d",
              "IPY_MODEL_f91acf0ecb6e4433b82b0abf7bd0439b"
            ],
            "layout": "IPY_MODEL_a524dfa4a49a46da9355a43db9577eb7"
          }
        },
        "8c89460407314927bf013b4aab3fc366": {
          "model_module": "@jupyter-widgets/controls",
          "model_name": "HTMLModel",
          "model_module_version": "1.5.0",
          "state": {
            "_dom_classes": [],
            "_model_module": "@jupyter-widgets/controls",
            "_model_module_version": "1.5.0",
            "_model_name": "HTMLModel",
            "_view_count": null,
            "_view_module": "@jupyter-widgets/controls",
            "_view_module_version": "1.5.0",
            "_view_name": "HTMLView",
            "description": "",
            "description_tooltip": null,
            "layout": "IPY_MODEL_f5bae66f22804c97b8d43486c0fb34c8",
            "placeholder": "​",
            "style": "IPY_MODEL_ccc76cbe3a144ed4bffa2a323476a314",
            "value": "Generating test split:  99%"
          }
        },
        "330b66c315db4930b14208afd33de16d": {
          "model_module": "@jupyter-widgets/controls",
          "model_name": "FloatProgressModel",
          "model_module_version": "1.5.0",
          "state": {
            "_dom_classes": [],
            "_model_module": "@jupyter-widgets/controls",
            "_model_module_version": "1.5.0",
            "_model_name": "FloatProgressModel",
            "_view_count": null,
            "_view_module": "@jupyter-widgets/controls",
            "_view_module_version": "1.5.0",
            "_view_name": "ProgressView",
            "bar_style": "",
            "description": "",
            "description_tooltip": null,
            "layout": "IPY_MODEL_edb40bdf7d214ee5837d0e44def14368",
            "max": 10943,
            "min": 0,
            "orientation": "horizontal",
            "style": "IPY_MODEL_fd2f56c374ec42f78358659c3c5e61f5",
            "value": 10943
          }
        },
        "f91acf0ecb6e4433b82b0abf7bd0439b": {
          "model_module": "@jupyter-widgets/controls",
          "model_name": "HTMLModel",
          "model_module_version": "1.5.0",
          "state": {
            "_dom_classes": [],
            "_model_module": "@jupyter-widgets/controls",
            "_model_module_version": "1.5.0",
            "_model_name": "HTMLModel",
            "_view_count": null,
            "_view_module": "@jupyter-widgets/controls",
            "_view_module_version": "1.5.0",
            "_view_name": "HTMLView",
            "description": "",
            "description_tooltip": null,
            "layout": "IPY_MODEL_4669311426b84115886609fcd528049f",
            "placeholder": "​",
            "style": "IPY_MODEL_8d08ba1136ad48d6a4d06f337421453e",
            "value": " 10782/10943 [00:01&lt;00:00, 7742.74 examples/s]"
          }
        },
        "a524dfa4a49a46da9355a43db9577eb7": {
          "model_module": "@jupyter-widgets/base",
          "model_name": "LayoutModel",
          "model_module_version": "1.2.0",
          "state": {
            "_model_module": "@jupyter-widgets/base",
            "_model_module_version": "1.2.0",
            "_model_name": "LayoutModel",
            "_view_count": null,
            "_view_module": "@jupyter-widgets/base",
            "_view_module_version": "1.2.0",
            "_view_name": "LayoutView",
            "align_content": null,
            "align_items": null,
            "align_self": null,
            "border": null,
            "bottom": null,
            "display": null,
            "flex": null,
            "flex_flow": null,
            "grid_area": null,
            "grid_auto_columns": null,
            "grid_auto_flow": null,
            "grid_auto_rows": null,
            "grid_column": null,
            "grid_gap": null,
            "grid_row": null,
            "grid_template_areas": null,
            "grid_template_columns": null,
            "grid_template_rows": null,
            "height": null,
            "justify_content": null,
            "justify_items": null,
            "left": null,
            "margin": null,
            "max_height": null,
            "max_width": null,
            "min_height": null,
            "min_width": null,
            "object_fit": null,
            "object_position": null,
            "order": null,
            "overflow": null,
            "overflow_x": null,
            "overflow_y": null,
            "padding": null,
            "right": null,
            "top": null,
            "visibility": "hidden",
            "width": null
          }
        },
        "f5bae66f22804c97b8d43486c0fb34c8": {
          "model_module": "@jupyter-widgets/base",
          "model_name": "LayoutModel",
          "model_module_version": "1.2.0",
          "state": {
            "_model_module": "@jupyter-widgets/base",
            "_model_module_version": "1.2.0",
            "_model_name": "LayoutModel",
            "_view_count": null,
            "_view_module": "@jupyter-widgets/base",
            "_view_module_version": "1.2.0",
            "_view_name": "LayoutView",
            "align_content": null,
            "align_items": null,
            "align_self": null,
            "border": null,
            "bottom": null,
            "display": null,
            "flex": null,
            "flex_flow": null,
            "grid_area": null,
            "grid_auto_columns": null,
            "grid_auto_flow": null,
            "grid_auto_rows": null,
            "grid_column": null,
            "grid_gap": null,
            "grid_row": null,
            "grid_template_areas": null,
            "grid_template_columns": null,
            "grid_template_rows": null,
            "height": null,
            "justify_content": null,
            "justify_items": null,
            "left": null,
            "margin": null,
            "max_height": null,
            "max_width": null,
            "min_height": null,
            "min_width": null,
            "object_fit": null,
            "object_position": null,
            "order": null,
            "overflow": null,
            "overflow_x": null,
            "overflow_y": null,
            "padding": null,
            "right": null,
            "top": null,
            "visibility": null,
            "width": null
          }
        },
        "ccc76cbe3a144ed4bffa2a323476a314": {
          "model_module": "@jupyter-widgets/controls",
          "model_name": "DescriptionStyleModel",
          "model_module_version": "1.5.0",
          "state": {
            "_model_module": "@jupyter-widgets/controls",
            "_model_module_version": "1.5.0",
            "_model_name": "DescriptionStyleModel",
            "_view_count": null,
            "_view_module": "@jupyter-widgets/base",
            "_view_module_version": "1.2.0",
            "_view_name": "StyleView",
            "description_width": ""
          }
        },
        "edb40bdf7d214ee5837d0e44def14368": {
          "model_module": "@jupyter-widgets/base",
          "model_name": "LayoutModel",
          "model_module_version": "1.2.0",
          "state": {
            "_model_module": "@jupyter-widgets/base",
            "_model_module_version": "1.2.0",
            "_model_name": "LayoutModel",
            "_view_count": null,
            "_view_module": "@jupyter-widgets/base",
            "_view_module_version": "1.2.0",
            "_view_name": "LayoutView",
            "align_content": null,
            "align_items": null,
            "align_self": null,
            "border": null,
            "bottom": null,
            "display": null,
            "flex": null,
            "flex_flow": null,
            "grid_area": null,
            "grid_auto_columns": null,
            "grid_auto_flow": null,
            "grid_auto_rows": null,
            "grid_column": null,
            "grid_gap": null,
            "grid_row": null,
            "grid_template_areas": null,
            "grid_template_columns": null,
            "grid_template_rows": null,
            "height": null,
            "justify_content": null,
            "justify_items": null,
            "left": null,
            "margin": null,
            "max_height": null,
            "max_width": null,
            "min_height": null,
            "min_width": null,
            "object_fit": null,
            "object_position": null,
            "order": null,
            "overflow": null,
            "overflow_x": null,
            "overflow_y": null,
            "padding": null,
            "right": null,
            "top": null,
            "visibility": null,
            "width": null
          }
        },
        "fd2f56c374ec42f78358659c3c5e61f5": {
          "model_module": "@jupyter-widgets/controls",
          "model_name": "ProgressStyleModel",
          "model_module_version": "1.5.0",
          "state": {
            "_model_module": "@jupyter-widgets/controls",
            "_model_module_version": "1.5.0",
            "_model_name": "ProgressStyleModel",
            "_view_count": null,
            "_view_module": "@jupyter-widgets/base",
            "_view_module_version": "1.2.0",
            "_view_name": "StyleView",
            "bar_color": null,
            "description_width": ""
          }
        },
        "4669311426b84115886609fcd528049f": {
          "model_module": "@jupyter-widgets/base",
          "model_name": "LayoutModel",
          "model_module_version": "1.2.0",
          "state": {
            "_model_module": "@jupyter-widgets/base",
            "_model_module_version": "1.2.0",
            "_model_name": "LayoutModel",
            "_view_count": null,
            "_view_module": "@jupyter-widgets/base",
            "_view_module_version": "1.2.0",
            "_view_name": "LayoutView",
            "align_content": null,
            "align_items": null,
            "align_self": null,
            "border": null,
            "bottom": null,
            "display": null,
            "flex": null,
            "flex_flow": null,
            "grid_area": null,
            "grid_auto_columns": null,
            "grid_auto_flow": null,
            "grid_auto_rows": null,
            "grid_column": null,
            "grid_gap": null,
            "grid_row": null,
            "grid_template_areas": null,
            "grid_template_columns": null,
            "grid_template_rows": null,
            "height": null,
            "justify_content": null,
            "justify_items": null,
            "left": null,
            "margin": null,
            "max_height": null,
            "max_width": null,
            "min_height": null,
            "min_width": null,
            "object_fit": null,
            "object_position": null,
            "order": null,
            "overflow": null,
            "overflow_x": null,
            "overflow_y": null,
            "padding": null,
            "right": null,
            "top": null,
            "visibility": null,
            "width": null
          }
        },
        "8d08ba1136ad48d6a4d06f337421453e": {
          "model_module": "@jupyter-widgets/controls",
          "model_name": "DescriptionStyleModel",
          "model_module_version": "1.5.0",
          "state": {
            "_model_module": "@jupyter-widgets/controls",
            "_model_module_version": "1.5.0",
            "_model_name": "DescriptionStyleModel",
            "_view_count": null,
            "_view_module": "@jupyter-widgets/base",
            "_view_module_version": "1.2.0",
            "_view_name": "StyleView",
            "description_width": ""
          }
        },
        "45b0448834624d79aa3a60d90218a443": {
          "model_module": "@jupyter-widgets/controls",
          "model_name": "HBoxModel",
          "model_module_version": "1.5.0",
          "state": {
            "_dom_classes": [],
            "_model_module": "@jupyter-widgets/controls",
            "_model_module_version": "1.5.0",
            "_model_name": "HBoxModel",
            "_view_count": null,
            "_view_module": "@jupyter-widgets/controls",
            "_view_module_version": "1.5.0",
            "_view_name": "HBoxView",
            "box_style": "",
            "children": [
              "IPY_MODEL_16b888dbf59d4948ba9a0460e65ab5db",
              "IPY_MODEL_fda8d8893ee14478854486fa853a4272",
              "IPY_MODEL_1af1267a8aa34cdf8c8ec1c8ef8ccace"
            ],
            "layout": "IPY_MODEL_14aed807e6b74cc9b3b6b428ccb1483e"
          }
        },
        "16b888dbf59d4948ba9a0460e65ab5db": {
          "model_module": "@jupyter-widgets/controls",
          "model_name": "HTMLModel",
          "model_module_version": "1.5.0",
          "state": {
            "_dom_classes": [],
            "_model_module": "@jupyter-widgets/controls",
            "_model_module_version": "1.5.0",
            "_model_name": "HTMLModel",
            "_view_count": null,
            "_view_module": "@jupyter-widgets/controls",
            "_view_module_version": "1.5.0",
            "_view_name": "HTMLView",
            "description": "",
            "description_tooltip": null,
            "layout": "IPY_MODEL_e02f4c972a04497f8ece8b35bb19890c",
            "placeholder": "​",
            "style": "IPY_MODEL_e31194563da44c0f8daafb4312c872c6",
            "value": "Batches: 100%"
          }
        },
        "fda8d8893ee14478854486fa853a4272": {
          "model_module": "@jupyter-widgets/controls",
          "model_name": "FloatProgressModel",
          "model_module_version": "1.5.0",
          "state": {
            "_dom_classes": [],
            "_model_module": "@jupyter-widgets/controls",
            "_model_module_version": "1.5.0",
            "_model_name": "FloatProgressModel",
            "_view_count": null,
            "_view_module": "@jupyter-widgets/controls",
            "_view_module_version": "1.5.0",
            "_view_name": "ProgressView",
            "bar_style": "success",
            "description": "",
            "description_tooltip": null,
            "layout": "IPY_MODEL_520c0ec60bee46cebdfc3f2f05fabd3c",
            "max": 1839,
            "min": 0,
            "orientation": "horizontal",
            "style": "IPY_MODEL_39f6df6755054f889010f48a5a9ebb88",
            "value": 1839
          }
        },
        "1af1267a8aa34cdf8c8ec1c8ef8ccace": {
          "model_module": "@jupyter-widgets/controls",
          "model_name": "HTMLModel",
          "model_module_version": "1.5.0",
          "state": {
            "_dom_classes": [],
            "_model_module": "@jupyter-widgets/controls",
            "_model_module_version": "1.5.0",
            "_model_name": "HTMLModel",
            "_view_count": null,
            "_view_module": "@jupyter-widgets/controls",
            "_view_module_version": "1.5.0",
            "_view_name": "HTMLView",
            "description": "",
            "description_tooltip": null,
            "layout": "IPY_MODEL_b5db5aae67c444faa8463a4605746796",
            "placeholder": "​",
            "style": "IPY_MODEL_2e7c91c94e494adeaf6d648cb96f56bb",
            "value": " 1839/1839 [00:23&lt;00:00, 69.77it/s]"
          }
        },
        "14aed807e6b74cc9b3b6b428ccb1483e": {
          "model_module": "@jupyter-widgets/base",
          "model_name": "LayoutModel",
          "model_module_version": "1.2.0",
          "state": {
            "_model_module": "@jupyter-widgets/base",
            "_model_module_version": "1.2.0",
            "_model_name": "LayoutModel",
            "_view_count": null,
            "_view_module": "@jupyter-widgets/base",
            "_view_module_version": "1.2.0",
            "_view_name": "LayoutView",
            "align_content": null,
            "align_items": null,
            "align_self": null,
            "border": null,
            "bottom": null,
            "display": null,
            "flex": null,
            "flex_flow": null,
            "grid_area": null,
            "grid_auto_columns": null,
            "grid_auto_flow": null,
            "grid_auto_rows": null,
            "grid_column": null,
            "grid_gap": null,
            "grid_row": null,
            "grid_template_areas": null,
            "grid_template_columns": null,
            "grid_template_rows": null,
            "height": null,
            "justify_content": null,
            "justify_items": null,
            "left": null,
            "margin": null,
            "max_height": null,
            "max_width": null,
            "min_height": null,
            "min_width": null,
            "object_fit": null,
            "object_position": null,
            "order": null,
            "overflow": null,
            "overflow_x": null,
            "overflow_y": null,
            "padding": null,
            "right": null,
            "top": null,
            "visibility": null,
            "width": null
          }
        },
        "e02f4c972a04497f8ece8b35bb19890c": {
          "model_module": "@jupyter-widgets/base",
          "model_name": "LayoutModel",
          "model_module_version": "1.2.0",
          "state": {
            "_model_module": "@jupyter-widgets/base",
            "_model_module_version": "1.2.0",
            "_model_name": "LayoutModel",
            "_view_count": null,
            "_view_module": "@jupyter-widgets/base",
            "_view_module_version": "1.2.0",
            "_view_name": "LayoutView",
            "align_content": null,
            "align_items": null,
            "align_self": null,
            "border": null,
            "bottom": null,
            "display": null,
            "flex": null,
            "flex_flow": null,
            "grid_area": null,
            "grid_auto_columns": null,
            "grid_auto_flow": null,
            "grid_auto_rows": null,
            "grid_column": null,
            "grid_gap": null,
            "grid_row": null,
            "grid_template_areas": null,
            "grid_template_columns": null,
            "grid_template_rows": null,
            "height": null,
            "justify_content": null,
            "justify_items": null,
            "left": null,
            "margin": null,
            "max_height": null,
            "max_width": null,
            "min_height": null,
            "min_width": null,
            "object_fit": null,
            "object_position": null,
            "order": null,
            "overflow": null,
            "overflow_x": null,
            "overflow_y": null,
            "padding": null,
            "right": null,
            "top": null,
            "visibility": null,
            "width": null
          }
        },
        "e31194563da44c0f8daafb4312c872c6": {
          "model_module": "@jupyter-widgets/controls",
          "model_name": "DescriptionStyleModel",
          "model_module_version": "1.5.0",
          "state": {
            "_model_module": "@jupyter-widgets/controls",
            "_model_module_version": "1.5.0",
            "_model_name": "DescriptionStyleModel",
            "_view_count": null,
            "_view_module": "@jupyter-widgets/base",
            "_view_module_version": "1.2.0",
            "_view_name": "StyleView",
            "description_width": ""
          }
        },
        "520c0ec60bee46cebdfc3f2f05fabd3c": {
          "model_module": "@jupyter-widgets/base",
          "model_name": "LayoutModel",
          "model_module_version": "1.2.0",
          "state": {
            "_model_module": "@jupyter-widgets/base",
            "_model_module_version": "1.2.0",
            "_model_name": "LayoutModel",
            "_view_count": null,
            "_view_module": "@jupyter-widgets/base",
            "_view_module_version": "1.2.0",
            "_view_name": "LayoutView",
            "align_content": null,
            "align_items": null,
            "align_self": null,
            "border": null,
            "bottom": null,
            "display": null,
            "flex": null,
            "flex_flow": null,
            "grid_area": null,
            "grid_auto_columns": null,
            "grid_auto_flow": null,
            "grid_auto_rows": null,
            "grid_column": null,
            "grid_gap": null,
            "grid_row": null,
            "grid_template_areas": null,
            "grid_template_columns": null,
            "grid_template_rows": null,
            "height": null,
            "justify_content": null,
            "justify_items": null,
            "left": null,
            "margin": null,
            "max_height": null,
            "max_width": null,
            "min_height": null,
            "min_width": null,
            "object_fit": null,
            "object_position": null,
            "order": null,
            "overflow": null,
            "overflow_x": null,
            "overflow_y": null,
            "padding": null,
            "right": null,
            "top": null,
            "visibility": null,
            "width": null
          }
        },
        "39f6df6755054f889010f48a5a9ebb88": {
          "model_module": "@jupyter-widgets/controls",
          "model_name": "ProgressStyleModel",
          "model_module_version": "1.5.0",
          "state": {
            "_model_module": "@jupyter-widgets/controls",
            "_model_module_version": "1.5.0",
            "_model_name": "ProgressStyleModel",
            "_view_count": null,
            "_view_module": "@jupyter-widgets/base",
            "_view_module_version": "1.2.0",
            "_view_name": "StyleView",
            "bar_color": null,
            "description_width": ""
          }
        },
        "b5db5aae67c444faa8463a4605746796": {
          "model_module": "@jupyter-widgets/base",
          "model_name": "LayoutModel",
          "model_module_version": "1.2.0",
          "state": {
            "_model_module": "@jupyter-widgets/base",
            "_model_module_version": "1.2.0",
            "_model_name": "LayoutModel",
            "_view_count": null,
            "_view_module": "@jupyter-widgets/base",
            "_view_module_version": "1.2.0",
            "_view_name": "LayoutView",
            "align_content": null,
            "align_items": null,
            "align_self": null,
            "border": null,
            "bottom": null,
            "display": null,
            "flex": null,
            "flex_flow": null,
            "grid_area": null,
            "grid_auto_columns": null,
            "grid_auto_flow": null,
            "grid_auto_rows": null,
            "grid_column": null,
            "grid_gap": null,
            "grid_row": null,
            "grid_template_areas": null,
            "grid_template_columns": null,
            "grid_template_rows": null,
            "height": null,
            "justify_content": null,
            "justify_items": null,
            "left": null,
            "margin": null,
            "max_height": null,
            "max_width": null,
            "min_height": null,
            "min_width": null,
            "object_fit": null,
            "object_position": null,
            "order": null,
            "overflow": null,
            "overflow_x": null,
            "overflow_y": null,
            "padding": null,
            "right": null,
            "top": null,
            "visibility": null,
            "width": null
          }
        },
        "2e7c91c94e494adeaf6d648cb96f56bb": {
          "model_module": "@jupyter-widgets/controls",
          "model_name": "DescriptionStyleModel",
          "model_module_version": "1.5.0",
          "state": {
            "_model_module": "@jupyter-widgets/controls",
            "_model_module_version": "1.5.0",
            "_model_name": "DescriptionStyleModel",
            "_view_count": null,
            "_view_module": "@jupyter-widgets/base",
            "_view_module_version": "1.2.0",
            "_view_name": "StyleView",
            "description_width": ""
          }
        }
      }
    }
  },
  "nbformat": 4,
  "nbformat_minor": 5
}